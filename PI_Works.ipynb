{
  "nbformat": 4,
  "nbformat_minor": 0,
  "metadata": {
    "colab": {
      "name": "PI_Works.ipynb",
      "provenance": [],
      "collapsed_sections": [
        "EkjKctNpUt8k"
      ],
      "toc_visible": true
    },
    "kernelspec": {
      "name": "python3",
      "display_name": "Python 3"
    },
    "language_info": {
      "name": "python"
    }
  },
  "cells": [
    {
      "cell_type": "markdown",
      "source": [
        "#Dataset Preparation"
      ],
      "metadata": {
        "id": "Rff8an_OX--r"
      }
    },
    {
      "cell_type": "markdown",
      "source": [
        "##Dependencies"
      ],
      "metadata": {
        "id": "6g8dxGaf_J71"
      }
    },
    {
      "cell_type": "code",
      "source": [
        "!pip install catboost\n",
        "!pip install skforecast"
      ],
      "metadata": {
        "colab": {
          "base_uri": "https://localhost:8080/",
          "height": 902
        },
        "id": "T2HMji0DTiXC",
        "outputId": "052adfd7-55d8-4e62-ce81-84cb0a8c88ab"
      },
      "execution_count": 4,
      "outputs": [
        {
          "output_type": "stream",
          "name": "stdout",
          "text": [
            "Looking in indexes: https://pypi.org/simple, https://us-python.pkg.dev/colab-wheels/public/simple/\n",
            "Requirement already satisfied: catboost in /usr/local/lib/python3.7/dist-packages (1.0.6)\n",
            "Requirement already satisfied: matplotlib in /usr/local/lib/python3.7/dist-packages (from catboost) (3.2.2)\n",
            "Requirement already satisfied: pandas>=0.24.0 in /usr/local/lib/python3.7/dist-packages (from catboost) (1.3.5)\n",
            "Requirement already satisfied: graphviz in /usr/local/lib/python3.7/dist-packages (from catboost) (0.10.1)\n",
            "Requirement already satisfied: scipy in /usr/local/lib/python3.7/dist-packages (from catboost) (1.7.3)\n",
            "Requirement already satisfied: plotly in /usr/local/lib/python3.7/dist-packages (from catboost) (5.5.0)\n",
            "Requirement already satisfied: six in /usr/local/lib/python3.7/dist-packages (from catboost) (1.15.0)\n",
            "Requirement already satisfied: numpy>=1.16.0 in /usr/local/lib/python3.7/dist-packages (from catboost) (1.21.6)\n",
            "Requirement already satisfied: pytz>=2017.3 in /usr/local/lib/python3.7/dist-packages (from pandas>=0.24.0->catboost) (2022.1)\n",
            "Requirement already satisfied: python-dateutil>=2.7.3 in /usr/local/lib/python3.7/dist-packages (from pandas>=0.24.0->catboost) (2.8.2)\n",
            "Requirement already satisfied: pyparsing!=2.0.4,!=2.1.2,!=2.1.6,>=2.0.1 in /usr/local/lib/python3.7/dist-packages (from matplotlib->catboost) (3.0.9)\n",
            "Requirement already satisfied: cycler>=0.10 in /usr/local/lib/python3.7/dist-packages (from matplotlib->catboost) (0.11.0)\n",
            "Requirement already satisfied: kiwisolver>=1.0.1 in /usr/local/lib/python3.7/dist-packages (from matplotlib->catboost) (1.4.4)\n",
            "Requirement already satisfied: typing-extensions in /usr/local/lib/python3.7/dist-packages (from kiwisolver>=1.0.1->matplotlib->catboost) (4.1.1)\n",
            "Requirement already satisfied: tenacity>=6.2.0 in /usr/local/lib/python3.7/dist-packages (from plotly->catboost) (8.0.1)\n",
            "Looking in indexes: https://pypi.org/simple, https://us-python.pkg.dev/colab-wheels/public/simple/\n",
            "Collecting skforecast\n",
            "  Downloading skforecast-0.4.3-py2.py3-none-any.whl (87 kB)\n",
            "\u001b[K     |████████████████████████████████| 87 kB 3.5 MB/s \n",
            "\u001b[?25hRequirement already satisfied: numpy<=1.22,>=1.20 in /usr/local/lib/python3.7/dist-packages (from skforecast) (1.21.6)\n",
            "Requirement already satisfied: scikit-learn>=1.0 in /usr/local/lib/python3.7/dist-packages (from skforecast) (1.0.2)\n",
            "Collecting tqdm<=4.62,>=4.57.0\n",
            "  Downloading tqdm-4.62.0-py2.py3-none-any.whl (76 kB)\n",
            "\u001b[K     |████████████████████████████████| 76 kB 4.7 MB/s \n",
            "\u001b[?25hRequirement already satisfied: pandas<=1.4,>=1.2 in /usr/local/lib/python3.7/dist-packages (from skforecast) (1.3.5)\n",
            "Collecting statsmodels<=0.13,>=0.12\n",
            "  Downloading statsmodels-0.13.0-cp37-cp37m-manylinux_2_17_x86_64.manylinux2014_x86_64.whl (9.8 MB)\n",
            "\u001b[K     |████████████████████████████████| 9.8 MB 23.2 MB/s \n",
            "\u001b[?25hRequirement already satisfied: pytz>=2017.3 in /usr/local/lib/python3.7/dist-packages (from pandas<=1.4,>=1.2->skforecast) (2022.1)\n",
            "Requirement already satisfied: python-dateutil>=2.7.3 in /usr/local/lib/python3.7/dist-packages (from pandas<=1.4,>=1.2->skforecast) (2.8.2)\n",
            "Requirement already satisfied: six>=1.5 in /usr/local/lib/python3.7/dist-packages (from python-dateutil>=2.7.3->pandas<=1.4,>=1.2->skforecast) (1.15.0)\n",
            "Requirement already satisfied: scipy>=1.1.0 in /usr/local/lib/python3.7/dist-packages (from scikit-learn>=1.0->skforecast) (1.7.3)\n",
            "Requirement already satisfied: threadpoolctl>=2.0.0 in /usr/local/lib/python3.7/dist-packages (from scikit-learn>=1.0->skforecast) (3.1.0)\n",
            "Requirement already satisfied: joblib>=0.11 in /usr/local/lib/python3.7/dist-packages (from scikit-learn>=1.0->skforecast) (1.1.0)\n",
            "Requirement already satisfied: patsy>=0.5.2 in /usr/local/lib/python3.7/dist-packages (from statsmodels<=0.13,>=0.12->skforecast) (0.5.2)\n",
            "Installing collected packages: tqdm, statsmodels, skforecast\n",
            "  Attempting uninstall: tqdm\n",
            "    Found existing installation: tqdm 4.64.0\n",
            "    Uninstalling tqdm-4.64.0:\n",
            "      Successfully uninstalled tqdm-4.64.0\n",
            "  Attempting uninstall: statsmodels\n",
            "    Found existing installation: statsmodels 0.10.2\n",
            "    Uninstalling statsmodels-0.10.2:\n",
            "      Successfully uninstalled statsmodels-0.10.2\n",
            "Successfully installed skforecast-0.4.3 statsmodels-0.13.0 tqdm-4.62.0\n"
          ]
        },
        {
          "output_type": "display_data",
          "data": {
            "application/vnd.colab-display-data+json": {
              "pip_warning": {
                "packages": [
                  "statsmodels"
                ]
              }
            }
          },
          "metadata": {}
        }
      ]
    },
    {
      "cell_type": "markdown",
      "source": [
        "##Libraries"
      ],
      "metadata": {
        "id": "93KSSKnZ_NTE"
      }
    },
    {
      "cell_type": "code",
      "execution_count": 5,
      "metadata": {
        "id": "YCmRIpplIx_d"
      },
      "outputs": [],
      "source": [
        "# Data processing\n",
        "# ==============================================================================\n",
        "import numpy as np\n",
        "import pandas as pd\n",
        "\n",
        "# Plots\n",
        "# ==============================================================================\n",
        "import matplotlib.pyplot as plt\n",
        "from statsmodels.graphics.tsaplots import plot_acf\n",
        "from statsmodels.graphics.tsaplots import plot_pacf\n",
        "import plotly.express as px\n",
        "plt.style.use('fivethirtyeight')\n",
        "plt.rcParams['lines.linewidth'] = 1.5\n",
        "%matplotlib inline\n",
        "\n",
        "# Modelling and Forecasting\n",
        "# ==============================================================================\n",
        "from xgboost import XGBRegressor\n",
        "from lightgbm import LGBMRegressor\n",
        "from catboost import CatBoostRegressor\n",
        "\n",
        "from sklearn.preprocessing import OneHotEncoder\n",
        "from sklearn.preprocessing import StandardScaler\n",
        "from sklearn.compose import ColumnTransformer\n",
        "from sklearn.pipeline import make_pipeline\n",
        "\n",
        "from skforecast.ForecasterAutoreg import ForecasterAutoreg\n",
        "from skforecast.ForecasterAutoregMultiOutput import ForecasterAutoregMultiOutput\n",
        "from skforecast.model_selection import grid_search_forecaster\n",
        "from skforecast.model_selection import backtesting_forecaster\n",
        "\n",
        "from joblib import dump, load\n",
        "\n",
        "# Configuration\n",
        "# ==============================================================================\n",
        "import warnings\n",
        "warnings.filterwarnings('ignore')\n",
        "%config Completer.use_jedi = False\n"
      ]
    },
    {
      "cell_type": "markdown",
      "source": [
        "##Preprocessing"
      ],
      "metadata": {
        "id": "d6YKQlUH_PiR"
      }
    },
    {
      "cell_type": "code",
      "source": [
        "\n",
        "df = pd.read_csv(\"/content/drive/MyDrive/PI_Works/municipality_bus_utilization.csv\") #I used google colab, you need to change the path to the location of the csv.\n",
        "\n",
        "\n",
        "\n",
        "df['timestamp'] = pd.to_datetime(df['timestamp'])\n",
        "#df = df.set_index('timestamp')\n",
        "\n",
        "print(df.head())\n",
        "df.dtypes\n"
      ],
      "metadata": {
        "colab": {
          "base_uri": "https://localhost:8080/"
        },
        "id": "h_Q5vbPgTcY1",
        "outputId": "081d65c9-55a2-43f8-ccc2-5b0a1bc19d6b"
      },
      "execution_count": 34,
      "outputs": [
        {
          "output_type": "stream",
          "name": "stdout",
          "text": [
            "            timestamp  municipality_id  usage  total_capacity\n",
            "0 2017-06-04 07:59:42                9    454            1332\n",
            "1 2017-06-04 07:59:42                8    556            2947\n",
            "2 2017-06-04 07:59:42                4   1090            3893\n",
            "3 2017-06-04 07:59:42                0    204            2813\n",
            "4 2017-06-04 07:59:42                7    718            2019\n"
          ]
        },
        {
          "output_type": "execute_result",
          "data": {
            "text/plain": [
              "timestamp          datetime64[ns]\n",
              "municipality_id             int64\n",
              "usage                       int64\n",
              "total_capacity              int64\n",
              "dtype: object"
            ]
          },
          "metadata": {},
          "execution_count": 34
        }
      ]
    },
    {
      "cell_type": "code",
      "source": [
        "df['timestamp'] =df['timestamp'].dt.round('15min') #Rounding to nearest quarter hour\n",
        "\n",
        "\n",
        "df "
      ],
      "metadata": {
        "colab": {
          "base_uri": "https://localhost:8080/",
          "height": 424
        },
        "id": "Wpu9vPr5Vxpt",
        "outputId": "b57c35db-1699-4f4a-9bc5-74d6d2dffaaf"
      },
      "execution_count": 35,
      "outputs": [
        {
          "output_type": "execute_result",
          "data": {
            "text/plain": [
              "                timestamp  municipality_id  usage  total_capacity\n",
              "0     2017-06-04 08:00:00                9    454            1332\n",
              "1     2017-06-04 08:00:00                8    556            2947\n",
              "2     2017-06-04 08:00:00                4   1090            3893\n",
              "3     2017-06-04 08:00:00                0    204            2813\n",
              "4     2017-06-04 08:00:00                7    718            2019\n",
              "...                   ...              ...    ...             ...\n",
              "13065 2017-08-19 16:30:00                2    548             697\n",
              "13066 2017-08-19 16:30:00                8   1193            2947\n",
              "13067 2017-08-19 16:30:00                7   1354            2019\n",
              "13068 2017-08-19 16:30:00                6   1680            3113\n",
              "13069 2017-08-19 16:30:00                3   1189            1930\n",
              "\n",
              "[13070 rows x 4 columns]"
            ],
            "text/html": [
              "\n",
              "  <div id=\"df-24367f4f-d820-4811-b99e-d5fcdf7bcc50\">\n",
              "    <div class=\"colab-df-container\">\n",
              "      <div>\n",
              "<style scoped>\n",
              "    .dataframe tbody tr th:only-of-type {\n",
              "        vertical-align: middle;\n",
              "    }\n",
              "\n",
              "    .dataframe tbody tr th {\n",
              "        vertical-align: top;\n",
              "    }\n",
              "\n",
              "    .dataframe thead th {\n",
              "        text-align: right;\n",
              "    }\n",
              "</style>\n",
              "<table border=\"1\" class=\"dataframe\">\n",
              "  <thead>\n",
              "    <tr style=\"text-align: right;\">\n",
              "      <th></th>\n",
              "      <th>timestamp</th>\n",
              "      <th>municipality_id</th>\n",
              "      <th>usage</th>\n",
              "      <th>total_capacity</th>\n",
              "    </tr>\n",
              "  </thead>\n",
              "  <tbody>\n",
              "    <tr>\n",
              "      <th>0</th>\n",
              "      <td>2017-06-04 08:00:00</td>\n",
              "      <td>9</td>\n",
              "      <td>454</td>\n",
              "      <td>1332</td>\n",
              "    </tr>\n",
              "    <tr>\n",
              "      <th>1</th>\n",
              "      <td>2017-06-04 08:00:00</td>\n",
              "      <td>8</td>\n",
              "      <td>556</td>\n",
              "      <td>2947</td>\n",
              "    </tr>\n",
              "    <tr>\n",
              "      <th>2</th>\n",
              "      <td>2017-06-04 08:00:00</td>\n",
              "      <td>4</td>\n",
              "      <td>1090</td>\n",
              "      <td>3893</td>\n",
              "    </tr>\n",
              "    <tr>\n",
              "      <th>3</th>\n",
              "      <td>2017-06-04 08:00:00</td>\n",
              "      <td>0</td>\n",
              "      <td>204</td>\n",
              "      <td>2813</td>\n",
              "    </tr>\n",
              "    <tr>\n",
              "      <th>4</th>\n",
              "      <td>2017-06-04 08:00:00</td>\n",
              "      <td>7</td>\n",
              "      <td>718</td>\n",
              "      <td>2019</td>\n",
              "    </tr>\n",
              "    <tr>\n",
              "      <th>...</th>\n",
              "      <td>...</td>\n",
              "      <td>...</td>\n",
              "      <td>...</td>\n",
              "      <td>...</td>\n",
              "    </tr>\n",
              "    <tr>\n",
              "      <th>13065</th>\n",
              "      <td>2017-08-19 16:30:00</td>\n",
              "      <td>2</td>\n",
              "      <td>548</td>\n",
              "      <td>697</td>\n",
              "    </tr>\n",
              "    <tr>\n",
              "      <th>13066</th>\n",
              "      <td>2017-08-19 16:30:00</td>\n",
              "      <td>8</td>\n",
              "      <td>1193</td>\n",
              "      <td>2947</td>\n",
              "    </tr>\n",
              "    <tr>\n",
              "      <th>13067</th>\n",
              "      <td>2017-08-19 16:30:00</td>\n",
              "      <td>7</td>\n",
              "      <td>1354</td>\n",
              "      <td>2019</td>\n",
              "    </tr>\n",
              "    <tr>\n",
              "      <th>13068</th>\n",
              "      <td>2017-08-19 16:30:00</td>\n",
              "      <td>6</td>\n",
              "      <td>1680</td>\n",
              "      <td>3113</td>\n",
              "    </tr>\n",
              "    <tr>\n",
              "      <th>13069</th>\n",
              "      <td>2017-08-19 16:30:00</td>\n",
              "      <td>3</td>\n",
              "      <td>1189</td>\n",
              "      <td>1930</td>\n",
              "    </tr>\n",
              "  </tbody>\n",
              "</table>\n",
              "<p>13070 rows × 4 columns</p>\n",
              "</div>\n",
              "      <button class=\"colab-df-convert\" onclick=\"convertToInteractive('df-24367f4f-d820-4811-b99e-d5fcdf7bcc50')\"\n",
              "              title=\"Convert this dataframe to an interactive table.\"\n",
              "              style=\"display:none;\">\n",
              "        \n",
              "  <svg xmlns=\"http://www.w3.org/2000/svg\" height=\"24px\"viewBox=\"0 0 24 24\"\n",
              "       width=\"24px\">\n",
              "    <path d=\"M0 0h24v24H0V0z\" fill=\"none\"/>\n",
              "    <path d=\"M18.56 5.44l.94 2.06.94-2.06 2.06-.94-2.06-.94-.94-2.06-.94 2.06-2.06.94zm-11 1L8.5 8.5l.94-2.06 2.06-.94-2.06-.94L8.5 2.5l-.94 2.06-2.06.94zm10 10l.94 2.06.94-2.06 2.06-.94-2.06-.94-.94-2.06-.94 2.06-2.06.94z\"/><path d=\"M17.41 7.96l-1.37-1.37c-.4-.4-.92-.59-1.43-.59-.52 0-1.04.2-1.43.59L10.3 9.45l-7.72 7.72c-.78.78-.78 2.05 0 2.83L4 21.41c.39.39.9.59 1.41.59.51 0 1.02-.2 1.41-.59l7.78-7.78 2.81-2.81c.8-.78.8-2.07 0-2.86zM5.41 20L4 18.59l7.72-7.72 1.47 1.35L5.41 20z\"/>\n",
              "  </svg>\n",
              "      </button>\n",
              "      \n",
              "  <style>\n",
              "    .colab-df-container {\n",
              "      display:flex;\n",
              "      flex-wrap:wrap;\n",
              "      gap: 12px;\n",
              "    }\n",
              "\n",
              "    .colab-df-convert {\n",
              "      background-color: #E8F0FE;\n",
              "      border: none;\n",
              "      border-radius: 50%;\n",
              "      cursor: pointer;\n",
              "      display: none;\n",
              "      fill: #1967D2;\n",
              "      height: 32px;\n",
              "      padding: 0 0 0 0;\n",
              "      width: 32px;\n",
              "    }\n",
              "\n",
              "    .colab-df-convert:hover {\n",
              "      background-color: #E2EBFA;\n",
              "      box-shadow: 0px 1px 2px rgba(60, 64, 67, 0.3), 0px 1px 3px 1px rgba(60, 64, 67, 0.15);\n",
              "      fill: #174EA6;\n",
              "    }\n",
              "\n",
              "    [theme=dark] .colab-df-convert {\n",
              "      background-color: #3B4455;\n",
              "      fill: #D2E3FC;\n",
              "    }\n",
              "\n",
              "    [theme=dark] .colab-df-convert:hover {\n",
              "      background-color: #434B5C;\n",
              "      box-shadow: 0px 1px 3px 1px rgba(0, 0, 0, 0.15);\n",
              "      filter: drop-shadow(0px 1px 2px rgba(0, 0, 0, 0.3));\n",
              "      fill: #FFFFFF;\n",
              "    }\n",
              "  </style>\n",
              "\n",
              "      <script>\n",
              "        const buttonEl =\n",
              "          document.querySelector('#df-24367f4f-d820-4811-b99e-d5fcdf7bcc50 button.colab-df-convert');\n",
              "        buttonEl.style.display =\n",
              "          google.colab.kernel.accessAllowed ? 'block' : 'none';\n",
              "\n",
              "        async function convertToInteractive(key) {\n",
              "          const element = document.querySelector('#df-24367f4f-d820-4811-b99e-d5fcdf7bcc50');\n",
              "          const dataTable =\n",
              "            await google.colab.kernel.invokeFunction('convertToInteractive',\n",
              "                                                     [key], {});\n",
              "          if (!dataTable) return;\n",
              "\n",
              "          const docLinkHtml = 'Like what you see? Visit the ' +\n",
              "            '<a target=\"_blank\" href=https://colab.research.google.com/notebooks/data_table.ipynb>data table notebook</a>'\n",
              "            + ' to learn more about interactive tables.';\n",
              "          element.innerHTML = '';\n",
              "          dataTable['output_type'] = 'display_data';\n",
              "          await google.colab.output.renderOutput(dataTable, element);\n",
              "          const docLink = document.createElement('div');\n",
              "          docLink.innerHTML = docLinkHtml;\n",
              "          element.appendChild(docLink);\n",
              "        }\n",
              "      </script>\n",
              "    </div>\n",
              "  </div>\n",
              "  "
            ]
          },
          "metadata": {},
          "execution_count": 35
        }
      ]
    },
    {
      "cell_type": "code",
      "source": [
        "df = df.groupby([pd.Grouper(key='timestamp', freq='60min'),df.municipality_id]).max()\n",
        "df"
      ],
      "metadata": {
        "colab": {
          "base_uri": "https://localhost:8080/",
          "height": 455
        },
        "id": "YCYqJ9_NO_k6",
        "outputId": "958c12cf-eaaa-4538-9641-dbbfa0b5784c"
      },
      "execution_count": 36,
      "outputs": [
        {
          "output_type": "execute_result",
          "data": {
            "text/plain": [
              "                                     usage  total_capacity\n",
              "timestamp           municipality_id                       \n",
              "2017-06-04 08:00:00 0                  247            2813\n",
              "                    1                  138             397\n",
              "                    2                  311             697\n",
              "                    3                  770            1930\n",
              "                    4                 1476            3893\n",
              "...                                    ...             ...\n",
              "2017-08-19 16:00:00 5                  239             587\n",
              "                    6                 1727            3113\n",
              "                    7                 1450            2019\n",
              "                    8                 1253            2947\n",
              "                    9                  879            1332\n",
              "\n",
              "[6480 rows x 2 columns]"
            ],
            "text/html": [
              "\n",
              "  <div id=\"df-2b75d8ae-d67d-4560-846d-c0cb37bbd93a\">\n",
              "    <div class=\"colab-df-container\">\n",
              "      <div>\n",
              "<style scoped>\n",
              "    .dataframe tbody tr th:only-of-type {\n",
              "        vertical-align: middle;\n",
              "    }\n",
              "\n",
              "    .dataframe tbody tr th {\n",
              "        vertical-align: top;\n",
              "    }\n",
              "\n",
              "    .dataframe thead th {\n",
              "        text-align: right;\n",
              "    }\n",
              "</style>\n",
              "<table border=\"1\" class=\"dataframe\">\n",
              "  <thead>\n",
              "    <tr style=\"text-align: right;\">\n",
              "      <th></th>\n",
              "      <th></th>\n",
              "      <th>usage</th>\n",
              "      <th>total_capacity</th>\n",
              "    </tr>\n",
              "    <tr>\n",
              "      <th>timestamp</th>\n",
              "      <th>municipality_id</th>\n",
              "      <th></th>\n",
              "      <th></th>\n",
              "    </tr>\n",
              "  </thead>\n",
              "  <tbody>\n",
              "    <tr>\n",
              "      <th rowspan=\"5\" valign=\"top\">2017-06-04 08:00:00</th>\n",
              "      <th>0</th>\n",
              "      <td>247</td>\n",
              "      <td>2813</td>\n",
              "    </tr>\n",
              "    <tr>\n",
              "      <th>1</th>\n",
              "      <td>138</td>\n",
              "      <td>397</td>\n",
              "    </tr>\n",
              "    <tr>\n",
              "      <th>2</th>\n",
              "      <td>311</td>\n",
              "      <td>697</td>\n",
              "    </tr>\n",
              "    <tr>\n",
              "      <th>3</th>\n",
              "      <td>770</td>\n",
              "      <td>1930</td>\n",
              "    </tr>\n",
              "    <tr>\n",
              "      <th>4</th>\n",
              "      <td>1476</td>\n",
              "      <td>3893</td>\n",
              "    </tr>\n",
              "    <tr>\n",
              "      <th>...</th>\n",
              "      <th>...</th>\n",
              "      <td>...</td>\n",
              "      <td>...</td>\n",
              "    </tr>\n",
              "    <tr>\n",
              "      <th rowspan=\"5\" valign=\"top\">2017-08-19 16:00:00</th>\n",
              "      <th>5</th>\n",
              "      <td>239</td>\n",
              "      <td>587</td>\n",
              "    </tr>\n",
              "    <tr>\n",
              "      <th>6</th>\n",
              "      <td>1727</td>\n",
              "      <td>3113</td>\n",
              "    </tr>\n",
              "    <tr>\n",
              "      <th>7</th>\n",
              "      <td>1450</td>\n",
              "      <td>2019</td>\n",
              "    </tr>\n",
              "    <tr>\n",
              "      <th>8</th>\n",
              "      <td>1253</td>\n",
              "      <td>2947</td>\n",
              "    </tr>\n",
              "    <tr>\n",
              "      <th>9</th>\n",
              "      <td>879</td>\n",
              "      <td>1332</td>\n",
              "    </tr>\n",
              "  </tbody>\n",
              "</table>\n",
              "<p>6480 rows × 2 columns</p>\n",
              "</div>\n",
              "      <button class=\"colab-df-convert\" onclick=\"convertToInteractive('df-2b75d8ae-d67d-4560-846d-c0cb37bbd93a')\"\n",
              "              title=\"Convert this dataframe to an interactive table.\"\n",
              "              style=\"display:none;\">\n",
              "        \n",
              "  <svg xmlns=\"http://www.w3.org/2000/svg\" height=\"24px\"viewBox=\"0 0 24 24\"\n",
              "       width=\"24px\">\n",
              "    <path d=\"M0 0h24v24H0V0z\" fill=\"none\"/>\n",
              "    <path d=\"M18.56 5.44l.94 2.06.94-2.06 2.06-.94-2.06-.94-.94-2.06-.94 2.06-2.06.94zm-11 1L8.5 8.5l.94-2.06 2.06-.94-2.06-.94L8.5 2.5l-.94 2.06-2.06.94zm10 10l.94 2.06.94-2.06 2.06-.94-2.06-.94-.94-2.06-.94 2.06-2.06.94z\"/><path d=\"M17.41 7.96l-1.37-1.37c-.4-.4-.92-.59-1.43-.59-.52 0-1.04.2-1.43.59L10.3 9.45l-7.72 7.72c-.78.78-.78 2.05 0 2.83L4 21.41c.39.39.9.59 1.41.59.51 0 1.02-.2 1.41-.59l7.78-7.78 2.81-2.81c.8-.78.8-2.07 0-2.86zM5.41 20L4 18.59l7.72-7.72 1.47 1.35L5.41 20z\"/>\n",
              "  </svg>\n",
              "      </button>\n",
              "      \n",
              "  <style>\n",
              "    .colab-df-container {\n",
              "      display:flex;\n",
              "      flex-wrap:wrap;\n",
              "      gap: 12px;\n",
              "    }\n",
              "\n",
              "    .colab-df-convert {\n",
              "      background-color: #E8F0FE;\n",
              "      border: none;\n",
              "      border-radius: 50%;\n",
              "      cursor: pointer;\n",
              "      display: none;\n",
              "      fill: #1967D2;\n",
              "      height: 32px;\n",
              "      padding: 0 0 0 0;\n",
              "      width: 32px;\n",
              "    }\n",
              "\n",
              "    .colab-df-convert:hover {\n",
              "      background-color: #E2EBFA;\n",
              "      box-shadow: 0px 1px 2px rgba(60, 64, 67, 0.3), 0px 1px 3px 1px rgba(60, 64, 67, 0.15);\n",
              "      fill: #174EA6;\n",
              "    }\n",
              "\n",
              "    [theme=dark] .colab-df-convert {\n",
              "      background-color: #3B4455;\n",
              "      fill: #D2E3FC;\n",
              "    }\n",
              "\n",
              "    [theme=dark] .colab-df-convert:hover {\n",
              "      background-color: #434B5C;\n",
              "      box-shadow: 0px 1px 3px 1px rgba(0, 0, 0, 0.15);\n",
              "      filter: drop-shadow(0px 1px 2px rgba(0, 0, 0, 0.3));\n",
              "      fill: #FFFFFF;\n",
              "    }\n",
              "  </style>\n",
              "\n",
              "      <script>\n",
              "        const buttonEl =\n",
              "          document.querySelector('#df-2b75d8ae-d67d-4560-846d-c0cb37bbd93a button.colab-df-convert');\n",
              "        buttonEl.style.display =\n",
              "          google.colab.kernel.accessAllowed ? 'block' : 'none';\n",
              "\n",
              "        async function convertToInteractive(key) {\n",
              "          const element = document.querySelector('#df-2b75d8ae-d67d-4560-846d-c0cb37bbd93a');\n",
              "          const dataTable =\n",
              "            await google.colab.kernel.invokeFunction('convertToInteractive',\n",
              "                                                     [key], {});\n",
              "          if (!dataTable) return;\n",
              "\n",
              "          const docLinkHtml = 'Like what you see? Visit the ' +\n",
              "            '<a target=\"_blank\" href=https://colab.research.google.com/notebooks/data_table.ipynb>data table notebook</a>'\n",
              "            + ' to learn more about interactive tables.';\n",
              "          element.innerHTML = '';\n",
              "          dataTable['output_type'] = 'display_data';\n",
              "          await google.colab.output.renderOutput(dataTable, element);\n",
              "          const docLink = document.createElement('div');\n",
              "          docLink.innerHTML = docLinkHtml;\n",
              "          element.appendChild(docLink);\n",
              "        }\n",
              "      </script>\n",
              "    </div>\n",
              "  </div>\n",
              "  "
            ]
          },
          "metadata": {},
          "execution_count": 36
        }
      ]
    },
    {
      "cell_type": "code",
      "source": [
        "df.head(30)\n",
        "df.reset_index(inplace=True)\n",
        "df.set_index('timestamp',inplace=True)\n",
        "#df.isna().any(axis=1).sum() # There is no NaN data\n",
        "#df.dropna(inplace=True)  "
      ],
      "metadata": {
        "id": "51lAggA2VAMd"
      },
      "execution_count": 37,
      "outputs": []
    },
    {
      "cell_type": "code",
      "source": [
        "# Split train-val-test\n",
        "# ==============================================================================\n",
        "end_train = '2017-07-19 23:59:00'\n",
        "end_validation = '2017-08-05 23:59:00'\n",
        "data_train = df.loc[: end_train, :]\n",
        "data_val   = df.loc[end_train:end_validation, :]\n",
        "data_test  = df.loc[end_validation:, :]\n",
        "\n",
        "print(f\"Dates train      : {data_train.index.min()} --- {data_train.index.max()}  (n={len(data_train)})\")\n",
        "print(f\"Dates validation : {data_val.index.min()} --- {data_val.index.max()}  (n={len(data_val)})\")\n",
        "print(f\"Dates test       : {data_test.index.min()} --- {data_test.index.max()}  (n={len(data_test)})\")\n"
      ],
      "metadata": {
        "colab": {
          "base_uri": "https://localhost:8080/"
        },
        "id": "yqKWgufRSJFG",
        "outputId": "76d2b542-bb64-4c37-ae67-25a8342b501d"
      },
      "execution_count": 38,
      "outputs": [
        {
          "output_type": "stream",
          "name": "stdout",
          "text": [
            "Dates train      : 2017-06-04 08:00:00 --- 2017-07-19 16:00:00  (n=3960)\n",
            "Dates validation : 2017-07-20 08:00:00 --- 2017-08-05 16:00:00  (n=1260)\n",
            "Dates test       : 2017-08-06 08:00:00 --- 2017-08-19 16:00:00  (n=1260)\n"
          ]
        }
      ]
    },
    {
      "cell_type": "markdown",
      "source": [
        "##Data Visualization"
      ],
      "metadata": {
        "id": "EkjKctNpUt8k"
      }
    },
    {
      "cell_type": "code",
      "source": [
        "# Plot time series\n",
        "# ==============================================================================\n",
        "fig, ax = plt.subplots(figsize=(11, 4))\n",
        "data_train['usage'].plot(ax=ax, label='train')\n",
        "data_val['usage'].plot(ax=ax, label='validation')\n",
        "data_test['usage'].plot(ax=ax, label='test')\n",
        "ax.set_title('Number of usage')\n",
        "ax.legend()\n"
      ],
      "metadata": {
        "colab": {
          "base_uri": "https://localhost:8080/",
          "height": 319
        },
        "id": "itPPFbCGTNE_",
        "outputId": "4f275b42-5e7b-4756-e2e4-88177fcbd667"
      },
      "execution_count": 39,
      "outputs": [
        {
          "output_type": "execute_result",
          "data": {
            "text/plain": [
              "<matplotlib.legend.Legend at 0x7f7b0b668bd0>"
            ]
          },
          "metadata": {},
          "execution_count": 39
        },
        {
          "output_type": "display_data",
          "data": {
            "text/plain": [
              "<Figure size 792x288 with 1 Axes>"
            ],
            "image/png": "[encoded data removed]"
          },
          "metadata": {
            "needs_background": "light"
          }
        }
      ]
    },
    {
      "cell_type": "code",
      "source": [
        "# Interactive plot of time series\n",
        "# ==============================================================================\n",
        "df.loc[:end_train, 'partition'] = 'train'\n",
        "df.loc[end_train:end_validation, 'partition'] = 'validation'\n",
        "df.loc[end_validation:, 'partition'] = 'test'\n",
        "\n",
        "fig = px.line(\n",
        "    data_frame = df.reset_index(),\n",
        "    x      = 'timestamp',\n",
        "    y      = 'usage',\n",
        "    color  = 'partition',\n",
        "    title  = 'Number of usage',\n",
        "    width  = 900,\n",
        "    height = 500\n",
        ")\n",
        "\n",
        "fig.update_xaxes(\n",
        "    rangeslider_visible=True,\n",
        "    rangeselector=dict(\n",
        "        buttons=list([\n",
        "            dict(count=1, label=\"1m\", step=\"month\", stepmode=\"backward\"),\n",
        "            dict(count=6, label=\"6m\", step=\"month\", stepmode=\"backward\"),\n",
        "            dict(count=1, label=\"YTD\", step=\"year\", stepmode=\"todate\"),\n",
        "            dict(count=1, label=\"1y\", step=\"year\", stepmode=\"backward\"),\n",
        "            dict(step=\"all\")\n",
        "        ])\n",
        "    )\n",
        ")\n",
        "\n",
        "fig.show()\n",
        "\n",
        "data=df.drop(columns='partition')"
      ],
      "metadata": {
        "colab": {
          "base_uri": "https://localhost:8080/",
          "height": 517
        },
        "id": "MlUSKCKAT31p",
        "outputId": "9244caab-6179-430f-b521-918ebda87f93"
      },
      "execution_count": 40,
      "outputs": [
        {
          "output_type": "display_data",
          "data": {
            "text/html": [
              "<html>\n",
              "<head><meta charset=\"utf-8\" /></head>\n",
              "<body>\n",
              "    <div>            <script src=\"https://cdnjs.cloudflare.com/ajax/libs/mathjax/2.7.5/MathJax.js?config=TeX-AMS-MML_SVG\"></script><script type=\"text/javascript\">if (window.MathJax) {MathJax.Hub.Config({SVG: {font: \"STIX-Web\"}});}</script>                <script type=\"text/javascript\">window.PlotlyConfig = {MathJaxConfig: 'local'};</script>\n",
              "        <script src=\"https://cdn.plot.ly/plotly-2.8.3.min.js\"></script>                <div id=\"ee26ab72-9fce-4cde-9dfd-b48b031673cf\" class=\"plotly-graph-div\" style=\"height:500px; width:900px;\"></div>            <script type=\"text/javascript\">                                    window.PLOTLYENV=window.PLOTLYENV || {};                                    if (document.getElementById(\"ee26ab72-9fce-4cde-9dfd-b48b031673cf\")) {                    Plotly.newPlot(                        \"ee26ab72-9fce-4cde-9dfd-b48b031673cf\",                        [{\"hovertemplate\":\"partition=train<br>timestamp=%{x}<br>usage=%{y}<extra></extra>\",\"legendgroup\":\"train\",\"line\":{\"color\":\"#636efa\",\"dash\":\"solid\"},\"marker\":{\"symbol\":\"circle\"},\"mode\":\"lines\",\"name\":\"train\",\"showlegend\":true,\"x\":[\"2017-06-04T08:00:00\",\"2017-06-04T08:00:00\",\"2017-06-04T08:00:00\",\"2017-06-04T08:00:00\",\"2017-06-04T08:00:00\",\"2017-06-04T08:00:00\",\"2017-06-04T08:00:00\",\"2017-06-04T08:00:00\",\"2017-06-04T08:00:00\",\"2017-06-04T08:00:00\",\"2017-06-04T09:00:00\",\"2017-06-04T09:00:00\",\"2017-06-04T09:00:00\",\"2017-06-04T09:00:00\",\"2017-06-04T09:00:00\",\"2017-06-04T09:00:00\",\"2017-06-04T09:00:00\",\"2017-06-04T09:00:00\",\"2017-06-04T09:00:00\",\"2017-06-04T09:00:00\",\"2017-06-04T10:00:00\",\"2017-06-04T10:00:00\",\"2017-06-04T10:00:00\",\"2017-06-04T10:00:00\",\"2017-06-04T10:00:00\",\"2017-06-04T10:00:00\",\"2017-06-04T10:00:00\",\"2017-06-04T10:00:00\",\"2017-06-04T10:00:00\",\"2017-06-04T10:00:00\",\"2017-06-04T11:00:00\",\"2017-06-04T11:00:00\",\"2017-06-04T11:00:00\",\"2017-06-04T11:00:00\",\"2017-06-04T11:00:00\",\"2017-06-04T11:00:00\",\"2017-06-04T11:00:00\",\"2017-06-04T11:00:00\",\"2017-06-04T11:00:00\",\"2017-06-04T11:00:00\",\"2017-06-04T12:00:00\",\"2017-06-04T12:00:00\",\"2017-06-04T12:00:00\",\"2017-06-04T12:00:00\",\"2017-06-04T12:00:00\",\"2017-06-04T12:00:00\",\"2017-06-04T12:00:00\",\"2017-06-04T12:00:00\",\"2017-06-04T12:00:00\",\"2017-06-04T12:00:00\",\"2017-06-04T13:00:00\",\"2017-06-04T13:00:00\",\"2017-06-04T13:00:00\",\"2017-06-04T13:00:00\",\"2017-06-04T13:00:00\",\"2017-06-04T13:00:00\",\"2017-06-04T13:00:00\",\"2017-06-04T13:00:00\",\"2017-06-04T13:00:00\",\"2017-06-04T13:00:00\",\"2017-06-04T14:00:00\",\"2017-06-04T14:00:00\",\"2017-06-04T14:00:00\",\"2017-06-04T14:00:00\",\"2017-06-04T14:00:00\",\"2017-06-04T14:00:00\",\"2017-06-04T14:00:00\",\"2017-06-04T14:00:00\",\"2017-06-04T14:00:00\",\"2017-06-04T14:00:00\",\"2017-06-04T15:00:00\",\"2017-06-04T15:00:00\",\"2017-06-04T15:00:00\",\"2017-06-04T15:00:00\",\"2017-06-04T15:00:00\",\"2017-06-04T15:00:00\",\"2017-06-04T15:00:00\",\"2017-06-04T15:00:00\",\"2017-06-04T15:00:00\",\"2017-06-04T15:00:00\",\"2017-06-04T16:00:00\",\"2017-06-04T16:00:00\",\"2017-06-04T16:00:00\",\"2017-06-04T16:00:00\",\"2017-06-04T16:00:00\",\"2017-06-04T16:00:00\",\"2017-06-04T16:00:00\",\"2017-06-04T16:00:00\",\"2017-06-04T16:00:00\",\"2017-06-04T16:00:00\",\"2017-06-05T08:00:00\",\"2017-06-05T08:00:00\",\"2017-06-05T08:00:00\",\"2017-06-05T08:00:00\",\"2017-06-05T08:00:00\",\"2017-06-05T08:00:00\",\"2017-06-05T08:00:00\",\"2017-06-05T08:00:00\",\"2017-06-05T08:00:00\",\"2017-06-05T08:00:00\",\"2017-06-05T09:00:00\",\"2017-06-05T09:00:00\",\"2017-06-05T09:00:00\",\"2017-06-05T09:00:00\",\"2017-06-05T09:00:00\",\"2017-06-05T09:00:00\",\"2017-06-05T09:00:00\",\"2017-06-05T09:00:00\",\"2017-06-05T09:00:00\",\"2017-06-05T09:00:00\",\"2017-06-05T10:00:00\",\"2017-06-05T10:00:00\",\"2017-06-05T10:00:00\",\"2017-06-05T10:00:00\",\"2017-06-05T10:00:00\",\"2017-06-05T10:00:00\",\"2017-06-05T10:00:00\",\"2017-06-05T10:00:00\",\"2017-06-05T10:00:00\",\"2017-06-05T10:00:00\",\"2017-06-05T11:00:00\",\"2017-06-05T11:00:00\",\"2017-06-05T11:00:00\",\"2017-06-05T11:00:00\",\"2017-06-05T11:00:00\",\"2017-06-05T11:00:00\",\"2017-06-05T11:00:00\",\"2017-06-05T11:00:00\",\"2017-06-05T11:00:00\",\"2017-06-05T11:00:00\",\"2017-06-05T12:00:00\",\"2017-06-05T12:00:00\",\"2017-06-05T12:00:00\",\"2017-06-05T12:00:00\",\"2017-06-05T12:00:00\",\"2017-06-05T12:00:00\",\"2017-06-05T12:00:00\",\"2017-06-05T12:00:00\",\"2017-06-05T12:00:00\",\"2017-06-05T12:00:00\",\"2017-06-05T13:00:00\",\"2017-06-05T13:00:00\",\"2017-06-05T13:00:00\",\"2017-06-05T13:00:00\",\"2017-06-05T13:00:00\",\"2017-06-05T13:00:00\",\"2017-06-05T13:00:00\",\"2017-06-05T13:00:00\",\"2017-06-05T13:00:00\",\"2017-06-05T13:00:00\",\"2017-06-05T14:00:00\",\"2017-06-05T14:00:00\",\"2017-06-05T14:00:00\",\"2017-06-05T14:00:00\",\"2017-06-05T14:00:00\",\"2017-06-05T14:00:00\",\"2017-06-05T14:00:00\",\"2017-06-05T14:00:00\",\"2017-06-05T14:00:00\",\"2017-06-05T14:00:00\",\"2017-06-05T15:00:00\",\"2017-06-05T15:00:00\",\"2017-06-05T15:00:00\",\"2017-06-05T15:00:00\",\"2017-06-05T15:00:00\",\"2017-06-05T15:00:00\",\"2017-06-05T15:00:00\",\"2017-06-05T15:00:00\",\"2017-06-05T15:00:00\",\"2017-06-05T15:00:00\",\"2017-06-05T16:00:00\",\"2017-06-05T16:00:00\",\"2017-06-05T16:00:00\",\"2017-06-05T16:00:00\",\"2017-06-05T16:00:00\",\"2017-06-05T16:00:00\",\"2017-06-05T16:00:00\",\"2017-06-05T16:00:00\",\"2017-06-05T16:00:00\",\"2017-06-05T16:00:00\",\"2017-06-06T08:00:00\",\"2017-06-06T08:00:00\",\"2017-06-06T08:00:00\",\"2017-06-06T08:00:00\",\"2017-06-06T08:00:00\",\"2017-06-06T08:00:00\",\"2017-06-06T08:00:00\",\"2017-06-06T08:00:00\",\"2017-06-06T08:00:00\",\"2017-06-06T08:00:00\",\"2017-06-06T09:00:00\",\"2017-06-06T09:00:00\",\"2017-06-06T09:00:00\",\"2017-06-06T09:00:00\",\"2017-06-06T09:00:00\",\"2017-06-06T09:00:00\",\"2017-06-06T09:00:00\",\"2017-06-06T09:00:00\",\"2017-06-06T09:00:00\",\"2017-06-06T09:00:00\",\"2017-06-06T10:00:00\",\"2017-06-06T10:00:00\",\"2017-06-06T10:00:00\",\"2017-06-06T10:00:00\",\"2017-06-06T10:00:00\",\"2017-06-06T10:00:00\",\"2017-06-06T10:00:00\",\"2017-06-06T10:00:00\",\"2017-06-06T10:00:00\",\"2017-06-06T10:00:00\",\"2017-06-06T11:00:00\",\"2017-06-06T11:00:00\",\"2017-06-06T11:00:00\",\"2017-06-06T11:00:00\",\"2017-06-06T11:00:00\",\"2017-06-06T11:00:00\",\"2017-06-06T11:00:00\",\"2017-06-06T11:00:00\",\"2017-06-06T11:00:00\",\"2017-06-06T11:00:00\",\"2017-06-06T12:00:00\",\"2017-06-06T12:00:00\",\"2017-06-06T12:00:00\",\"2017-06-06T12:00:00\",\"2017-06-06T12:00:00\",\"2017-06-06T12:00:00\",\"2017-06-06T12:00:00\",\"2017-06-06T12:00:00\",\"2017-06-06T12:00:00\",\"2017-06-06T12:00:00\",\"2017-06-06T13:00:00\",\"2017-06-06T13:00:00\",\"2017-06-06T13:00:00\",\"2017-06-06T13:00:00\",\"2017-06-06T13:00:00\",\"2017-06-06T13:00:00\",\"2017-06-06T13:00:00\",\"2017-06-06T13:00:00\",\"2017-06-06T13:00:00\",\"2017-06-06T13:00:00\",\"2017-06-06T14:00:00\",\"2017-06-06T14:00:00\",\"2017-06-06T14:00:00\",\"2017-06-06T14:00:00\",\"2017-06-06T14:00:00\",\"2017-06-06T14:00:00\",\"2017-06-06T14:00:00\",\"2017-06-06T14:00:00\",\"2017-06-06T14:00:00\",\"2017-06-06T14:00:00\",\"2017-06-06T15:00:00\",\"2017-06-06T15:00:00\",\"2017-06-06T15:00:00\",\"2017-06-06T15:00:00\",\"2017-06-06T15:00:00\",\"2017-06-06T15:00:00\",\"2017-06-06T15:00:00\",\"2017-06-06T15:00:00\",\"2017-06-06T15:00:00\",\"2017-06-06T15:00:00\",\"2017-06-06T16:00:00\",\"2017-06-06T16:00:00\",\"2017-06-06T16:00:00\",\"2017-06-06T16:00:00\",\"2017-06-06T16:00:00\",\"2017-06-06T16:00:00\",\"2017-06-06T16:00:00\",\"2017-06-06T16:00:00\",\"2017-06-06T16:00:00\",\"2017-06-06T16:00:00\",\"2017-06-07T08:00:00\",\"2017-06-07T08:00:00\",\"2017-06-07T08:00:00\",\"2017-06-07T08:00:00\",\"2017-06-07T08:00:00\",\"2017-06-07T08:00:00\",\"2017-06-07T08:00:00\",\"2017-06-07T08:00:00\",\"2017-06-07T08:00:00\",\"2017-06-07T08:00:00\",\"2017-06-07T09:00:00\",\"2017-06-07T09:00:00\",\"2017-06-07T09:00:00\",\"2017-06-07T09:00:00\",\"2017-06-07T09:00:00\",\"2017-06-07T09:00:00\",\"2017-06-07T09:00:00\",\"2017-06-07T09:00:00\",\"2017-06-07T09:00:00\",\"2017-06-07T09:00:00\",\"2017-06-07T10:00:00\",\"2017-06-07T10:00:00\",\"2017-06-07T10:00:00\",\"2017-06-07T10:00:00\",\"2017-06-07T10:00:00\",\"2017-06-07T10:00:00\",\"2017-06-07T10:00:00\",\"2017-06-07T10:00:00\",\"2017-06-07T10:00:00\",\"2017-06-07T10:00:00\",\"2017-06-07T11:00:00\",\"2017-06-07T11:00:00\",\"2017-06-07T11:00:00\",\"2017-06-07T11:00:00\",\"2017-06-07T11:00:00\",\"2017-06-07T11:00:00\",\"2017-06-07T11:00:00\",\"2017-06-07T11:00:00\",\"2017-06-07T11:00:00\",\"2017-06-07T11:00:00\",\"2017-06-07T12:00:00\",\"2017-06-07T12:00:00\",\"2017-06-07T12:00:00\",\"2017-06-07T12:00:00\",\"2017-06-07T12:00:00\",\"2017-06-07T12:00:00\",\"2017-06-07T12:00:00\",\"2017-06-07T12:00:00\",\"2017-06-07T12:00:00\",\"2017-06-07T12:00:00\",\"2017-06-07T13:00:00\",\"2017-06-07T13:00:00\",\"2017-06-07T13:00:00\",\"2017-06-07T13:00:00\",\"2017-06-07T13:00:00\",\"2017-06-07T13:00:00\",\"2017-06-07T13:00:00\",\"2017-06-07T13:00:00\",\"2017-06-07T13:00:00\",\"2017-06-07T13:00:00\",\"2017-06-07T14:00:00\",\"2017-06-07T14:00:00\",\"2017-06-07T14:00:00\",\"2017-06-07T14:00:00\",\"2017-06-07T14:00:00\",\"2017-06-07T14:00:00\",\"2017-06-07T14:00:00\",\"2017-06-07T14:00:00\",\"2017-06-07T14:00:00\",\"2017-06-07T14:00:00\",\"2017-06-07T15:00:00\",\"2017-06-07T15:00:00\",\"2017-06-07T15:00:00\",\"2017-06-07T15:00:00\",\"2017-06-07T15:00:00\",\"2017-06-07T15:00:00\",\"2017-06-07T15:00:00\",\"2017-06-07T15:00:00\",\"2017-06-07T15:00:00\",\"2017-06-07T15:00:00\",\"2017-06-07T16:00:00\",\"2017-06-07T16:00:00\",\"2017-06-07T16:00:00\",\"2017-06-07T16:00:00\",\"2017-06-07T16:00:00\",\"2017-06-07T16:00:00\",\"2017-06-07T16:00:00\",\"2017-06-07T16:00:00\",\"2017-06-07T16:00:00\",\"2017-06-07T16:00:00\",\"2017-06-08T08:00:00\",\"2017-06-08T08:00:00\",\"2017-06-08T08:00:00\",\"2017-06-08T08:00:00\",\"2017-06-08T08:00:00\",\"2017-06-08T08:00:00\",\"2017-06-08T08:00:00\",\"2017-06-08T08:00:00\",\"2017-06-08T08:00:00\",\"2017-06-08T08:00:00\",\"2017-06-08T09:00:00\",\"2017-06-08T09:00:00\",\"2017-06-08T09:00:00\",\"2017-06-08T09:00:00\",\"2017-06-08T09:00:00\",\"2017-06-08T09:00:00\",\"2017-06-08T09:00:00\",\"2017-06-08T09:00:00\",\"2017-06-08T09:00:00\",\"2017-06-08T09:00:00\",\"2017-06-08T10:00:00\",\"2017-06-08T10:00:00\",\"2017-06-08T10:00:00\",\"2017-06-08T10:00:00\",\"2017-06-08T10:00:00\",\"2017-06-08T10:00:00\",\"2017-06-08T10:00:00\",\"2017-06-08T10:00:00\",\"2017-06-08T10:00:00\",\"2017-06-08T10:00:00\",\"2017-06-08T11:00:00\",\"2017-06-08T11:00:00\",\"2017-06-08T11:00:00\",\"2017-06-08T11:00:00\",\"2017-06-08T11:00:00\",\"2017-06-08T11:00:00\",\"2017-06-08T11:00:00\",\"2017-06-08T11:00:00\",\"2017-06-08T11:00:00\",\"2017-06-08T11:00:00\",\"2017-06-08T12:00:00\",\"2017-06-08T12:00:00\",\"2017-06-08T12:00:00\",\"2017-06-08T12:00:00\",\"2017-06-08T12:00:00\",\"2017-06-08T12:00:00\",\"2017-06-08T12:00:00\",\"2017-06-08T12:00:00\",\"2017-06-08T12:00:00\",\"2017-06-08T12:00:00\",\"2017-06-08T13:00:00\",\"2017-06-08T13:00:00\",\"2017-06-08T13:00:00\",\"2017-06-08T13:00:00\",\"2017-06-08T13:00:00\",\"2017-06-08T13:00:00\",\"2017-06-08T13:00:00\",\"2017-06-08T13:00:00\",\"2017-06-08T13:00:00\",\"2017-06-08T13:00:00\",\"2017-06-08T14:00:00\",\"2017-06-08T14:00:00\",\"2017-06-08T14:00:00\",\"2017-06-08T14:00:00\",\"2017-06-08T14:00:00\",\"2017-06-08T14:00:00\",\"2017-06-08T14:00:00\",\"2017-06-08T14:00:00\",\"2017-06-08T14:00:00\",\"2017-06-08T14:00:00\",\"2017-06-08T15:00:00\",\"2017-06-08T15:00:00\",\"2017-06-08T15:00:00\",\"2017-06-08T15:00:00\",\"2017-06-08T15:00:00\",\"2017-06-08T15:00:00\",\"2017-06-08T15:00:00\",\"2017-06-08T15:00:00\",\"2017-06-08T15:00:00\",\"2017-06-08T15:00:00\",\"2017-06-08T16:00:00\",\"2017-06-08T16:00:00\",\"2017-06-08T16:00:00\",\"2017-06-08T16:00:00\",\"2017-06-08T16:00:00\",\"2017-06-08T16:00:00\",\"2017-06-08T16:00:00\",\"2017-06-08T16:00:00\",\"2017-06-08T16:00:00\",\"2017-06-08T16:00:00\",\"2017-06-09T08:00:00\",\"2017-06-09T08:00:00\",\"2017-06-09T08:00:00\",\"2017-06-09T08:00:00\",\"2017-06-09T08:00:00\",\"2017-06-09T08:00:00\",\"2017-06-09T08:00:00\",\"2017-06-09T08:00:00\",\"2017-06-09T08:00:00\",\"2017-06-09T08:00:00\",\"2017-06-09T09:00:00\",\"2017-06-09T09:00:00\",\"2017-06-09T09:00:00\",\"2017-06-09T09:00:00\",\"2017-06-09T09:00:00\",\"2017-06-09T09:00:00\",\"2017-06-09T09:00:00\",\"2017-06-09T09:00:00\",\"2017-06-09T09:00:00\",\"2017-06-09T09:00:00\",\"2017-06-09T10:00:00\",\"2017-06-09T10:00:00\",\"2017-06-09T10:00:00\",\"2017-06-09T10:00:00\",\"2017-06-09T10:00:00\",\"2017-06-09T10:00:00\",\"2017-06-09T10:00:00\",\"2017-06-09T10:00:00\",\"2017-06-09T10:00:00\",\"2017-06-09T10:00:00\",\"2017-06-09T11:00:00\",\"2017-06-09T11:00:00\",\"2017-06-09T11:00:00\",\"2017-06-09T11:00:00\",\"2017-06-09T11:00:00\",\"2017-06-09T11:00:00\",\"2017-06-09T11:00:00\",\"2017-06-09T11:00:00\",\"2017-06-09T11:00:00\",\"2017-06-09T11:00:00\",\"2017-06-09T12:00:00\",\"2017-06-09T12:00:00\",\"2017-06-09T12:00:00\",\"2017-06-09T12:00:00\",\"2017-06-09T12:00:00\",\"2017-06-09T12:00:00\",\"2017-06-09T12:00:00\",\"2017-06-09T12:00:00\",\"2017-06-09T12:00:00\",\"2017-06-09T12:00:00\",\"2017-06-09T13:00:00\",\"2017-06-09T13:00:00\",\"2017-06-09T13:00:00\",\"2017-06-09T13:00:00\",\"2017-06-09T13:00:00\",\"2017-06-09T13:00:00\",\"2017-06-09T13:00:00\",\"2017-06-09T13:00:00\",\"2017-06-09T13:00:00\",\"2017-06-09T13:00:00\",\"2017-06-09T14:00:00\",\"2017-06-09T14:00:00\",\"2017-06-09T14:00:00\",\"2017-06-09T14:00:00\",\"2017-06-09T14:00:00\",\"2017-06-09T14:00:00\",\"2017-06-09T14:00:00\",\"2017-06-09T14:00:00\",\"2017-06-09T14:00:00\",\"2017-06-09T14:00:00\",\"2017-06-09T15:00:00\",\"2017-06-09T15:00:00\",\"2017-06-09T15:00:00\",\"2017-06-09T15:00:00\",\"2017-06-09T15:00:00\",\"2017-06-09T15:00:00\",\"2017-06-09T15:00:00\",\"2017-06-09T15:00:00\",\"2017-06-09T15:00:00\",\"2017-06-09T15:00:00\",\"2017-06-09T16:00:00\",\"2017-06-09T16:00:00\",\"2017-06-09T16:00:00\",\"2017-06-09T16:00:00\",\"2017-06-09T16:00:00\",\"2017-06-09T16:00:00\",\"2017-06-09T16:00:00\",\"2017-06-09T16:00:00\",\"2017-06-09T16:00:00\",\"2017-06-09T16:00:00\",\"2017-06-10T08:00:00\",\"2017-06-10T08:00:00\",\"2017-06-10T08:00:00\",\"2017-06-10T08:00:00\",\"2017-06-10T08:00:00\",\"2017-06-10T08:00:00\",\"2017-06-10T08:00:00\",\"2017-06-10T08:00:00\",\"2017-06-10T08:00:00\",\"2017-06-10T08:00:00\",\"2017-06-10T09:00:00\",\"2017-06-10T09:00:00\",\"2017-06-10T09:00:00\",\"2017-06-10T09:00:00\",\"2017-06-10T09:00:00\",\"2017-06-10T09:00:00\",\"2017-06-10T09:00:00\",\"2017-06-10T09:00:00\",\"2017-06-10T09:00:00\",\"2017-06-10T09:00:00\",\"2017-06-10T10:00:00\",\"2017-06-10T10:00:00\",\"2017-06-10T10:00:00\",\"2017-06-10T10:00:00\",\"2017-06-10T10:00:00\",\"2017-06-10T10:00:00\",\"2017-06-10T10:00:00\",\"2017-06-10T10:00:00\",\"2017-06-10T10:00:00\",\"2017-06-10T10:00:00\",\"2017-06-10T11:00:00\",\"2017-06-10T11:00:00\",\"2017-06-10T11:00:00\",\"2017-06-10T11:00:00\",\"2017-06-10T11:00:00\",\"2017-06-10T11:00:00\",\"2017-06-10T11:00:00\",\"2017-06-10T11:00:00\",\"2017-06-10T11:00:00\",\"2017-06-10T11:00:00\",\"2017-06-10T12:00:00\",\"2017-06-10T12:00:00\",\"2017-06-10T12:00:00\",\"2017-06-10T12:00:00\",\"2017-06-10T12:00:00\",\"2017-06-10T12:00:00\",\"2017-06-10T12:00:00\",\"2017-06-10T12:00:00\",\"2017-06-10T12:00:00\",\"2017-06-10T12:00:00\",\"2017-06-10T13:00:00\",\"2017-06-10T13:00:00\",\"2017-06-10T13:00:00\",\"2017-06-10T13:00:00\",\"2017-06-10T13:00:00\",\"2017-06-10T13:00:00\",\"2017-06-10T13:00:00\",\"2017-06-10T13:00:00\",\"2017-06-10T13:00:00\",\"2017-06-10T13:00:00\",\"2017-06-10T14:00:00\",\"2017-06-10T14:00:00\",\"2017-06-10T14:00:00\",\"2017-06-10T14:00:00\",\"2017-06-10T14:00:00\",\"2017-06-10T14:00:00\",\"2017-06-10T14:00:00\",\"2017-06-10T14:00:00\",\"2017-06-10T14:00:00\",\"2017-06-10T14:00:00\",\"2017-06-10T15:00:00\",\"2017-06-10T15:00:00\",\"2017-06-10T15:00:00\",\"2017-06-10T15:00:00\",\"2017-06-10T15:00:00\",\"2017-06-10T15:00:00\",\"2017-06-10T15:00:00\",\"2017-06-10T15:00:00\",\"2017-06-10T15:00:00\",\"2017-06-10T15:00:00\",\"2017-06-10T16:00:00\",\"2017-06-10T16:00:00\",\"2017-06-10T16:00:00\",\"2017-06-10T16:00:00\",\"2017-06-10T16:00:00\",\"2017-06-10T16:00:00\",\"2017-06-10T16:00:00\",\"2017-06-10T16:00:00\",\"2017-06-10T16:00:00\",\"2017-06-10T16:00:00\",\"2017-06-11T08:00:00\",\"2017-06-11T08:00:00\",\"2017-06-11T08:00:00\",\"2017-06-11T08:00:00\",\"2017-06-11T08:00:00\",\"2017-06-11T08:00:00\",\"2017-06-11T08:00:00\",\"2017-06-11T08:00:00\",\"2017-06-11T08:00:00\",\"2017-06-11T08:00:00\",\"2017-06-11T09:00:00\",\"2017-06-11T09:00:00\",\"2017-06-11T09:00:00\",\"2017-06-11T09:00:00\",\"2017-06-11T09:00:00\",\"2017-06-11T09:00:00\",\"2017-06-11T09:00:00\",\"2017-06-11T09:00:00\",\"2017-06-11T09:00:00\",\"2017-06-11T09:00:00\",\"2017-06-11T10:00:00\",\"2017-06-11T10:00:00\",\"2017-06-11T10:00:00\",\"2017-06-11T10:00:00\",\"2017-06-11T10:00:00\",\"2017-06-11T10:00:00\",\"2017-06-11T10:00:00\",\"2017-06-11T10:00:00\",\"2017-06-11T10:00:00\",\"2017-06-11T10:00:00\",\"2017-06-11T11:00:00\",\"2017-06-11T11:00:00\",\"2017-06-11T11:00:00\",\"2017-06-11T11:00:00\",\"2017-06-11T11:00:00\",\"2017-06-11T11:00:00\",\"2017-06-11T11:00:00\",\"2017-06-11T11:00:00\",\"2017-06-11T11:00:00\",\"2017-06-11T11:00:00\",\"2017-06-11T12:00:00\",\"2017-06-11T12:00:00\",\"2017-06-11T12:00:00\",\"2017-06-11T12:00:00\",\"2017-06-11T12:00:00\",\"2017-06-11T12:00:00\",\"2017-06-11T12:00:00\",\"2017-06-11T12:00:00\",\"2017-06-11T12:00:00\",\"2017-06-11T12:00:00\",\"2017-06-11T13:00:00\",\"2017-06-11T13:00:00\",\"2017-06-11T13:00:00\",\"2017-06-11T13:00:00\",\"2017-06-11T13:00:00\",\"2017-06-11T13:00:00\",\"2017-06-11T13:00:00\",\"2017-06-11T13:00:00\",\"2017-06-11T13:00:00\",\"2017-06-11T13:00:00\",\"2017-06-11T14:00:00\",\"2017-06-11T14:00:00\",\"2017-06-11T14:00:00\",\"2017-06-11T14:00:00\",\"2017-06-11T14:00:00\",\"2017-06-11T14:00:00\",\"2017-06-11T14:00:00\",\"2017-06-11T14:00:00\",\"2017-06-11T14:00:00\",\"2017-06-11T14:00:00\",\"2017-06-11T15:00:00\",\"2017-06-11T15:00:00\",\"2017-06-11T15:00:00\",\"2017-06-11T15:00:00\",\"2017-06-11T15:00:00\",\"2017-06-11T15:00:00\",\"2017-06-11T15:00:00\",\"2017-06-11T15:00:00\",\"2017-06-11T15:00:00\",\"2017-06-11T15:00:00\",\"2017-06-11T16:00:00\",\"2017-06-11T16:00:00\",\"2017-06-11T16:00:00\",\"2017-06-11T16:00:00\",\"2017-06-11T16:00:00\",\"2017-06-11T16:00:00\",\"2017-06-11T16:00:00\",\"2017-06-11T16:00:00\",\"2017-06-11T16:00:00\",\"2017-06-11T16:00:00\",\"2017-06-12T08:00:00\",\"2017-06-12T08:00:00\",\"2017-06-12T08:00:00\",\"2017-06-12T08:00:00\",\"2017-06-12T08:00:00\",\"2017-06-12T08:00:00\",\"2017-06-12T08:00:00\",\"2017-06-12T08:00:00\",\"2017-06-12T08:00:00\",\"2017-06-12T08:00:00\",\"2017-06-12T09:00:00\",\"2017-06-12T09:00:00\",\"2017-06-12T09:00:00\",\"2017-06-12T09:00:00\",\"2017-06-12T09:00:00\",\"2017-06-12T09:00:00\",\"2017-06-12T09:00:00\",\"2017-06-12T09:00:00\",\"2017-06-12T09:00:00\",\"2017-06-12T09:00:00\",\"2017-06-12T10:00:00\",\"2017-06-12T10:00:00\",\"2017-06-12T10:00:00\",\"2017-06-12T10:00:00\",\"2017-06-12T10:00:00\",\"2017-06-12T10:00:00\",\"2017-06-12T10:00:00\",\"2017-06-12T10:00:00\",\"2017-06-12T10:00:00\",\"2017-06-12T10:00:00\",\"2017-06-12T11:00:00\",\"2017-06-12T11:00:00\",\"2017-06-12T11:00:00\",\"2017-06-12T11:00:00\",\"2017-06-12T11:00:00\",\"2017-06-12T11:00:00\",\"2017-06-12T11:00:00\",\"2017-06-12T11:00:00\",\"2017-06-12T11:00:00\",\"2017-06-12T11:00:00\",\"2017-06-12T12:00:00\",\"2017-06-12T12:00:00\",\"2017-06-12T12:00:00\",\"2017-06-12T12:00:00\",\"2017-06-12T12:00:00\",\"2017-06-12T12:00:00\",\"2017-06-12T12:00:00\",\"2017-06-12T12:00:00\",\"2017-06-12T12:00:00\",\"2017-06-12T12:00:00\",\"2017-06-12T13:00:00\",\"2017-06-12T13:00:00\",\"2017-06-12T13:00:00\",\"2017-06-12T13:00:00\",\"2017-06-12T13:00:00\",\"2017-06-12T13:00:00\",\"2017-06-12T13:00:00\",\"2017-06-12T13:00:00\",\"2017-06-12T13:00:00\",\"2017-06-12T13:00:00\",\"2017-06-12T14:00:00\",\"2017-06-12T14:00:00\",\"2017-06-12T14:00:00\",\"2017-06-12T14:00:00\",\"2017-06-12T14:00:00\",\"2017-06-12T14:00:00\",\"2017-06-12T14:00:00\",\"2017-06-12T14:00:00\",\"2017-06-12T14:00:00\",\"2017-06-12T14:00:00\",\"2017-06-12T15:00:00\",\"2017-06-12T15:00:00\",\"2017-06-12T15:00:00\",\"2017-06-12T15:00:00\",\"2017-06-12T15:00:00\",\"2017-06-12T15:00:00\",\"2017-06-12T15:00:00\",\"2017-06-12T15:00:00\",\"2017-06-12T15:00:00\",\"2017-06-12T15:00:00\",\"2017-06-12T16:00:00\",\"2017-06-12T16:00:00\",\"2017-06-12T16:00:00\",\"2017-06-12T16:00:00\",\"2017-06-12T16:00:00\",\"2017-06-12T16:00:00\",\"2017-06-12T16:00:00\",\"2017-06-12T16:00:00\",\"2017-06-12T16:00:00\",\"2017-06-12T16:00:00\",\"2017-06-13T08:00:00\",\"2017-06-13T08:00:00\",\"2017-06-13T08:00:00\",\"2017-06-13T08:00:00\",\"2017-06-13T08:00:00\",\"2017-06-13T08:00:00\",\"2017-06-13T08:00:00\",\"2017-06-13T08:00:00\",\"2017-06-13T08:00:00\",\"2017-06-13T08:00:00\",\"2017-06-13T09:00:00\",\"2017-06-13T09:00:00\",\"2017-06-13T09:00:00\",\"2017-06-13T09:00:00\",\"2017-06-13T09:00:00\",\"2017-06-13T09:00:00\",\"2017-06-13T09:00:00\",\"2017-06-13T09:00:00\",\"2017-06-13T09:00:00\",\"2017-06-13T09:00:00\",\"2017-06-13T10:00:00\",\"2017-06-13T10:00:00\",\"2017-06-13T10:00:00\",\"2017-06-13T10:00:00\",\"2017-06-13T10:00:00\",\"2017-06-13T10:00:00\",\"2017-06-13T10:00:00\",\"2017-06-13T10:00:00\",\"2017-06-13T10:00:00\",\"2017-06-13T10:00:00\",\"2017-06-13T11:00:00\",\"2017-06-13T11:00:00\",\"2017-06-13T11:00:00\",\"2017-06-13T11:00:00\",\"2017-06-13T11:00:00\",\"2017-06-13T11:00:00\",\"2017-06-13T11:00:00\",\"2017-06-13T11:00:00\",\"2017-06-13T11:00:00\",\"2017-06-13T11:00:00\",\"2017-06-13T12:00:00\",\"2017-06-13T12:00:00\",\"2017-06-13T12:00:00\",\"2017-06-13T12:00:00\",\"2017-06-13T12:00:00\",\"2017-06-13T12:00:00\",\"2017-06-13T12:00:00\",\"2017-06-13T12:00:00\",\"2017-06-13T12:00:00\",\"2017-06-13T12:00:00\",\"2017-06-13T13:00:00\",\"2017-06-13T13:00:00\",\"2017-06-13T13:00:00\",\"2017-06-13T13:00:00\",\"2017-06-13T13:00:00\",\"2017-06-13T13:00:00\",\"2017-06-13T13:00:00\",\"2017-06-13T13:00:00\",\"2017-06-13T13:00:00\",\"2017-06-13T13:00:00\",\"2017-06-13T14:00:00\",\"2017-06-13T14:00:00\",\"2017-06-13T14:00:00\",\"2017-06-13T14:00:00\",\"2017-06-13T14:00:00\",\"2017-06-13T14:00:00\",\"2017-06-13T14:00:00\",\"2017-06-13T14:00:00\",\"2017-06-13T14:00:00\",\"2017-06-13T14:00:00\",\"2017-06-13T15:00:00\",\"2017-06-13T15:00:00\",\"2017-06-13T15:00:00\",\"2017-06-13T15:00:00\",\"2017-06-13T15:00:00\",\"2017-06-13T15:00:00\",\"2017-06-13T15:00:00\",\"2017-06-13T15:00:00\",\"2017-06-13T15:00:00\",\"2017-06-13T15:00:00\",\"2017-06-13T16:00:00\",\"2017-06-13T16:00:00\",\"2017-06-13T16:00:00\",\"2017-06-13T16:00:00\",\"2017-06-13T16:00:00\",\"2017-06-13T16:00:00\",\"2017-06-13T16:00:00\",\"2017-06-13T16:00:00\",\"2017-06-13T16:00:00\",\"2017-06-13T16:00:00\",\"2017-06-14T08:00:00\",\"2017-06-14T08:00:00\",\"2017-06-14T08:00:00\",\"2017-06-14T08:00:00\",\"2017-06-14T08:00:00\",\"2017-06-14T08:00:00\",\"2017-06-14T08:00:00\",\"2017-06-14T08:00:00\",\"2017-06-14T08:00:00\",\"2017-06-14T08:00:00\",\"2017-06-14T09:00:00\",\"2017-06-14T09:00:00\",\"2017-06-14T09:00:00\",\"2017-06-14T09:00:00\",\"2017-06-14T09:00:00\",\"2017-06-14T09:00:00\",\"2017-06-14T09:00:00\",\"2017-06-14T09:00:00\",\"2017-06-14T09:00:00\",\"2017-06-14T09:00:00\",\"2017-06-14T10:00:00\",\"2017-06-14T10:00:00\",\"2017-06-14T10:00:00\",\"2017-06-14T10:00:00\",\"2017-06-14T10:00:00\",\"2017-06-14T10:00:00\",\"2017-06-14T10:00:00\",\"2017-06-14T10:00:00\",\"2017-06-14T10:00:00\",\"2017-06-14T10:00:00\",\"2017-06-14T11:00:00\",\"2017-06-14T11:00:00\",\"2017-06-14T11:00:00\",\"2017-06-14T11:00:00\",\"2017-06-14T11:00:00\",\"2017-06-14T11:00:00\",\"2017-06-14T11:00:00\",\"2017-06-14T11:00:00\",\"2017-06-14T11:00:00\",\"2017-06-14T11:00:00\",\"2017-06-14T12:00:00\",\"2017-06-14T12:00:00\",\"2017-06-14T12:00:00\",\"2017-06-14T12:00:00\",\"2017-06-14T12:00:00\",\"2017-06-14T12:00:00\",\"2017-06-14T12:00:00\",\"2017-06-14T12:00:00\",\"2017-06-14T12:00:00\",\"2017-06-14T12:00:00\",\"2017-06-14T13:00:00\",\"2017-06-14T13:00:00\",\"2017-06-14T13:00:00\",\"2017-06-14T13:00:00\",\"2017-06-14T13:00:00\",\"2017-06-14T13:00:00\",\"2017-06-14T13:00:00\",\"2017-06-14T13:00:00\",\"2017-06-14T13:00:00\",\"2017-06-14T13:00:00\",\"2017-06-14T14:00:00\",\"2017-06-14T14:00:00\",\"2017-06-14T14:00:00\",\"2017-06-14T14:00:00\",\"2017-06-14T14:00:00\",\"2017-06-14T14:00:00\",\"2017-06-14T14:00:00\",\"2017-06-14T14:00:00\",\"2017-06-14T14:00:00\",\"2017-06-14T14:00:00\",\"2017-06-14T15:00:00\",\"2017-06-14T15:00:00\",\"2017-06-14T15:00:00\",\"2017-06-14T15:00:00\",\"2017-06-14T15:00:00\",\"2017-06-14T15:00:00\",\"2017-06-14T15:00:00\",\"2017-06-14T15:00:00\",\"2017-06-14T15:00:00\",\"2017-06-14T15:00:00\",\"2017-06-14T16:00:00\",\"2017-06-14T16:00:00\",\"2017-06-14T16:00:00\",\"2017-06-14T16:00:00\",\"2017-06-14T16:00:00\",\"2017-06-14T16:00:00\",\"2017-06-14T16:00:00\",\"2017-06-14T16:00:00\",\"2017-06-14T16:00:00\",\"2017-06-14T16:00:00\",\"2017-06-15T08:00:00\",\"2017-06-15T08:00:00\",\"2017-06-15T08:00:00\",\"2017-06-15T08:00:00\",\"2017-06-15T08:00:00\",\"2017-06-15T08:00:00\",\"2017-06-15T08:00:00\",\"2017-06-15T08:00:00\",\"2017-06-15T08:00:00\",\"2017-06-15T08:00:00\",\"2017-06-15T09:00:00\",\"2017-06-15T09:00:00\",\"2017-06-15T09:00:00\",\"2017-06-15T09:00:00\",\"2017-06-15T09:00:00\",\"2017-06-15T09:00:00\",\"2017-06-15T09:00:00\",\"2017-06-15T09:00:00\",\"2017-06-15T09:00:00\",\"2017-06-15T09:00:00\",\"2017-06-15T10:00:00\",\"2017-06-15T10:00:00\",\"2017-06-15T10:00:00\",\"2017-06-15T10:00:00\",\"2017-06-15T10:00:00\",\"2017-06-15T10:00:00\",\"2017-06-15T10:00:00\",\"2017-06-15T10:00:00\",\"2017-06-15T10:00:00\",\"2017-06-15T10:00:00\",\"2017-06-15T11:00:00\",\"2017-06-15T11:00:00\",\"2017-06-15T11:00:00\",\"2017-06-15T11:00:00\",\"2017-06-15T11:00:00\",\"2017-06-15T11:00:00\",\"2017-06-15T11:00:00\",\"2017-06-15T11:00:00\",\"2017-06-15T11:00:00\",\"2017-06-15T11:00:00\",\"2017-06-15T12:00:00\",\"2017-06-15T12:00:00\",\"2017-06-15T12:00:00\",\"2017-06-15T12:00:00\",\"2017-06-15T12:00:00\",\"2017-06-15T12:00:00\",\"2017-06-15T12:00:00\",\"2017-06-15T12:00:00\",\"2017-06-15T12:00:00\",\"2017-06-15T12:00:00\",\"2017-06-15T13:00:00\",\"2017-06-15T13:00:00\",\"2017-06-15T13:00:00\",\"2017-06-15T13:00:00\",\"2017-06-15T13:00:00\",\"2017-06-15T13:00:00\",\"2017-06-15T13:00:00\",\"2017-06-15T13:00:00\",\"2017-06-15T13:00:00\",\"2017-06-15T13:00:00\",\"2017-06-15T14:00:00\",\"2017-06-15T14:00:00\",\"2017-06-15T14:00:00\",\"2017-06-15T14:00:00\",\"2017-06-15T14:00:00\",\"2017-06-15T14:00:00\",\"2017-06-15T14:00:00\",\"2017-06-15T14:00:00\",\"2017-06-15T14:00:00\",\"2017-06-15T14:00:00\",\"2017-06-15T15:00:00\",\"2017-06-15T15:00:00\",\"2017-06-15T15:00:00\",\"2017-06-15T15:00:00\",\"2017-06-15T15:00:00\",\"2017-06-15T15:00:00\",\"2017-06-15T15:00:00\",\"2017-06-15T15:00:00\",\"2017-06-15T15:00:00\",\"2017-06-15T15:00:00\",\"2017-06-15T16:00:00\",\"2017-06-15T16:00:00\",\"2017-06-15T16:00:00\",\"2017-06-15T16:00:00\",\"2017-06-15T16:00:00\",\"2017-06-15T16:00:00\",\"2017-06-15T16:00:00\",\"2017-06-15T16:00:00\",\"2017-06-15T16:00:00\",\"2017-06-15T16:00:00\",\"2017-06-16T08:00:00\",\"2017-06-16T08:00:00\",\"2017-06-16T08:00:00\",\"2017-06-16T08:00:00\",\"2017-06-16T08:00:00\",\"2017-06-16T08:00:00\",\"2017-06-16T08:00:00\",\"2017-06-16T08:00:00\",\"2017-06-16T08:00:00\",\"2017-06-16T08:00:00\",\"2017-06-16T09:00:00\",\"2017-06-16T09:00:00\",\"2017-06-16T09:00:00\",\"2017-06-16T09:00:00\",\"2017-06-16T09:00:00\",\"2017-06-16T09:00:00\",\"2017-06-16T09:00:00\",\"2017-06-16T09:00:00\",\"2017-06-16T09:00:00\",\"2017-06-16T09:00:00\",\"2017-06-16T10:00:00\",\"2017-06-16T10:00:00\",\"2017-06-16T10:00:00\",\"2017-06-16T10:00:00\",\"2017-06-16T10:00:00\",\"2017-06-16T10:00:00\",\"2017-06-16T10:00:00\",\"2017-06-16T10:00:00\",\"2017-06-16T10:00:00\",\"2017-06-16T10:00:00\",\"2017-06-16T11:00:00\",\"2017-06-16T11:00:00\",\"2017-06-16T11:00:00\",\"2017-06-16T11:00:00\",\"2017-06-16T11:00:00\",\"2017-06-16T11:00:00\",\"2017-06-16T11:00:00\",\"2017-06-16T11:00:00\",\"2017-06-16T11:00:00\",\"2017-06-16T11:00:00\",\"2017-06-16T12:00:00\",\"2017-06-16T12:00:00\",\"2017-06-16T12:00:00\",\"2017-06-16T12:00:00\",\"2017-06-16T12:00:00\",\"2017-06-16T12:00:00\",\"2017-06-16T12:00:00\",\"2017-06-16T12:00:00\",\"2017-06-16T12:00:00\",\"2017-06-16T12:00:00\",\"2017-06-16T13:00:00\",\"2017-06-16T13:00:00\",\"2017-06-16T13:00:00\",\"2017-06-16T13:00:00\",\"2017-06-16T13:00:00\",\"2017-06-16T13:00:00\",\"2017-06-16T13:00:00\",\"2017-06-16T13:00:00\",\"2017-06-16T13:00:00\",\"2017-06-16T13:00:00\",\"2017-06-16T14:00:00\",\"2017-06-16T14:00:00\",\"2017-06-16T14:00:00\",\"2017-06-16T14:00:00\",\"2017-06-16T14:00:00\",\"2017-06-16T14:00:00\",\"2017-06-16T14:00:00\",\"2017-06-16T14:00:00\",\"2017-06-16T14:00:00\",\"2017-06-16T14:00:00\",\"2017-06-16T15:00:00\",\"2017-06-16T15:00:00\",\"2017-06-16T15:00:00\",\"2017-06-16T15:00:00\",\"2017-06-16T15:00:00\",\"2017-06-16T15:00:00\",\"2017-06-16T15:00:00\",\"2017-06-16T15:00:00\",\"2017-06-16T15:00:00\",\"2017-06-16T15:00:00\",\"2017-06-16T16:00:00\",\"2017-06-16T16:00:00\",\"2017-06-16T16:00:00\",\"2017-06-16T16:00:00\",\"2017-06-16T16:00:00\",\"2017-06-16T16:00:00\",\"2017-06-16T16:00:00\",\"2017-06-16T16:00:00\",\"2017-06-16T16:00:00\",\"2017-06-16T16:00:00\",\"2017-06-17T08:00:00\",\"2017-06-17T08:00:00\",\"2017-06-17T08:00:00\",\"2017-06-17T08:00:00\",\"2017-06-17T08:00:00\",\"2017-06-17T08:00:00\",\"2017-06-17T08:00:00\",\"2017-06-17T08:00:00\",\"2017-06-17T08:00:00\",\"2017-06-17T08:00:00\",\"2017-06-17T09:00:00\",\"2017-06-17T09:00:00\",\"2017-06-17T09:00:00\",\"2017-06-17T09:00:00\",\"2017-06-17T09:00:00\",\"2017-06-17T09:00:00\",\"2017-06-17T09:00:00\",\"2017-06-17T09:00:00\",\"2017-06-17T09:00:00\",\"2017-06-17T09:00:00\",\"2017-06-17T10:00:00\",\"2017-06-17T10:00:00\",\"2017-06-17T10:00:00\",\"2017-06-17T10:00:00\",\"2017-06-17T10:00:00\",\"2017-06-17T10:00:00\",\"2017-06-17T10:00:00\",\"2017-06-17T10:00:00\",\"2017-06-17T10:00:00\",\"2017-06-17T10:00:00\",\"2017-06-17T11:00:00\",\"2017-06-17T11:00:00\",\"2017-06-17T11:00:00\",\"2017-06-17T11:00:00\",\"2017-06-17T11:00:00\",\"2017-06-17T11:00:00\",\"2017-06-17T11:00:00\",\"2017-06-17T11:00:00\",\"2017-06-17T11:00:00\",\"2017-06-17T11:00:00\",\"2017-06-17T12:00:00\",\"2017-06-17T12:00:00\",\"2017-06-17T12:00:00\",\"2017-06-17T12:00:00\",\"2017-06-17T12:00:00\",\"2017-06-17T12:00:00\",\"2017-06-17T12:00:00\",\"2017-06-17T12:00:00\",\"2017-06-17T12:00:00\",\"2017-06-17T12:00:00\",\"2017-06-17T13:00:00\",\"2017-06-17T13:00:00\",\"2017-06-17T13:00:00\",\"2017-06-17T13:00:00\",\"2017-06-17T13:00:00\",\"2017-06-17T13:00:00\",\"2017-06-17T13:00:00\",\"2017-06-17T13:00:00\",\"2017-06-17T13:00:00\",\"2017-06-17T13:00:00\",\"2017-06-17T14:00:00\",\"2017-06-17T14:00:00\",\"2017-06-17T14:00:00\",\"2017-06-17T14:00:00\",\"2017-06-17T14:00:00\",\"2017-06-17T14:00:00\",\"2017-06-17T14:00:00\",\"2017-06-17T14:00:00\",\"2017-06-17T14:00:00\",\"2017-06-17T14:00:00\",\"2017-06-17T15:00:00\",\"2017-06-17T15:00:00\",\"2017-06-17T15:00:00\",\"2017-06-17T15:00:00\",\"2017-06-17T15:00:00\",\"2017-06-17T15:00:00\",\"2017-06-17T15:00:00\",\"2017-06-17T15:00:00\",\"2017-06-17T15:00:00\",\"2017-06-17T15:00:00\",\"2017-06-17T16:00:00\",\"2017-06-17T16:00:00\",\"2017-06-17T16:00:00\",\"2017-06-17T16:00:00\",\"2017-06-17T16:00:00\",\"2017-06-17T16:00:00\",\"2017-06-17T16:00:00\",\"2017-06-17T16:00:00\",\"2017-06-17T16:00:00\",\"2017-06-17T16:00:00\",\"2017-06-18T08:00:00\",\"2017-06-18T08:00:00\",\"2017-06-18T08:00:00\",\"2017-06-18T08:00:00\",\"2017-06-18T08:00:00\",\"2017-06-18T08:00:00\",\"2017-06-18T08:00:00\",\"2017-06-18T08:00:00\",\"2017-06-18T08:00:00\",\"2017-06-18T08:00:00\",\"2017-06-18T09:00:00\",\"2017-06-18T09:00:00\",\"2017-06-18T09:00:00\",\"2017-06-18T09:00:00\",\"2017-06-18T09:00:00\",\"2017-06-18T09:00:00\",\"2017-06-18T09:00:00\",\"2017-06-18T09:00:00\",\"2017-06-18T09:00:00\",\"2017-06-18T09:00:00\",\"2017-06-18T10:00:00\",\"2017-06-18T10:00:00\",\"2017-06-18T10:00:00\",\"2017-06-18T10:00:00\",\"2017-06-18T10:00:00\",\"2017-06-18T10:00:00\",\"2017-06-18T10:00:00\",\"2017-06-18T10:00:00\",\"2017-06-18T10:00:00\",\"2017-06-18T10:00:00\",\"2017-06-18T11:00:00\",\"2017-06-18T11:00:00\",\"2017-06-18T11:00:00\",\"2017-06-18T11:00:00\",\"2017-06-18T11:00:00\",\"2017-06-18T11:00:00\",\"2017-06-18T11:00:00\",\"2017-06-18T11:00:00\",\"2017-06-18T11:00:00\",\"2017-06-18T11:00:00\",\"2017-06-18T12:00:00\",\"2017-06-18T12:00:00\",\"2017-06-18T12:00:00\",\"2017-06-18T12:00:00\",\"2017-06-18T12:00:00\",\"2017-06-18T12:00:00\",\"2017-06-18T12:00:00\",\"2017-06-18T12:00:00\",\"2017-06-18T12:00:00\",\"2017-06-18T12:00:00\",\"2017-06-18T13:00:00\",\"2017-06-18T13:00:00\",\"2017-06-18T13:00:00\",\"2017-06-18T13:00:00\",\"2017-06-18T13:00:00\",\"2017-06-18T13:00:00\",\"2017-06-18T13:00:00\",\"2017-06-18T13:00:00\",\"2017-06-18T13:00:00\",\"2017-06-18T13:00:00\",\"2017-06-18T14:00:00\",\"2017-06-18T14:00:00\",\"2017-06-18T14:00:00\",\"2017-06-18T14:00:00\",\"2017-06-18T14:00:00\",\"2017-06-18T14:00:00\",\"2017-06-18T14:00:00\",\"2017-06-18T14:00:00\",\"2017-06-18T14:00:00\",\"2017-06-18T14:00:00\",\"2017-06-18T15:00:00\",\"2017-06-18T15:00:00\",\"2017-06-18T15:00:00\",\"2017-06-18T15:00:00\",\"2017-06-18T15:00:00\",\"2017-06-18T15:00:00\",\"2017-06-18T15:00:00\",\"2017-06-18T15:00:00\",\"2017-06-18T15:00:00\",\"2017-06-18T15:00:00\",\"2017-06-18T16:00:00\",\"2017-06-18T16:00:00\",\"2017-06-18T16:00:00\",\"2017-06-18T16:00:00\",\"2017-06-18T16:00:00\",\"2017-06-18T16:00:00\",\"2017-06-18T16:00:00\",\"2017-06-18T16:00:00\",\"2017-06-18T16:00:00\",\"2017-06-18T16:00:00\",\"2017-06-19T08:00:00\",\"2017-06-19T08:00:00\",\"2017-06-19T08:00:00\",\"2017-06-19T08:00:00\",\"2017-06-19T08:00:00\",\"2017-06-19T08:00:00\",\"2017-06-19T08:00:00\",\"2017-06-19T08:00:00\",\"2017-06-19T08:00:00\",\"2017-06-19T08:00:00\",\"2017-06-19T09:00:00\",\"2017-06-19T09:00:00\",\"2017-06-19T09:00:00\",\"2017-06-19T09:00:00\",\"2017-06-19T09:00:00\",\"2017-06-19T09:00:00\",\"2017-06-19T09:00:00\",\"2017-06-19T09:00:00\",\"2017-06-19T09:00:00\",\"2017-06-19T09:00:00\",\"2017-06-19T10:00:00\",\"2017-06-19T10:00:00\",\"2017-06-19T10:00:00\",\"2017-06-19T10:00:00\",\"2017-06-19T10:00:00\",\"2017-06-19T10:00:00\",\"2017-06-19T10:00:00\",\"2017-06-19T10:00:00\",\"2017-06-19T10:00:00\",\"2017-06-19T10:00:00\",\"2017-06-19T11:00:00\",\"2017-06-19T11:00:00\",\"2017-06-19T11:00:00\",\"2017-06-19T11:00:00\",\"2017-06-19T11:00:00\",\"2017-06-19T11:00:00\",\"2017-06-19T11:00:00\",\"2017-06-19T11:00:00\",\"2017-06-19T11:00:00\",\"2017-06-19T11:00:00\",\"2017-06-19T12:00:00\",\"2017-06-19T12:00:00\",\"2017-06-19T12:00:00\",\"2017-06-19T12:00:00\",\"2017-06-19T12:00:00\",\"2017-06-19T12:00:00\",\"2017-06-19T12:00:00\",\"2017-06-19T12:00:00\",\"2017-06-19T12:00:00\",\"2017-06-19T12:00:00\",\"2017-06-19T13:00:00\",\"2017-06-19T13:00:00\",\"2017-06-19T13:00:00\",\"2017-06-19T13:00:00\",\"2017-06-19T13:00:00\",\"2017-06-19T13:00:00\",\"2017-06-19T13:00:00\",\"2017-06-19T13:00:00\",\"2017-06-19T13:00:00\",\"2017-06-19T13:00:00\",\"2017-06-19T14:00:00\",\"2017-06-19T14:00:00\",\"2017-06-19T14:00:00\",\"2017-06-19T14:00:00\",\"2017-06-19T14:00:00\",\"2017-06-19T14:00:00\",\"2017-06-19T14:00:00\",\"2017-06-19T14:00:00\",\"2017-06-19T14:00:00\",\"2017-06-19T14:00:00\",\"2017-06-19T15:00:00\",\"2017-06-19T15:00:00\",\"2017-06-19T15:00:00\",\"2017-06-19T15:00:00\",\"2017-06-19T15:00:00\",\"2017-06-19T15:00:00\",\"2017-06-19T15:00:00\",\"2017-06-19T15:00:00\",\"2017-06-19T15:00:00\",\"2017-06-19T15:00:00\",\"2017-06-19T16:00:00\",\"2017-06-19T16:00:00\",\"2017-06-19T16:00:00\",\"2017-06-19T16:00:00\",\"2017-06-19T16:00:00\",\"2017-06-19T16:00:00\",\"2017-06-19T16:00:00\",\"2017-06-19T16:00:00\",\"2017-06-19T16:00:00\",\"2017-06-19T16:00:00\",\"2017-06-22T08:00:00\",\"2017-06-22T08:00:00\",\"2017-06-22T08:00:00\",\"2017-06-22T08:00:00\",\"2017-06-22T08:00:00\",\"2017-06-22T08:00:00\",\"2017-06-22T08:00:00\",\"2017-06-22T08:00:00\",\"2017-06-22T08:00:00\",\"2017-06-22T08:00:00\",\"2017-06-22T09:00:00\",\"2017-06-22T09:00:00\",\"2017-06-22T09:00:00\",\"2017-06-22T09:00:00\",\"2017-06-22T09:00:00\",\"2017-06-22T09:00:00\",\"2017-06-22T09:00:00\",\"2017-06-22T09:00:00\",\"2017-06-22T09:00:00\",\"2017-06-22T09:00:00\",\"2017-06-22T10:00:00\",\"2017-06-22T10:00:00\",\"2017-06-22T10:00:00\",\"2017-06-22T10:00:00\",\"2017-06-22T10:00:00\",\"2017-06-22T10:00:00\",\"2017-06-22T10:00:00\",\"2017-06-22T10:00:00\",\"2017-06-22T10:00:00\",\"2017-06-22T10:00:00\",\"2017-06-22T11:00:00\",\"2017-06-22T11:00:00\",\"2017-06-22T11:00:00\",\"2017-06-22T11:00:00\",\"2017-06-22T11:00:00\",\"2017-06-22T11:00:00\",\"2017-06-22T11:00:00\",\"2017-06-22T11:00:00\",\"2017-06-22T11:00:00\",\"2017-06-22T11:00:00\",\"2017-06-22T12:00:00\",\"2017-06-22T12:00:00\",\"2017-06-22T12:00:00\",\"2017-06-22T12:00:00\",\"2017-06-22T12:00:00\",\"2017-06-22T12:00:00\",\"2017-06-22T12:00:00\",\"2017-06-22T12:00:00\",\"2017-06-22T12:00:00\",\"2017-06-22T12:00:00\",\"2017-06-22T13:00:00\",\"2017-06-22T13:00:00\",\"2017-06-22T13:00:00\",\"2017-06-22T13:00:00\",\"2017-06-22T13:00:00\",\"2017-06-22T13:00:00\",\"2017-06-22T13:00:00\",\"2017-06-22T13:00:00\",\"2017-06-22T13:00:00\",\"2017-06-22T13:00:00\",\"2017-06-22T14:00:00\",\"2017-06-22T14:00:00\",\"2017-06-22T14:00:00\",\"2017-06-22T14:00:00\",\"2017-06-22T14:00:00\",\"2017-06-22T14:00:00\",\"2017-06-22T14:00:00\",\"2017-06-22T14:00:00\",\"2017-06-22T14:00:00\",\"2017-06-22T14:00:00\",\"2017-06-22T15:00:00\",\"2017-06-22T15:00:00\",\"2017-06-22T15:00:00\",\"2017-06-22T15:00:00\",\"2017-06-22T15:00:00\",\"2017-06-22T15:00:00\",\"2017-06-22T15:00:00\",\"2017-06-22T15:00:00\",\"2017-06-22T15:00:00\",\"2017-06-22T15:00:00\",\"2017-06-22T16:00:00\",\"2017-06-22T16:00:00\",\"2017-06-22T16:00:00\",\"2017-06-22T16:00:00\",\"2017-06-22T16:00:00\",\"2017-06-22T16:00:00\",\"2017-06-22T16:00:00\",\"2017-06-22T16:00:00\",\"2017-06-22T16:00:00\",\"2017-06-22T16:00:00\",\"2017-06-23T08:00:00\",\"2017-06-23T08:00:00\",\"2017-06-23T08:00:00\",\"2017-06-23T08:00:00\",\"2017-06-23T08:00:00\",\"2017-06-23T08:00:00\",\"2017-06-23T08:00:00\",\"2017-06-23T08:00:00\",\"2017-06-23T08:00:00\",\"2017-06-23T08:00:00\",\"2017-06-23T09:00:00\",\"2017-06-23T09:00:00\",\"2017-06-23T09:00:00\",\"2017-06-23T09:00:00\",\"2017-06-23T09:00:00\",\"2017-06-23T09:00:00\",\"2017-06-23T09:00:00\",\"2017-06-23T09:00:00\",\"2017-06-23T09:00:00\",\"2017-06-23T09:00:00\",\"2017-06-23T10:00:00\",\"2017-06-23T10:00:00\",\"2017-06-23T10:00:00\",\"2017-06-23T10:00:00\",\"2017-06-23T10:00:00\",\"2017-06-23T10:00:00\",\"2017-06-23T10:00:00\",\"2017-06-23T10:00:00\",\"2017-06-23T10:00:00\",\"2017-06-23T10:00:00\",\"2017-06-23T11:00:00\",\"2017-06-23T11:00:00\",\"2017-06-23T11:00:00\",\"2017-06-23T11:00:00\",\"2017-06-23T11:00:00\",\"2017-06-23T11:00:00\",\"2017-06-23T11:00:00\",\"2017-06-23T11:00:00\",\"2017-06-23T11:00:00\",\"2017-06-23T11:00:00\",\"2017-06-23T12:00:00\",\"2017-06-23T12:00:00\",\"2017-06-23T12:00:00\",\"2017-06-23T12:00:00\",\"2017-06-23T12:00:00\",\"2017-06-23T12:00:00\",\"2017-06-23T12:00:00\",\"2017-06-23T12:00:00\",\"2017-06-23T12:00:00\",\"2017-06-23T12:00:00\",\"2017-06-23T13:00:00\",\"2017-06-23T13:00:00\",\"2017-06-23T13:00:00\",\"2017-06-23T13:00:00\",\"2017-06-23T13:00:00\",\"2017-06-23T13:00:00\",\"2017-06-23T13:00:00\",\"2017-06-23T13:00:00\",\"2017-06-23T13:00:00\",\"2017-06-23T13:00:00\",\"2017-06-23T14:00:00\",\"2017-06-23T14:00:00\",\"2017-06-23T14:00:00\",\"2017-06-23T14:00:00\",\"2017-06-23T14:00:00\",\"2017-06-23T14:00:00\",\"2017-06-23T14:00:00\",\"2017-06-23T14:00:00\",\"2017-06-23T14:00:00\",\"2017-06-23T14:00:00\",\"2017-06-23T15:00:00\",\"2017-06-23T15:00:00\",\"2017-06-23T15:00:00\",\"2017-06-23T15:00:00\",\"2017-06-23T15:00:00\",\"2017-06-23T15:00:00\",\"2017-06-23T15:00:00\",\"2017-06-23T15:00:00\",\"2017-06-23T15:00:00\",\"2017-06-23T15:00:00\",\"2017-06-23T16:00:00\",\"2017-06-23T16:00:00\",\"2017-06-23T16:00:00\",\"2017-06-23T16:00:00\",\"2017-06-23T16:00:00\",\"2017-06-23T16:00:00\",\"2017-06-23T16:00:00\",\"2017-06-23T16:00:00\",\"2017-06-23T16:00:00\",\"2017-06-23T16:00:00\",\"2017-06-24T08:00:00\",\"2017-06-24T08:00:00\",\"2017-06-24T08:00:00\",\"2017-06-24T08:00:00\",\"2017-06-24T08:00:00\",\"2017-06-24T08:00:00\",\"2017-06-24T08:00:00\",\"2017-06-24T08:00:00\",\"2017-06-24T08:00:00\",\"2017-06-24T08:00:00\",\"2017-06-24T09:00:00\",\"2017-06-24T09:00:00\",\"2017-06-24T09:00:00\",\"2017-06-24T09:00:00\",\"2017-06-24T09:00:00\",\"2017-06-24T09:00:00\",\"2017-06-24T09:00:00\",\"2017-06-24T09:00:00\",\"2017-06-24T09:00:00\",\"2017-06-24T09:00:00\",\"2017-06-24T10:00:00\",\"2017-06-24T10:00:00\",\"2017-06-24T10:00:00\",\"2017-06-24T10:00:00\",\"2017-06-24T10:00:00\",\"2017-06-24T10:00:00\",\"2017-06-24T10:00:00\",\"2017-06-24T10:00:00\",\"2017-06-24T10:00:00\",\"2017-06-24T10:00:00\",\"2017-06-24T11:00:00\",\"2017-06-24T11:00:00\",\"2017-06-24T11:00:00\",\"2017-06-24T11:00:00\",\"2017-06-24T11:00:00\",\"2017-06-24T11:00:00\",\"2017-06-24T11:00:00\",\"2017-06-24T11:00:00\",\"2017-06-24T11:00:00\",\"2017-06-24T11:00:00\",\"2017-06-24T12:00:00\",\"2017-06-24T12:00:00\",\"2017-06-24T12:00:00\",\"2017-06-24T12:00:00\",\"2017-06-24T12:00:00\",\"2017-06-24T12:00:00\",\"2017-06-24T12:00:00\",\"2017-06-24T12:00:00\",\"2017-06-24T12:00:00\",\"2017-06-24T12:00:00\",\"2017-06-24T13:00:00\",\"2017-06-24T13:00:00\",\"2017-06-24T13:00:00\",\"2017-06-24T13:00:00\",\"2017-06-24T13:00:00\",\"2017-06-24T13:00:00\",\"2017-06-24T13:00:00\",\"2017-06-24T13:00:00\",\"2017-06-24T13:00:00\",\"2017-06-24T13:00:00\",\"2017-06-24T14:00:00\",\"2017-06-24T14:00:00\",\"2017-06-24T14:00:00\",\"2017-06-24T14:00:00\",\"2017-06-24T14:00:00\",\"2017-06-24T14:00:00\",\"2017-06-24T14:00:00\",\"2017-06-24T14:00:00\",\"2017-06-24T14:00:00\",\"2017-06-24T14:00:00\",\"2017-06-24T15:00:00\",\"2017-06-24T15:00:00\",\"2017-06-24T15:00:00\",\"2017-06-24T15:00:00\",\"2017-06-24T15:00:00\",\"2017-06-24T15:00:00\",\"2017-06-24T15:00:00\",\"2017-06-24T15:00:00\",\"2017-06-24T15:00:00\",\"2017-06-24T15:00:00\",\"2017-06-24T16:00:00\",\"2017-06-24T16:00:00\",\"2017-06-24T16:00:00\",\"2017-06-24T16:00:00\",\"2017-06-24T16:00:00\",\"2017-06-24T16:00:00\",\"2017-06-24T16:00:00\",\"2017-06-24T16:00:00\",\"2017-06-24T16:00:00\",\"2017-06-24T16:00:00\",\"2017-06-25T08:00:00\",\"2017-06-25T08:00:00\",\"2017-06-25T08:00:00\",\"2017-06-25T08:00:00\",\"2017-06-25T08:00:00\",\"2017-06-25T08:00:00\",\"2017-06-25T08:00:00\",\"2017-06-25T08:00:00\",\"2017-06-25T08:00:00\",\"2017-06-25T08:00:00\",\"2017-06-25T09:00:00\",\"2017-06-25T09:00:00\",\"2017-06-25T09:00:00\",\"2017-06-25T09:00:00\",\"2017-06-25T09:00:00\",\"2017-06-25T09:00:00\",\"2017-06-25T09:00:00\",\"2017-06-25T09:00:00\",\"2017-06-25T09:00:00\",\"2017-06-25T09:00:00\",\"2017-06-25T10:00:00\",\"2017-06-25T10:00:00\",\"2017-06-25T10:00:00\",\"2017-06-25T10:00:00\",\"2017-06-25T10:00:00\",\"2017-06-25T10:00:00\",\"2017-06-25T10:00:00\",\"2017-06-25T10:00:00\",\"2017-06-25T10:00:00\",\"2017-06-25T10:00:00\",\"2017-06-25T11:00:00\",\"2017-06-25T11:00:00\",\"2017-06-25T11:00:00\",\"2017-06-25T11:00:00\",\"2017-06-25T11:00:00\",\"2017-06-25T11:00:00\",\"2017-06-25T11:00:00\",\"2017-06-25T11:00:00\",\"2017-06-25T11:00:00\",\"2017-06-25T11:00:00\",\"2017-06-25T12:00:00\",\"2017-06-25T12:00:00\",\"2017-06-25T12:00:00\",\"2017-06-25T12:00:00\",\"2017-06-25T12:00:00\",\"2017-06-25T12:00:00\",\"2017-06-25T12:00:00\",\"2017-06-25T12:00:00\",\"2017-06-25T12:00:00\",\"2017-06-25T12:00:00\",\"2017-06-25T13:00:00\",\"2017-06-25T13:00:00\",\"2017-06-25T13:00:00\",\"2017-06-25T13:00:00\",\"2017-06-25T13:00:00\",\"2017-06-25T13:00:00\",\"2017-06-25T13:00:00\",\"2017-06-25T13:00:00\",\"2017-06-25T13:00:00\",\"2017-06-25T13:00:00\",\"2017-06-25T14:00:00\",\"2017-06-25T14:00:00\",\"2017-06-25T14:00:00\",\"2017-06-25T14:00:00\",\"2017-06-25T14:00:00\",\"2017-06-25T14:00:00\",\"2017-06-25T14:00:00\",\"2017-06-25T14:00:00\",\"2017-06-25T14:00:00\",\"2017-06-25T14:00:00\",\"2017-06-25T15:00:00\",\"2017-06-25T15:00:00\",\"2017-06-25T15:00:00\",\"2017-06-25T15:00:00\",\"2017-06-25T15:00:00\",\"2017-06-25T15:00:00\",\"2017-06-25T15:00:00\",\"2017-06-25T15:00:00\",\"2017-06-25T15:00:00\",\"2017-06-25T15:00:00\",\"2017-06-25T16:00:00\",\"2017-06-25T16:00:00\",\"2017-06-25T16:00:00\",\"2017-06-25T16:00:00\",\"2017-06-25T16:00:00\",\"2017-06-25T16:00:00\",\"2017-06-25T16:00:00\",\"2017-06-25T16:00:00\",\"2017-06-25T16:00:00\",\"2017-06-25T16:00:00\",\"2017-06-26T08:00:00\",\"2017-06-26T08:00:00\",\"2017-06-26T08:00:00\",\"2017-06-26T08:00:00\",\"2017-06-26T08:00:00\",\"2017-06-26T08:00:00\",\"2017-06-26T08:00:00\",\"2017-06-26T08:00:00\",\"2017-06-26T08:00:00\",\"2017-06-26T08:00:00\",\"2017-06-26T09:00:00\",\"2017-06-26T09:00:00\",\"2017-06-26T09:00:00\",\"2017-06-26T09:00:00\",\"2017-06-26T09:00:00\",\"2017-06-26T09:00:00\",\"2017-06-26T09:00:00\",\"2017-06-26T09:00:00\",\"2017-06-26T09:00:00\",\"2017-06-26T09:00:00\",\"2017-06-26T10:00:00\",\"2017-06-26T10:00:00\",\"2017-06-26T10:00:00\",\"2017-06-26T10:00:00\",\"2017-06-26T10:00:00\",\"2017-06-26T10:00:00\",\"2017-06-26T10:00:00\",\"2017-06-26T10:00:00\",\"2017-06-26T10:00:00\",\"2017-06-26T10:00:00\",\"2017-06-26T11:00:00\",\"2017-06-26T11:00:00\",\"2017-06-26T11:00:00\",\"2017-06-26T11:00:00\",\"2017-06-26T11:00:00\",\"2017-06-26T11:00:00\",\"2017-06-26T11:00:00\",\"2017-06-26T11:00:00\",\"2017-06-26T11:00:00\",\"2017-06-26T11:00:00\",\"2017-06-26T12:00:00\",\"2017-06-26T12:00:00\",\"2017-06-26T12:00:00\",\"2017-06-26T12:00:00\",\"2017-06-26T12:00:00\",\"2017-06-26T12:00:00\",\"2017-06-26T12:00:00\",\"2017-06-26T12:00:00\",\"2017-06-26T12:00:00\",\"2017-06-26T12:00:00\",\"2017-06-26T13:00:00\",\"2017-06-26T13:00:00\",\"2017-06-26T13:00:00\",\"2017-06-26T13:00:00\",\"2017-06-26T13:00:00\",\"2017-06-26T13:00:00\",\"2017-06-26T13:00:00\",\"2017-06-26T13:00:00\",\"2017-06-26T13:00:00\",\"2017-06-26T13:00:00\",\"2017-06-26T14:00:00\",\"2017-06-26T14:00:00\",\"2017-06-26T14:00:00\",\"2017-06-26T14:00:00\",\"2017-06-26T14:00:00\",\"2017-06-26T14:00:00\",\"2017-06-26T14:00:00\",\"2017-06-26T14:00:00\",\"2017-06-26T14:00:00\",\"2017-06-26T14:00:00\",\"2017-06-26T15:00:00\",\"2017-06-26T15:00:00\",\"2017-06-26T15:00:00\",\"2017-06-26T15:00:00\",\"2017-06-26T15:00:00\",\"2017-06-26T15:00:00\",\"2017-06-26T15:00:00\",\"2017-06-26T15:00:00\",\"2017-06-26T15:00:00\",\"2017-06-26T15:00:00\",\"2017-06-26T16:00:00\",\"2017-06-26T16:00:00\",\"2017-06-26T16:00:00\",\"2017-06-26T16:00:00\",\"2017-06-26T16:00:00\",\"2017-06-26T16:00:00\",\"2017-06-26T16:00:00\",\"2017-06-26T16:00:00\",\"2017-06-26T16:00:00\",\"2017-06-26T16:00:00\",\"2017-06-27T08:00:00\",\"2017-06-27T08:00:00\",\"2017-06-27T08:00:00\",\"2017-06-27T08:00:00\",\"2017-06-27T08:00:00\",\"2017-06-27T08:00:00\",\"2017-06-27T08:00:00\",\"2017-06-27T08:00:00\",\"2017-06-27T08:00:00\",\"2017-06-27T08:00:00\",\"2017-06-27T09:00:00\",\"2017-06-27T09:00:00\",\"2017-06-27T09:00:00\",\"2017-06-27T09:00:00\",\"2017-06-27T09:00:00\",\"2017-06-27T09:00:00\",\"2017-06-27T09:00:00\",\"2017-06-27T09:00:00\",\"2017-06-27T09:00:00\",\"2017-06-27T09:00:00\",\"2017-06-27T10:00:00\",\"2017-06-27T10:00:00\",\"2017-06-27T10:00:00\",\"2017-06-27T10:00:00\",\"2017-06-27T10:00:00\",\"2017-06-27T10:00:00\",\"2017-06-27T10:00:00\",\"2017-06-27T10:00:00\",\"2017-06-27T10:00:00\",\"2017-06-27T10:00:00\",\"2017-06-27T11:00:00\",\"2017-06-27T11:00:00\",\"2017-06-27T11:00:00\",\"2017-06-27T11:00:00\",\"2017-06-27T11:00:00\",\"2017-06-27T11:00:00\",\"2017-06-27T11:00:00\",\"2017-06-27T11:00:00\",\"2017-06-27T11:00:00\",\"2017-06-27T11:00:00\",\"2017-06-27T12:00:00\",\"2017-06-27T12:00:00\",\"2017-06-27T12:00:00\",\"2017-06-27T12:00:00\",\"2017-06-27T12:00:00\",\"2017-06-27T12:00:00\",\"2017-06-27T12:00:00\",\"2017-06-27T12:00:00\",\"2017-06-27T12:00:00\",\"2017-06-27T12:00:00\",\"2017-06-27T13:00:00\",\"2017-06-27T13:00:00\",\"2017-06-27T13:00:00\",\"2017-06-27T13:00:00\",\"2017-06-27T13:00:00\",\"2017-06-27T13:00:00\",\"2017-06-27T13:00:00\",\"2017-06-27T13:00:00\",\"2017-06-27T13:00:00\",\"2017-06-27T13:00:00\",\"2017-06-27T14:00:00\",\"2017-06-27T14:00:00\",\"2017-06-27T14:00:00\",\"2017-06-27T14:00:00\",\"2017-06-27T14:00:00\",\"2017-06-27T14:00:00\",\"2017-06-27T14:00:00\",\"2017-06-27T14:00:00\",\"2017-06-27T14:00:00\",\"2017-06-27T14:00:00\",\"2017-06-27T15:00:00\",\"2017-06-27T15:00:00\",\"2017-06-27T15:00:00\",\"2017-06-27T15:00:00\",\"2017-06-27T15:00:00\",\"2017-06-27T15:00:00\",\"2017-06-27T15:00:00\",\"2017-06-27T15:00:00\",\"2017-06-27T15:00:00\",\"2017-06-27T15:00:00\",\"2017-06-27T16:00:00\",\"2017-06-27T16:00:00\",\"2017-06-27T16:00:00\",\"2017-06-27T16:00:00\",\"2017-06-27T16:00:00\",\"2017-06-27T16:00:00\",\"2017-06-27T16:00:00\",\"2017-06-27T16:00:00\",\"2017-06-27T16:00:00\",\"2017-06-27T16:00:00\",\"2017-06-28T08:00:00\",\"2017-06-28T08:00:00\",\"2017-06-28T08:00:00\",\"2017-06-28T08:00:00\",\"2017-06-28T08:00:00\",\"2017-06-28T08:00:00\",\"2017-06-28T08:00:00\",\"2017-06-28T08:00:00\",\"2017-06-28T08:00:00\",\"2017-06-28T08:00:00\",\"2017-06-28T09:00:00\",\"2017-06-28T09:00:00\",\"2017-06-28T09:00:00\",\"2017-06-28T09:00:00\",\"2017-06-28T09:00:00\",\"2017-06-28T09:00:00\",\"2017-06-28T09:00:00\",\"2017-06-28T09:00:00\",\"2017-06-28T09:00:00\",\"2017-06-28T09:00:00\",\"2017-06-28T10:00:00\",\"2017-06-28T10:00:00\",\"2017-06-28T10:00:00\",\"2017-06-28T10:00:00\",\"2017-06-28T10:00:00\",\"2017-06-28T10:00:00\",\"2017-06-28T10:00:00\",\"2017-06-28T10:00:00\",\"2017-06-28T10:00:00\",\"2017-06-28T10:00:00\",\"2017-06-28T11:00:00\",\"2017-06-28T11:00:00\",\"2017-06-28T11:00:00\",\"2017-06-28T11:00:00\",\"2017-06-28T11:00:00\",\"2017-06-28T11:00:00\",\"2017-06-28T11:00:00\",\"2017-06-28T11:00:00\",\"2017-06-28T11:00:00\",\"2017-06-28T11:00:00\",\"2017-06-28T12:00:00\",\"2017-06-28T12:00:00\",\"2017-06-28T12:00:00\",\"2017-06-28T12:00:00\",\"2017-06-28T12:00:00\",\"2017-06-28T12:00:00\",\"2017-06-28T12:00:00\",\"2017-06-28T12:00:00\",\"2017-06-28T12:00:00\",\"2017-06-28T12:00:00\",\"2017-06-28T13:00:00\",\"2017-06-28T13:00:00\",\"2017-06-28T13:00:00\",\"2017-06-28T13:00:00\",\"2017-06-28T13:00:00\",\"2017-06-28T13:00:00\",\"2017-06-28T13:00:00\",\"2017-06-28T13:00:00\",\"2017-06-28T13:00:00\",\"2017-06-28T13:00:00\",\"2017-06-28T14:00:00\",\"2017-06-28T14:00:00\",\"2017-06-28T14:00:00\",\"2017-06-28T14:00:00\",\"2017-06-28T14:00:00\",\"2017-06-28T14:00:00\",\"2017-06-28T14:00:00\",\"2017-06-28T14:00:00\",\"2017-06-28T14:00:00\",\"2017-06-28T14:00:00\",\"2017-06-28T15:00:00\",\"2017-06-28T15:00:00\",\"2017-06-28T15:00:00\",\"2017-06-28T15:00:00\",\"2017-06-28T15:00:00\",\"2017-06-28T15:00:00\",\"2017-06-28T15:00:00\",\"2017-06-28T15:00:00\",\"2017-06-28T15:00:00\",\"2017-06-28T15:00:00\",\"2017-06-28T16:00:00\",\"2017-06-28T16:00:00\",\"2017-06-28T16:00:00\",\"2017-06-28T16:00:00\",\"2017-06-28T16:00:00\",\"2017-06-28T16:00:00\",\"2017-06-28T16:00:00\",\"2017-06-28T16:00:00\",\"2017-06-28T16:00:00\",\"2017-06-28T16:00:00\",\"2017-06-29T08:00:00\",\"2017-06-29T08:00:00\",\"2017-06-29T08:00:00\",\"2017-06-29T08:00:00\",\"2017-06-29T08:00:00\",\"2017-06-29T08:00:00\",\"2017-06-29T08:00:00\",\"2017-06-29T08:00:00\",\"2017-06-29T08:00:00\",\"2017-06-29T08:00:00\",\"2017-06-29T09:00:00\",\"2017-06-29T09:00:00\",\"2017-06-29T09:00:00\",\"2017-06-29T09:00:00\",\"2017-06-29T09:00:00\",\"2017-06-29T09:00:00\",\"2017-06-29T09:00:00\",\"2017-06-29T09:00:00\",\"2017-06-29T09:00:00\",\"2017-06-29T09:00:00\",\"2017-06-29T10:00:00\",\"2017-06-29T10:00:00\",\"2017-06-29T10:00:00\",\"2017-06-29T10:00:00\",\"2017-06-29T10:00:00\",\"2017-06-29T10:00:00\",\"2017-06-29T10:00:00\",\"2017-06-29T10:00:00\",\"2017-06-29T10:00:00\",\"2017-06-29T10:00:00\",\"2017-06-29T11:00:00\",\"2017-06-29T11:00:00\",\"2017-06-29T11:00:00\",\"2017-06-29T11:00:00\",\"2017-06-29T11:00:00\",\"2017-06-29T11:00:00\",\"2017-06-29T11:00:00\",\"2017-06-29T11:00:00\",\"2017-06-29T11:00:00\",\"2017-06-29T11:00:00\",\"2017-06-29T12:00:00\",\"2017-06-29T12:00:00\",\"2017-06-29T12:00:00\",\"2017-06-29T12:00:00\",\"2017-06-29T12:00:00\",\"2017-06-29T12:00:00\",\"2017-06-29T12:00:00\",\"2017-06-29T12:00:00\",\"2017-06-29T12:00:00\",\"2017-06-29T12:00:00\",\"2017-06-29T13:00:00\",\"2017-06-29T13:00:00\",\"2017-06-29T13:00:00\",\"2017-06-29T13:00:00\",\"2017-06-29T13:00:00\",\"2017-06-29T13:00:00\",\"2017-06-29T13:00:00\",\"2017-06-29T13:00:00\",\"2017-06-29T13:00:00\",\"2017-06-29T13:00:00\",\"2017-06-29T14:00:00\",\"2017-06-29T14:00:00\",\"2017-06-29T14:00:00\",\"2017-06-29T14:00:00\",\"2017-06-29T14:00:00\",\"2017-06-29T14:00:00\",\"2017-06-29T14:00:00\",\"2017-06-29T14:00:00\",\"2017-06-29T14:00:00\",\"2017-06-29T14:00:00\",\"2017-06-29T15:00:00\",\"2017-06-29T15:00:00\",\"2017-06-29T15:00:00\",\"2017-06-29T15:00:00\",\"2017-06-29T15:00:00\",\"2017-06-29T15:00:00\",\"2017-06-29T15:00:00\",\"2017-06-29T15:00:00\",\"2017-06-29T15:00:00\",\"2017-06-29T15:00:00\",\"2017-06-29T16:00:00\",\"2017-06-29T16:00:00\",\"2017-06-29T16:00:00\",\"2017-06-29T16:00:00\",\"2017-06-29T16:00:00\",\"2017-06-29T16:00:00\",\"2017-06-29T16:00:00\",\"2017-06-29T16:00:00\",\"2017-06-29T16:00:00\",\"2017-06-29T16:00:00\",\"2017-06-30T08:00:00\",\"2017-06-30T08:00:00\",\"2017-06-30T08:00:00\",\"2017-06-30T08:00:00\",\"2017-06-30T08:00:00\",\"2017-06-30T08:00:00\",\"2017-06-30T08:00:00\",\"2017-06-30T08:00:00\",\"2017-06-30T08:00:00\",\"2017-06-30T08:00:00\",\"2017-06-30T09:00:00\",\"2017-06-30T09:00:00\",\"2017-06-30T09:00:00\",\"2017-06-30T09:00:00\",\"2017-06-30T09:00:00\",\"2017-06-30T09:00:00\",\"2017-06-30T09:00:00\",\"2017-06-30T09:00:00\",\"2017-06-30T09:00:00\",\"2017-06-30T09:00:00\",\"2017-06-30T10:00:00\",\"2017-06-30T10:00:00\",\"2017-06-30T10:00:00\",\"2017-06-30T10:00:00\",\"2017-06-30T10:00:00\",\"2017-06-30T10:00:00\",\"2017-06-30T10:00:00\",\"2017-06-30T10:00:00\",\"2017-06-30T10:00:00\",\"2017-06-30T10:00:00\",\"2017-06-30T11:00:00\",\"2017-06-30T11:00:00\",\"2017-06-30T11:00:00\",\"2017-06-30T11:00:00\",\"2017-06-30T11:00:00\",\"2017-06-30T11:00:00\",\"2017-06-30T11:00:00\",\"2017-06-30T11:00:00\",\"2017-06-30T11:00:00\",\"2017-06-30T11:00:00\",\"2017-06-30T12:00:00\",\"2017-06-30T12:00:00\",\"2017-06-30T12:00:00\",\"2017-06-30T12:00:00\",\"2017-06-30T12:00:00\",\"2017-06-30T12:00:00\",\"2017-06-30T12:00:00\",\"2017-06-30T12:00:00\",\"2017-06-30T12:00:00\",\"2017-06-30T12:00:00\",\"2017-06-30T13:00:00\",\"2017-06-30T13:00:00\",\"2017-06-30T13:00:00\",\"2017-06-30T13:00:00\",\"2017-06-30T13:00:00\",\"2017-06-30T13:00:00\",\"2017-06-30T13:00:00\",\"2017-06-30T13:00:00\",\"2017-06-30T13:00:00\",\"2017-06-30T13:00:00\",\"2017-06-30T14:00:00\",\"2017-06-30T14:00:00\",\"2017-06-30T14:00:00\",\"2017-06-30T14:00:00\",\"2017-06-30T14:00:00\",\"2017-06-30T14:00:00\",\"2017-06-30T14:00:00\",\"2017-06-30T14:00:00\",\"2017-06-30T14:00:00\",\"2017-06-30T14:00:00\",\"2017-06-30T15:00:00\",\"2017-06-30T15:00:00\",\"2017-06-30T15:00:00\",\"2017-06-30T15:00:00\",\"2017-06-30T15:00:00\",\"2017-06-30T15:00:00\",\"2017-06-30T15:00:00\",\"2017-06-30T15:00:00\",\"2017-06-30T15:00:00\",\"2017-06-30T15:00:00\",\"2017-06-30T16:00:00\",\"2017-06-30T16:00:00\",\"2017-06-30T16:00:00\",\"2017-06-30T16:00:00\",\"2017-06-30T16:00:00\",\"2017-06-30T16:00:00\",\"2017-06-30T16:00:00\",\"2017-06-30T16:00:00\",\"2017-06-30T16:00:00\",\"2017-06-30T16:00:00\",\"2017-07-01T08:00:00\",\"2017-07-01T08:00:00\",\"2017-07-01T08:00:00\",\"2017-07-01T08:00:00\",\"2017-07-01T08:00:00\",\"2017-07-01T08:00:00\",\"2017-07-01T08:00:00\",\"2017-07-01T08:00:00\",\"2017-07-01T08:00:00\",\"2017-07-01T08:00:00\",\"2017-07-01T09:00:00\",\"2017-07-01T09:00:00\",\"2017-07-01T09:00:00\",\"2017-07-01T09:00:00\",\"2017-07-01T09:00:00\",\"2017-07-01T09:00:00\",\"2017-07-01T09:00:00\",\"2017-07-01T09:00:00\",\"2017-07-01T09:00:00\",\"2017-07-01T09:00:00\",\"2017-07-01T10:00:00\",\"2017-07-01T10:00:00\",\"2017-07-01T10:00:00\",\"2017-07-01T10:00:00\",\"2017-07-01T10:00:00\",\"2017-07-01T10:00:00\",\"2017-07-01T10:00:00\",\"2017-07-01T10:00:00\",\"2017-07-01T10:00:00\",\"2017-07-01T10:00:00\",\"2017-07-01T11:00:00\",\"2017-07-01T11:00:00\",\"2017-07-01T11:00:00\",\"2017-07-01T11:00:00\",\"2017-07-01T11:00:00\",\"2017-07-01T11:00:00\",\"2017-07-01T11:00:00\",\"2017-07-01T11:00:00\",\"2017-07-01T11:00:00\",\"2017-07-01T11:00:00\",\"2017-07-01T12:00:00\",\"2017-07-01T12:00:00\",\"2017-07-01T12:00:00\",\"2017-07-01T12:00:00\",\"2017-07-01T12:00:00\",\"2017-07-01T12:00:00\",\"2017-07-01T12:00:00\",\"2017-07-01T12:00:00\",\"2017-07-01T12:00:00\",\"2017-07-01T12:00:00\",\"2017-07-01T13:00:00\",\"2017-07-01T13:00:00\",\"2017-07-01T13:00:00\",\"2017-07-01T13:00:00\",\"2017-07-01T13:00:00\",\"2017-07-01T13:00:00\",\"2017-07-01T13:00:00\",\"2017-07-01T13:00:00\",\"2017-07-01T13:00:00\",\"2017-07-01T13:00:00\",\"2017-07-01T14:00:00\",\"2017-07-01T14:00:00\",\"2017-07-01T14:00:00\",\"2017-07-01T14:00:00\",\"2017-07-01T14:00:00\",\"2017-07-01T14:00:00\",\"2017-07-01T14:00:00\",\"2017-07-01T14:00:00\",\"2017-07-01T14:00:00\",\"2017-07-01T14:00:00\",\"2017-07-01T15:00:00\",\"2017-07-01T15:00:00\",\"2017-07-01T15:00:00\",\"2017-07-01T15:00:00\",\"2017-07-01T15:00:00\",\"2017-07-01T15:00:00\",\"2017-07-01T15:00:00\",\"2017-07-01T15:00:00\",\"2017-07-01T15:00:00\",\"2017-07-01T15:00:00\",\"2017-07-01T16:00:00\",\"2017-07-01T16:00:00\",\"2017-07-01T16:00:00\",\"2017-07-01T16:00:00\",\"2017-07-01T16:00:00\",\"2017-07-01T16:00:00\",\"2017-07-01T16:00:00\",\"2017-07-01T16:00:00\",\"2017-07-01T16:00:00\",\"2017-07-01T16:00:00\",\"2017-07-02T08:00:00\",\"2017-07-02T08:00:00\",\"2017-07-02T08:00:00\",\"2017-07-02T08:00:00\",\"2017-07-02T08:00:00\",\"2017-07-02T08:00:00\",\"2017-07-02T08:00:00\",\"2017-07-02T08:00:00\",\"2017-07-02T08:00:00\",\"2017-07-02T08:00:00\",\"2017-07-02T09:00:00\",\"2017-07-02T09:00:00\",\"2017-07-02T09:00:00\",\"2017-07-02T09:00:00\",\"2017-07-02T09:00:00\",\"2017-07-02T09:00:00\",\"2017-07-02T09:00:00\",\"2017-07-02T09:00:00\",\"2017-07-02T09:00:00\",\"2017-07-02T09:00:00\",\"2017-07-02T10:00:00\",\"2017-07-02T10:00:00\",\"2017-07-02T10:00:00\",\"2017-07-02T10:00:00\",\"2017-07-02T10:00:00\",\"2017-07-02T10:00:00\",\"2017-07-02T10:00:00\",\"2017-07-02T10:00:00\",\"2017-07-02T10:00:00\",\"2017-07-02T10:00:00\",\"2017-07-02T11:00:00\",\"2017-07-02T11:00:00\",\"2017-07-02T11:00:00\",\"2017-07-02T11:00:00\",\"2017-07-02T11:00:00\",\"2017-07-02T11:00:00\",\"2017-07-02T11:00:00\",\"2017-07-02T11:00:00\",\"2017-07-02T11:00:00\",\"2017-07-02T11:00:00\",\"2017-07-02T12:00:00\",\"2017-07-02T12:00:00\",\"2017-07-02T12:00:00\",\"2017-07-02T12:00:00\",\"2017-07-02T12:00:00\",\"2017-07-02T12:00:00\",\"2017-07-02T12:00:00\",\"2017-07-02T12:00:00\",\"2017-07-02T12:00:00\",\"2017-07-02T12:00:00\",\"2017-07-02T13:00:00\",\"2017-07-02T13:00:00\",\"2017-07-02T13:00:00\",\"2017-07-02T13:00:00\",\"2017-07-02T13:00:00\",\"2017-07-02T13:00:00\",\"2017-07-02T13:00:00\",\"2017-07-02T13:00:00\",\"2017-07-02T13:00:00\",\"2017-07-02T13:00:00\",\"2017-07-02T14:00:00\",\"2017-07-02T14:00:00\",\"2017-07-02T14:00:00\",\"2017-07-02T14:00:00\",\"2017-07-02T14:00:00\",\"2017-07-02T14:00:00\",\"2017-07-02T14:00:00\",\"2017-07-02T14:00:00\",\"2017-07-02T14:00:00\",\"2017-07-02T14:00:00\",\"2017-07-02T15:00:00\",\"2017-07-02T15:00:00\",\"2017-07-02T15:00:00\",\"2017-07-02T15:00:00\",\"2017-07-02T15:00:00\",\"2017-07-02T15:00:00\",\"2017-07-02T15:00:00\",\"2017-07-02T15:00:00\",\"2017-07-02T15:00:00\",\"2017-07-02T15:00:00\",\"2017-07-02T16:00:00\",\"2017-07-02T16:00:00\",\"2017-07-02T16:00:00\",\"2017-07-02T16:00:00\",\"2017-07-02T16:00:00\",\"2017-07-02T16:00:00\",\"2017-07-02T16:00:00\",\"2017-07-02T16:00:00\",\"2017-07-02T16:00:00\",\"2017-07-02T16:00:00\",\"2017-07-03T08:00:00\",\"2017-07-03T08:00:00\",\"2017-07-03T08:00:00\",\"2017-07-03T08:00:00\",\"2017-07-03T08:00:00\",\"2017-07-03T08:00:00\",\"2017-07-03T08:00:00\",\"2017-07-03T08:00:00\",\"2017-07-03T08:00:00\",\"2017-07-03T08:00:00\",\"2017-07-03T09:00:00\",\"2017-07-03T09:00:00\",\"2017-07-03T09:00:00\",\"2017-07-03T09:00:00\",\"2017-07-03T09:00:00\",\"2017-07-03T09:00:00\",\"2017-07-03T09:00:00\",\"2017-07-03T09:00:00\",\"2017-07-03T09:00:00\",\"2017-07-03T09:00:00\",\"2017-07-03T10:00:00\",\"2017-07-03T10:00:00\",\"2017-07-03T10:00:00\",\"2017-07-03T10:00:00\",\"2017-07-03T10:00:00\",\"2017-07-03T10:00:00\",\"2017-07-03T10:00:00\",\"2017-07-03T10:00:00\",\"2017-07-03T10:00:00\",\"2017-07-03T10:00:00\",\"2017-07-03T11:00:00\",\"2017-07-03T11:00:00\",\"2017-07-03T11:00:00\",\"2017-07-03T11:00:00\",\"2017-07-03T11:00:00\",\"2017-07-03T11:00:00\",\"2017-07-03T11:00:00\",\"2017-07-03T11:00:00\",\"2017-07-03T11:00:00\",\"2017-07-03T11:00:00\",\"2017-07-03T12:00:00\",\"2017-07-03T12:00:00\",\"2017-07-03T12:00:00\",\"2017-07-03T12:00:00\",\"2017-07-03T12:00:00\",\"2017-07-03T12:00:00\",\"2017-07-03T12:00:00\",\"2017-07-03T12:00:00\",\"2017-07-03T12:00:00\",\"2017-07-03T12:00:00\",\"2017-07-03T13:00:00\",\"2017-07-03T13:00:00\",\"2017-07-03T13:00:00\",\"2017-07-03T13:00:00\",\"2017-07-03T13:00:00\",\"2017-07-03T13:00:00\",\"2017-07-03T13:00:00\",\"2017-07-03T13:00:00\",\"2017-07-03T13:00:00\",\"2017-07-03T13:00:00\",\"2017-07-03T14:00:00\",\"2017-07-03T14:00:00\",\"2017-07-03T14:00:00\",\"2017-07-03T14:00:00\",\"2017-07-03T14:00:00\",\"2017-07-03T14:00:00\",\"2017-07-03T14:00:00\",\"2017-07-03T14:00:00\",\"2017-07-03T14:00:00\",\"2017-07-03T14:00:00\",\"2017-07-03T15:00:00\",\"2017-07-03T15:00:00\",\"2017-07-03T15:00:00\",\"2017-07-03T15:00:00\",\"2017-07-03T15:00:00\",\"2017-07-03T15:00:00\",\"2017-07-03T15:00:00\",\"2017-07-03T15:00:00\",\"2017-07-03T15:00:00\",\"2017-07-03T15:00:00\",\"2017-07-03T16:00:00\",\"2017-07-03T16:00:00\",\"2017-07-03T16:00:00\",\"2017-07-03T16:00:00\",\"2017-07-03T16:00:00\",\"2017-07-03T16:00:00\",\"2017-07-03T16:00:00\",\"2017-07-03T16:00:00\",\"2017-07-03T16:00:00\",\"2017-07-03T16:00:00\",\"2017-07-04T08:00:00\",\"2017-07-04T08:00:00\",\"2017-07-04T08:00:00\",\"2017-07-04T08:00:00\",\"2017-07-04T08:00:00\",\"2017-07-04T08:00:00\",\"2017-07-04T08:00:00\",\"2017-07-04T08:00:00\",\"2017-07-04T08:00:00\",\"2017-07-04T08:00:00\",\"2017-07-04T09:00:00\",\"2017-07-04T09:00:00\",\"2017-07-04T09:00:00\",\"2017-07-04T09:00:00\",\"2017-07-04T09:00:00\",\"2017-07-04T09:00:00\",\"2017-07-04T09:00:00\",\"2017-07-04T09:00:00\",\"2017-07-04T09:00:00\",\"2017-07-04T09:00:00\",\"2017-07-04T10:00:00\",\"2017-07-04T10:00:00\",\"2017-07-04T10:00:00\",\"2017-07-04T10:00:00\",\"2017-07-04T10:00:00\",\"2017-07-04T10:00:00\",\"2017-07-04T10:00:00\",\"2017-07-04T10:00:00\",\"2017-07-04T10:00:00\",\"2017-07-04T10:00:00\",\"2017-07-04T11:00:00\",\"2017-07-04T11:00:00\",\"2017-07-04T11:00:00\",\"2017-07-04T11:00:00\",\"2017-07-04T11:00:00\",\"2017-07-04T11:00:00\",\"2017-07-04T11:00:00\",\"2017-07-04T11:00:00\",\"2017-07-04T11:00:00\",\"2017-07-04T11:00:00\",\"2017-07-04T12:00:00\",\"2017-07-04T12:00:00\",\"2017-07-04T12:00:00\",\"2017-07-04T12:00:00\",\"2017-07-04T12:00:00\",\"2017-07-04T12:00:00\",\"2017-07-04T12:00:00\",\"2017-07-04T12:00:00\",\"2017-07-04T12:00:00\",\"2017-07-04T12:00:00\",\"2017-07-04T13:00:00\",\"2017-07-04T13:00:00\",\"2017-07-04T13:00:00\",\"2017-07-04T13:00:00\",\"2017-07-04T13:00:00\",\"2017-07-04T13:00:00\",\"2017-07-04T13:00:00\",\"2017-07-04T13:00:00\",\"2017-07-04T13:00:00\",\"2017-07-04T13:00:00\",\"2017-07-04T14:00:00\",\"2017-07-04T14:00:00\",\"2017-07-04T14:00:00\",\"2017-07-04T14:00:00\",\"2017-07-04T14:00:00\",\"2017-07-04T14:00:00\",\"2017-07-04T14:00:00\",\"2017-07-04T14:00:00\",\"2017-07-04T14:00:00\",\"2017-07-04T14:00:00\",\"2017-07-04T15:00:00\",\"2017-07-04T15:00:00\",\"2017-07-04T15:00:00\",\"2017-07-04T15:00:00\",\"2017-07-04T15:00:00\",\"2017-07-04T15:00:00\",\"2017-07-04T15:00:00\",\"2017-07-04T15:00:00\",\"2017-07-04T15:00:00\",\"2017-07-04T15:00:00\",\"2017-07-04T16:00:00\",\"2017-07-04T16:00:00\",\"2017-07-04T16:00:00\",\"2017-07-04T16:00:00\",\"2017-07-04T16:00:00\",\"2017-07-04T16:00:00\",\"2017-07-04T16:00:00\",\"2017-07-04T16:00:00\",\"2017-07-04T16:00:00\",\"2017-07-04T16:00:00\",\"2017-07-05T08:00:00\",\"2017-07-05T08:00:00\",\"2017-07-05T08:00:00\",\"2017-07-05T08:00:00\",\"2017-07-05T08:00:00\",\"2017-07-05T08:00:00\",\"2017-07-05T08:00:00\",\"2017-07-05T08:00:00\",\"2017-07-05T08:00:00\",\"2017-07-05T08:00:00\",\"2017-07-05T09:00:00\",\"2017-07-05T09:00:00\",\"2017-07-05T09:00:00\",\"2017-07-05T09:00:00\",\"2017-07-05T09:00:00\",\"2017-07-05T09:00:00\",\"2017-07-05T09:00:00\",\"2017-07-05T09:00:00\",\"2017-07-05T09:00:00\",\"2017-07-05T09:00:00\",\"2017-07-05T10:00:00\",\"2017-07-05T10:00:00\",\"2017-07-05T10:00:00\",\"2017-07-05T10:00:00\",\"2017-07-05T10:00:00\",\"2017-07-05T10:00:00\",\"2017-07-05T10:00:00\",\"2017-07-05T10:00:00\",\"2017-07-05T10:00:00\",\"2017-07-05T10:00:00\",\"2017-07-05T11:00:00\",\"2017-07-05T11:00:00\",\"2017-07-05T11:00:00\",\"2017-07-05T11:00:00\",\"2017-07-05T11:00:00\",\"2017-07-05T11:00:00\",\"2017-07-05T11:00:00\",\"2017-07-05T11:00:00\",\"2017-07-05T11:00:00\",\"2017-07-05T11:00:00\",\"2017-07-05T12:00:00\",\"2017-07-05T12:00:00\",\"2017-07-05T12:00:00\",\"2017-07-05T12:00:00\",\"2017-07-05T12:00:00\",\"2017-07-05T12:00:00\",\"2017-07-05T12:00:00\",\"2017-07-05T12:00:00\",\"2017-07-05T12:00:00\",\"2017-07-05T12:00:00\",\"2017-07-05T13:00:00\",\"2017-07-05T13:00:00\",\"2017-07-05T13:00:00\",\"2017-07-05T13:00:00\",\"2017-07-05T13:00:00\",\"2017-07-05T13:00:00\",\"2017-07-05T13:00:00\",\"2017-07-05T13:00:00\",\"2017-07-05T13:00:00\",\"2017-07-05T13:00:00\",\"2017-07-05T14:00:00\",\"2017-07-05T14:00:00\",\"2017-07-05T14:00:00\",\"2017-07-05T14:00:00\",\"2017-07-05T14:00:00\",\"2017-07-05T14:00:00\",\"2017-07-05T14:00:00\",\"2017-07-05T14:00:00\",\"2017-07-05T14:00:00\",\"2017-07-05T14:00:00\",\"2017-07-05T15:00:00\",\"2017-07-05T15:00:00\",\"2017-07-05T15:00:00\",\"2017-07-05T15:00:00\",\"2017-07-05T15:00:00\",\"2017-07-05T15:00:00\",\"2017-07-05T15:00:00\",\"2017-07-05T15:00:00\",\"2017-07-05T15:00:00\",\"2017-07-05T15:00:00\",\"2017-07-05T16:00:00\",\"2017-07-05T16:00:00\",\"2017-07-05T16:00:00\",\"2017-07-05T16:00:00\",\"2017-07-05T16:00:00\",\"2017-07-05T16:00:00\",\"2017-07-05T16:00:00\",\"2017-07-05T16:00:00\",\"2017-07-05T16:00:00\",\"2017-07-05T16:00:00\",\"2017-07-06T08:00:00\",\"2017-07-06T08:00:00\",\"2017-07-06T08:00:00\",\"2017-07-06T08:00:00\",\"2017-07-06T08:00:00\",\"2017-07-06T08:00:00\",\"2017-07-06T08:00:00\",\"2017-07-06T08:00:00\",\"2017-07-06T08:00:00\",\"2017-07-06T08:00:00\",\"2017-07-06T09:00:00\",\"2017-07-06T09:00:00\",\"2017-07-06T09:00:00\",\"2017-07-06T09:00:00\",\"2017-07-06T09:00:00\",\"2017-07-06T09:00:00\",\"2017-07-06T09:00:00\",\"2017-07-06T09:00:00\",\"2017-07-06T09:00:00\",\"2017-07-06T09:00:00\",\"2017-07-06T10:00:00\",\"2017-07-06T10:00:00\",\"2017-07-06T10:00:00\",\"2017-07-06T10:00:00\",\"2017-07-06T10:00:00\",\"2017-07-06T10:00:00\",\"2017-07-06T10:00:00\",\"2017-07-06T10:00:00\",\"2017-07-06T10:00:00\",\"2017-07-06T10:00:00\",\"2017-07-06T11:00:00\",\"2017-07-06T11:00:00\",\"2017-07-06T11:00:00\",\"2017-07-06T11:00:00\",\"2017-07-06T11:00:00\",\"2017-07-06T11:00:00\",\"2017-07-06T11:00:00\",\"2017-07-06T11:00:00\",\"2017-07-06T11:00:00\",\"2017-07-06T11:00:00\",\"2017-07-06T12:00:00\",\"2017-07-06T12:00:00\",\"2017-07-06T12:00:00\",\"2017-07-06T12:00:00\",\"2017-07-06T12:00:00\",\"2017-07-06T12:00:00\",\"2017-07-06T12:00:00\",\"2017-07-06T12:00:00\",\"2017-07-06T12:00:00\",\"2017-07-06T12:00:00\",\"2017-07-06T13:00:00\",\"2017-07-06T13:00:00\",\"2017-07-06T13:00:00\",\"2017-07-06T13:00:00\",\"2017-07-06T13:00:00\",\"2017-07-06T13:00:00\",\"2017-07-06T13:00:00\",\"2017-07-06T13:00:00\",\"2017-07-06T13:00:00\",\"2017-07-06T13:00:00\",\"2017-07-06T14:00:00\",\"2017-07-06T14:00:00\",\"2017-07-06T14:00:00\",\"2017-07-06T14:00:00\",\"2017-07-06T14:00:00\",\"2017-07-06T14:00:00\",\"2017-07-06T14:00:00\",\"2017-07-06T14:00:00\",\"2017-07-06T14:00:00\",\"2017-07-06T14:00:00\",\"2017-07-06T15:00:00\",\"2017-07-06T15:00:00\",\"2017-07-06T15:00:00\",\"2017-07-06T15:00:00\",\"2017-07-06T15:00:00\",\"2017-07-06T15:00:00\",\"2017-07-06T15:00:00\",\"2017-07-06T15:00:00\",\"2017-07-06T15:00:00\",\"2017-07-06T15:00:00\",\"2017-07-06T16:00:00\",\"2017-07-06T16:00:00\",\"2017-07-06T16:00:00\",\"2017-07-06T16:00:00\",\"2017-07-06T16:00:00\",\"2017-07-06T16:00:00\",\"2017-07-06T16:00:00\",\"2017-07-06T16:00:00\",\"2017-07-06T16:00:00\",\"2017-07-06T16:00:00\",\"2017-07-07T08:00:00\",\"2017-07-07T08:00:00\",\"2017-07-07T08:00:00\",\"2017-07-07T08:00:00\",\"2017-07-07T08:00:00\",\"2017-07-07T08:00:00\",\"2017-07-07T08:00:00\",\"2017-07-07T08:00:00\",\"2017-07-07T08:00:00\",\"2017-07-07T08:00:00\",\"2017-07-07T09:00:00\",\"2017-07-07T09:00:00\",\"2017-07-07T09:00:00\",\"2017-07-07T09:00:00\",\"2017-07-07T09:00:00\",\"2017-07-07T09:00:00\",\"2017-07-07T09:00:00\",\"2017-07-07T09:00:00\",\"2017-07-07T09:00:00\",\"2017-07-07T09:00:00\",\"2017-07-07T10:00:00\",\"2017-07-07T10:00:00\",\"2017-07-07T10:00:00\",\"2017-07-07T10:00:00\",\"2017-07-07T10:00:00\",\"2017-07-07T10:00:00\",\"2017-07-07T10:00:00\",\"2017-07-07T10:00:00\",\"2017-07-07T10:00:00\",\"2017-07-07T10:00:00\",\"2017-07-07T11:00:00\",\"2017-07-07T11:00:00\",\"2017-07-07T11:00:00\",\"2017-07-07T11:00:00\",\"2017-07-07T11:00:00\",\"2017-07-07T11:00:00\",\"2017-07-07T11:00:00\",\"2017-07-07T11:00:00\",\"2017-07-07T11:00:00\",\"2017-07-07T11:00:00\",\"2017-07-07T12:00:00\",\"2017-07-07T12:00:00\",\"2017-07-07T12:00:00\",\"2017-07-07T12:00:00\",\"2017-07-07T12:00:00\",\"2017-07-07T12:00:00\",\"2017-07-07T12:00:00\",\"2017-07-07T12:00:00\",\"2017-07-07T12:00:00\",\"2017-07-07T12:00:00\",\"2017-07-07T13:00:00\",\"2017-07-07T13:00:00\",\"2017-07-07T13:00:00\",\"2017-07-07T13:00:00\",\"2017-07-07T13:00:00\",\"2017-07-07T13:00:00\",\"2017-07-07T13:00:00\",\"2017-07-07T13:00:00\",\"2017-07-07T13:00:00\",\"2017-07-07T13:00:00\",\"2017-07-07T14:00:00\",\"2017-07-07T14:00:00\",\"2017-07-07T14:00:00\",\"2017-07-07T14:00:00\",\"2017-07-07T14:00:00\",\"2017-07-07T14:00:00\",\"2017-07-07T14:00:00\",\"2017-07-07T14:00:00\",\"2017-07-07T14:00:00\",\"2017-07-07T14:00:00\",\"2017-07-07T15:00:00\",\"2017-07-07T15:00:00\",\"2017-07-07T15:00:00\",\"2017-07-07T15:00:00\",\"2017-07-07T15:00:00\",\"2017-07-07T15:00:00\",\"2017-07-07T15:00:00\",\"2017-07-07T15:00:00\",\"2017-07-07T15:00:00\",\"2017-07-07T15:00:00\",\"2017-07-07T16:00:00\",\"2017-07-07T16:00:00\",\"2017-07-07T16:00:00\",\"2017-07-07T16:00:00\",\"2017-07-07T16:00:00\",\"2017-07-07T16:00:00\",\"2017-07-07T16:00:00\",\"2017-07-07T16:00:00\",\"2017-07-07T16:00:00\",\"2017-07-07T16:00:00\",\"2017-07-08T08:00:00\",\"2017-07-08T08:00:00\",\"2017-07-08T08:00:00\",\"2017-07-08T08:00:00\",\"2017-07-08T08:00:00\",\"2017-07-08T08:00:00\",\"2017-07-08T08:00:00\",\"2017-07-08T08:00:00\",\"2017-07-08T08:00:00\",\"2017-07-08T08:00:00\",\"2017-07-08T09:00:00\",\"2017-07-08T09:00:00\",\"2017-07-08T09:00:00\",\"2017-07-08T09:00:00\",\"2017-07-08T09:00:00\",\"2017-07-08T09:00:00\",\"2017-07-08T09:00:00\",\"2017-07-08T09:00:00\",\"2017-07-08T09:00:00\",\"2017-07-08T09:00:00\",\"2017-07-08T10:00:00\",\"2017-07-08T10:00:00\",\"2017-07-08T10:00:00\",\"2017-07-08T10:00:00\",\"2017-07-08T10:00:00\",\"2017-07-08T10:00:00\",\"2017-07-08T10:00:00\",\"2017-07-08T10:00:00\",\"2017-07-08T10:00:00\",\"2017-07-08T10:00:00\",\"2017-07-08T11:00:00\",\"2017-07-08T11:00:00\",\"2017-07-08T11:00:00\",\"2017-07-08T11:00:00\",\"2017-07-08T11:00:00\",\"2017-07-08T11:00:00\",\"2017-07-08T11:00:00\",\"2017-07-08T11:00:00\",\"2017-07-08T11:00:00\",\"2017-07-08T11:00:00\",\"2017-07-08T12:00:00\",\"2017-07-08T12:00:00\",\"2017-07-08T12:00:00\",\"2017-07-08T12:00:00\",\"2017-07-08T12:00:00\",\"2017-07-08T12:00:00\",\"2017-07-08T12:00:00\",\"2017-07-08T12:00:00\",\"2017-07-08T12:00:00\",\"2017-07-08T12:00:00\",\"2017-07-08T13:00:00\",\"2017-07-08T13:00:00\",\"2017-07-08T13:00:00\",\"2017-07-08T13:00:00\",\"2017-07-08T13:00:00\",\"2017-07-08T13:00:00\",\"2017-07-08T13:00:00\",\"2017-07-08T13:00:00\",\"2017-07-08T13:00:00\",\"2017-07-08T13:00:00\",\"2017-07-08T14:00:00\",\"2017-07-08T14:00:00\",\"2017-07-08T14:00:00\",\"2017-07-08T14:00:00\",\"2017-07-08T14:00:00\",\"2017-07-08T14:00:00\",\"2017-07-08T14:00:00\",\"2017-07-08T14:00:00\",\"2017-07-08T14:00:00\",\"2017-07-08T14:00:00\",\"2017-07-08T15:00:00\",\"2017-07-08T15:00:00\",\"2017-07-08T15:00:00\",\"2017-07-08T15:00:00\",\"2017-07-08T15:00:00\",\"2017-07-08T15:00:00\",\"2017-07-08T15:00:00\",\"2017-07-08T15:00:00\",\"2017-07-08T15:00:00\",\"2017-07-08T15:00:00\",\"2017-07-08T16:00:00\",\"2017-07-08T16:00:00\",\"2017-07-08T16:00:00\",\"2017-07-08T16:00:00\",\"2017-07-08T16:00:00\",\"2017-07-08T16:00:00\",\"2017-07-08T16:00:00\",\"2017-07-08T16:00:00\",\"2017-07-08T16:00:00\",\"2017-07-08T16:00:00\",\"2017-07-09T08:00:00\",\"2017-07-09T08:00:00\",\"2017-07-09T08:00:00\",\"2017-07-09T08:00:00\",\"2017-07-09T08:00:00\",\"2017-07-09T08:00:00\",\"2017-07-09T08:00:00\",\"2017-07-09T08:00:00\",\"2017-07-09T08:00:00\",\"2017-07-09T08:00:00\",\"2017-07-09T09:00:00\",\"2017-07-09T09:00:00\",\"2017-07-09T09:00:00\",\"2017-07-09T09:00:00\",\"2017-07-09T09:00:00\",\"2017-07-09T09:00:00\",\"2017-07-09T09:00:00\",\"2017-07-09T09:00:00\",\"2017-07-09T09:00:00\",\"2017-07-09T09:00:00\",\"2017-07-09T10:00:00\",\"2017-07-09T10:00:00\",\"2017-07-09T10:00:00\",\"2017-07-09T10:00:00\",\"2017-07-09T10:00:00\",\"2017-07-09T10:00:00\",\"2017-07-09T10:00:00\",\"2017-07-09T10:00:00\",\"2017-07-09T10:00:00\",\"2017-07-09T10:00:00\",\"2017-07-09T11:00:00\",\"2017-07-09T11:00:00\",\"2017-07-09T11:00:00\",\"2017-07-09T11:00:00\",\"2017-07-09T11:00:00\",\"2017-07-09T11:00:00\",\"2017-07-09T11:00:00\",\"2017-07-09T11:00:00\",\"2017-07-09T11:00:00\",\"2017-07-09T11:00:00\",\"2017-07-09T12:00:00\",\"2017-07-09T12:00:00\",\"2017-07-09T12:00:00\",\"2017-07-09T12:00:00\",\"2017-07-09T12:00:00\",\"2017-07-09T12:00:00\",\"2017-07-09T12:00:00\",\"2017-07-09T12:00:00\",\"2017-07-09T12:00:00\",\"2017-07-09T12:00:00\",\"2017-07-09T13:00:00\",\"2017-07-09T13:00:00\",\"2017-07-09T13:00:00\",\"2017-07-09T13:00:00\",\"2017-07-09T13:00:00\",\"2017-07-09T13:00:00\",\"2017-07-09T13:00:00\",\"2017-07-09T13:00:00\",\"2017-07-09T13:00:00\",\"2017-07-09T13:00:00\",\"2017-07-09T14:00:00\",\"2017-07-09T14:00:00\",\"2017-07-09T14:00:00\",\"2017-07-09T14:00:00\",\"2017-07-09T14:00:00\",\"2017-07-09T14:00:00\",\"2017-07-09T14:00:00\",\"2017-07-09T14:00:00\",\"2017-07-09T14:00:00\",\"2017-07-09T14:00:00\",\"2017-07-09T15:00:00\",\"2017-07-09T15:00:00\",\"2017-07-09T15:00:00\",\"2017-07-09T15:00:00\",\"2017-07-09T15:00:00\",\"2017-07-09T15:00:00\",\"2017-07-09T15:00:00\",\"2017-07-09T15:00:00\",\"2017-07-09T15:00:00\",\"2017-07-09T15:00:00\",\"2017-07-09T16:00:00\",\"2017-07-09T16:00:00\",\"2017-07-09T16:00:00\",\"2017-07-09T16:00:00\",\"2017-07-09T16:00:00\",\"2017-07-09T16:00:00\",\"2017-07-09T16:00:00\",\"2017-07-09T16:00:00\",\"2017-07-09T16:00:00\",\"2017-07-09T16:00:00\",\"2017-07-10T08:00:00\",\"2017-07-10T08:00:00\",\"2017-07-10T08:00:00\",\"2017-07-10T08:00:00\",\"2017-07-10T08:00:00\",\"2017-07-10T08:00:00\",\"2017-07-10T08:00:00\",\"2017-07-10T08:00:00\",\"2017-07-10T08:00:00\",\"2017-07-10T08:00:00\",\"2017-07-10T09:00:00\",\"2017-07-10T09:00:00\",\"2017-07-10T09:00:00\",\"2017-07-10T09:00:00\",\"2017-07-10T09:00:00\",\"2017-07-10T09:00:00\",\"2017-07-10T09:00:00\",\"2017-07-10T09:00:00\",\"2017-07-10T09:00:00\",\"2017-07-10T09:00:00\",\"2017-07-10T10:00:00\",\"2017-07-10T10:00:00\",\"2017-07-10T10:00:00\",\"2017-07-10T10:00:00\",\"2017-07-10T10:00:00\",\"2017-07-10T10:00:00\",\"2017-07-10T10:00:00\",\"2017-07-10T10:00:00\",\"2017-07-10T10:00:00\",\"2017-07-10T10:00:00\",\"2017-07-10T11:00:00\",\"2017-07-10T11:00:00\",\"2017-07-10T11:00:00\",\"2017-07-10T11:00:00\",\"2017-07-10T11:00:00\",\"2017-07-10T11:00:00\",\"2017-07-10T11:00:00\",\"2017-07-10T11:00:00\",\"2017-07-10T11:00:00\",\"2017-07-10T11:00:00\",\"2017-07-10T12:00:00\",\"2017-07-10T12:00:00\",\"2017-07-10T12:00:00\",\"2017-07-10T12:00:00\",\"2017-07-10T12:00:00\",\"2017-07-10T12:00:00\",\"2017-07-10T12:00:00\",\"2017-07-10T12:00:00\",\"2017-07-10T12:00:00\",\"2017-07-10T12:00:00\",\"2017-07-10T13:00:00\",\"2017-07-10T13:00:00\",\"2017-07-10T13:00:00\",\"2017-07-10T13:00:00\",\"2017-07-10T13:00:00\",\"2017-07-10T13:00:00\",\"2017-07-10T13:00:00\",\"2017-07-10T13:00:00\",\"2017-07-10T13:00:00\",\"2017-07-10T13:00:00\",\"2017-07-10T14:00:00\",\"2017-07-10T14:00:00\",\"2017-07-10T14:00:00\",\"2017-07-10T14:00:00\",\"2017-07-10T14:00:00\",\"2017-07-10T14:00:00\",\"2017-07-10T14:00:00\",\"2017-07-10T14:00:00\",\"2017-07-10T14:00:00\",\"2017-07-10T14:00:00\",\"2017-07-10T15:00:00\",\"2017-07-10T15:00:00\",\"2017-07-10T15:00:00\",\"2017-07-10T15:00:00\",\"2017-07-10T15:00:00\",\"2017-07-10T15:00:00\",\"2017-07-10T15:00:00\",\"2017-07-10T15:00:00\",\"2017-07-10T15:00:00\",\"2017-07-10T15:00:00\",\"2017-07-10T16:00:00\",\"2017-07-10T16:00:00\",\"2017-07-10T16:00:00\",\"2017-07-10T16:00:00\",\"2017-07-10T16:00:00\",\"2017-07-10T16:00:00\",\"2017-07-10T16:00:00\",\"2017-07-10T16:00:00\",\"2017-07-10T16:00:00\",\"2017-07-10T16:00:00\",\"2017-07-11T08:00:00\",\"2017-07-11T08:00:00\",\"2017-07-11T08:00:00\",\"2017-07-11T08:00:00\",\"2017-07-11T08:00:00\",\"2017-07-11T08:00:00\",\"2017-07-11T08:00:00\",\"2017-07-11T08:00:00\",\"2017-07-11T08:00:00\",\"2017-07-11T08:00:00\",\"2017-07-11T09:00:00\",\"2017-07-11T09:00:00\",\"2017-07-11T09:00:00\",\"2017-07-11T09:00:00\",\"2017-07-11T09:00:00\",\"2017-07-11T09:00:00\",\"2017-07-11T09:00:00\",\"2017-07-11T09:00:00\",\"2017-07-11T09:00:00\",\"2017-07-11T09:00:00\",\"2017-07-11T10:00:00\",\"2017-07-11T10:00:00\",\"2017-07-11T10:00:00\",\"2017-07-11T10:00:00\",\"2017-07-11T10:00:00\",\"2017-07-11T10:00:00\",\"2017-07-11T10:00:00\",\"2017-07-11T10:00:00\",\"2017-07-11T10:00:00\",\"2017-07-11T10:00:00\",\"2017-07-11T11:00:00\",\"2017-07-11T11:00:00\",\"2017-07-11T11:00:00\",\"2017-07-11T11:00:00\",\"2017-07-11T11:00:00\",\"2017-07-11T11:00:00\",\"2017-07-11T11:00:00\",\"2017-07-11T11:00:00\",\"2017-07-11T11:00:00\",\"2017-07-11T11:00:00\",\"2017-07-11T12:00:00\",\"2017-07-11T12:00:00\",\"2017-07-11T12:00:00\",\"2017-07-11T12:00:00\",\"2017-07-11T12:00:00\",\"2017-07-11T12:00:00\",\"2017-07-11T12:00:00\",\"2017-07-11T12:00:00\",\"2017-07-11T12:00:00\",\"2017-07-11T12:00:00\",\"2017-07-11T13:00:00\",\"2017-07-11T13:00:00\",\"2017-07-11T13:00:00\",\"2017-07-11T13:00:00\",\"2017-07-11T13:00:00\",\"2017-07-11T13:00:00\",\"2017-07-11T13:00:00\",\"2017-07-11T13:00:00\",\"2017-07-11T13:00:00\",\"2017-07-11T13:00:00\",\"2017-07-11T14:00:00\",\"2017-07-11T14:00:00\",\"2017-07-11T14:00:00\",\"2017-07-11T14:00:00\",\"2017-07-11T14:00:00\",\"2017-07-11T14:00:00\",\"2017-07-11T14:00:00\",\"2017-07-11T14:00:00\",\"2017-07-11T14:00:00\",\"2017-07-11T14:00:00\",\"2017-07-11T15:00:00\",\"2017-07-11T15:00:00\",\"2017-07-11T15:00:00\",\"2017-07-11T15:00:00\",\"2017-07-11T15:00:00\",\"2017-07-11T15:00:00\",\"2017-07-11T15:00:00\",\"2017-07-11T15:00:00\",\"2017-07-11T15:00:00\",\"2017-07-11T15:00:00\",\"2017-07-11T16:00:00\",\"2017-07-11T16:00:00\",\"2017-07-11T16:00:00\",\"2017-07-11T16:00:00\",\"2017-07-11T16:00:00\",\"2017-07-11T16:00:00\",\"2017-07-11T16:00:00\",\"2017-07-11T16:00:00\",\"2017-07-11T16:00:00\",\"2017-07-11T16:00:00\",\"2017-07-12T08:00:00\",\"2017-07-12T08:00:00\",\"2017-07-12T08:00:00\",\"2017-07-12T08:00:00\",\"2017-07-12T08:00:00\",\"2017-07-12T08:00:00\",\"2017-07-12T08:00:00\",\"2017-07-12T08:00:00\",\"2017-07-12T08:00:00\",\"2017-07-12T08:00:00\",\"2017-07-12T09:00:00\",\"2017-07-12T09:00:00\",\"2017-07-12T09:00:00\",\"2017-07-12T09:00:00\",\"2017-07-12T09:00:00\",\"2017-07-12T09:00:00\",\"2017-07-12T09:00:00\",\"2017-07-12T09:00:00\",\"2017-07-12T09:00:00\",\"2017-07-12T09:00:00\",\"2017-07-12T10:00:00\",\"2017-07-12T10:00:00\",\"2017-07-12T10:00:00\",\"2017-07-12T10:00:00\",\"2017-07-12T10:00:00\",\"2017-07-12T10:00:00\",\"2017-07-12T10:00:00\",\"2017-07-12T10:00:00\",\"2017-07-12T10:00:00\",\"2017-07-12T10:00:00\",\"2017-07-12T11:00:00\",\"2017-07-12T11:00:00\",\"2017-07-12T11:00:00\",\"2017-07-12T11:00:00\",\"2017-07-12T11:00:00\",\"2017-07-12T11:00:00\",\"2017-07-12T11:00:00\",\"2017-07-12T11:00:00\",\"2017-07-12T11:00:00\",\"2017-07-12T11:00:00\",\"2017-07-12T12:00:00\",\"2017-07-12T12:00:00\",\"2017-07-12T12:00:00\",\"2017-07-12T12:00:00\",\"2017-07-12T12:00:00\",\"2017-07-12T12:00:00\",\"2017-07-12T12:00:00\",\"2017-07-12T12:00:00\",\"2017-07-12T12:00:00\",\"2017-07-12T12:00:00\",\"2017-07-12T13:00:00\",\"2017-07-12T13:00:00\",\"2017-07-12T13:00:00\",\"2017-07-12T13:00:00\",\"2017-07-12T13:00:00\",\"2017-07-12T13:00:00\",\"2017-07-12T13:00:00\",\"2017-07-12T13:00:00\",\"2017-07-12T13:00:00\",\"2017-07-12T13:00:00\",\"2017-07-12T14:00:00\",\"2017-07-12T14:00:00\",\"2017-07-12T14:00:00\",\"2017-07-12T14:00:00\",\"2017-07-12T14:00:00\",\"2017-07-12T14:00:00\",\"2017-07-12T14:00:00\",\"2017-07-12T14:00:00\",\"2017-07-12T14:00:00\",\"2017-07-12T14:00:00\",\"2017-07-12T15:00:00\",\"2017-07-12T15:00:00\",\"2017-07-12T15:00:00\",\"2017-07-12T15:00:00\",\"2017-07-12T15:00:00\",\"2017-07-12T15:00:00\",\"2017-07-12T15:00:00\",\"2017-07-12T15:00:00\",\"2017-07-12T15:00:00\",\"2017-07-12T15:00:00\",\"2017-07-12T16:00:00\",\"2017-07-12T16:00:00\",\"2017-07-12T16:00:00\",\"2017-07-12T16:00:00\",\"2017-07-12T16:00:00\",\"2017-07-12T16:00:00\",\"2017-07-12T16:00:00\",\"2017-07-12T16:00:00\",\"2017-07-12T16:00:00\",\"2017-07-12T16:00:00\",\"2017-07-13T08:00:00\",\"2017-07-13T08:00:00\",\"2017-07-13T08:00:00\",\"2017-07-13T08:00:00\",\"2017-07-13T08:00:00\",\"2017-07-13T08:00:00\",\"2017-07-13T08:00:00\",\"2017-07-13T08:00:00\",\"2017-07-13T08:00:00\",\"2017-07-13T08:00:00\",\"2017-07-13T09:00:00\",\"2017-07-13T09:00:00\",\"2017-07-13T09:00:00\",\"2017-07-13T09:00:00\",\"2017-07-13T09:00:00\",\"2017-07-13T09:00:00\",\"2017-07-13T09:00:00\",\"2017-07-13T09:00:00\",\"2017-07-13T09:00:00\",\"2017-07-13T09:00:00\",\"2017-07-13T10:00:00\",\"2017-07-13T10:00:00\",\"2017-07-13T10:00:00\",\"2017-07-13T10:00:00\",\"2017-07-13T10:00:00\",\"2017-07-13T10:00:00\",\"2017-07-13T10:00:00\",\"2017-07-13T10:00:00\",\"2017-07-13T10:00:00\",\"2017-07-13T10:00:00\",\"2017-07-13T11:00:00\",\"2017-07-13T11:00:00\",\"2017-07-13T11:00:00\",\"2017-07-13T11:00:00\",\"2017-07-13T11:00:00\",\"2017-07-13T11:00:00\",\"2017-07-13T11:00:00\",\"2017-07-13T11:00:00\",\"2017-07-13T11:00:00\",\"2017-07-13T11:00:00\",\"2017-07-13T12:00:00\",\"2017-07-13T12:00:00\",\"2017-07-13T12:00:00\",\"2017-07-13T12:00:00\",\"2017-07-13T12:00:00\",\"2017-07-13T12:00:00\",\"2017-07-13T12:00:00\",\"2017-07-13T12:00:00\",\"2017-07-13T12:00:00\",\"2017-07-13T12:00:00\",\"2017-07-13T13:00:00\",\"2017-07-13T13:00:00\",\"2017-07-13T13:00:00\",\"2017-07-13T13:00:00\",\"2017-07-13T13:00:00\",\"2017-07-13T13:00:00\",\"2017-07-13T13:00:00\",\"2017-07-13T13:00:00\",\"2017-07-13T13:00:00\",\"2017-07-13T13:00:00\",\"2017-07-13T14:00:00\",\"2017-07-13T14:00:00\",\"2017-07-13T14:00:00\",\"2017-07-13T14:00:00\",\"2017-07-13T14:00:00\",\"2017-07-13T14:00:00\",\"2017-07-13T14:00:00\",\"2017-07-13T14:00:00\",\"2017-07-13T14:00:00\",\"2017-07-13T14:00:00\",\"2017-07-13T15:00:00\",\"2017-07-13T15:00:00\",\"2017-07-13T15:00:00\",\"2017-07-13T15:00:00\",\"2017-07-13T15:00:00\",\"2017-07-13T15:00:00\",\"2017-07-13T15:00:00\",\"2017-07-13T15:00:00\",\"2017-07-13T15:00:00\",\"2017-07-13T15:00:00\",\"2017-07-13T16:00:00\",\"2017-07-13T16:00:00\",\"2017-07-13T16:00:00\",\"2017-07-13T16:00:00\",\"2017-07-13T16:00:00\",\"2017-07-13T16:00:00\",\"2017-07-13T16:00:00\",\"2017-07-13T16:00:00\",\"2017-07-13T16:00:00\",\"2017-07-13T16:00:00\",\"2017-07-14T08:00:00\",\"2017-07-14T08:00:00\",\"2017-07-14T08:00:00\",\"2017-07-14T08:00:00\",\"2017-07-14T08:00:00\",\"2017-07-14T08:00:00\",\"2017-07-14T08:00:00\",\"2017-07-14T08:00:00\",\"2017-07-14T08:00:00\",\"2017-07-14T08:00:00\",\"2017-07-14T09:00:00\",\"2017-07-14T09:00:00\",\"2017-07-14T09:00:00\",\"2017-07-14T09:00:00\",\"2017-07-14T09:00:00\",\"2017-07-14T09:00:00\",\"2017-07-14T09:00:00\",\"2017-07-14T09:00:00\",\"2017-07-14T09:00:00\",\"2017-07-14T09:00:00\",\"2017-07-14T10:00:00\",\"2017-07-14T10:00:00\",\"2017-07-14T10:00:00\",\"2017-07-14T10:00:00\",\"2017-07-14T10:00:00\",\"2017-07-14T10:00:00\",\"2017-07-14T10:00:00\",\"2017-07-14T10:00:00\",\"2017-07-14T10:00:00\",\"2017-07-14T10:00:00\",\"2017-07-14T11:00:00\",\"2017-07-14T11:00:00\",\"2017-07-14T11:00:00\",\"2017-07-14T11:00:00\",\"2017-07-14T11:00:00\",\"2017-07-14T11:00:00\",\"2017-07-14T11:00:00\",\"2017-07-14T11:00:00\",\"2017-07-14T11:00:00\",\"2017-07-14T11:00:00\",\"2017-07-14T12:00:00\",\"2017-07-14T12:00:00\",\"2017-07-14T12:00:00\",\"2017-07-14T12:00:00\",\"2017-07-14T12:00:00\",\"2017-07-14T12:00:00\",\"2017-07-14T12:00:00\",\"2017-07-14T12:00:00\",\"2017-07-14T12:00:00\",\"2017-07-14T12:00:00\",\"2017-07-14T13:00:00\",\"2017-07-14T13:00:00\",\"2017-07-14T13:00:00\",\"2017-07-14T13:00:00\",\"2017-07-14T13:00:00\",\"2017-07-14T13:00:00\",\"2017-07-14T13:00:00\",\"2017-07-14T13:00:00\",\"2017-07-14T13:00:00\",\"2017-07-14T13:00:00\",\"2017-07-14T14:00:00\",\"2017-07-14T14:00:00\",\"2017-07-14T14:00:00\",\"2017-07-14T14:00:00\",\"2017-07-14T14:00:00\",\"2017-07-14T14:00:00\",\"2017-07-14T14:00:00\",\"2017-07-14T14:00:00\",\"2017-07-14T14:00:00\",\"2017-07-14T14:00:00\",\"2017-07-14T15:00:00\",\"2017-07-14T15:00:00\",\"2017-07-14T15:00:00\",\"2017-07-14T15:00:00\",\"2017-07-14T15:00:00\",\"2017-07-14T15:00:00\",\"2017-07-14T15:00:00\",\"2017-07-14T15:00:00\",\"2017-07-14T15:00:00\",\"2017-07-14T15:00:00\",\"2017-07-14T16:00:00\",\"2017-07-14T16:00:00\",\"2017-07-14T16:00:00\",\"2017-07-14T16:00:00\",\"2017-07-14T16:00:00\",\"2017-07-14T16:00:00\",\"2017-07-14T16:00:00\",\"2017-07-14T16:00:00\",\"2017-07-14T16:00:00\",\"2017-07-14T16:00:00\",\"2017-07-15T08:00:00\",\"2017-07-15T08:00:00\",\"2017-07-15T08:00:00\",\"2017-07-15T08:00:00\",\"2017-07-15T08:00:00\",\"2017-07-15T08:00:00\",\"2017-07-15T08:00:00\",\"2017-07-15T08:00:00\",\"2017-07-15T08:00:00\",\"2017-07-15T08:00:00\",\"2017-07-15T09:00:00\",\"2017-07-15T09:00:00\",\"2017-07-15T09:00:00\",\"2017-07-15T09:00:00\",\"2017-07-15T09:00:00\",\"2017-07-15T09:00:00\",\"2017-07-15T09:00:00\",\"2017-07-15T09:00:00\",\"2017-07-15T09:00:00\",\"2017-07-15T09:00:00\",\"2017-07-15T10:00:00\",\"2017-07-15T10:00:00\",\"2017-07-15T10:00:00\",\"2017-07-15T10:00:00\",\"2017-07-15T10:00:00\",\"2017-07-15T10:00:00\",\"2017-07-15T10:00:00\",\"2017-07-15T10:00:00\",\"2017-07-15T10:00:00\",\"2017-07-15T10:00:00\",\"2017-07-15T11:00:00\",\"2017-07-15T11:00:00\",\"2017-07-15T11:00:00\",\"2017-07-15T11:00:00\",\"2017-07-15T11:00:00\",\"2017-07-15T11:00:00\",\"2017-07-15T11:00:00\",\"2017-07-15T11:00:00\",\"2017-07-15T11:00:00\",\"2017-07-15T11:00:00\",\"2017-07-15T12:00:00\",\"2017-07-15T12:00:00\",\"2017-07-15T12:00:00\",\"2017-07-15T12:00:00\",\"2017-07-15T12:00:00\",\"2017-07-15T12:00:00\",\"2017-07-15T12:00:00\",\"2017-07-15T12:00:00\",\"2017-07-15T12:00:00\",\"2017-07-15T12:00:00\",\"2017-07-15T13:00:00\",\"2017-07-15T13:00:00\",\"2017-07-15T13:00:00\",\"2017-07-15T13:00:00\",\"2017-07-15T13:00:00\",\"2017-07-15T13:00:00\",\"2017-07-15T13:00:00\",\"2017-07-15T13:00:00\",\"2017-07-15T13:00:00\",\"2017-07-15T13:00:00\",\"2017-07-15T14:00:00\",\"2017-07-15T14:00:00\",\"2017-07-15T14:00:00\",\"2017-07-15T14:00:00\",\"2017-07-15T14:00:00\",\"2017-07-15T14:00:00\",\"2017-07-15T14:00:00\",\"2017-07-15T14:00:00\",\"2017-07-15T14:00:00\",\"2017-07-15T14:00:00\",\"2017-07-15T15:00:00\",\"2017-07-15T15:00:00\",\"2017-07-15T15:00:00\",\"2017-07-15T15:00:00\",\"2017-07-15T15:00:00\",\"2017-07-15T15:00:00\",\"2017-07-15T15:00:00\",\"2017-07-15T15:00:00\",\"2017-07-15T15:00:00\",\"2017-07-15T15:00:00\",\"2017-07-15T16:00:00\",\"2017-07-15T16:00:00\",\"2017-07-15T16:00:00\",\"2017-07-15T16:00:00\",\"2017-07-15T16:00:00\",\"2017-07-15T16:00:00\",\"2017-07-15T16:00:00\",\"2017-07-15T16:00:00\",\"2017-07-15T16:00:00\",\"2017-07-15T16:00:00\",\"2017-07-16T08:00:00\",\"2017-07-16T08:00:00\",\"2017-07-16T08:00:00\",\"2017-07-16T08:00:00\",\"2017-07-16T08:00:00\",\"2017-07-16T08:00:00\",\"2017-07-16T08:00:00\",\"2017-07-16T08:00:00\",\"2017-07-16T08:00:00\",\"2017-07-16T08:00:00\",\"2017-07-16T09:00:00\",\"2017-07-16T09:00:00\",\"2017-07-16T09:00:00\",\"2017-07-16T09:00:00\",\"2017-07-16T09:00:00\",\"2017-07-16T09:00:00\",\"2017-07-16T09:00:00\",\"2017-07-16T09:00:00\",\"2017-07-16T09:00:00\",\"2017-07-16T09:00:00\",\"2017-07-16T10:00:00\",\"2017-07-16T10:00:00\",\"2017-07-16T10:00:00\",\"2017-07-16T10:00:00\",\"2017-07-16T10:00:00\",\"2017-07-16T10:00:00\",\"2017-07-16T10:00:00\",\"2017-07-16T10:00:00\",\"2017-07-16T10:00:00\",\"2017-07-16T10:00:00\",\"2017-07-16T11:00:00\",\"2017-07-16T11:00:00\",\"2017-07-16T11:00:00\",\"2017-07-16T11:00:00\",\"2017-07-16T11:00:00\",\"2017-07-16T11:00:00\",\"2017-07-16T11:00:00\",\"2017-07-16T11:00:00\",\"2017-07-16T11:00:00\",\"2017-07-16T11:00:00\",\"2017-07-16T12:00:00\",\"2017-07-16T12:00:00\",\"2017-07-16T12:00:00\",\"2017-07-16T12:00:00\",\"2017-07-16T12:00:00\",\"2017-07-16T12:00:00\",\"2017-07-16T12:00:00\",\"2017-07-16T12:00:00\",\"2017-07-16T12:00:00\",\"2017-07-16T12:00:00\",\"2017-07-16T13:00:00\",\"2017-07-16T13:00:00\",\"2017-07-16T13:00:00\",\"2017-07-16T13:00:00\",\"2017-07-16T13:00:00\",\"2017-07-16T13:00:00\",\"2017-07-16T13:00:00\",\"2017-07-16T13:00:00\",\"2017-07-16T13:00:00\",\"2017-07-16T13:00:00\",\"2017-07-16T14:00:00\",\"2017-07-16T14:00:00\",\"2017-07-16T14:00:00\",\"2017-07-16T14:00:00\",\"2017-07-16T14:00:00\",\"2017-07-16T14:00:00\",\"2017-07-16T14:00:00\",\"2017-07-16T14:00:00\",\"2017-07-16T14:00:00\",\"2017-07-16T14:00:00\",\"2017-07-16T15:00:00\",\"2017-07-16T15:00:00\",\"2017-07-16T15:00:00\",\"2017-07-16T15:00:00\",\"2017-07-16T15:00:00\",\"2017-07-16T15:00:00\",\"2017-07-16T15:00:00\",\"2017-07-16T15:00:00\",\"2017-07-16T15:00:00\",\"2017-07-16T15:00:00\",\"2017-07-16T16:00:00\",\"2017-07-16T16:00:00\",\"2017-07-16T16:00:00\",\"2017-07-16T16:00:00\",\"2017-07-16T16:00:00\",\"2017-07-16T16:00:00\",\"2017-07-16T16:00:00\",\"2017-07-16T16:00:00\",\"2017-07-16T16:00:00\",\"2017-07-16T16:00:00\",\"2017-07-17T08:00:00\",\"2017-07-17T08:00:00\",\"2017-07-17T08:00:00\",\"2017-07-17T08:00:00\",\"2017-07-17T08:00:00\",\"2017-07-17T08:00:00\",\"2017-07-17T08:00:00\",\"2017-07-17T08:00:00\",\"2017-07-17T08:00:00\",\"2017-07-17T08:00:00\",\"2017-07-17T09:00:00\",\"2017-07-17T09:00:00\",\"2017-07-17T09:00:00\",\"2017-07-17T09:00:00\",\"2017-07-17T09:00:00\",\"2017-07-17T09:00:00\",\"2017-07-17T09:00:00\",\"2017-07-17T09:00:00\",\"2017-07-17T09:00:00\",\"2017-07-17T09:00:00\",\"2017-07-17T10:00:00\",\"2017-07-17T10:00:00\",\"2017-07-17T10:00:00\",\"2017-07-17T10:00:00\",\"2017-07-17T10:00:00\",\"2017-07-17T10:00:00\",\"2017-07-17T10:00:00\",\"2017-07-17T10:00:00\",\"2017-07-17T10:00:00\",\"2017-07-17T10:00:00\",\"2017-07-17T11:00:00\",\"2017-07-17T11:00:00\",\"2017-07-17T11:00:00\",\"2017-07-17T11:00:00\",\"2017-07-17T11:00:00\",\"2017-07-17T11:00:00\",\"2017-07-17T11:00:00\",\"2017-07-17T11:00:00\",\"2017-07-17T11:00:00\",\"2017-07-17T11:00:00\",\"2017-07-17T12:00:00\",\"2017-07-17T12:00:00\",\"2017-07-17T12:00:00\",\"2017-07-17T12:00:00\",\"2017-07-17T12:00:00\",\"2017-07-17T12:00:00\",\"2017-07-17T12:00:00\",\"2017-07-17T12:00:00\",\"2017-07-17T12:00:00\",\"2017-07-17T12:00:00\",\"2017-07-17T13:00:00\",\"2017-07-17T13:00:00\",\"2017-07-17T13:00:00\",\"2017-07-17T13:00:00\",\"2017-07-17T13:00:00\",\"2017-07-17T13:00:00\",\"2017-07-17T13:00:00\",\"2017-07-17T13:00:00\",\"2017-07-17T13:00:00\",\"2017-07-17T13:00:00\",\"2017-07-17T14:00:00\",\"2017-07-17T14:00:00\",\"2017-07-17T14:00:00\",\"2017-07-17T14:00:00\",\"2017-07-17T14:00:00\",\"2017-07-17T14:00:00\",\"2017-07-17T14:00:00\",\"2017-07-17T14:00:00\",\"2017-07-17T14:00:00\",\"2017-07-17T14:00:00\",\"2017-07-17T15:00:00\",\"2017-07-17T15:00:00\",\"2017-07-17T15:00:00\",\"2017-07-17T15:00:00\",\"2017-07-17T15:00:00\",\"2017-07-17T15:00:00\",\"2017-07-17T15:00:00\",\"2017-07-17T15:00:00\",\"2017-07-17T15:00:00\",\"2017-07-17T15:00:00\",\"2017-07-17T16:00:00\",\"2017-07-17T16:00:00\",\"2017-07-17T16:00:00\",\"2017-07-17T16:00:00\",\"2017-07-17T16:00:00\",\"2017-07-17T16:00:00\",\"2017-07-17T16:00:00\",\"2017-07-17T16:00:00\",\"2017-07-17T16:00:00\",\"2017-07-17T16:00:00\",\"2017-07-18T08:00:00\",\"2017-07-18T08:00:00\",\"2017-07-18T08:00:00\",\"2017-07-18T08:00:00\",\"2017-07-18T08:00:00\",\"2017-07-18T08:00:00\",\"2017-07-18T08:00:00\",\"2017-07-18T08:00:00\",\"2017-07-18T08:00:00\",\"2017-07-18T08:00:00\",\"2017-07-18T09:00:00\",\"2017-07-18T09:00:00\",\"2017-07-18T09:00:00\",\"2017-07-18T09:00:00\",\"2017-07-18T09:00:00\",\"2017-07-18T09:00:00\",\"2017-07-18T09:00:00\",\"2017-07-18T09:00:00\",\"2017-07-18T09:00:00\",\"2017-07-18T09:00:00\",\"2017-07-18T10:00:00\",\"2017-07-18T10:00:00\",\"2017-07-18T10:00:00\",\"2017-07-18T10:00:00\",\"2017-07-18T10:00:00\",\"2017-07-18T10:00:00\",\"2017-07-18T10:00:00\",\"2017-07-18T10:00:00\",\"2017-07-18T10:00:00\",\"2017-07-18T10:00:00\",\"2017-07-18T11:00:00\",\"2017-07-18T11:00:00\",\"2017-07-18T11:00:00\",\"2017-07-18T11:00:00\",\"2017-07-18T11:00:00\",\"2017-07-18T11:00:00\",\"2017-07-18T11:00:00\",\"2017-07-18T11:00:00\",\"2017-07-18T11:00:00\",\"2017-07-18T11:00:00\",\"2017-07-18T12:00:00\",\"2017-07-18T12:00:00\",\"2017-07-18T12:00:00\",\"2017-07-18T12:00:00\",\"2017-07-18T12:00:00\",\"2017-07-18T12:00:00\",\"2017-07-18T12:00:00\",\"2017-07-18T12:00:00\",\"2017-07-18T12:00:00\",\"2017-07-18T12:00:00\",\"2017-07-18T13:00:00\",\"2017-07-18T13:00:00\",\"2017-07-18T13:00:00\",\"2017-07-18T13:00:00\",\"2017-07-18T13:00:00\",\"2017-07-18T13:00:00\",\"2017-07-18T13:00:00\",\"2017-07-18T13:00:00\",\"2017-07-18T13:00:00\",\"2017-07-18T13:00:00\",\"2017-07-18T14:00:00\",\"2017-07-18T14:00:00\",\"2017-07-18T14:00:00\",\"2017-07-18T14:00:00\",\"2017-07-18T14:00:00\",\"2017-07-18T14:00:00\",\"2017-07-18T14:00:00\",\"2017-07-18T14:00:00\",\"2017-07-18T14:00:00\",\"2017-07-18T14:00:00\",\"2017-07-18T15:00:00\",\"2017-07-18T15:00:00\",\"2017-07-18T15:00:00\",\"2017-07-18T15:00:00\",\"2017-07-18T15:00:00\",\"2017-07-18T15:00:00\",\"2017-07-18T15:00:00\",\"2017-07-18T15:00:00\",\"2017-07-18T15:00:00\",\"2017-07-18T15:00:00\",\"2017-07-18T16:00:00\",\"2017-07-18T16:00:00\",\"2017-07-18T16:00:00\",\"2017-07-18T16:00:00\",\"2017-07-18T16:00:00\",\"2017-07-18T16:00:00\",\"2017-07-18T16:00:00\",\"2017-07-18T16:00:00\",\"2017-07-18T16:00:00\",\"2017-07-18T16:00:00\",\"2017-07-19T08:00:00\",\"2017-07-19T08:00:00\",\"2017-07-19T08:00:00\",\"2017-07-19T08:00:00\",\"2017-07-19T08:00:00\",\"2017-07-19T08:00:00\",\"2017-07-19T08:00:00\",\"2017-07-19T08:00:00\",\"2017-07-19T08:00:00\",\"2017-07-19T08:00:00\",\"2017-07-19T09:00:00\",\"2017-07-19T09:00:00\",\"2017-07-19T09:00:00\",\"2017-07-19T09:00:00\",\"2017-07-19T09:00:00\",\"2017-07-19T09:00:00\",\"2017-07-19T09:00:00\",\"2017-07-19T09:00:00\",\"2017-07-19T09:00:00\",\"2017-07-19T09:00:00\",\"2017-07-19T10:00:00\",\"2017-07-19T10:00:00\",\"2017-07-19T10:00:00\",\"2017-07-19T10:00:00\",\"2017-07-19T10:00:00\",\"2017-07-19T10:00:00\",\"2017-07-19T10:00:00\",\"2017-07-19T10:00:00\",\"2017-07-19T10:00:00\",\"2017-07-19T10:00:00\",\"2017-07-19T11:00:00\",\"2017-07-19T11:00:00\",\"2017-07-19T11:00:00\",\"2017-07-19T11:00:00\",\"2017-07-19T11:00:00\",\"2017-07-19T11:00:00\",\"2017-07-19T11:00:00\",\"2017-07-19T11:00:00\",\"2017-07-19T11:00:00\",\"2017-07-19T11:00:00\",\"2017-07-19T12:00:00\",\"2017-07-19T12:00:00\",\"2017-07-19T12:00:00\",\"2017-07-19T12:00:00\",\"2017-07-19T12:00:00\",\"2017-07-19T12:00:00\",\"2017-07-19T12:00:00\",\"2017-07-19T12:00:00\",\"2017-07-19T12:00:00\",\"2017-07-19T12:00:00\",\"2017-07-19T13:00:00\",\"2017-07-19T13:00:00\",\"2017-07-19T13:00:00\",\"2017-07-19T13:00:00\",\"2017-07-19T13:00:00\",\"2017-07-19T13:00:00\",\"2017-07-19T13:00:00\",\"2017-07-19T13:00:00\",\"2017-07-19T13:00:00\",\"2017-07-19T13:00:00\",\"2017-07-19T14:00:00\",\"2017-07-19T14:00:00\",\"2017-07-19T14:00:00\",\"2017-07-19T14:00:00\",\"2017-07-19T14:00:00\",\"2017-07-19T14:00:00\",\"2017-07-19T14:00:00\",\"2017-07-19T14:00:00\",\"2017-07-19T14:00:00\",\"2017-07-19T14:00:00\",\"2017-07-19T15:00:00\",\"2017-07-19T15:00:00\",\"2017-07-19T15:00:00\",\"2017-07-19T15:00:00\",\"2017-07-19T15:00:00\",\"2017-07-19T15:00:00\",\"2017-07-19T15:00:00\",\"2017-07-19T15:00:00\",\"2017-07-19T15:00:00\",\"2017-07-19T15:00:00\",\"2017-07-19T16:00:00\",\"2017-07-19T16:00:00\",\"2017-07-19T16:00:00\",\"2017-07-19T16:00:00\",\"2017-07-19T16:00:00\",\"2017-07-19T16:00:00\",\"2017-07-19T16:00:00\",\"2017-07-19T16:00:00\",\"2017-07-19T16:00:00\",\"2017-07-19T16:00:00\"],\"xaxis\":\"x\",\"y\":[247,138,311,770,1476,73,687,789,674,487,429,213,423,1130,2511,116,941,1013,1045,599,534,273,539,1333,3044,186,1151,1254,1266,724,597,333,613,1437,3230,256,1250,1433,1378,829,614,343,657,1469,3260,275,1306,1493,1406,845,605,342,660,1457,3241,278,1297,1470,1376,820,585,341,646,1439,3154,247,1271,1461,1361,824,538,316,602,1390,3020,201,1178,1355,1276,762,470,279,520,1227,2665,171,1028,1184,1130,673,335,178,339,788,1608,68,769,826,745,496,487,265,473,1147,2561,92,1012,1099,1092,635,595,346,587,1388,3126,137,1191,1348,1297,770,612,349,649,1439,3203,171,1268,1445,1349,805,591,346,670,1455,3222,192,1287,1481,1380,820,595,354,672,1436,3155,188,1288,1499,1395,836,588,354,644,1431,3149,183,1246,1462,1384,827,530,335,593,1387,2972,154,1144,1364,1323,780,454,293,522,1212,2580,130,1001,1207,1161,694,258,142,401,781,1570,72,794,862,712,470,398,201,514,1128,2426,104,1008,1064,992,559,521,277,587,1294,2859,169,1167,1270,1231,692,578,309,623,1375,3052,200,1238,1372,1312,758,609,331,668,1417,3135,215,1292,1445,1357,786,614,339,609,1431,3146,217,1229,1394,1353,794,590,337,591,1430,3143,209,1187,1372,1346,790,518,305,556,1355,2930,167,1090,1277,1255,730,443,269,510,1179,2551,144,982,1166,1132,665,259,135,452,747,1418,70,830,880,664,437,381,192,540,1022,2158,112,1012,1071,926,540,456,233,615,1195,2525,181,1147,1232,1050,626,499,263,652,1259,2647,208,1192,1309,1099,666,518,285,674,1271,2678,219,1217,1370,1145,706,520,295,676,1276,2685,210,1199,1375,1133,708,503,295,645,1254,2591,202,1134,1320,1121,684,443,269,607,1189,2364,181,1048,1231,1051,633,404,249,551,1060,2132,167,945,1115,968,573,119,79,402,346,586,70,653,720,376,327,204,137,430,464,772,113,711,831,442,410,312,207,451,593,1010,200,768,939,527,497,397,242,466,710,1199,263,827,996,567,539,466,279,506,814,1405,329,907,1113,620,616,551,339,548,884,1510,366,1000,1266,729,727,588,354,602,934,1588,409,1108,1397,794,804,589,353,623,963,1609,415,1127,1430,811,816,582,347,621,874,1473,390,1135,1402,819,790,116,101,297,294,570,51,539,650,396,362,167,127,301,291,584,52,570,682,422,390,239,165,312,317,635,73,612,709,481,406,363,231,315,389,736,135,669,821,562,515,456,298,311,474,859,179,677,912,602,610,506,353,322,496,892,214,686,987,667,674,489,353,364,506,939,218,705,1045,694,694,453,341,375,487,898,200,698,1055,705,691,373,295,373,430,770,164,663,977,662,613,208,103,294,676,1433,65,630,638,610,353,324,162,417,1058,2367,82,855,870,918,462,425,229,509,1247,2815,122,1019,1080,1102,580,467,256,535,1309,2957,158,1077,1161,1167,635,500,280,556,1340,3023,180,1102,1213,1230,666,514,302,563,1344,3033,185,1100,1247,1253,698,511,293,541,1316,2976,170,1081,1223,1223,691,467,277,522,1253,2838,146,1021,1163,1153,650,426,254,462,1144,2569,139,928,1056,1063,603,295,181,350,705,1533,73,736,826,733,485,443,249,454,1091,2494,102,967,1053,1066,608,524,321,557,1319,3043,176,1131,1312,1307,764,558,343,611,1378,3164,228,1226,1417,1381,815,567,347,642,1440,3217,234,1268,1468,1422,840,568,351,651,1434,3206,226,1274,1483,1427,841,555,352,647,1403,3138,217,1247,1471,1407,833,536,351,610,1299,2920,176,1164,1389,1336,788,469,312,541,1158,2581,159,1026,1230,1188,698,342,209,364,743,1621,66,756,845,753,490,470,274,448,1106,2493,82,935,1033,1050,594,550,334,557,1342,3004,121,1096,1259,1280,711,585,351,609,1401,3140,137,1176,1347,1350,747,604,354,642,1416,3150,167,1235,1413,1368,780,603,354,651,1406,3138,173,1248,1440,1353,798,591,340,621,1383,3093,176,1211,1378,1319,766,566,330,592,1272,2871,149,1149,1303,1269,720,534,308,536,1133,2568,130,1059,1193,1153,666,285,155,378,736,1600,74,751,791,663,422,403,211,440,1111,2499,106,896,941,949,510,505,278,525,1331,3026,175,1082,1174,1161,658,582,342,558,1402,3190,229,1142,1302,1280,753,600,352,587,1437,3231,240,1192,1364,1321,786,612,350,610,1437,3205,223,1228,1385,1318,792,612,353,592,1411,3152,214,1214,1380,1318,797,563,324,557,1344,2954,171,1150,1297,1246,749,521,326,508,1213,2642,141,1026,1214,1161,715,277,130,354,698,1416,66,775,770,655,425,462,193,448,1019,2213,109,1013,964,919,525,583,246,498,1201,2594,166,1150,1111,1067,622,662,282,540,1248,2698,229,1237,1202,1142,671,690,304,544,1249,2684,233,1253,1242,1183,712,712,324,553,1234,2638,214,1269,1269,1213,726,684,323,555,1200,2541,191,1232,1256,1207,710,608,308,523,1143,2391,180,1134,1193,1131,679,448,260,473,978,2066,147,949,1057,1032,593,141,116,271,351,611,72,549,640,460,378,212,176,299,446,746,110,610,769,554,479,310,239,334,561,952,180,713,928,679,603,417,299,336,638,1096,248,765,1009,759,682,506,344,344,717,1258,306,835,1132,826,797,554,354,425,857,1450,361,1006,1294,907,878,556,354,489,889,1481,418,1071,1410,939,930,535,354,507,914,1518,451,1069,1422,961,936,508,353,506,862,1408,421,1058,1411,974,914,255,166,274,333,617,57,674,755,573,490,521,345,409,529,1113,66,930,1120,832,720,601,354,480,752,1507,66,1073,1216,888,749,639,354,557,869,1656,65,1172,1310,905,762,678,354,633,977,1843,114,1278,1417,915,793,666,354,649,974,1790,155,1288,1458,945,818,551,354,592,880,1532,189,1074,1359,901,776,459,315,529,723,1208,201,939,1232,831,712,378,275,450,576,965,182,804,1074,785,633,241,118,303,648,1374,63,674,672,627,378,352,171,395,949,2165,85,862,862,926,476,453,242,494,1191,2730,128,1017,1080,1147,595,538,285,538,1276,2893,162,1114,1199,1243,670,575,285,549,1297,2944,168,1169,1229,1276,694,597,298,556,1301,2958,166,1200,1268,1301,721,603,300,566,1286,2890,170,1214,1278,1297,721,567,277,540,1251,2759,142,1169,1218,1240,687,609,260,494,1106,2441,124,1155,1133,1194,648,304,185,337,742,1515,69,763,839,787,511,458,240,438,1101,2445,100,993,1041,1087,612,580,318,544,1327,2953,187,1194,1291,1335,756,649,343,587,1379,3091,237,1283,1377,1406,799,687,345,605,1418,3125,240,1332,1406,1415,814,692,348,625,1418,3140,246,1351,1423,1418,815,697,349,613,1396,3110,235,1340,1401,1405,797,679,327,563,1338,2957,174,1278,1310,1328,756,656,309,528,1228,2659,158,1227,1240,1246,721,451,179,350,739,1476,60,900,826,754,485,618,263,467,1170,2475,85,1125,1058,1099,600,712,325,562,1369,2895,144,1289,1281,1294,728,763,348,601,1421,3051,186,1380,1378,1381,786,781,350,633,1448,3107,190,1429,1424,1352,800,793,354,650,1428,3069,176,1454,1458,1366,819,775,353,656,1399,2984,170,1440,1454,1342,807,766,353,598,1361,2844,153,1358,1365,1294,776,709,317,508,1186,2512,126,1210,1202,1170,703,84,66,264,297,525,68,520,566,371,311,135,98,310,389,681,102,592,668,428,367,220,146,344,505,856,165,669,774,503,439,362,227,368,609,1063,248,769,925,629,566,508,311,425,704,1221,333,887,1100,761,684,579,353,481,790,1356,389,1006,1285,844,813,576,353,512,816,1371,439,1045,1363,860,860,573,352,525,804,1363,433,1062,1372,873,856,563,341,520,753,1271,393,1086,1369,889,858,96,82,297,312,541,57,588,653,429,366,144,110,306,344,593,60,607,686,450,393,250,165,316,377,649,69,657,750,514,443,418,281,315,423,735,116,689,871,609,572,535,354,313,517,863,153,738,1002,717,698,549,354,410,542,925,201,881,1202,771,801,522,354,485,549,946,235,955,1332,818,856,497,354,512,535,928,228,979,1369,836,866,445,329,471,480,833,188,887,1227,800,765,198,86,321,727,1454,64,690,670,647,358,291,139,390,1021,2192,82,829,828,885,447,382,182,450,1127,2437,123,956,967,1032,526,480,228,474,1180,2553,164,1039,1063,1125,598,562,281,510,1243,2632,200,1102,1158,1211,668,590,310,521,1256,2660,217,1122,1215,1250,703,587,319,514,1261,2638,228,1102,1220,1260,715,539,308,492,1248,2604,218,1057,1190,1265,707,447,272,459,1120,2323,201,942,1078,1147,628,268,142,314,674,1380,64,721,741,721,436,382,196,400,932,2083,104,911,931,1007,540,489,244,480,1144,2559,182,1085,1113,1216,642,605,306,525,1199,2684,258,1193,1258,1324,742,689,353,550,1229,2767,312,1258,1345,1403,804,689,352,583,1253,2797,354,1295,1388,1409,814,689,355,592,1240,2768,374,1302,1399,1409,817,652,344,586,1218,2655,349,1254,1376,1346,799,573,299,531,1111,2395,282,1150,1247,1226,725,275,160,358,730,1508,72,745,798,723,449,389,225,441,998,2165,96,918,1008,1003,576,500,292,521,1138,2518,134,1070,1201,1205,689,634,347,549,1192,2651,191,1173,1294,1298,756,764,353,566,1237,2713,214,1330,1346,1355,789,892,354,623,1261,2742,253,1525,1447,1382,833,1157,354,617,1277,2761,276,1782,1443,1403,835,1147,353,606,1252,2676,261,1771,1421,1381,824,1063,321,558,1127,2390,221,1640,1290,1266,741,256,115,429,731,1506,69,866,848,727,428,545,184,485,995,2173,99,1153,1002,967,526,949,224,536,1119,2470,126,1590,1125,1113,598,1097,285,598,1189,2634,198,1757,1289,1232,700,1261,329,627,1229,2712,231,1920,1389,1358,771,1166,354,666,1263,2744,280,1838,1480,1394,823,1229,354,660,1272,2733,289,1894,1490,1385,839,1188,354,634,1247,2665,275,1830,1457,1355,832,1050,306,575,1108,2408,250,1659,1307,1235,741,194,94,357,568,1175,66,734,733,593,385,460,161,434,844,1869,108,1044,922,887,497,845,198,500,990,2140,180,1476,1059,1024,568,985,271,534,1040,2244,239,1575,1187,1140,662,1091,298,565,1079,2308,278,1688,1280,1198,724,936,334,609,1111,2355,284,1551,1384,1251,784,1200,344,602,1135,2355,305,1781,1387,1258,803,1156,346,592,1120,2257,291,1724,1374,1235,791,1032,310,522,987,1971,265,1545,1209,1136,696,118,88,332,287,553,65,634,683,440,360,322,129,359,392,711,100,839,783,520,433,809,223,404,510,945,173,1288,965,648,570,979,318,411,640,1136,276,1364,1093,760,692,1153,354,445,746,1293,348,1554,1220,847,784,942,354,511,809,1394,377,1384,1310,887,808,1185,354,569,845,1442,383,1774,1453,946,893,1156,354,607,879,1479,426,1788,1507,969,914,1123,346,591,818,1386,426,1765,1451,972,870,195,95,347,728,1457,67,713,736,632,399,303,154,458,1093,2375,101,910,930,934,481,399,212,527,1274,2766,138,1043,1096,1108,578,450,230,553,1320,2913,187,1104,1161,1157,617,536,275,582,1335,2901,208,1147,1226,1226,653,862,327,616,1343,2921,210,1170,1269,1236,695,1249,334,603,1344,2918,198,1558,1257,1239,717,1241,339,571,1272,2763,169,1548,1209,1195,714,362,216,504,1158,2455,139,958,1064,1082,569,228,113,361,757,1493,63,662,676,554,324,360,164,462,1098,2354,100,880,878,874,425,446,231,576,1335,2929,172,1055,1117,1118,550,509,279,619,1406,3113,216,1125,1242,1180,632,529,288,656,1414,3151,253,1184,1297,1225,653,558,308,660,1425,3173,252,1198,1323,1249,672,538,302,638,1434,3137,238,1163,1302,1234,673,478,276,601,1385,3001,189,1072,1213,1166,621,429,255,548,1231,2661,162,970,1108,1057,569,243,118,358,751,1541,61,707,724,625,375,393,200,453,1123,2467,90,909,944,967,500,486,259,548,1365,2983,134,1068,1154,1171,615,539,294,602,1440,3108,176,1162,1282,1269,689,555,304,613,1452,3126,193,1191,1312,1298,708,564,310,648,1446,3087,201,1230,1364,1308,731,562,313,666,1423,3038,197,1254,1384,1293,727,553,307,635,1379,2917,162,1206,1327,1270,701,490,260,560,1152,2512,134,1059,1141,1129,590,259,157,442,755,1605,65,762,829,668,396,399,208,511,1112,2513,89,983,1024,997,522,492,273,589,1305,2987,147,1114,1226,1181,646,549,312,637,1360,3151,204,1194,1344,1274,716,565,319,675,1400,3192,204,1252,1413,1305,747,593,338,517,1411,3212,205,1115,1300,1339,792,585,343,519,1415,3204,196,1106,1299,1351,789,531,308,480,1336,2998,163,1045,1213,1285,742,482,268,420,1202,2637,129,944,1053,1174,642,249,137,361,723,1489,65,667,701,672,349,369,195,438,1085,2356,106,837,887,970,458,444,243,508,1204,2609,144,937,1043,1069,544,510,290,547,1243,2735,188,1003,1149,1159,611,542,310,549,1252,2762,192,1027,1175,1202,638,546,313,563,1258,2729,182,1029,1205,1204,651,545,319,576,1218,2611,188,1045,1232,1206,665,479,260,530,1137,2437,165,988,1100,1119,579,437,210,470,984,2114,145,909,945,993,484,70,59,265,344,621,57,447,503,383,247,131,119,272,439,772,99,460,598,472,335,248,201,299,525,936,190,525,733,592,443,323,245,327,613,1064,252,592,843,652,525,387,291,388,718,1235,297,703,1032,761,653,457,333,476,797,1352,360,858,1232,866,765,473,353,527,817,1389,370,914,1317,900,799,447,340,558,792,1361,399,942,1352,946,805,409,335,557,714,1226,377,912,1333,906,785,70,61,336,291,579,44,549,604,342,277,92,80,340,347,653,48,554,615,360,285,175,128,339,378,716,62,569,667,416,343,306,213,336,452,854,105,603,791,497,464,377,272,345,502,969,162,628,880,595,557,436,325,373,523,1005,197,690,1059,714,695,453,353,436,539,1003,234,728,1166,790,739,440,354,447,512,943,220,726,1176,846,738,399,342,439,428,797,172,670,1074,813,644,208,101,335,706,1442,47,605,611,519,285,365,164,446,1098,2380,70,854,844,849,407,505,252,547,1322,2950,119,1029,1073,1047,535,561,282,601,1378,3089,166,1118,1178,1124,586,574,289,618,1438,3192,169,1157,1232,1189,623,572,288,620,1442,3197,170,1155,1242,1190,631,581,296,623,1441,3184,171,1157,1249,1203,635,525,291,573,1364,3043,157,1045,1167,1142,603,431,258,526,1195,2662,128,923,1057,1036,540,273,157,360,753,1593,45,736,797,687,446,421,223,455,1117,2512,77,934,989,996,543,560,317,579,1394,3168,159,1142,1270,1212,700,610,335,652,1498,3345,205,1262,1389,1348,746,633,344,665,1530,3396,259,1298,1435,1364,781,634,349,681,1523,3376,262,1331,1488,1379,816,638,348,680,1482,3318,232,1327,1488,1382,817,588,326,645,1383,3155,172,1259,1416,1309,780,520,273,571,1204,2740,136,1140,1243,1156,681,262,162,367,733,1595,46,738,818,659,460,431,242,459,1129,2621,70,952,1034,937,584,506,287,558,1340,3094,116,1102,1223,1055,674,568,320,617,1385,3232,160,1223,1369,1158,761,594,348,648,1425,3279,169,1266,1462,1205,823,589,350,687,1446,3274,181,1297,1497,1205,819,575,342,681,1436,3253,172,1280,1481,1189,811,552,344,645,1368,3086,143,1221,1449,1365,813,510,324,571,1200,2704,117,1097,1304,1236,742,290,144,419,803,1716,50,840,855,735,445,444,202,469,1100,2506,74,1022,1006,1027,546,563,277,552,1324,3071,135,1176,1227,1242,684,610,310,608,1411,3255,195,1261,1351,1326,752,649,348,668,1465,3325,217,1330,1462,1375,803,629,349,513,1469,3313,217,1165,1333,1391,829,596,337,515,1467,3303,210,1145,1308,1361,802,532,314,474,1369,3090,171,1049,1220,1290,755,470,285,426,1202,2703,156,931,1079,1165,662,205,104,371,767,1537,51,745,762,644,400,317,160,410,1090,2279,91,828,845,887,487,406,223,369,1332,2726,156,860,956,1034,596,495,277,400,1375,2836,200,924,1069,1123,678,545,315,442,1408,2899,197,981,1164,1176,731,555,331,432,1399,2868,175,972,1187,1206,765,554,342,433,1382,2818,179,963,1181,1199,757,526,343,388,1316,2664,171,871,1120,1161,741,469,311,350,1145,2308,147,781,999,1047,658,96,76,308,326,588,46,561,620,377,321,163,133,338,442,778,82,595,725,451,396,277,198,352,618,1042,168,661,838,543,497,396,269,387,761,1263,260,758,1003,661,625,455,308,415,885,1476,315,818,1120,723,714,512,345,482,983,1639,350,926,1279,839,806,525,354,580,999,1694,425,1057,1431,906,860,513,354,622,1014,1715,458,1103,1511,939,898,459,353,626,933,1581,427,1077,1489,958,872,123,104,185,301,587,33,472,556,420,380,161,133,197,342,639,37,490,597,454,409,305,221,230,390,731,55,566,718,552,497,434,305,244,486,911,104,602,828,621,593,482,348,238,595,1092,163,584,880,646,651,492,354,327,643,1187,213,676,1045,682,727,484,354,356,661,1202,242,705,1069,703,722,459,345,360,611,1108,229,686,1055,685,704,352,283,309,525,958,179,570,888,647,588,217,98,231,757,1621,45,570,548,577,326,323,152,323,1132,2518,70,735,722,848,408,421,219,417,1338,3014,108,887,927,1056,519,486,267,464,1410,3168,144,968,1067,1149,612,534,302,484,1446,3226,167,1007,1139,1213,664,556,324,496,1469,3271,172,1017,1176,1243,689,555,326,492,1456,3261,152,999,1164,1240,681,507,286,444,1410,3128,130,939,1062,1156,627,423,250,374,1259,2787,112,804,912,1037,547,320,171,234,789,1701,47,626,655,691,430,464,237,341,1193,2688,88,840,866,990,534,620,334,465,1474,3274,180,1067,1158,1242,702,654,348,514,1541,3406,235,1151,1250,1293,752,649,341,541,1561,3438,236,1180,1306,1351,774,646,348,559,1545,3388,242,1190,1329,1357,779,650,354,543,1531,3345,257,1170,1317,1354,783,604,338,494,1468,3157,179,1084,1221,1292,736,530,302,428,1314,2816,145,956,1087,1179,668,364,222,224,788,1685,49,643,749,834,534,503,287,332,1179,2586,73,870,974,1141,651,594,349,466,1488,3224,138,1059,1210,1323,753,619,352,534,1546,3304,172,1165,1314,1379,789,635,353,573,1570,3335,183,1227,1382,1416,818,638,352,600,1561,3339,196,1253,1414,1388,825,627,351,588,1521,3252,191,1231,1392,1379,813,584,334,532,1422,3035,168,1141,1297,1310,774,522,307,455,1263,2718,149,1006,1151,1208,705,268,136,297,796,1738,47,700,719,696,431,420,210,371,1169,2625,78,894,929,1020,567,603,357,486,1395,3144,155,1081,1249,1289,772,670,396,536,1480,3309,195,1182,1381,1388,854,676,401,557,1518,3366,219,1220,1439,1433,891,671,403,614,1517,3345,223,1272,1513,1453,915,647,403,604,1490,3287,202,1236,1503,1447,908,603,409,564,1413,3134,159,1130,1439,1409,884,527,374,513,1258,2791,139,1016,1307,1282,803,265,163,255,736,1637,46,546,625,653,379,396,230,326,1080,2374,82,697,792,903,475,483,278,396,1312,2831,166,834,966,1053,579,581,329,450,1377,2983,206,938,1093,1154,652,665,400,475,1386,3005,214,970,1184,1234,718,665,405,477,1383,2968,226,962,1198,1222,730,648,395,484,1394,2926,222,959,1187,1207,712,614,388,465,1312,2723,177,904,1135,1165,679,563,357,438,1168,2408,163,829,1031,1054,602,133,130,242,358,746,43,416,546,383,313,225,209,272,546,998,111,479,696,508,433,351,299,318,726,1294,205,578,885,652,576,488,388,357,853,1554,278,698,1080,815,732,554,411,420,1023,1844,349,849,1262,913,851,555,411,486,1150,2062,438,971,1426,992,949,565,411,567,1214,2145,501,1107,1571,1086,1013,577,397,572,1213,2156,498,1155,1587,1118,1032,620,411,569,1143,2023,461,1165,1569,1130,1009],\"yaxis\":\"y\",\"type\":\"scattergl\"},{\"hovertemplate\":\"partition=validation<br>timestamp=%{x}<br>usage=%{y}<extra></extra>\",\"legendgroup\":\"validation\",\"line\":{\"color\":\"#EF553B\",\"dash\":\"solid\"},\"marker\":{\"symbol\":\"circle\"},\"mode\":\"lines\",\"name\":\"validation\",\"showlegend\":true,\"x\":[\"2017-07-20T08:00:00\",\"2017-07-20T08:00:00\",\"2017-07-20T08:00:00\",\"2017-07-20T08:00:00\",\"2017-07-20T08:00:00\",\"2017-07-20T08:00:00\",\"2017-07-20T08:00:00\",\"2017-07-20T08:00:00\",\"2017-07-20T08:00:00\",\"2017-07-20T08:00:00\",\"2017-07-20T09:00:00\",\"2017-07-20T09:00:00\",\"2017-07-20T09:00:00\",\"2017-07-20T09:00:00\",\"2017-07-20T09:00:00\",\"2017-07-20T09:00:00\",\"2017-07-20T09:00:00\",\"2017-07-20T09:00:00\",\"2017-07-20T09:00:00\",\"2017-07-20T09:00:00\",\"2017-07-20T10:00:00\",\"2017-07-20T10:00:00\",\"2017-07-20T10:00:00\",\"2017-07-20T10:00:00\",\"2017-07-20T10:00:00\",\"2017-07-20T10:00:00\",\"2017-07-20T10:00:00\",\"2017-07-20T10:00:00\",\"2017-07-20T10:00:00\",\"2017-07-20T10:00:00\",\"2017-07-20T11:00:00\",\"2017-07-20T11:00:00\",\"2017-07-20T11:00:00\",\"2017-07-20T11:00:00\",\"2017-07-20T11:00:00\",\"2017-07-20T11:00:00\",\"2017-07-20T11:00:00\",\"2017-07-20T11:00:00\",\"2017-07-20T11:00:00\",\"2017-07-20T11:00:00\",\"2017-07-20T12:00:00\",\"2017-07-20T12:00:00\",\"2017-07-20T12:00:00\",\"2017-07-20T12:00:00\",\"2017-07-20T12:00:00\",\"2017-07-20T12:00:00\",\"2017-07-20T12:00:00\",\"2017-07-20T12:00:00\",\"2017-07-20T12:00:00\",\"2017-07-20T12:00:00\",\"2017-07-20T13:00:00\",\"2017-07-20T13:00:00\",\"2017-07-20T13:00:00\",\"2017-07-20T13:00:00\",\"2017-07-20T13:00:00\",\"2017-07-20T13:00:00\",\"2017-07-20T13:00:00\",\"2017-07-20T13:00:00\",\"2017-07-20T13:00:00\",\"2017-07-20T13:00:00\",\"2017-07-20T14:00:00\",\"2017-07-20T14:00:00\",\"2017-07-20T14:00:00\",\"2017-07-20T14:00:00\",\"2017-07-20T14:00:00\",\"2017-07-20T14:00:00\",\"2017-07-20T14:00:00\",\"2017-07-20T14:00:00\",\"2017-07-20T14:00:00\",\"2017-07-20T14:00:00\",\"2017-07-20T15:00:00\",\"2017-07-20T15:00:00\",\"2017-07-20T15:00:00\",\"2017-07-20T15:00:00\",\"2017-07-20T15:00:00\",\"2017-07-20T15:00:00\",\"2017-07-20T15:00:00\",\"2017-07-20T15:00:00\",\"2017-07-20T15:00:00\",\"2017-07-20T15:00:00\",\"2017-07-20T16:00:00\",\"2017-07-20T16:00:00\",\"2017-07-20T16:00:00\",\"2017-07-20T16:00:00\",\"2017-07-20T16:00:00\",\"2017-07-20T16:00:00\",\"2017-07-20T16:00:00\",\"2017-07-20T16:00:00\",\"2017-07-20T16:00:00\",\"2017-07-20T16:00:00\",\"2017-07-21T08:00:00\",\"2017-07-21T08:00:00\",\"2017-07-21T08:00:00\",\"2017-07-21T08:00:00\",\"2017-07-21T08:00:00\",\"2017-07-21T08:00:00\",\"2017-07-21T08:00:00\",\"2017-07-21T08:00:00\",\"2017-07-21T08:00:00\",\"2017-07-21T08:00:00\",\"2017-07-21T09:00:00\",\"2017-07-21T09:00:00\",\"2017-07-21T09:00:00\",\"2017-07-21T09:00:00\",\"2017-07-21T09:00:00\",\"2017-07-21T09:00:00\",\"2017-07-21T09:00:00\",\"2017-07-21T09:00:00\",\"2017-07-21T09:00:00\",\"2017-07-21T09:00:00\",\"2017-07-21T10:00:00\",\"2017-07-21T10:00:00\",\"2017-07-21T10:00:00\",\"2017-07-21T10:00:00\",\"2017-07-21T10:00:00\",\"2017-07-21T10:00:00\",\"2017-07-21T10:00:00\",\"2017-07-21T10:00:00\",\"2017-07-21T10:00:00\",\"2017-07-21T10:00:00\",\"2017-07-21T11:00:00\",\"2017-07-21T11:00:00\",\"2017-07-21T11:00:00\",\"2017-07-21T11:00:00\",\"2017-07-21T11:00:00\",\"2017-07-21T11:00:00\",\"2017-07-21T11:00:00\",\"2017-07-21T11:00:00\",\"2017-07-21T11:00:00\",\"2017-07-21T11:00:00\",\"2017-07-21T12:00:00\",\"2017-07-21T12:00:00\",\"2017-07-21T12:00:00\",\"2017-07-21T12:00:00\",\"2017-07-21T12:00:00\",\"2017-07-21T12:00:00\",\"2017-07-21T12:00:00\",\"2017-07-21T12:00:00\",\"2017-07-21T12:00:00\",\"2017-07-21T12:00:00\",\"2017-07-21T13:00:00\",\"2017-07-21T13:00:00\",\"2017-07-21T13:00:00\",\"2017-07-21T13:00:00\",\"2017-07-21T13:00:00\",\"2017-07-21T13:00:00\",\"2017-07-21T13:00:00\",\"2017-07-21T13:00:00\",\"2017-07-21T13:00:00\",\"2017-07-21T13:00:00\",\"2017-07-21T14:00:00\",\"2017-07-21T14:00:00\",\"2017-07-21T14:00:00\",\"2017-07-21T14:00:00\",\"2017-07-21T14:00:00\",\"2017-07-21T14:00:00\",\"2017-07-21T14:00:00\",\"2017-07-21T14:00:00\",\"2017-07-21T14:00:00\",\"2017-07-21T14:00:00\",\"2017-07-21T15:00:00\",\"2017-07-21T15:00:00\",\"2017-07-21T15:00:00\",\"2017-07-21T15:00:00\",\"2017-07-21T15:00:00\",\"2017-07-21T15:00:00\",\"2017-07-21T15:00:00\",\"2017-07-21T15:00:00\",\"2017-07-21T15:00:00\",\"2017-07-21T15:00:00\",\"2017-07-21T16:00:00\",\"2017-07-21T16:00:00\",\"2017-07-21T16:00:00\",\"2017-07-21T16:00:00\",\"2017-07-21T16:00:00\",\"2017-07-21T16:00:00\",\"2017-07-21T16:00:00\",\"2017-07-21T16:00:00\",\"2017-07-21T16:00:00\",\"2017-07-21T16:00:00\",\"2017-07-22T08:00:00\",\"2017-07-22T08:00:00\",\"2017-07-22T08:00:00\",\"2017-07-22T08:00:00\",\"2017-07-22T08:00:00\",\"2017-07-22T08:00:00\",\"2017-07-22T08:00:00\",\"2017-07-22T08:00:00\",\"2017-07-22T08:00:00\",\"2017-07-22T08:00:00\",\"2017-07-22T09:00:00\",\"2017-07-22T09:00:00\",\"2017-07-22T09:00:00\",\"2017-07-22T09:00:00\",\"2017-07-22T09:00:00\",\"2017-07-22T09:00:00\",\"2017-07-22T09:00:00\",\"2017-07-22T09:00:00\",\"2017-07-22T09:00:00\",\"2017-07-22T09:00:00\",\"2017-07-22T10:00:00\",\"2017-07-22T10:00:00\",\"2017-07-22T10:00:00\",\"2017-07-22T10:00:00\",\"2017-07-22T10:00:00\",\"2017-07-22T10:00:00\",\"2017-07-22T10:00:00\",\"2017-07-22T10:00:00\",\"2017-07-22T10:00:00\",\"2017-07-22T10:00:00\",\"2017-07-22T11:00:00\",\"2017-07-22T11:00:00\",\"2017-07-22T11:00:00\",\"2017-07-22T11:00:00\",\"2017-07-22T11:00:00\",\"2017-07-22T11:00:00\",\"2017-07-22T11:00:00\",\"2017-07-22T11:00:00\",\"2017-07-22T11:00:00\",\"2017-07-22T11:00:00\",\"2017-07-22T12:00:00\",\"2017-07-22T12:00:00\",\"2017-07-22T12:00:00\",\"2017-07-22T12:00:00\",\"2017-07-22T12:00:00\",\"2017-07-22T12:00:00\",\"2017-07-22T12:00:00\",\"2017-07-22T12:00:00\",\"2017-07-22T12:00:00\",\"2017-07-22T12:00:00\",\"2017-07-22T13:00:00\",\"2017-07-22T13:00:00\",\"2017-07-22T13:00:00\",\"2017-07-22T13:00:00\",\"2017-07-22T13:00:00\",\"2017-07-22T13:00:00\",\"2017-07-22T13:00:00\",\"2017-07-22T13:00:00\",\"2017-07-22T13:00:00\",\"2017-07-22T13:00:00\",\"2017-07-22T14:00:00\",\"2017-07-22T14:00:00\",\"2017-07-22T14:00:00\",\"2017-07-22T14:00:00\",\"2017-07-22T14:00:00\",\"2017-07-22T14:00:00\",\"2017-07-22T14:00:00\",\"2017-07-22T14:00:00\",\"2017-07-22T14:00:00\",\"2017-07-22T14:00:00\",\"2017-07-22T15:00:00\",\"2017-07-22T15:00:00\",\"2017-07-22T15:00:00\",\"2017-07-22T15:00:00\",\"2017-07-22T15:00:00\",\"2017-07-22T15:00:00\",\"2017-07-22T15:00:00\",\"2017-07-22T15:00:00\",\"2017-07-22T15:00:00\",\"2017-07-22T15:00:00\",\"2017-07-22T16:00:00\",\"2017-07-22T16:00:00\",\"2017-07-22T16:00:00\",\"2017-07-22T16:00:00\",\"2017-07-22T16:00:00\",\"2017-07-22T16:00:00\",\"2017-07-22T16:00:00\",\"2017-07-22T16:00:00\",\"2017-07-22T16:00:00\",\"2017-07-22T16:00:00\",\"2017-07-23T08:00:00\",\"2017-07-23T08:00:00\",\"2017-07-23T08:00:00\",\"2017-07-23T08:00:00\",\"2017-07-23T08:00:00\",\"2017-07-23T08:00:00\",\"2017-07-23T08:00:00\",\"2017-07-23T08:00:00\",\"2017-07-23T08:00:00\",\"2017-07-23T08:00:00\",\"2017-07-23T09:00:00\",\"2017-07-23T09:00:00\",\"2017-07-23T09:00:00\",\"2017-07-23T09:00:00\",\"2017-07-23T09:00:00\",\"2017-07-23T09:00:00\",\"2017-07-23T09:00:00\",\"2017-07-23T09:00:00\",\"2017-07-23T09:00:00\",\"2017-07-23T09:00:00\",\"2017-07-23T10:00:00\",\"2017-07-23T10:00:00\",\"2017-07-23T10:00:00\",\"2017-07-23T10:00:00\",\"2017-07-23T10:00:00\",\"2017-07-23T10:00:00\",\"2017-07-23T10:00:00\",\"2017-07-23T10:00:00\",\"2017-07-23T10:00:00\",\"2017-07-23T10:00:00\",\"2017-07-23T11:00:00\",\"2017-07-23T11:00:00\",\"2017-07-23T11:00:00\",\"2017-07-23T11:00:00\",\"2017-07-23T11:00:00\",\"2017-07-23T11:00:00\",\"2017-07-23T11:00:00\",\"2017-07-23T11:00:00\",\"2017-07-23T11:00:00\",\"2017-07-23T11:00:00\",\"2017-07-23T12:00:00\",\"2017-07-23T12:00:00\",\"2017-07-23T12:00:00\",\"2017-07-23T12:00:00\",\"2017-07-23T12:00:00\",\"2017-07-23T12:00:00\",\"2017-07-23T12:00:00\",\"2017-07-23T12:00:00\",\"2017-07-23T12:00:00\",\"2017-07-23T12:00:00\",\"2017-07-23T13:00:00\",\"2017-07-23T13:00:00\",\"2017-07-23T13:00:00\",\"2017-07-23T13:00:00\",\"2017-07-23T13:00:00\",\"2017-07-23T13:00:00\",\"2017-07-23T13:00:00\",\"2017-07-23T13:00:00\",\"2017-07-23T13:00:00\",\"2017-07-23T13:00:00\",\"2017-07-23T14:00:00\",\"2017-07-23T14:00:00\",\"2017-07-23T14:00:00\",\"2017-07-23T14:00:00\",\"2017-07-23T14:00:00\",\"2017-07-23T14:00:00\",\"2017-07-23T14:00:00\",\"2017-07-23T14:00:00\",\"2017-07-23T14:00:00\",\"2017-07-23T14:00:00\",\"2017-07-23T15:00:00\",\"2017-07-23T15:00:00\",\"2017-07-23T15:00:00\",\"2017-07-23T15:00:00\",\"2017-07-23T15:00:00\",\"2017-07-23T15:00:00\",\"2017-07-23T15:00:00\",\"2017-07-23T15:00:00\",\"2017-07-23T15:00:00\",\"2017-07-23T15:00:00\",\"2017-07-23T16:00:00\",\"2017-07-23T16:00:00\",\"2017-07-23T16:00:00\",\"2017-07-23T16:00:00\",\"2017-07-23T16:00:00\",\"2017-07-23T16:00:00\",\"2017-07-23T16:00:00\",\"2017-07-23T16:00:00\",\"2017-07-23T16:00:00\",\"2017-07-23T16:00:00\",\"2017-07-24T08:00:00\",\"2017-07-24T08:00:00\",\"2017-07-24T08:00:00\",\"2017-07-24T08:00:00\",\"2017-07-24T08:00:00\",\"2017-07-24T08:00:00\",\"2017-07-24T08:00:00\",\"2017-07-24T08:00:00\",\"2017-07-24T08:00:00\",\"2017-07-24T08:00:00\",\"2017-07-24T09:00:00\",\"2017-07-24T09:00:00\",\"2017-07-24T09:00:00\",\"2017-07-24T09:00:00\",\"2017-07-24T09:00:00\",\"2017-07-24T09:00:00\",\"2017-07-24T09:00:00\",\"2017-07-24T09:00:00\",\"2017-07-24T09:00:00\",\"2017-07-24T09:00:00\",\"2017-07-24T10:00:00\",\"2017-07-24T10:00:00\",\"2017-07-24T10:00:00\",\"2017-07-24T10:00:00\",\"2017-07-24T10:00:00\",\"2017-07-24T10:00:00\",\"2017-07-24T10:00:00\",\"2017-07-24T10:00:00\",\"2017-07-24T10:00:00\",\"2017-07-24T10:00:00\",\"2017-07-24T11:00:00\",\"2017-07-24T11:00:00\",\"2017-07-24T11:00:00\",\"2017-07-24T11:00:00\",\"2017-07-24T11:00:00\",\"2017-07-24T11:00:00\",\"2017-07-24T11:00:00\",\"2017-07-24T11:00:00\",\"2017-07-24T11:00:00\",\"2017-07-24T11:00:00\",\"2017-07-24T12:00:00\",\"2017-07-24T12:00:00\",\"2017-07-24T12:00:00\",\"2017-07-24T12:00:00\",\"2017-07-24T12:00:00\",\"2017-07-24T12:00:00\",\"2017-07-24T12:00:00\",\"2017-07-24T12:00:00\",\"2017-07-24T12:00:00\",\"2017-07-24T12:00:00\",\"2017-07-24T13:00:00\",\"2017-07-24T13:00:00\",\"2017-07-24T13:00:00\",\"2017-07-24T13:00:00\",\"2017-07-24T13:00:00\",\"2017-07-24T13:00:00\",\"2017-07-24T13:00:00\",\"2017-07-24T13:00:00\",\"2017-07-24T13:00:00\",\"2017-07-24T13:00:00\",\"2017-07-24T14:00:00\",\"2017-07-24T14:00:00\",\"2017-07-24T14:00:00\",\"2017-07-24T14:00:00\",\"2017-07-24T14:00:00\",\"2017-07-24T14:00:00\",\"2017-07-24T14:00:00\",\"2017-07-24T14:00:00\",\"2017-07-24T14:00:00\",\"2017-07-24T14:00:00\",\"2017-07-24T15:00:00\",\"2017-07-24T15:00:00\",\"2017-07-24T15:00:00\",\"2017-07-24T15:00:00\",\"2017-07-24T15:00:00\",\"2017-07-24T15:00:00\",\"2017-07-24T15:00:00\",\"2017-07-24T15:00:00\",\"2017-07-24T15:00:00\",\"2017-07-24T15:00:00\",\"2017-07-24T16:00:00\",\"2017-07-24T16:00:00\",\"2017-07-24T16:00:00\",\"2017-07-24T16:00:00\",\"2017-07-24T16:00:00\",\"2017-07-24T16:00:00\",\"2017-07-24T16:00:00\",\"2017-07-24T16:00:00\",\"2017-07-24T16:00:00\",\"2017-07-24T16:00:00\",\"2017-07-25T08:00:00\",\"2017-07-25T08:00:00\",\"2017-07-25T08:00:00\",\"2017-07-25T08:00:00\",\"2017-07-25T08:00:00\",\"2017-07-25T08:00:00\",\"2017-07-25T08:00:00\",\"2017-07-25T08:00:00\",\"2017-07-25T08:00:00\",\"2017-07-25T08:00:00\",\"2017-07-25T09:00:00\",\"2017-07-25T09:00:00\",\"2017-07-25T09:00:00\",\"2017-07-25T09:00:00\",\"2017-07-25T09:00:00\",\"2017-07-25T09:00:00\",\"2017-07-25T09:00:00\",\"2017-07-25T09:00:00\",\"2017-07-25T09:00:00\",\"2017-07-25T09:00:00\",\"2017-07-25T10:00:00\",\"2017-07-25T10:00:00\",\"2017-07-25T10:00:00\",\"2017-07-25T10:00:00\",\"2017-07-25T10:00:00\",\"2017-07-25T10:00:00\",\"2017-07-25T10:00:00\",\"2017-07-25T10:00:00\",\"2017-07-25T10:00:00\",\"2017-07-25T10:00:00\",\"2017-07-25T11:00:00\",\"2017-07-25T11:00:00\",\"2017-07-25T11:00:00\",\"2017-07-25T11:00:00\",\"2017-07-25T11:00:00\",\"2017-07-25T11:00:00\",\"2017-07-25T11:00:00\",\"2017-07-25T11:00:00\",\"2017-07-25T11:00:00\",\"2017-07-25T11:00:00\",\"2017-07-25T12:00:00\",\"2017-07-25T12:00:00\",\"2017-07-25T12:00:00\",\"2017-07-25T12:00:00\",\"2017-07-25T12:00:00\",\"2017-07-25T12:00:00\",\"2017-07-25T12:00:00\",\"2017-07-25T12:00:00\",\"2017-07-25T12:00:00\",\"2017-07-25T12:00:00\",\"2017-07-25T13:00:00\",\"2017-07-25T13:00:00\",\"2017-07-25T13:00:00\",\"2017-07-25T13:00:00\",\"2017-07-25T13:00:00\",\"2017-07-25T13:00:00\",\"2017-07-25T13:00:00\",\"2017-07-25T13:00:00\",\"2017-07-25T13:00:00\",\"2017-07-25T13:00:00\",\"2017-07-25T14:00:00\",\"2017-07-25T14:00:00\",\"2017-07-25T14:00:00\",\"2017-07-25T14:00:00\",\"2017-07-25T14:00:00\",\"2017-07-25T14:00:00\",\"2017-07-25T14:00:00\",\"2017-07-25T14:00:00\",\"2017-07-25T14:00:00\",\"2017-07-25T14:00:00\",\"2017-07-25T15:00:00\",\"2017-07-25T15:00:00\",\"2017-07-25T15:00:00\",\"2017-07-25T15:00:00\",\"2017-07-25T15:00:00\",\"2017-07-25T15:00:00\",\"2017-07-25T15:00:00\",\"2017-07-25T15:00:00\",\"2017-07-25T15:00:00\",\"2017-07-25T15:00:00\",\"2017-07-25T16:00:00\",\"2017-07-25T16:00:00\",\"2017-07-25T16:00:00\",\"2017-07-25T16:00:00\",\"2017-07-25T16:00:00\",\"2017-07-25T16:00:00\",\"2017-07-25T16:00:00\",\"2017-07-25T16:00:00\",\"2017-07-25T16:00:00\",\"2017-07-25T16:00:00\",\"2017-07-26T08:00:00\",\"2017-07-26T08:00:00\",\"2017-07-26T08:00:00\",\"2017-07-26T08:00:00\",\"2017-07-26T08:00:00\",\"2017-07-26T08:00:00\",\"2017-07-26T08:00:00\",\"2017-07-26T08:00:00\",\"2017-07-26T08:00:00\",\"2017-07-26T08:00:00\",\"2017-07-26T09:00:00\",\"2017-07-26T09:00:00\",\"2017-07-26T09:00:00\",\"2017-07-26T09:00:00\",\"2017-07-26T09:00:00\",\"2017-07-26T09:00:00\",\"2017-07-26T09:00:00\",\"2017-07-26T09:00:00\",\"2017-07-26T09:00:00\",\"2017-07-26T09:00:00\",\"2017-07-26T10:00:00\",\"2017-07-26T10:00:00\",\"2017-07-26T10:00:00\",\"2017-07-26T10:00:00\",\"2017-07-26T10:00:00\",\"2017-07-26T10:00:00\",\"2017-07-26T10:00:00\",\"2017-07-26T10:00:00\",\"2017-07-26T10:00:00\",\"2017-07-26T10:00:00\",\"2017-07-26T11:00:00\",\"2017-07-26T11:00:00\",\"2017-07-26T11:00:00\",\"2017-07-26T11:00:00\",\"2017-07-26T11:00:00\",\"2017-07-26T11:00:00\",\"2017-07-26T11:00:00\",\"2017-07-26T11:00:00\",\"2017-07-26T11:00:00\",\"2017-07-26T11:00:00\",\"2017-07-26T12:00:00\",\"2017-07-26T12:00:00\",\"2017-07-26T12:00:00\",\"2017-07-26T12:00:00\",\"2017-07-26T12:00:00\",\"2017-07-26T12:00:00\",\"2017-07-26T12:00:00\",\"2017-07-26T12:00:00\",\"2017-07-26T12:00:00\",\"2017-07-26T12:00:00\",\"2017-07-26T13:00:00\",\"2017-07-26T13:00:00\",\"2017-07-26T13:00:00\",\"2017-07-26T13:00:00\",\"2017-07-26T13:00:00\",\"2017-07-26T13:00:00\",\"2017-07-26T13:00:00\",\"2017-07-26T13:00:00\",\"2017-07-26T13:00:00\",\"2017-07-26T13:00:00\",\"2017-07-26T14:00:00\",\"2017-07-26T14:00:00\",\"2017-07-26T14:00:00\",\"2017-07-26T14:00:00\",\"2017-07-26T14:00:00\",\"2017-07-26T14:00:00\",\"2017-07-26T14:00:00\",\"2017-07-26T14:00:00\",\"2017-07-26T14:00:00\",\"2017-07-26T14:00:00\",\"2017-07-26T15:00:00\",\"2017-07-26T15:00:00\",\"2017-07-26T15:00:00\",\"2017-07-26T15:00:00\",\"2017-07-26T15:00:00\",\"2017-07-26T15:00:00\",\"2017-07-26T15:00:00\",\"2017-07-26T15:00:00\",\"2017-07-26T15:00:00\",\"2017-07-26T15:00:00\",\"2017-07-26T16:00:00\",\"2017-07-26T16:00:00\",\"2017-07-26T16:00:00\",\"2017-07-26T16:00:00\",\"2017-07-26T16:00:00\",\"2017-07-26T16:00:00\",\"2017-07-26T16:00:00\",\"2017-07-26T16:00:00\",\"2017-07-26T16:00:00\",\"2017-07-26T16:00:00\",\"2017-07-27T08:00:00\",\"2017-07-27T08:00:00\",\"2017-07-27T08:00:00\",\"2017-07-27T08:00:00\",\"2017-07-27T08:00:00\",\"2017-07-27T08:00:00\",\"2017-07-27T08:00:00\",\"2017-07-27T08:00:00\",\"2017-07-27T08:00:00\",\"2017-07-27T08:00:00\",\"2017-07-27T09:00:00\",\"2017-07-27T09:00:00\",\"2017-07-27T09:00:00\",\"2017-07-27T09:00:00\",\"2017-07-27T09:00:00\",\"2017-07-27T09:00:00\",\"2017-07-27T09:00:00\",\"2017-07-27T09:00:00\",\"2017-07-27T09:00:00\",\"2017-07-27T09:00:00\",\"2017-07-27T10:00:00\",\"2017-07-27T10:00:00\",\"2017-07-27T10:00:00\",\"2017-07-27T10:00:00\",\"2017-07-27T10:00:00\",\"2017-07-27T10:00:00\",\"2017-07-27T10:00:00\",\"2017-07-27T10:00:00\",\"2017-07-27T10:00:00\",\"2017-07-27T10:00:00\",\"2017-07-27T11:00:00\",\"2017-07-27T11:00:00\",\"2017-07-27T11:00:00\",\"2017-07-27T11:00:00\",\"2017-07-27T11:00:00\",\"2017-07-27T11:00:00\",\"2017-07-27T11:00:00\",\"2017-07-27T11:00:00\",\"2017-07-27T11:00:00\",\"2017-07-27T11:00:00\",\"2017-07-27T12:00:00\",\"2017-07-27T12:00:00\",\"2017-07-27T12:00:00\",\"2017-07-27T12:00:00\",\"2017-07-27T12:00:00\",\"2017-07-27T12:00:00\",\"2017-07-27T12:00:00\",\"2017-07-27T12:00:00\",\"2017-07-27T12:00:00\",\"2017-07-27T12:00:00\",\"2017-07-27T13:00:00\",\"2017-07-27T13:00:00\",\"2017-07-27T13:00:00\",\"2017-07-27T13:00:00\",\"2017-07-27T13:00:00\",\"2017-07-27T13:00:00\",\"2017-07-27T13:00:00\",\"2017-07-27T13:00:00\",\"2017-07-27T13:00:00\",\"2017-07-27T13:00:00\",\"2017-07-27T14:00:00\",\"2017-07-27T14:00:00\",\"2017-07-27T14:00:00\",\"2017-07-27T14:00:00\",\"2017-07-27T14:00:00\",\"2017-07-27T14:00:00\",\"2017-07-27T14:00:00\",\"2017-07-27T14:00:00\",\"2017-07-27T14:00:00\",\"2017-07-27T14:00:00\",\"2017-07-27T15:00:00\",\"2017-07-27T15:00:00\",\"2017-07-27T15:00:00\",\"2017-07-27T15:00:00\",\"2017-07-27T15:00:00\",\"2017-07-27T15:00:00\",\"2017-07-27T15:00:00\",\"2017-07-27T15:00:00\",\"2017-07-27T15:00:00\",\"2017-07-27T15:00:00\",\"2017-07-27T16:00:00\",\"2017-07-27T16:00:00\",\"2017-07-27T16:00:00\",\"2017-07-27T16:00:00\",\"2017-07-27T16:00:00\",\"2017-07-27T16:00:00\",\"2017-07-27T16:00:00\",\"2017-07-27T16:00:00\",\"2017-07-27T16:00:00\",\"2017-07-27T16:00:00\",\"2017-07-28T08:00:00\",\"2017-07-28T08:00:00\",\"2017-07-28T08:00:00\",\"2017-07-28T08:00:00\",\"2017-07-28T08:00:00\",\"2017-07-28T08:00:00\",\"2017-07-28T08:00:00\",\"2017-07-28T08:00:00\",\"2017-07-28T08:00:00\",\"2017-07-28T08:00:00\",\"2017-07-28T09:00:00\",\"2017-07-28T09:00:00\",\"2017-07-28T09:00:00\",\"2017-07-28T09:00:00\",\"2017-07-28T09:00:00\",\"2017-07-28T09:00:00\",\"2017-07-28T09:00:00\",\"2017-07-28T09:00:00\",\"2017-07-28T09:00:00\",\"2017-07-28T09:00:00\",\"2017-07-28T10:00:00\",\"2017-07-28T10:00:00\",\"2017-07-28T10:00:00\",\"2017-07-28T10:00:00\",\"2017-07-28T10:00:00\",\"2017-07-28T10:00:00\",\"2017-07-28T10:00:00\",\"2017-07-28T10:00:00\",\"2017-07-28T10:00:00\",\"2017-07-28T10:00:00\",\"2017-07-28T11:00:00\",\"2017-07-28T11:00:00\",\"2017-07-28T11:00:00\",\"2017-07-28T11:00:00\",\"2017-07-28T11:00:00\",\"2017-07-28T11:00:00\",\"2017-07-28T11:00:00\",\"2017-07-28T11:00:00\",\"2017-07-28T11:00:00\",\"2017-07-28T11:00:00\",\"2017-07-28T12:00:00\",\"2017-07-28T12:00:00\",\"2017-07-28T12:00:00\",\"2017-07-28T12:00:00\",\"2017-07-28T12:00:00\",\"2017-07-28T12:00:00\",\"2017-07-28T12:00:00\",\"2017-07-28T12:00:00\",\"2017-07-28T12:00:00\",\"2017-07-28T12:00:00\",\"2017-07-28T13:00:00\",\"2017-07-28T13:00:00\",\"2017-07-28T13:00:00\",\"2017-07-28T13:00:00\",\"2017-07-28T13:00:00\",\"2017-07-28T13:00:00\",\"2017-07-28T13:00:00\",\"2017-07-28T13:00:00\",\"2017-07-28T13:00:00\",\"2017-07-28T13:00:00\",\"2017-07-28T14:00:00\",\"2017-07-28T14:00:00\",\"2017-07-28T14:00:00\",\"2017-07-28T14:00:00\",\"2017-07-28T14:00:00\",\"2017-07-28T14:00:00\",\"2017-07-28T14:00:00\",\"2017-07-28T14:00:00\",\"2017-07-28T14:00:00\",\"2017-07-28T14:00:00\",\"2017-07-28T15:00:00\",\"2017-07-28T15:00:00\",\"2017-07-28T15:00:00\",\"2017-07-28T15:00:00\",\"2017-07-28T15:00:00\",\"2017-07-28T15:00:00\",\"2017-07-28T15:00:00\",\"2017-07-28T15:00:00\",\"2017-07-28T15:00:00\",\"2017-07-28T15:00:00\",\"2017-07-28T16:00:00\",\"2017-07-28T16:00:00\",\"2017-07-28T16:00:00\",\"2017-07-28T16:00:00\",\"2017-07-28T16:00:00\",\"2017-07-28T16:00:00\",\"2017-07-28T16:00:00\",\"2017-07-28T16:00:00\",\"2017-07-28T16:00:00\",\"2017-07-28T16:00:00\",\"2017-07-29T08:00:00\",\"2017-07-29T08:00:00\",\"2017-07-29T08:00:00\",\"2017-07-29T08:00:00\",\"2017-07-29T08:00:00\",\"2017-07-29T08:00:00\",\"2017-07-29T08:00:00\",\"2017-07-29T08:00:00\",\"2017-07-29T08:00:00\",\"2017-07-29T08:00:00\",\"2017-07-29T09:00:00\",\"2017-07-29T09:00:00\",\"2017-07-29T09:00:00\",\"2017-07-29T09:00:00\",\"2017-07-29T09:00:00\",\"2017-07-29T09:00:00\",\"2017-07-29T09:00:00\",\"2017-07-29T09:00:00\",\"2017-07-29T09:00:00\",\"2017-07-29T09:00:00\",\"2017-07-29T10:00:00\",\"2017-07-29T10:00:00\",\"2017-07-29T10:00:00\",\"2017-07-29T10:00:00\",\"2017-07-29T10:00:00\",\"2017-07-29T10:00:00\",\"2017-07-29T10:00:00\",\"2017-07-29T10:00:00\",\"2017-07-29T10:00:00\",\"2017-07-29T10:00:00\",\"2017-07-29T11:00:00\",\"2017-07-29T11:00:00\",\"2017-07-29T11:00:00\",\"2017-07-29T11:00:00\",\"2017-07-29T11:00:00\",\"2017-07-29T11:00:00\",\"2017-07-29T11:00:00\",\"2017-07-29T11:00:00\",\"2017-07-29T11:00:00\",\"2017-07-29T11:00:00\",\"2017-07-29T12:00:00\",\"2017-07-29T12:00:00\",\"2017-07-29T12:00:00\",\"2017-07-29T12:00:00\",\"2017-07-29T12:00:00\",\"2017-07-29T12:00:00\",\"2017-07-29T12:00:00\",\"2017-07-29T12:00:00\",\"2017-07-29T12:00:00\",\"2017-07-29T12:00:00\",\"2017-07-29T13:00:00\",\"2017-07-29T13:00:00\",\"2017-07-29T13:00:00\",\"2017-07-29T13:00:00\",\"2017-07-29T13:00:00\",\"2017-07-29T13:00:00\",\"2017-07-29T13:00:00\",\"2017-07-29T13:00:00\",\"2017-07-29T13:00:00\",\"2017-07-29T13:00:00\",\"2017-07-29T14:00:00\",\"2017-07-29T14:00:00\",\"2017-07-29T14:00:00\",\"2017-07-29T14:00:00\",\"2017-07-29T14:00:00\",\"2017-07-29T14:00:00\",\"2017-07-29T14:00:00\",\"2017-07-29T14:00:00\",\"2017-07-29T14:00:00\",\"2017-07-29T14:00:00\",\"2017-07-29T15:00:00\",\"2017-07-29T15:00:00\",\"2017-07-29T15:00:00\",\"2017-07-29T15:00:00\",\"2017-07-29T15:00:00\",\"2017-07-29T15:00:00\",\"2017-07-29T15:00:00\",\"2017-07-29T15:00:00\",\"2017-07-29T15:00:00\",\"2017-07-29T15:00:00\",\"2017-07-29T16:00:00\",\"2017-07-29T16:00:00\",\"2017-07-29T16:00:00\",\"2017-07-29T16:00:00\",\"2017-07-29T16:00:00\",\"2017-07-29T16:00:00\",\"2017-07-29T16:00:00\",\"2017-07-29T16:00:00\",\"2017-07-29T16:00:00\",\"2017-07-29T16:00:00\",\"2017-07-30T08:00:00\",\"2017-07-30T08:00:00\",\"2017-07-30T08:00:00\",\"2017-07-30T08:00:00\",\"2017-07-30T08:00:00\",\"2017-07-30T08:00:00\",\"2017-07-30T08:00:00\",\"2017-07-30T08:00:00\",\"2017-07-30T08:00:00\",\"2017-07-30T08:00:00\",\"2017-07-30T09:00:00\",\"2017-07-30T09:00:00\",\"2017-07-30T09:00:00\",\"2017-07-30T09:00:00\",\"2017-07-30T09:00:00\",\"2017-07-30T09:00:00\",\"2017-07-30T09:00:00\",\"2017-07-30T09:00:00\",\"2017-07-30T09:00:00\",\"2017-07-30T09:00:00\",\"2017-07-30T10:00:00\",\"2017-07-30T10:00:00\",\"2017-07-30T10:00:00\",\"2017-07-30T10:00:00\",\"2017-07-30T10:00:00\",\"2017-07-30T10:00:00\",\"2017-07-30T10:00:00\",\"2017-07-30T10:00:00\",\"2017-07-30T10:00:00\",\"2017-07-30T10:00:00\",\"2017-07-30T11:00:00\",\"2017-07-30T11:00:00\",\"2017-07-30T11:00:00\",\"2017-07-30T11:00:00\",\"2017-07-30T11:00:00\",\"2017-07-30T11:00:00\",\"2017-07-30T11:00:00\",\"2017-07-30T11:00:00\",\"2017-07-30T11:00:00\",\"2017-07-30T11:00:00\",\"2017-07-30T12:00:00\",\"2017-07-30T12:00:00\",\"2017-07-30T12:00:00\",\"2017-07-30T12:00:00\",\"2017-07-30T12:00:00\",\"2017-07-30T12:00:00\",\"2017-07-30T12:00:00\",\"2017-07-30T12:00:00\",\"2017-07-30T12:00:00\",\"2017-07-30T12:00:00\",\"2017-07-30T13:00:00\",\"2017-07-30T13:00:00\",\"2017-07-30T13:00:00\",\"2017-07-30T13:00:00\",\"2017-07-30T13:00:00\",\"2017-07-30T13:00:00\",\"2017-07-30T13:00:00\",\"2017-07-30T13:00:00\",\"2017-07-30T13:00:00\",\"2017-07-30T13:00:00\",\"2017-07-30T14:00:00\",\"2017-07-30T14:00:00\",\"2017-07-30T14:00:00\",\"2017-07-30T14:00:00\",\"2017-07-30T14:00:00\",\"2017-07-30T14:00:00\",\"2017-07-30T14:00:00\",\"2017-07-30T14:00:00\",\"2017-07-30T14:00:00\",\"2017-07-30T14:00:00\",\"2017-07-30T15:00:00\",\"2017-07-30T15:00:00\",\"2017-07-30T15:00:00\",\"2017-07-30T15:00:00\",\"2017-07-30T15:00:00\",\"2017-07-30T15:00:00\",\"2017-07-30T15:00:00\",\"2017-07-30T15:00:00\",\"2017-07-30T15:00:00\",\"2017-07-30T15:00:00\",\"2017-07-30T16:00:00\",\"2017-07-30T16:00:00\",\"2017-07-30T16:00:00\",\"2017-07-30T16:00:00\",\"2017-07-30T16:00:00\",\"2017-07-30T16:00:00\",\"2017-07-30T16:00:00\",\"2017-07-30T16:00:00\",\"2017-07-30T16:00:00\",\"2017-07-30T16:00:00\",\"2017-08-01T08:00:00\",\"2017-08-01T08:00:00\",\"2017-08-01T08:00:00\",\"2017-08-01T08:00:00\",\"2017-08-01T08:00:00\",\"2017-08-01T08:00:00\",\"2017-08-01T08:00:00\",\"2017-08-01T08:00:00\",\"2017-08-01T08:00:00\",\"2017-08-01T08:00:00\",\"2017-08-01T09:00:00\",\"2017-08-01T09:00:00\",\"2017-08-01T09:00:00\",\"2017-08-01T09:00:00\",\"2017-08-01T09:00:00\",\"2017-08-01T09:00:00\",\"2017-08-01T09:00:00\",\"2017-08-01T09:00:00\",\"2017-08-01T09:00:00\",\"2017-08-01T09:00:00\",\"2017-08-01T10:00:00\",\"2017-08-01T10:00:00\",\"2017-08-01T10:00:00\",\"2017-08-01T10:00:00\",\"2017-08-01T10:00:00\",\"2017-08-01T10:00:00\",\"2017-08-01T10:00:00\",\"2017-08-01T10:00:00\",\"2017-08-01T10:00:00\",\"2017-08-01T10:00:00\",\"2017-08-01T11:00:00\",\"2017-08-01T11:00:00\",\"2017-08-01T11:00:00\",\"2017-08-01T11:00:00\",\"2017-08-01T11:00:00\",\"2017-08-01T11:00:00\",\"2017-08-01T11:00:00\",\"2017-08-01T11:00:00\",\"2017-08-01T11:00:00\",\"2017-08-01T11:00:00\",\"2017-08-01T12:00:00\",\"2017-08-01T12:00:00\",\"2017-08-01T12:00:00\",\"2017-08-01T12:00:00\",\"2017-08-01T12:00:00\",\"2017-08-01T12:00:00\",\"2017-08-01T12:00:00\",\"2017-08-01T12:00:00\",\"2017-08-01T12:00:00\",\"2017-08-01T12:00:00\",\"2017-08-01T13:00:00\",\"2017-08-01T13:00:00\",\"2017-08-01T13:00:00\",\"2017-08-01T13:00:00\",\"2017-08-01T13:00:00\",\"2017-08-01T13:00:00\",\"2017-08-01T13:00:00\",\"2017-08-01T13:00:00\",\"2017-08-01T13:00:00\",\"2017-08-01T13:00:00\",\"2017-08-01T14:00:00\",\"2017-08-01T14:00:00\",\"2017-08-01T14:00:00\",\"2017-08-01T14:00:00\",\"2017-08-01T14:00:00\",\"2017-08-01T14:00:00\",\"2017-08-01T14:00:00\",\"2017-08-01T14:00:00\",\"2017-08-01T14:00:00\",\"2017-08-01T14:00:00\",\"2017-08-01T15:00:00\",\"2017-08-01T15:00:00\",\"2017-08-01T15:00:00\",\"2017-08-01T15:00:00\",\"2017-08-01T15:00:00\",\"2017-08-01T15:00:00\",\"2017-08-01T15:00:00\",\"2017-08-01T15:00:00\",\"2017-08-01T15:00:00\",\"2017-08-01T15:00:00\",\"2017-08-01T16:00:00\",\"2017-08-01T16:00:00\",\"2017-08-01T16:00:00\",\"2017-08-01T16:00:00\",\"2017-08-01T16:00:00\",\"2017-08-01T16:00:00\",\"2017-08-01T16:00:00\",\"2017-08-01T16:00:00\",\"2017-08-01T16:00:00\",\"2017-08-01T16:00:00\",\"2017-08-02T08:00:00\",\"2017-08-02T08:00:00\",\"2017-08-02T08:00:00\",\"2017-08-02T08:00:00\",\"2017-08-02T08:00:00\",\"2017-08-02T08:00:00\",\"2017-08-02T08:00:00\",\"2017-08-02T08:00:00\",\"2017-08-02T08:00:00\",\"2017-08-02T08:00:00\",\"2017-08-02T09:00:00\",\"2017-08-02T09:00:00\",\"2017-08-02T09:00:00\",\"2017-08-02T09:00:00\",\"2017-08-02T09:00:00\",\"2017-08-02T09:00:00\",\"2017-08-02T09:00:00\",\"2017-08-02T09:00:00\",\"2017-08-02T09:00:00\",\"2017-08-02T09:00:00\",\"2017-08-02T10:00:00\",\"2017-08-02T10:00:00\",\"2017-08-02T10:00:00\",\"2017-08-02T10:00:00\",\"2017-08-02T10:00:00\",\"2017-08-02T10:00:00\",\"2017-08-02T10:00:00\",\"2017-08-02T10:00:00\",\"2017-08-02T10:00:00\",\"2017-08-02T10:00:00\",\"2017-08-02T11:00:00\",\"2017-08-02T11:00:00\",\"2017-08-02T11:00:00\",\"2017-08-02T11:00:00\",\"2017-08-02T11:00:00\",\"2017-08-02T11:00:00\",\"2017-08-02T11:00:00\",\"2017-08-02T11:00:00\",\"2017-08-02T11:00:00\",\"2017-08-02T11:00:00\",\"2017-08-02T12:00:00\",\"2017-08-02T12:00:00\",\"2017-08-02T12:00:00\",\"2017-08-02T12:00:00\",\"2017-08-02T12:00:00\",\"2017-08-02T12:00:00\",\"2017-08-02T12:00:00\",\"2017-08-02T12:00:00\",\"2017-08-02T12:00:00\",\"2017-08-02T12:00:00\",\"2017-08-02T13:00:00\",\"2017-08-02T13:00:00\",\"2017-08-02T13:00:00\",\"2017-08-02T13:00:00\",\"2017-08-02T13:00:00\",\"2017-08-02T13:00:00\",\"2017-08-02T13:00:00\",\"2017-08-02T13:00:00\",\"2017-08-02T13:00:00\",\"2017-08-02T13:00:00\",\"2017-08-02T14:00:00\",\"2017-08-02T14:00:00\",\"2017-08-02T14:00:00\",\"2017-08-02T14:00:00\",\"2017-08-02T14:00:00\",\"2017-08-02T14:00:00\",\"2017-08-02T14:00:00\",\"2017-08-02T14:00:00\",\"2017-08-02T14:00:00\",\"2017-08-02T14:00:00\",\"2017-08-02T15:00:00\",\"2017-08-02T15:00:00\",\"2017-08-02T15:00:00\",\"2017-08-02T15:00:00\",\"2017-08-02T15:00:00\",\"2017-08-02T15:00:00\",\"2017-08-02T15:00:00\",\"2017-08-02T15:00:00\",\"2017-08-02T15:00:00\",\"2017-08-02T15:00:00\",\"2017-08-02T16:00:00\",\"2017-08-02T16:00:00\",\"2017-08-02T16:00:00\",\"2017-08-02T16:00:00\",\"2017-08-02T16:00:00\",\"2017-08-02T16:00:00\",\"2017-08-02T16:00:00\",\"2017-08-02T16:00:00\",\"2017-08-02T16:00:00\",\"2017-08-02T16:00:00\",\"2017-08-05T08:00:00\",\"2017-08-05T08:00:00\",\"2017-08-05T08:00:00\",\"2017-08-05T08:00:00\",\"2017-08-05T08:00:00\",\"2017-08-05T08:00:00\",\"2017-08-05T08:00:00\",\"2017-08-05T08:00:00\",\"2017-08-05T08:00:00\",\"2017-08-05T08:00:00\",\"2017-08-05T09:00:00\",\"2017-08-05T09:00:00\",\"2017-08-05T09:00:00\",\"2017-08-05T09:00:00\",\"2017-08-05T09:00:00\",\"2017-08-05T09:00:00\",\"2017-08-05T09:00:00\",\"2017-08-05T09:00:00\",\"2017-08-05T09:00:00\",\"2017-08-05T09:00:00\",\"2017-08-05T10:00:00\",\"2017-08-05T10:00:00\",\"2017-08-05T10:00:00\",\"2017-08-05T10:00:00\",\"2017-08-05T10:00:00\",\"2017-08-05T10:00:00\",\"2017-08-05T10:00:00\",\"2017-08-05T10:00:00\",\"2017-08-05T10:00:00\",\"2017-08-05T10:00:00\",\"2017-08-05T11:00:00\",\"2017-08-05T11:00:00\",\"2017-08-05T11:00:00\",\"2017-08-05T11:00:00\",\"2017-08-05T11:00:00\",\"2017-08-05T11:00:00\",\"2017-08-05T11:00:00\",\"2017-08-05T11:00:00\",\"2017-08-05T11:00:00\",\"2017-08-05T11:00:00\",\"2017-08-05T12:00:00\",\"2017-08-05T12:00:00\",\"2017-08-05T12:00:00\",\"2017-08-05T12:00:00\",\"2017-08-05T12:00:00\",\"2017-08-05T12:00:00\",\"2017-08-05T12:00:00\",\"2017-08-05T12:00:00\",\"2017-08-05T12:00:00\",\"2017-08-05T12:00:00\",\"2017-08-05T13:00:00\",\"2017-08-05T13:00:00\",\"2017-08-05T13:00:00\",\"2017-08-05T13:00:00\",\"2017-08-05T13:00:00\",\"2017-08-05T13:00:00\",\"2017-08-05T13:00:00\",\"2017-08-05T13:00:00\",\"2017-08-05T13:00:00\",\"2017-08-05T13:00:00\",\"2017-08-05T14:00:00\",\"2017-08-05T14:00:00\",\"2017-08-05T14:00:00\",\"2017-08-05T14:00:00\",\"2017-08-05T14:00:00\",\"2017-08-05T14:00:00\",\"2017-08-05T14:00:00\",\"2017-08-05T14:00:00\",\"2017-08-05T14:00:00\",\"2017-08-05T14:00:00\",\"2017-08-05T15:00:00\",\"2017-08-05T15:00:00\",\"2017-08-05T15:00:00\",\"2017-08-05T15:00:00\",\"2017-08-05T15:00:00\",\"2017-08-05T15:00:00\",\"2017-08-05T15:00:00\",\"2017-08-05T15:00:00\",\"2017-08-05T15:00:00\",\"2017-08-05T15:00:00\",\"2017-08-05T16:00:00\",\"2017-08-05T16:00:00\",\"2017-08-05T16:00:00\",\"2017-08-05T16:00:00\",\"2017-08-05T16:00:00\",\"2017-08-05T16:00:00\",\"2017-08-05T16:00:00\",\"2017-08-05T16:00:00\",\"2017-08-05T16:00:00\",\"2017-08-05T16:00:00\"],\"xaxis\":\"x\",\"y\":[146,126,241,293,669,31,474,580,395,348,198,166,254,333,726,33,494,635,434,390,346,257,259,390,840,53,562,750,558,502,528,376,292,489,1056,137,664,951,718,668,723,411,360,613,1276,203,896,1144,785,793,941,411,425,682,1453,277,1197,1291,844,875,1349,411,477,783,1598,318,1673,1383,937,915,1543,411,503,767,1554,299,1895,1410,990,916,1494,408,494,663,1327,240,1821,1320,988,835,292,175,266,745,1764,41,551,611,630,354,397,224,365,1130,2732,63,735,801,906,445,477,274,483,1406,3252,101,938,1043,1107,569,561,334,539,1468,3370,124,1043,1210,1197,680,601,357,558,1502,3398,145,1087,1279,1259,730,624,373,585,1481,3370,156,1120,1340,1276,771,621,369,576,1460,3297,147,1115,1322,1262,755,592,355,538,1386,3140,120,1045,1241,1210,712,532,322,474,1231,2792,102,924,1092,1087,627,359,235,275,771,1708,41,594,713,771,447,514,300,383,1170,2638,75,816,917,1076,543,608,371,485,1435,3242,163,964,1138,1263,662,654,399,549,1506,3404,218,1073,1282,1350,742,657,398,580,1524,3426,241,1121,1326,1350,757,659,399,600,1526,3427,243,1148,1375,1365,784,648,408,605,1505,3382,236,1140,1393,1272,797,603,395,573,1450,3243,184,1053,1313,1208,749,543,377,495,1302,2879,146,904,1174,1236,688,368,262,280,791,1756,38,600,757,827,486,523,343,385,1192,2687,56,812,988,1173,612,614,407,524,1491,3282,109,1016,1259,1357,744,623,405,588,1527,3371,161,1117,1385,1388,806,631,404,623,1551,3397,186,1185,1456,1412,842,641,411,656,1566,3403,196,1225,1510,1431,863,646,411,650,1530,3352,186,1225,1500,1425,864,609,401,559,1442,3215,135,1102,1382,1371,832,547,366,467,1259,2835,111,954,1197,1229,739,285,175,302,765,1704,43,614,687,683,394,449,248,381,1208,2723,90,813,882,1000,510,515,305,477,1406,3139,140,953,1085,1175,617,575,362,530,1487,3319,196,1025,1237,1283,716,624,407,571,1515,3367,220,1078,1369,1358,807,625,409,631,1505,3359,239,1139,1448,1366,830,616,406,629,1494,3325,223,1135,1433,1370,813,591,398,594,1417,3166,185,1067,1357,1303,772,537,366,508,1255,2862,156,929,1193,1184,694,242,164,259,603,1297,53,542,642,559,392,433,253,377,1141,2466,115,808,917,939,549,561,352,451,1431,2979,292,923,1126,1116,684,643,406,516,1527,3142,379,1038,1302,1224,795,651,410,572,1596,3189,399,1108,1423,1294,860,628,411,573,1517,3086,395,1116,1452,1295,888,624,410,567,1490,3060,366,1112,1444,1298,886,586,398,530,1357,2810,350,1031,1360,1250,839,540,361,470,1170,2479,273,927,1191,1144,730,227,156,264,354,816,50,577,669,485,414,350,253,311,566,1134,120,675,869,634,567,502,368,386,739,1433,204,830,1137,823,760,598,410,420,886,1655,307,945,1260,911,849,647,410,501,1164,2048,437,1146,1470,1031,978,661,411,590,1354,2325,517,1272,1634,1090,1053,683,411,696,1498,2514,582,1414,1876,1124,1189,705,410,690,1515,2532,576,1446,1923,1156,1244,762,411,669,1436,2404,552,1461,1895,1172,1235,168,155,273,327,784,31,550,698,483,434,219,183,275,361,835,33,576,732,515,466,373,275,279,447,982,74,633,844,626,574,643,400,299,643,1335,156,799,1040,767,750,835,412,384,885,1715,232,1103,1245,850,870,1113,410,508,1057,1960,300,1530,1435,891,936,1163,411,586,1169,2064,313,1674,1574,945,997,1138,411,595,1140,2013,301,1660,1585,975,999,1080,410,546,951,1718,249,1548,1453,977,916,292,175,266,820,1794,37,601,661,688,404,411,232,352,1161,2593,60,785,855,970,512,547,330,453,1447,3218,121,968,1137,1222,693,624,386,527,1577,3417,196,1080,1313,1313,795,642,402,542,1625,3463,226,1100,1376,1344,843,648,411,387,1631,3457,233,941,1246,1361,868,635,408,375,1646,3456,218,921,1236,1360,870,593,387,353,1558,3272,180,862,1173,1304,829,533,369,293,1360,2857,142,718,1004,1192,720,359,260,288,782,1612,33,625,799,796,520,516,325,387,1146,2544,62,837,992,1097,614,588,345,497,1448,3266,141,1035,1182,1262,694,674,404,580,1571,3466,197,1175,1393,1385,822,683,406,614,1621,3507,215,1205,1433,1407,828,662,406,645,1624,3505,217,1228,1478,1405,842,650,411,634,1612,3490,189,1214,1473,1393,849,625,407,614,1503,3299,161,1167,1442,1335,837,561,380,527,1294,2850,137,1003,1261,1182,743,357,230,287,774,1729,33,636,753,748,475,532,312,388,1142,2650,58,877,1003,1067,624,654,391,481,1431,3262,116,1061,1245,1269,773,681,405,562,1541,3430,168,1174,1392,1329,839,688,407,582,1581,3495,198,1208,1434,1379,861,684,408,617,1584,3504,213,1218,1446,1377,840,671,405,638,1579,3470,205,1233,1474,1380,848,643,400,591,1468,3253,163,1142,1395,1330,813,584,376,507,1303,2880,123,995,1236,1215,738,326,228,455,743,1604,31,781,937,758,491,479,311,554,1155,2573,56,987,1168,1127,623,598,378,656,1430,3153,136,1204,1428,1381,781,655,407,580,1523,3367,183,1192,1451,1455,880,666,406,642,1554,3412,205,1260,1531,1458,898,669,411,674,1595,3436,216,1302,1610,1462,945,653,411,690,1582,3427,199,1313,1627,1476,946,616,402,637,1497,3256,177,1219,1527,1421,899,549,375,598,1323,2943,132,1105,1405,1311,816,296,170,508,736,1656,33,840,903,671,404,399,228,570,1092,2427,67,967,1061,945,500,476,279,662,1310,2843,131,1089,1234,1072,581,580,355,696,1384,3001,190,1130,1325,1186,683,652,410,673,1408,3049,206,1146,1440,1262,776,661,411,694,1396,3052,212,1182,1509,1271,824,667,411,661,1369,3010,205,1160,1462,1288,810,646,397,635,1278,2841,184,1118,1389,1213,763,638,374,569,1096,2438,140,1018,1231,1108,671,252,158,327,781,2132,23,571,651,572,333,393,216,405,1121,2814,48,755,820,847,424,517,300,483,1289,3123,96,903,1038,1059,564,612,368,550,1477,3358,135,1023,1247,1190,706,655,398,584,1569,3461,170,1082,1374,1264,799,649,401,607,1577,3460,186,1092,1419,1276,826,622,392,579,1535,3409,179,1050,1373,1265,803,559,361,542,1476,3316,158,962,1244,1196,711,483,325,474,1278,3018,115,834,1085,1074,620],\"yaxis\":\"y\",\"type\":\"scattergl\"},{\"hovertemplate\":\"partition=test<br>timestamp=%{x}<br>usage=%{y}<extra></extra>\",\"legendgroup\":\"test\",\"line\":{\"color\":\"#00cc96\",\"dash\":\"solid\"},\"marker\":{\"symbol\":\"circle\"},\"mode\":\"lines\",\"name\":\"test\",\"showlegend\":true,\"x\":[\"2017-08-06T08:00:00\",\"2017-08-06T08:00:00\",\"2017-08-06T08:00:00\",\"2017-08-06T08:00:00\",\"2017-08-06T08:00:00\",\"2017-08-06T08:00:00\",\"2017-08-06T08:00:00\",\"2017-08-06T08:00:00\",\"2017-08-06T08:00:00\",\"2017-08-06T08:00:00\",\"2017-08-06T09:00:00\",\"2017-08-06T09:00:00\",\"2017-08-06T09:00:00\",\"2017-08-06T09:00:00\",\"2017-08-06T09:00:00\",\"2017-08-06T09:00:00\",\"2017-08-06T09:00:00\",\"2017-08-06T09:00:00\",\"2017-08-06T09:00:00\",\"2017-08-06T09:00:00\",\"2017-08-06T10:00:00\",\"2017-08-06T10:00:00\",\"2017-08-06T10:00:00\",\"2017-08-06T10:00:00\",\"2017-08-06T10:00:00\",\"2017-08-06T10:00:00\",\"2017-08-06T10:00:00\",\"2017-08-06T10:00:00\",\"2017-08-06T10:00:00\",\"2017-08-06T10:00:00\",\"2017-08-06T11:00:00\",\"2017-08-06T11:00:00\",\"2017-08-06T11:00:00\",\"2017-08-06T11:00:00\",\"2017-08-06T11:00:00\",\"2017-08-06T11:00:00\",\"2017-08-06T11:00:00\",\"2017-08-06T11:00:00\",\"2017-08-06T11:00:00\",\"2017-08-06T11:00:00\",\"2017-08-06T12:00:00\",\"2017-08-06T12:00:00\",\"2017-08-06T12:00:00\",\"2017-08-06T12:00:00\",\"2017-08-06T12:00:00\",\"2017-08-06T12:00:00\",\"2017-08-06T12:00:00\",\"2017-08-06T12:00:00\",\"2017-08-06T12:00:00\",\"2017-08-06T12:00:00\",\"2017-08-06T13:00:00\",\"2017-08-06T13:00:00\",\"2017-08-06T13:00:00\",\"2017-08-06T13:00:00\",\"2017-08-06T13:00:00\",\"2017-08-06T13:00:00\",\"2017-08-06T13:00:00\",\"2017-08-06T13:00:00\",\"2017-08-06T13:00:00\",\"2017-08-06T13:00:00\",\"2017-08-06T14:00:00\",\"2017-08-06T14:00:00\",\"2017-08-06T14:00:00\",\"2017-08-06T14:00:00\",\"2017-08-06T14:00:00\",\"2017-08-06T14:00:00\",\"2017-08-06T14:00:00\",\"2017-08-06T14:00:00\",\"2017-08-06T14:00:00\",\"2017-08-06T14:00:00\",\"2017-08-06T15:00:00\",\"2017-08-06T15:00:00\",\"2017-08-06T15:00:00\",\"2017-08-06T15:00:00\",\"2017-08-06T15:00:00\",\"2017-08-06T15:00:00\",\"2017-08-06T15:00:00\",\"2017-08-06T15:00:00\",\"2017-08-06T15:00:00\",\"2017-08-06T15:00:00\",\"2017-08-06T16:00:00\",\"2017-08-06T16:00:00\",\"2017-08-06T16:00:00\",\"2017-08-06T16:00:00\",\"2017-08-06T16:00:00\",\"2017-08-06T16:00:00\",\"2017-08-06T16:00:00\",\"2017-08-06T16:00:00\",\"2017-08-06T16:00:00\",\"2017-08-06T16:00:00\",\"2017-08-07T08:00:00\",\"2017-08-07T08:00:00\",\"2017-08-07T08:00:00\",\"2017-08-07T08:00:00\",\"2017-08-07T08:00:00\",\"2017-08-07T08:00:00\",\"2017-08-07T08:00:00\",\"2017-08-07T08:00:00\",\"2017-08-07T08:00:00\",\"2017-08-07T08:00:00\",\"2017-08-07T09:00:00\",\"2017-08-07T09:00:00\",\"2017-08-07T09:00:00\",\"2017-08-07T09:00:00\",\"2017-08-07T09:00:00\",\"2017-08-07T09:00:00\",\"2017-08-07T09:00:00\",\"2017-08-07T09:00:00\",\"2017-08-07T09:00:00\",\"2017-08-07T09:00:00\",\"2017-08-07T10:00:00\",\"2017-08-07T10:00:00\",\"2017-08-07T10:00:00\",\"2017-08-07T10:00:00\",\"2017-08-07T10:00:00\",\"2017-08-07T10:00:00\",\"2017-08-07T10:00:00\",\"2017-08-07T10:00:00\",\"2017-08-07T10:00:00\",\"2017-08-07T10:00:00\",\"2017-08-07T11:00:00\",\"2017-08-07T11:00:00\",\"2017-08-07T11:00:00\",\"2017-08-07T11:00:00\",\"2017-08-07T11:00:00\",\"2017-08-07T11:00:00\",\"2017-08-07T11:00:00\",\"2017-08-07T11:00:00\",\"2017-08-07T11:00:00\",\"2017-08-07T11:00:00\",\"2017-08-07T12:00:00\",\"2017-08-07T12:00:00\",\"2017-08-07T12:00:00\",\"2017-08-07T12:00:00\",\"2017-08-07T12:00:00\",\"2017-08-07T12:00:00\",\"2017-08-07T12:00:00\",\"2017-08-07T12:00:00\",\"2017-08-07T12:00:00\",\"2017-08-07T12:00:00\",\"2017-08-07T13:00:00\",\"2017-08-07T13:00:00\",\"2017-08-07T13:00:00\",\"2017-08-07T13:00:00\",\"2017-08-07T13:00:00\",\"2017-08-07T13:00:00\",\"2017-08-07T13:00:00\",\"2017-08-07T13:00:00\",\"2017-08-07T13:00:00\",\"2017-08-07T13:00:00\",\"2017-08-07T14:00:00\",\"2017-08-07T14:00:00\",\"2017-08-07T14:00:00\",\"2017-08-07T14:00:00\",\"2017-08-07T14:00:00\",\"2017-08-07T14:00:00\",\"2017-08-07T14:00:00\",\"2017-08-07T14:00:00\",\"2017-08-07T14:00:00\",\"2017-08-07T14:00:00\",\"2017-08-07T15:00:00\",\"2017-08-07T15:00:00\",\"2017-08-07T15:00:00\",\"2017-08-07T15:00:00\",\"2017-08-07T15:00:00\",\"2017-08-07T15:00:00\",\"2017-08-07T15:00:00\",\"2017-08-07T15:00:00\",\"2017-08-07T15:00:00\",\"2017-08-07T15:00:00\",\"2017-08-07T16:00:00\",\"2017-08-07T16:00:00\",\"2017-08-07T16:00:00\",\"2017-08-07T16:00:00\",\"2017-08-07T16:00:00\",\"2017-08-07T16:00:00\",\"2017-08-07T16:00:00\",\"2017-08-07T16:00:00\",\"2017-08-07T16:00:00\",\"2017-08-07T16:00:00\",\"2017-08-08T08:00:00\",\"2017-08-08T08:00:00\",\"2017-08-08T08:00:00\",\"2017-08-08T08:00:00\",\"2017-08-08T08:00:00\",\"2017-08-08T08:00:00\",\"2017-08-08T08:00:00\",\"2017-08-08T08:00:00\",\"2017-08-08T08:00:00\",\"2017-08-08T08:00:00\",\"2017-08-08T09:00:00\",\"2017-08-08T09:00:00\",\"2017-08-08T09:00:00\",\"2017-08-08T09:00:00\",\"2017-08-08T09:00:00\",\"2017-08-08T09:00:00\",\"2017-08-08T09:00:00\",\"2017-08-08T09:00:00\",\"2017-08-08T09:00:00\",\"2017-08-08T09:00:00\",\"2017-08-08T10:00:00\",\"2017-08-08T10:00:00\",\"2017-08-08T10:00:00\",\"2017-08-08T10:00:00\",\"2017-08-08T10:00:00\",\"2017-08-08T10:00:00\",\"2017-08-08T10:00:00\",\"2017-08-08T10:00:00\",\"2017-08-08T10:00:00\",\"2017-08-08T10:00:00\",\"2017-08-08T11:00:00\",\"2017-08-08T11:00:00\",\"2017-08-08T11:00:00\",\"2017-08-08T11:00:00\",\"2017-08-08T11:00:00\",\"2017-08-08T11:00:00\",\"2017-08-08T11:00:00\",\"2017-08-08T11:00:00\",\"2017-08-08T11:00:00\",\"2017-08-08T11:00:00\",\"2017-08-08T12:00:00\",\"2017-08-08T12:00:00\",\"2017-08-08T12:00:00\",\"2017-08-08T12:00:00\",\"2017-08-08T12:00:00\",\"2017-08-08T12:00:00\",\"2017-08-08T12:00:00\",\"2017-08-08T12:00:00\",\"2017-08-08T12:00:00\",\"2017-08-08T12:00:00\",\"2017-08-08T13:00:00\",\"2017-08-08T13:00:00\",\"2017-08-08T13:00:00\",\"2017-08-08T13:00:00\",\"2017-08-08T13:00:00\",\"2017-08-08T13:00:00\",\"2017-08-08T13:00:00\",\"2017-08-08T13:00:00\",\"2017-08-08T13:00:00\",\"2017-08-08T13:00:00\",\"2017-08-08T14:00:00\",\"2017-08-08T14:00:00\",\"2017-08-08T14:00:00\",\"2017-08-08T14:00:00\",\"2017-08-08T14:00:00\",\"2017-08-08T14:00:00\",\"2017-08-08T14:00:00\",\"2017-08-08T14:00:00\",\"2017-08-08T14:00:00\",\"2017-08-08T14:00:00\",\"2017-08-08T15:00:00\",\"2017-08-08T15:00:00\",\"2017-08-08T15:00:00\",\"2017-08-08T15:00:00\",\"2017-08-08T15:00:00\",\"2017-08-08T15:00:00\",\"2017-08-08T15:00:00\",\"2017-08-08T15:00:00\",\"2017-08-08T15:00:00\",\"2017-08-08T15:00:00\",\"2017-08-08T16:00:00\",\"2017-08-08T16:00:00\",\"2017-08-08T16:00:00\",\"2017-08-08T16:00:00\",\"2017-08-08T16:00:00\",\"2017-08-08T16:00:00\",\"2017-08-08T16:00:00\",\"2017-08-08T16:00:00\",\"2017-08-08T16:00:00\",\"2017-08-08T16:00:00\",\"2017-08-09T08:00:00\",\"2017-08-09T08:00:00\",\"2017-08-09T08:00:00\",\"2017-08-09T08:00:00\",\"2017-08-09T08:00:00\",\"2017-08-09T08:00:00\",\"2017-08-09T08:00:00\",\"2017-08-09T08:00:00\",\"2017-08-09T08:00:00\",\"2017-08-09T08:00:00\",\"2017-08-09T09:00:00\",\"2017-08-09T09:00:00\",\"2017-08-09T09:00:00\",\"2017-08-09T09:00:00\",\"2017-08-09T09:00:00\",\"2017-08-09T09:00:00\",\"2017-08-09T09:00:00\",\"2017-08-09T09:00:00\",\"2017-08-09T09:00:00\",\"2017-08-09T09:00:00\",\"2017-08-09T10:00:00\",\"2017-08-09T10:00:00\",\"2017-08-09T10:00:00\",\"2017-08-09T10:00:00\",\"2017-08-09T10:00:00\",\"2017-08-09T10:00:00\",\"2017-08-09T10:00:00\",\"2017-08-09T10:00:00\",\"2017-08-09T10:00:00\",\"2017-08-09T10:00:00\",\"2017-08-09T11:00:00\",\"2017-08-09T11:00:00\",\"2017-08-09T11:00:00\",\"2017-08-09T11:00:00\",\"2017-08-09T11:00:00\",\"2017-08-09T11:00:00\",\"2017-08-09T11:00:00\",\"2017-08-09T11:00:00\",\"2017-08-09T11:00:00\",\"2017-08-09T11:00:00\",\"2017-08-09T12:00:00\",\"2017-08-09T12:00:00\",\"2017-08-09T12:00:00\",\"2017-08-09T12:00:00\",\"2017-08-09T12:00:00\",\"2017-08-09T12:00:00\",\"2017-08-09T12:00:00\",\"2017-08-09T12:00:00\",\"2017-08-09T12:00:00\",\"2017-08-09T12:00:00\",\"2017-08-09T13:00:00\",\"2017-08-09T13:00:00\",\"2017-08-09T13:00:00\",\"2017-08-09T13:00:00\",\"2017-08-09T13:00:00\",\"2017-08-09T13:00:00\",\"2017-08-09T13:00:00\",\"2017-08-09T13:00:00\",\"2017-08-09T13:00:00\",\"2017-08-09T13:00:00\",\"2017-08-09T14:00:00\",\"2017-08-09T14:00:00\",\"2017-08-09T14:00:00\",\"2017-08-09T14:00:00\",\"2017-08-09T14:00:00\",\"2017-08-09T14:00:00\",\"2017-08-09T14:00:00\",\"2017-08-09T14:00:00\",\"2017-08-09T14:00:00\",\"2017-08-09T14:00:00\",\"2017-08-09T15:00:00\",\"2017-08-09T15:00:00\",\"2017-08-09T15:00:00\",\"2017-08-09T15:00:00\",\"2017-08-09T15:00:00\",\"2017-08-09T15:00:00\",\"2017-08-09T15:00:00\",\"2017-08-09T15:00:00\",\"2017-08-09T15:00:00\",\"2017-08-09T15:00:00\",\"2017-08-09T16:00:00\",\"2017-08-09T16:00:00\",\"2017-08-09T16:00:00\",\"2017-08-09T16:00:00\",\"2017-08-09T16:00:00\",\"2017-08-09T16:00:00\",\"2017-08-09T16:00:00\",\"2017-08-09T16:00:00\",\"2017-08-09T16:00:00\",\"2017-08-09T16:00:00\",\"2017-08-10T08:00:00\",\"2017-08-10T08:00:00\",\"2017-08-10T08:00:00\",\"2017-08-10T08:00:00\",\"2017-08-10T08:00:00\",\"2017-08-10T08:00:00\",\"2017-08-10T08:00:00\",\"2017-08-10T08:00:00\",\"2017-08-10T08:00:00\",\"2017-08-10T08:00:00\",\"2017-08-10T09:00:00\",\"2017-08-10T09:00:00\",\"2017-08-10T09:00:00\",\"2017-08-10T09:00:00\",\"2017-08-10T09:00:00\",\"2017-08-10T09:00:00\",\"2017-08-10T09:00:00\",\"2017-08-10T09:00:00\",\"2017-08-10T09:00:00\",\"2017-08-10T09:00:00\",\"2017-08-10T10:00:00\",\"2017-08-10T10:00:00\",\"2017-08-10T10:00:00\",\"2017-08-10T10:00:00\",\"2017-08-10T10:00:00\",\"2017-08-10T10:00:00\",\"2017-08-10T10:00:00\",\"2017-08-10T10:00:00\",\"2017-08-10T10:00:00\",\"2017-08-10T10:00:00\",\"2017-08-10T11:00:00\",\"2017-08-10T11:00:00\",\"2017-08-10T11:00:00\",\"2017-08-10T11:00:00\",\"2017-08-10T11:00:00\",\"2017-08-10T11:00:00\",\"2017-08-10T11:00:00\",\"2017-08-10T11:00:00\",\"2017-08-10T11:00:00\",\"2017-08-10T11:00:00\",\"2017-08-10T12:00:00\",\"2017-08-10T12:00:00\",\"2017-08-10T12:00:00\",\"2017-08-10T12:00:00\",\"2017-08-10T12:00:00\",\"2017-08-10T12:00:00\",\"2017-08-10T12:00:00\",\"2017-08-10T12:00:00\",\"2017-08-10T12:00:00\",\"2017-08-10T12:00:00\",\"2017-08-10T13:00:00\",\"2017-08-10T13:00:00\",\"2017-08-10T13:00:00\",\"2017-08-10T13:00:00\",\"2017-08-10T13:00:00\",\"2017-08-10T13:00:00\",\"2017-08-10T13:00:00\",\"2017-08-10T13:00:00\",\"2017-08-10T13:00:00\",\"2017-08-10T13:00:00\",\"2017-08-10T14:00:00\",\"2017-08-10T14:00:00\",\"2017-08-10T14:00:00\",\"2017-08-10T14:00:00\",\"2017-08-10T14:00:00\",\"2017-08-10T14:00:00\",\"2017-08-10T14:00:00\",\"2017-08-10T14:00:00\",\"2017-08-10T14:00:00\",\"2017-08-10T14:00:00\",\"2017-08-10T15:00:00\",\"2017-08-10T15:00:00\",\"2017-08-10T15:00:00\",\"2017-08-10T15:00:00\",\"2017-08-10T15:00:00\",\"2017-08-10T15:00:00\",\"2017-08-10T15:00:00\",\"2017-08-10T15:00:00\",\"2017-08-10T15:00:00\",\"2017-08-10T15:00:00\",\"2017-08-10T16:00:00\",\"2017-08-10T16:00:00\",\"2017-08-10T16:00:00\",\"2017-08-10T16:00:00\",\"2017-08-10T16:00:00\",\"2017-08-10T16:00:00\",\"2017-08-10T16:00:00\",\"2017-08-10T16:00:00\",\"2017-08-10T16:00:00\",\"2017-08-10T16:00:00\",\"2017-08-11T08:00:00\",\"2017-08-11T08:00:00\",\"2017-08-11T08:00:00\",\"2017-08-11T08:00:00\",\"2017-08-11T08:00:00\",\"2017-08-11T08:00:00\",\"2017-08-11T08:00:00\",\"2017-08-11T08:00:00\",\"2017-08-11T08:00:00\",\"2017-08-11T08:00:00\",\"2017-08-11T09:00:00\",\"2017-08-11T09:00:00\",\"2017-08-11T09:00:00\",\"2017-08-11T09:00:00\",\"2017-08-11T09:00:00\",\"2017-08-11T09:00:00\",\"2017-08-11T09:00:00\",\"2017-08-11T09:00:00\",\"2017-08-11T09:00:00\",\"2017-08-11T09:00:00\",\"2017-08-11T10:00:00\",\"2017-08-11T10:00:00\",\"2017-08-11T10:00:00\",\"2017-08-11T10:00:00\",\"2017-08-11T10:00:00\",\"2017-08-11T10:00:00\",\"2017-08-11T10:00:00\",\"2017-08-11T10:00:00\",\"2017-08-11T10:00:00\",\"2017-08-11T10:00:00\",\"2017-08-11T11:00:00\",\"2017-08-11T11:00:00\",\"2017-08-11T11:00:00\",\"2017-08-11T11:00:00\",\"2017-08-11T11:00:00\",\"2017-08-11T11:00:00\",\"2017-08-11T11:00:00\",\"2017-08-11T11:00:00\",\"2017-08-11T11:00:00\",\"2017-08-11T11:00:00\",\"2017-08-11T12:00:00\",\"2017-08-11T12:00:00\",\"2017-08-11T12:00:00\",\"2017-08-11T12:00:00\",\"2017-08-11T12:00:00\",\"2017-08-11T12:00:00\",\"2017-08-11T12:00:00\",\"2017-08-11T12:00:00\",\"2017-08-11T12:00:00\",\"2017-08-11T12:00:00\",\"2017-08-11T13:00:00\",\"2017-08-11T13:00:00\",\"2017-08-11T13:00:00\",\"2017-08-11T13:00:00\",\"2017-08-11T13:00:00\",\"2017-08-11T13:00:00\",\"2017-08-11T13:00:00\",\"2017-08-11T13:00:00\",\"2017-08-11T13:00:00\",\"2017-08-11T13:00:00\",\"2017-08-11T14:00:00\",\"2017-08-11T14:00:00\",\"2017-08-11T14:00:00\",\"2017-08-11T14:00:00\",\"2017-08-11T14:00:00\",\"2017-08-11T14:00:00\",\"2017-08-11T14:00:00\",\"2017-08-11T14:00:00\",\"2017-08-11T14:00:00\",\"2017-08-11T14:00:00\",\"2017-08-11T15:00:00\",\"2017-08-11T15:00:00\",\"2017-08-11T15:00:00\",\"2017-08-11T15:00:00\",\"2017-08-11T15:00:00\",\"2017-08-11T15:00:00\",\"2017-08-11T15:00:00\",\"2017-08-11T15:00:00\",\"2017-08-11T15:00:00\",\"2017-08-11T15:00:00\",\"2017-08-11T16:00:00\",\"2017-08-11T16:00:00\",\"2017-08-11T16:00:00\",\"2017-08-11T16:00:00\",\"2017-08-11T16:00:00\",\"2017-08-11T16:00:00\",\"2017-08-11T16:00:00\",\"2017-08-11T16:00:00\",\"2017-08-11T16:00:00\",\"2017-08-11T16:00:00\",\"2017-08-12T08:00:00\",\"2017-08-12T08:00:00\",\"2017-08-12T08:00:00\",\"2017-08-12T08:00:00\",\"2017-08-12T08:00:00\",\"2017-08-12T08:00:00\",\"2017-08-12T08:00:00\",\"2017-08-12T08:00:00\",\"2017-08-12T08:00:00\",\"2017-08-12T08:00:00\",\"2017-08-12T09:00:00\",\"2017-08-12T09:00:00\",\"2017-08-12T09:00:00\",\"2017-08-12T09:00:00\",\"2017-08-12T09:00:00\",\"2017-08-12T09:00:00\",\"2017-08-12T09:00:00\",\"2017-08-12T09:00:00\",\"2017-08-12T09:00:00\",\"2017-08-12T09:00:00\",\"2017-08-12T10:00:00\",\"2017-08-12T10:00:00\",\"2017-08-12T10:00:00\",\"2017-08-12T10:00:00\",\"2017-08-12T10:00:00\",\"2017-08-12T10:00:00\",\"2017-08-12T10:00:00\",\"2017-08-12T10:00:00\",\"2017-08-12T10:00:00\",\"2017-08-12T10:00:00\",\"2017-08-12T11:00:00\",\"2017-08-12T11:00:00\",\"2017-08-12T11:00:00\",\"2017-08-12T11:00:00\",\"2017-08-12T11:00:00\",\"2017-08-12T11:00:00\",\"2017-08-12T11:00:00\",\"2017-08-12T11:00:00\",\"2017-08-12T11:00:00\",\"2017-08-12T11:00:00\",\"2017-08-12T12:00:00\",\"2017-08-12T12:00:00\",\"2017-08-12T12:00:00\",\"2017-08-12T12:00:00\",\"2017-08-12T12:00:00\",\"2017-08-12T12:00:00\",\"2017-08-12T12:00:00\",\"2017-08-12T12:00:00\",\"2017-08-12T12:00:00\",\"2017-08-12T12:00:00\",\"2017-08-12T13:00:00\",\"2017-08-12T13:00:00\",\"2017-08-12T13:00:00\",\"2017-08-12T13:00:00\",\"2017-08-12T13:00:00\",\"2017-08-12T13:00:00\",\"2017-08-12T13:00:00\",\"2017-08-12T13:00:00\",\"2017-08-12T13:00:00\",\"2017-08-12T13:00:00\",\"2017-08-12T14:00:00\",\"2017-08-12T14:00:00\",\"2017-08-12T14:00:00\",\"2017-08-12T14:00:00\",\"2017-08-12T14:00:00\",\"2017-08-12T14:00:00\",\"2017-08-12T14:00:00\",\"2017-08-12T14:00:00\",\"2017-08-12T14:00:00\",\"2017-08-12T14:00:00\",\"2017-08-12T15:00:00\",\"2017-08-12T15:00:00\",\"2017-08-12T15:00:00\",\"2017-08-12T15:00:00\",\"2017-08-12T15:00:00\",\"2017-08-12T15:00:00\",\"2017-08-12T15:00:00\",\"2017-08-12T15:00:00\",\"2017-08-12T15:00:00\",\"2017-08-12T15:00:00\",\"2017-08-12T16:00:00\",\"2017-08-12T16:00:00\",\"2017-08-12T16:00:00\",\"2017-08-12T16:00:00\",\"2017-08-12T16:00:00\",\"2017-08-12T16:00:00\",\"2017-08-12T16:00:00\",\"2017-08-12T16:00:00\",\"2017-08-12T16:00:00\",\"2017-08-12T16:00:00\",\"2017-08-13T08:00:00\",\"2017-08-13T08:00:00\",\"2017-08-13T08:00:00\",\"2017-08-13T08:00:00\",\"2017-08-13T08:00:00\",\"2017-08-13T08:00:00\",\"2017-08-13T08:00:00\",\"2017-08-13T08:00:00\",\"2017-08-13T08:00:00\",\"2017-08-13T08:00:00\",\"2017-08-13T09:00:00\",\"2017-08-13T09:00:00\",\"2017-08-13T09:00:00\",\"2017-08-13T09:00:00\",\"2017-08-13T09:00:00\",\"2017-08-13T09:00:00\",\"2017-08-13T09:00:00\",\"2017-08-13T09:00:00\",\"2017-08-13T09:00:00\",\"2017-08-13T09:00:00\",\"2017-08-13T10:00:00\",\"2017-08-13T10:00:00\",\"2017-08-13T10:00:00\",\"2017-08-13T10:00:00\",\"2017-08-13T10:00:00\",\"2017-08-13T10:00:00\",\"2017-08-13T10:00:00\",\"2017-08-13T10:00:00\",\"2017-08-13T10:00:00\",\"2017-08-13T10:00:00\",\"2017-08-13T11:00:00\",\"2017-08-13T11:00:00\",\"2017-08-13T11:00:00\",\"2017-08-13T11:00:00\",\"2017-08-13T11:00:00\",\"2017-08-13T11:00:00\",\"2017-08-13T11:00:00\",\"2017-08-13T11:00:00\",\"2017-08-13T11:00:00\",\"2017-08-13T11:00:00\",\"2017-08-13T12:00:00\",\"2017-08-13T12:00:00\",\"2017-08-13T12:00:00\",\"2017-08-13T12:00:00\",\"2017-08-13T12:00:00\",\"2017-08-13T12:00:00\",\"2017-08-13T12:00:00\",\"2017-08-13T12:00:00\",\"2017-08-13T12:00:00\",\"2017-08-13T12:00:00\",\"2017-08-13T13:00:00\",\"2017-08-13T13:00:00\",\"2017-08-13T13:00:00\",\"2017-08-13T13:00:00\",\"2017-08-13T13:00:00\",\"2017-08-13T13:00:00\",\"2017-08-13T13:00:00\",\"2017-08-13T13:00:00\",\"2017-08-13T13:00:00\",\"2017-08-13T13:00:00\",\"2017-08-13T14:00:00\",\"2017-08-13T14:00:00\",\"2017-08-13T14:00:00\",\"2017-08-13T14:00:00\",\"2017-08-13T14:00:00\",\"2017-08-13T14:00:00\",\"2017-08-13T14:00:00\",\"2017-08-13T14:00:00\",\"2017-08-13T14:00:00\",\"2017-08-13T14:00:00\",\"2017-08-13T15:00:00\",\"2017-08-13T15:00:00\",\"2017-08-13T15:00:00\",\"2017-08-13T15:00:00\",\"2017-08-13T15:00:00\",\"2017-08-13T15:00:00\",\"2017-08-13T15:00:00\",\"2017-08-13T15:00:00\",\"2017-08-13T15:00:00\",\"2017-08-13T15:00:00\",\"2017-08-13T16:00:00\",\"2017-08-13T16:00:00\",\"2017-08-13T16:00:00\",\"2017-08-13T16:00:00\",\"2017-08-13T16:00:00\",\"2017-08-13T16:00:00\",\"2017-08-13T16:00:00\",\"2017-08-13T16:00:00\",\"2017-08-13T16:00:00\",\"2017-08-13T16:00:00\",\"2017-08-14T08:00:00\",\"2017-08-14T08:00:00\",\"2017-08-14T08:00:00\",\"2017-08-14T08:00:00\",\"2017-08-14T08:00:00\",\"2017-08-14T08:00:00\",\"2017-08-14T08:00:00\",\"2017-08-14T08:00:00\",\"2017-08-14T08:00:00\",\"2017-08-14T08:00:00\",\"2017-08-14T09:00:00\",\"2017-08-14T09:00:00\",\"2017-08-14T09:00:00\",\"2017-08-14T09:00:00\",\"2017-08-14T09:00:00\",\"2017-08-14T09:00:00\",\"2017-08-14T09:00:00\",\"2017-08-14T09:00:00\",\"2017-08-14T09:00:00\",\"2017-08-14T09:00:00\",\"2017-08-14T10:00:00\",\"2017-08-14T10:00:00\",\"2017-08-14T10:00:00\",\"2017-08-14T10:00:00\",\"2017-08-14T10:00:00\",\"2017-08-14T10:00:00\",\"2017-08-14T10:00:00\",\"2017-08-14T10:00:00\",\"2017-08-14T10:00:00\",\"2017-08-14T10:00:00\",\"2017-08-14T11:00:00\",\"2017-08-14T11:00:00\",\"2017-08-14T11:00:00\",\"2017-08-14T11:00:00\",\"2017-08-14T11:00:00\",\"2017-08-14T11:00:00\",\"2017-08-14T11:00:00\",\"2017-08-14T11:00:00\",\"2017-08-14T11:00:00\",\"2017-08-14T11:00:00\",\"2017-08-14T12:00:00\",\"2017-08-14T12:00:00\",\"2017-08-14T12:00:00\",\"2017-08-14T12:00:00\",\"2017-08-14T12:00:00\",\"2017-08-14T12:00:00\",\"2017-08-14T12:00:00\",\"2017-08-14T12:00:00\",\"2017-08-14T12:00:00\",\"2017-08-14T12:00:00\",\"2017-08-14T13:00:00\",\"2017-08-14T13:00:00\",\"2017-08-14T13:00:00\",\"2017-08-14T13:00:00\",\"2017-08-14T13:00:00\",\"2017-08-14T13:00:00\",\"2017-08-14T13:00:00\",\"2017-08-14T13:00:00\",\"2017-08-14T13:00:00\",\"2017-08-14T13:00:00\",\"2017-08-14T14:00:00\",\"2017-08-14T14:00:00\",\"2017-08-14T14:00:00\",\"2017-08-14T14:00:00\",\"2017-08-14T14:00:00\",\"2017-08-14T14:00:00\",\"2017-08-14T14:00:00\",\"2017-08-14T14:00:00\",\"2017-08-14T14:00:00\",\"2017-08-14T14:00:00\",\"2017-08-14T15:00:00\",\"2017-08-14T15:00:00\",\"2017-08-14T15:00:00\",\"2017-08-14T15:00:00\",\"2017-08-14T15:00:00\",\"2017-08-14T15:00:00\",\"2017-08-14T15:00:00\",\"2017-08-14T15:00:00\",\"2017-08-14T15:00:00\",\"2017-08-14T15:00:00\",\"2017-08-14T16:00:00\",\"2017-08-14T16:00:00\",\"2017-08-14T16:00:00\",\"2017-08-14T16:00:00\",\"2017-08-14T16:00:00\",\"2017-08-14T16:00:00\",\"2017-08-14T16:00:00\",\"2017-08-14T16:00:00\",\"2017-08-14T16:00:00\",\"2017-08-14T16:00:00\",\"2017-08-15T08:00:00\",\"2017-08-15T08:00:00\",\"2017-08-15T08:00:00\",\"2017-08-15T08:00:00\",\"2017-08-15T08:00:00\",\"2017-08-15T08:00:00\",\"2017-08-15T08:00:00\",\"2017-08-15T08:00:00\",\"2017-08-15T08:00:00\",\"2017-08-15T08:00:00\",\"2017-08-15T09:00:00\",\"2017-08-15T09:00:00\",\"2017-08-15T09:00:00\",\"2017-08-15T09:00:00\",\"2017-08-15T09:00:00\",\"2017-08-15T09:00:00\",\"2017-08-15T09:00:00\",\"2017-08-15T09:00:00\",\"2017-08-15T09:00:00\",\"2017-08-15T09:00:00\",\"2017-08-15T10:00:00\",\"2017-08-15T10:00:00\",\"2017-08-15T10:00:00\",\"2017-08-15T10:00:00\",\"2017-08-15T10:00:00\",\"2017-08-15T10:00:00\",\"2017-08-15T10:00:00\",\"2017-08-15T10:00:00\",\"2017-08-15T10:00:00\",\"2017-08-15T10:00:00\",\"2017-08-15T11:00:00\",\"2017-08-15T11:00:00\",\"2017-08-15T11:00:00\",\"2017-08-15T11:00:00\",\"2017-08-15T11:00:00\",\"2017-08-15T11:00:00\",\"2017-08-15T11:00:00\",\"2017-08-15T11:00:00\",\"2017-08-15T11:00:00\",\"2017-08-15T11:00:00\",\"2017-08-15T12:00:00\",\"2017-08-15T12:00:00\",\"2017-08-15T12:00:00\",\"2017-08-15T12:00:00\",\"2017-08-15T12:00:00\",\"2017-08-15T12:00:00\",\"2017-08-15T12:00:00\",\"2017-08-15T12:00:00\",\"2017-08-15T12:00:00\",\"2017-08-15T12:00:00\",\"2017-08-15T13:00:00\",\"2017-08-15T13:00:00\",\"2017-08-15T13:00:00\",\"2017-08-15T13:00:00\",\"2017-08-15T13:00:00\",\"2017-08-15T13:00:00\",\"2017-08-15T13:00:00\",\"2017-08-15T13:00:00\",\"2017-08-15T13:00:00\",\"2017-08-15T13:00:00\",\"2017-08-15T14:00:00\",\"2017-08-15T14:00:00\",\"2017-08-15T14:00:00\",\"2017-08-15T14:00:00\",\"2017-08-15T14:00:00\",\"2017-08-15T14:00:00\",\"2017-08-15T14:00:00\",\"2017-08-15T14:00:00\",\"2017-08-15T14:00:00\",\"2017-08-15T14:00:00\",\"2017-08-15T15:00:00\",\"2017-08-15T15:00:00\",\"2017-08-15T15:00:00\",\"2017-08-15T15:00:00\",\"2017-08-15T15:00:00\",\"2017-08-15T15:00:00\",\"2017-08-15T15:00:00\",\"2017-08-15T15:00:00\",\"2017-08-15T15:00:00\",\"2017-08-15T15:00:00\",\"2017-08-15T16:00:00\",\"2017-08-15T16:00:00\",\"2017-08-15T16:00:00\",\"2017-08-15T16:00:00\",\"2017-08-15T16:00:00\",\"2017-08-15T16:00:00\",\"2017-08-15T16:00:00\",\"2017-08-15T16:00:00\",\"2017-08-15T16:00:00\",\"2017-08-15T16:00:00\",\"2017-08-16T08:00:00\",\"2017-08-16T08:00:00\",\"2017-08-16T08:00:00\",\"2017-08-16T08:00:00\",\"2017-08-16T08:00:00\",\"2017-08-16T08:00:00\",\"2017-08-16T08:00:00\",\"2017-08-16T08:00:00\",\"2017-08-16T08:00:00\",\"2017-08-16T08:00:00\",\"2017-08-16T09:00:00\",\"2017-08-16T09:00:00\",\"2017-08-16T09:00:00\",\"2017-08-16T09:00:00\",\"2017-08-16T09:00:00\",\"2017-08-16T09:00:00\",\"2017-08-16T09:00:00\",\"2017-08-16T09:00:00\",\"2017-08-16T09:00:00\",\"2017-08-16T09:00:00\",\"2017-08-16T10:00:00\",\"2017-08-16T10:00:00\",\"2017-08-16T10:00:00\",\"2017-08-16T10:00:00\",\"2017-08-16T10:00:00\",\"2017-08-16T10:00:00\",\"2017-08-16T10:00:00\",\"2017-08-16T10:00:00\",\"2017-08-16T10:00:00\",\"2017-08-16T10:00:00\",\"2017-08-16T11:00:00\",\"2017-08-16T11:00:00\",\"2017-08-16T11:00:00\",\"2017-08-16T11:00:00\",\"2017-08-16T11:00:00\",\"2017-08-16T11:00:00\",\"2017-08-16T11:00:00\",\"2017-08-16T11:00:00\",\"2017-08-16T11:00:00\",\"2017-08-16T11:00:00\",\"2017-08-16T12:00:00\",\"2017-08-16T12:00:00\",\"2017-08-16T12:00:00\",\"2017-08-16T12:00:00\",\"2017-08-16T12:00:00\",\"2017-08-16T12:00:00\",\"2017-08-16T12:00:00\",\"2017-08-16T12:00:00\",\"2017-08-16T12:00:00\",\"2017-08-16T12:00:00\",\"2017-08-16T13:00:00\",\"2017-08-16T13:00:00\",\"2017-08-16T13:00:00\",\"2017-08-16T13:00:00\",\"2017-08-16T13:00:00\",\"2017-08-16T13:00:00\",\"2017-08-16T13:00:00\",\"2017-08-16T13:00:00\",\"2017-08-16T13:00:00\",\"2017-08-16T13:00:00\",\"2017-08-16T14:00:00\",\"2017-08-16T14:00:00\",\"2017-08-16T14:00:00\",\"2017-08-16T14:00:00\",\"2017-08-16T14:00:00\",\"2017-08-16T14:00:00\",\"2017-08-16T14:00:00\",\"2017-08-16T14:00:00\",\"2017-08-16T14:00:00\",\"2017-08-16T14:00:00\",\"2017-08-16T15:00:00\",\"2017-08-16T15:00:00\",\"2017-08-16T15:00:00\",\"2017-08-16T15:00:00\",\"2017-08-16T15:00:00\",\"2017-08-16T15:00:00\",\"2017-08-16T15:00:00\",\"2017-08-16T15:00:00\",\"2017-08-16T15:00:00\",\"2017-08-16T15:00:00\",\"2017-08-16T16:00:00\",\"2017-08-16T16:00:00\",\"2017-08-16T16:00:00\",\"2017-08-16T16:00:00\",\"2017-08-16T16:00:00\",\"2017-08-16T16:00:00\",\"2017-08-16T16:00:00\",\"2017-08-16T16:00:00\",\"2017-08-16T16:00:00\",\"2017-08-16T16:00:00\",\"2017-08-17T08:00:00\",\"2017-08-17T08:00:00\",\"2017-08-17T08:00:00\",\"2017-08-17T08:00:00\",\"2017-08-17T08:00:00\",\"2017-08-17T08:00:00\",\"2017-08-17T08:00:00\",\"2017-08-17T08:00:00\",\"2017-08-17T08:00:00\",\"2017-08-17T08:00:00\",\"2017-08-17T09:00:00\",\"2017-08-17T09:00:00\",\"2017-08-17T09:00:00\",\"2017-08-17T09:00:00\",\"2017-08-17T09:00:00\",\"2017-08-17T09:00:00\",\"2017-08-17T09:00:00\",\"2017-08-17T09:00:00\",\"2017-08-17T09:00:00\",\"2017-08-17T09:00:00\",\"2017-08-17T10:00:00\",\"2017-08-17T10:00:00\",\"2017-08-17T10:00:00\",\"2017-08-17T10:00:00\",\"2017-08-17T10:00:00\",\"2017-08-17T10:00:00\",\"2017-08-17T10:00:00\",\"2017-08-17T10:00:00\",\"2017-08-17T10:00:00\",\"2017-08-17T10:00:00\",\"2017-08-17T11:00:00\",\"2017-08-17T11:00:00\",\"2017-08-17T11:00:00\",\"2017-08-17T11:00:00\",\"2017-08-17T11:00:00\",\"2017-08-17T11:00:00\",\"2017-08-17T11:00:00\",\"2017-08-17T11:00:00\",\"2017-08-17T11:00:00\",\"2017-08-17T11:00:00\",\"2017-08-17T12:00:00\",\"2017-08-17T12:00:00\",\"2017-08-17T12:00:00\",\"2017-08-17T12:00:00\",\"2017-08-17T12:00:00\",\"2017-08-17T12:00:00\",\"2017-08-17T12:00:00\",\"2017-08-17T12:00:00\",\"2017-08-17T12:00:00\",\"2017-08-17T12:00:00\",\"2017-08-17T13:00:00\",\"2017-08-17T13:00:00\",\"2017-08-17T13:00:00\",\"2017-08-17T13:00:00\",\"2017-08-17T13:00:00\",\"2017-08-17T13:00:00\",\"2017-08-17T13:00:00\",\"2017-08-17T13:00:00\",\"2017-08-17T13:00:00\",\"2017-08-17T13:00:00\",\"2017-08-17T14:00:00\",\"2017-08-17T14:00:00\",\"2017-08-17T14:00:00\",\"2017-08-17T14:00:00\",\"2017-08-17T14:00:00\",\"2017-08-17T14:00:00\",\"2017-08-17T14:00:00\",\"2017-08-17T14:00:00\",\"2017-08-17T14:00:00\",\"2017-08-17T14:00:00\",\"2017-08-17T15:00:00\",\"2017-08-17T15:00:00\",\"2017-08-17T15:00:00\",\"2017-08-17T15:00:00\",\"2017-08-17T15:00:00\",\"2017-08-17T15:00:00\",\"2017-08-17T15:00:00\",\"2017-08-17T15:00:00\",\"2017-08-17T15:00:00\",\"2017-08-17T15:00:00\",\"2017-08-17T16:00:00\",\"2017-08-17T16:00:00\",\"2017-08-17T16:00:00\",\"2017-08-17T16:00:00\",\"2017-08-17T16:00:00\",\"2017-08-17T16:00:00\",\"2017-08-17T16:00:00\",\"2017-08-17T16:00:00\",\"2017-08-17T16:00:00\",\"2017-08-17T16:00:00\",\"2017-08-18T08:00:00\",\"2017-08-18T08:00:00\",\"2017-08-18T08:00:00\",\"2017-08-18T08:00:00\",\"2017-08-18T08:00:00\",\"2017-08-18T08:00:00\",\"2017-08-18T08:00:00\",\"2017-08-18T08:00:00\",\"2017-08-18T08:00:00\",\"2017-08-18T08:00:00\",\"2017-08-18T09:00:00\",\"2017-08-18T09:00:00\",\"2017-08-18T09:00:00\",\"2017-08-18T09:00:00\",\"2017-08-18T09:00:00\",\"2017-08-18T09:00:00\",\"2017-08-18T09:00:00\",\"2017-08-18T09:00:00\",\"2017-08-18T09:00:00\",\"2017-08-18T09:00:00\",\"2017-08-18T10:00:00\",\"2017-08-18T10:00:00\",\"2017-08-18T10:00:00\",\"2017-08-18T10:00:00\",\"2017-08-18T10:00:00\",\"2017-08-18T10:00:00\",\"2017-08-18T10:00:00\",\"2017-08-18T10:00:00\",\"2017-08-18T10:00:00\",\"2017-08-18T10:00:00\",\"2017-08-18T11:00:00\",\"2017-08-18T11:00:00\",\"2017-08-18T11:00:00\",\"2017-08-18T11:00:00\",\"2017-08-18T11:00:00\",\"2017-08-18T11:00:00\",\"2017-08-18T11:00:00\",\"2017-08-18T11:00:00\",\"2017-08-18T11:00:00\",\"2017-08-18T11:00:00\",\"2017-08-18T12:00:00\",\"2017-08-18T12:00:00\",\"2017-08-18T12:00:00\",\"2017-08-18T12:00:00\",\"2017-08-18T12:00:00\",\"2017-08-18T12:00:00\",\"2017-08-18T12:00:00\",\"2017-08-18T12:00:00\",\"2017-08-18T12:00:00\",\"2017-08-18T12:00:00\",\"2017-08-18T13:00:00\",\"2017-08-18T13:00:00\",\"2017-08-18T13:00:00\",\"2017-08-18T13:00:00\",\"2017-08-18T13:00:00\",\"2017-08-18T13:00:00\",\"2017-08-18T13:00:00\",\"2017-08-18T13:00:00\",\"2017-08-18T13:00:00\",\"2017-08-18T13:00:00\",\"2017-08-18T14:00:00\",\"2017-08-18T14:00:00\",\"2017-08-18T14:00:00\",\"2017-08-18T14:00:00\",\"2017-08-18T14:00:00\",\"2017-08-18T14:00:00\",\"2017-08-18T14:00:00\",\"2017-08-18T14:00:00\",\"2017-08-18T14:00:00\",\"2017-08-18T14:00:00\",\"2017-08-18T15:00:00\",\"2017-08-18T15:00:00\",\"2017-08-18T15:00:00\",\"2017-08-18T15:00:00\",\"2017-08-18T15:00:00\",\"2017-08-18T15:00:00\",\"2017-08-18T15:00:00\",\"2017-08-18T15:00:00\",\"2017-08-18T15:00:00\",\"2017-08-18T15:00:00\",\"2017-08-18T16:00:00\",\"2017-08-18T16:00:00\",\"2017-08-18T16:00:00\",\"2017-08-18T16:00:00\",\"2017-08-18T16:00:00\",\"2017-08-18T16:00:00\",\"2017-08-18T16:00:00\",\"2017-08-18T16:00:00\",\"2017-08-18T16:00:00\",\"2017-08-18T16:00:00\",\"2017-08-19T08:00:00\",\"2017-08-19T08:00:00\",\"2017-08-19T08:00:00\",\"2017-08-19T08:00:00\",\"2017-08-19T08:00:00\",\"2017-08-19T08:00:00\",\"2017-08-19T08:00:00\",\"2017-08-19T08:00:00\",\"2017-08-19T08:00:00\",\"2017-08-19T08:00:00\",\"2017-08-19T09:00:00\",\"2017-08-19T09:00:00\",\"2017-08-19T09:00:00\",\"2017-08-19T09:00:00\",\"2017-08-19T09:00:00\",\"2017-08-19T09:00:00\",\"2017-08-19T09:00:00\",\"2017-08-19T09:00:00\",\"2017-08-19T09:00:00\",\"2017-08-19T09:00:00\",\"2017-08-19T10:00:00\",\"2017-08-19T10:00:00\",\"2017-08-19T10:00:00\",\"2017-08-19T10:00:00\",\"2017-08-19T10:00:00\",\"2017-08-19T10:00:00\",\"2017-08-19T10:00:00\",\"2017-08-19T10:00:00\",\"2017-08-19T10:00:00\",\"2017-08-19T10:00:00\",\"2017-08-19T11:00:00\",\"2017-08-19T11:00:00\",\"2017-08-19T11:00:00\",\"2017-08-19T11:00:00\",\"2017-08-19T11:00:00\",\"2017-08-19T11:00:00\",\"2017-08-19T11:00:00\",\"2017-08-19T11:00:00\",\"2017-08-19T11:00:00\",\"2017-08-19T11:00:00\",\"2017-08-19T12:00:00\",\"2017-08-19T12:00:00\",\"2017-08-19T12:00:00\",\"2017-08-19T12:00:00\",\"2017-08-19T12:00:00\",\"2017-08-19T12:00:00\",\"2017-08-19T12:00:00\",\"2017-08-19T12:00:00\",\"2017-08-19T12:00:00\",\"2017-08-19T12:00:00\",\"2017-08-19T13:00:00\",\"2017-08-19T13:00:00\",\"2017-08-19T13:00:00\",\"2017-08-19T13:00:00\",\"2017-08-19T13:00:00\",\"2017-08-19T13:00:00\",\"2017-08-19T13:00:00\",\"2017-08-19T13:00:00\",\"2017-08-19T13:00:00\",\"2017-08-19T13:00:00\",\"2017-08-19T14:00:00\",\"2017-08-19T14:00:00\",\"2017-08-19T14:00:00\",\"2017-08-19T14:00:00\",\"2017-08-19T14:00:00\",\"2017-08-19T14:00:00\",\"2017-08-19T14:00:00\",\"2017-08-19T14:00:00\",\"2017-08-19T14:00:00\",\"2017-08-19T14:00:00\",\"2017-08-19T15:00:00\",\"2017-08-19T15:00:00\",\"2017-08-19T15:00:00\",\"2017-08-19T15:00:00\",\"2017-08-19T15:00:00\",\"2017-08-19T15:00:00\",\"2017-08-19T15:00:00\",\"2017-08-19T15:00:00\",\"2017-08-19T15:00:00\",\"2017-08-19T15:00:00\",\"2017-08-19T16:00:00\",\"2017-08-19T16:00:00\",\"2017-08-19T16:00:00\",\"2017-08-19T16:00:00\",\"2017-08-19T16:00:00\",\"2017-08-19T16:00:00\",\"2017-08-19T16:00:00\",\"2017-08-19T16:00:00\",\"2017-08-19T16:00:00\",\"2017-08-19T16:00:00\"],\"xaxis\":\"x\",\"y\":[329,216,311,784,2140,20,592,713,693,411,459,263,389,1149,2818,48,791,886,978,506,569,333,502,1337,3154,129,991,1141,1207,648,648,398,563,1529,3408,229,1088,1322,1332,768,653,397,601,1554,3442,249,1148,1375,1351,791,658,399,655,1558,3439,247,1207,1468,1348,822,645,400,650,1558,3413,217,1196,1469,1348,828,598,374,599,1459,3220,187,1102,1355,1254,765,530,343,547,1285,2839,137,969,1208,1108,670,359,235,302,801,1701,24,598,742,720,449,494,307,377,1111,2505,43,769,927,1040,559,617,392,497,1372,3092,106,963,1182,1265,694,659,402,573,1486,3339,159,1117,1348,1353,784,678,403,631,1566,3437,186,1216,1451,1380,829,693,409,658,1562,3420,192,1275,1544,1411,895,682,406,655,1533,3381,183,1274,1537,1424,891,673,408,613,1437,3193,146,1207,1454,1373,850,654,382,521,1294,2892,124,1089,1286,1256,774,297,188,367,786,1673,26,664,770,648,412,414,243,441,1109,2539,53,841,956,938,524,538,338,537,1410,3218,133,1049,1267,1217,739,636,402,636,1538,3420,195,1215,1489,1352,862,645,401,679,1567,3465,228,1267,1541,1375,871,651,407,695,1559,3457,232,1296,1581,1392,897,642,410,690,1544,3428,224,1267,1587,1378,906,635,406,653,1459,3258,178,1205,1517,1329,873,599,385,632,1277,2891,147,1138,1418,1222,795,401,189,422,776,1759,28,889,888,742,475,475,263,505,1117,2529,67,984,1069,967,573,554,342,565,1306,2907,142,1052,1240,1112,684,611,399,615,1380,3017,199,1102,1387,1203,781,620,408,696,1430,3087,214,1184,1518,1226,831,623,411,655,1427,3079,219,1154,1514,1237,868,622,410,631,1396,2982,226,1121,1469,1217,847,618,406,589,1306,2821,209,1062,1381,1174,801,596,384,550,1159,2451,166,1007,1254,1076,713,391,179,351,360,841,23,774,761,477,419,473,261,378,482,1035,93,803,898,565,529,566,354,407,652,1334,174,834,1054,667,656,619,407,449,818,1586,253,884,1194,745,754,624,412,493,979,1812,353,974,1328,811,844,624,412,558,1101,2017,417,1099,1471,891,922,623,411,592,1158,2077,476,1154,1533,948,976,623,411,626,1162,2083,485,1205,1595,983,979,624,412,635,1133,1987,462,1211,1596,984,970,345,133,371,314,782,12,808,741,450,379,372,160,367,356,824,14,809,771,480,413,488,276,367,442,1001,44,806,902,599,549,623,411,418,627,1366,126,875,1199,772,790,624,412,476,895,1771,213,975,1391,831,924,623,411,528,1043,2004,297,1047,1509,862,990,624,412,581,1148,2119,333,1129,1626,933,1054,624,412,607,1129,2070,334,1150,1626,943,1034,622,410,564,952,1813,294,1075,1492,896,937,284,189,324,745,1682,20,590,705,630,390,392,240,418,1108,2562,49,774,894,905,485,522,329,507,1339,3063,108,947,1173,1129,675,608,398,563,1454,3265,166,1044,1357,1245,803,623,404,630,1534,3340,176,1132,1475,1288,854,624,407,640,1557,3367,198,1142,1500,1296,869,619,411,624,1533,3326,193,1122,1464,1292,849,594,403,567,1431,3156,168,1040,1376,1270,818,538,382,525,1236,2769,124,963,1281,1197,765,314,218,481,771,1708,29,778,922,710,450,456,282,573,1124,2603,68,982,1130,1023,566,551,353,614,1389,3203,141,1057,1251,1233,715,617,401,563,1505,3452,194,1067,1350,1334,796,635,410,620,1554,3508,225,1152,1471,1378,860,636,411,647,1564,3499,236,1176,1506,1376,868,633,407,669,1544,3452,219,1204,1527,1369,867,561,367,596,1460,3294,168,1073,1366,1274,779,494,338,514,1267,2902,112,934,1206,1175,701,401,252,346,877,2000,27,700,839,844,502,511,317,420,1149,2645,51,831,1001,1101,590,632,399,535,1427,3242,112,1016,1262,1291,736,647,402,596,1504,3368,158,1098,1359,1302,772,652,406,645,1524,3390,186,1147,1435,1290,799,645,406,690,1512,3387,215,1200,1502,1302,821,640,411,694,1500,3341,207,1225,1539,1347,854,614,403,661,1449,3184,170,1175,1477,1306,825,563,394,621,1326,2890,154,1069,1383,1238,771,311,185,380,792,1854,28,726,818,684,447,439,253,447,1093,2643,72,876,988,965,550,542,325,529,1375,3177,146,1023,1216,1156,696,637,388,561,1455,3329,194,1101,1357,1279,805,678,409,618,1504,3375,237,1192,1480,1332,871,692,411,695,1518,3401,228,1299,1603,1364,917,685,412,695,1516,3377,212,1302,1605,1368,919,674,408,683,1434,3222,173,1275,1557,1321,883,675,387,654,1283,2893,149,1262,1467,1253,822,275,202,359,777,1797,28,709,868,759,518,371,261,431,1061,2482,77,833,1034,974,612,464,336,484,1253,2854,139,893,1183,1089,708,514,379,511,1334,2964,175,922,1264,1157,764,554,411,523,1374,3008,188,927,1315,1181,801,556,412,546,1346,2978,194,945,1356,1178,819,559,411,580,1326,2918,199,993,1384,1190,826,567,405,560,1228,2740,202,996,1365,1194,814,562,398,506,1100,2411,177,935,1264,1128,767,1019,144,275,389,952,35,1382,669,480,403,1104,229,314,511,1166,91,1428,834,585,529,1174,299,344,680,1461,180,1454,978,688,643,1202,327,362,796,1647,272,1477,1038,757,685,1267,392,399,935,1809,346,1545,1196,874,806,1286,411,442,1035,1956,387,1641,1344,973,911,1286,411,507,1122,2119,449,1761,1503,1087,1005,1287,412,553,1162,2181,452,1811,1551,1101,1008,1286,411,582,1121,2010,388,1844,1582,1135,1017,1034,159,273,348,850,13,1323,614,461,350,1057,182,269,399,924,17,1319,639,458,380,1153,278,297,481,1076,53,1352,787,583,499,1270,395,338,604,1348,144,1387,999,735,670,1287,412,389,809,1639,202,1465,1154,778,774,1286,411,485,930,1819,267,1595,1334,847,858,1286,411,567,984,1893,319,1693,1463,922,905,1286,411,576,987,1874,312,1699,1470,944,903,1272,397,537,826,1518,256,1647,1362,953,834,1034,159,353,834,1724,26,1383,684,611,340,1113,238,446,1109,2424,49,1507,907,867,470,1198,323,526,1266,2785,106,1613,1151,1041,634,1278,403,572,1380,2986,184,1678,1318,1195,755,1281,406,663,1484,3157,258,1787,1503,1251,849,1283,408,697,1519,3194,300,1845,1627,1315,941,1285,410,687,1530,3183,318,1853,1657,1341,983,1286,411,651,1496,3111,309,1829,1618,1336,976,1276,401,580,1330,2779,239,1727,1450,1253,879],\"yaxis\":\"y\",\"type\":\"scattergl\"}],                        {\"template\":{\"data\":{\"bar\":[{\"error_x\":{\"color\":\"#2a3f5f\"},\"error_y\":{\"color\":\"#2a3f5f\"},\"marker\":{\"line\":{\"color\":\"#E5ECF6\",\"width\":0.5},\"pattern\":{\"fillmode\":\"overlay\",\"size\":10,\"solidity\":0.2}},\"type\":\"bar\"}],\"barpolar\":[{\"marker\":{\"line\":{\"color\":\"#E5ECF6\",\"width\":0.5},\"pattern\":{\"fillmode\":\"overlay\",\"size\":10,\"solidity\":0.2}},\"type\":\"barpolar\"}],\"carpet\":[{\"aaxis\":{\"endlinecolor\":\"#2a3f5f\",\"gridcolor\":\"white\",\"linecolor\":\"white\",\"minorgridcolor\":\"white\",\"startlinecolor\":\"#2a3f5f\"},\"baxis\":{\"endlinecolor\":\"#2a3f5f\",\"gridcolor\":\"white\",\"linecolor\":\"white\",\"minorgridcolor\":\"white\",\"startlinecolor\":\"#2a3f5f\"},\"type\":\"carpet\"}],\"choropleth\":[{\"colorbar\":{\"outlinewidth\":0,\"ticks\":\"\"},\"type\":\"choropleth\"}],\"contour\":[{\"colorbar\":{\"outlinewidth\":0,\"ticks\":\"\"},\"colorscale\":[[0.0,\"#0d0887\"],[0.1111111111111111,\"#46039f\"],[0.2222222222222222,\"#7201a8\"],[0.3333333333333333,\"#9c179e\"],[0.4444444444444444,\"#bd3786\"],[0.5555555555555556,\"#d8576b\"],[0.6666666666666666,\"#ed7953\"],[0.7777777777777778,\"#fb9f3a\"],[0.8888888888888888,\"#fdca26\"],[1.0,\"#f0f921\"]],\"type\":\"contour\"}],\"contourcarpet\":[{\"colorbar\":{\"outlinewidth\":0,\"ticks\":\"\"},\"type\":\"contourcarpet\"}],\"heatmap\":[{\"colorbar\":{\"outlinewidth\":0,\"ticks\":\"\"},\"colorscale\":[[0.0,\"#0d0887\"],[0.1111111111111111,\"#46039f\"],[0.2222222222222222,\"#7201a8\"],[0.3333333333333333,\"#9c179e\"],[0.4444444444444444,\"#bd3786\"],[0.5555555555555556,\"#d8576b\"],[0.6666666666666666,\"#ed7953\"],[0.7777777777777778,\"#fb9f3a\"],[0.8888888888888888,\"#fdca26\"],[1.0,\"#f0f921\"]],\"type\":\"heatmap\"}],\"heatmapgl\":[{\"colorbar\":{\"outlinewidth\":0,\"ticks\":\"\"},\"colorscale\":[[0.0,\"#0d0887\"],[0.1111111111111111,\"#46039f\"],[0.2222222222222222,\"#7201a8\"],[0.3333333333333333,\"#9c179e\"],[0.4444444444444444,\"#bd3786\"],[0.5555555555555556,\"#d8576b\"],[0.6666666666666666,\"#ed7953\"],[0.7777777777777778,\"#fb9f3a\"],[0.8888888888888888,\"#fdca26\"],[1.0,\"#f0f921\"]],\"type\":\"heatmapgl\"}],\"histogram\":[{\"marker\":{\"pattern\":{\"fillmode\":\"overlay\",\"size\":10,\"solidity\":0.2}},\"type\":\"histogram\"}],\"histogram2d\":[{\"colorbar\":{\"outlinewidth\":0,\"ticks\":\"\"},\"colorscale\":[[0.0,\"#0d0887\"],[0.1111111111111111,\"#46039f\"],[0.2222222222222222,\"#7201a8\"],[0.3333333333333333,\"#9c179e\"],[0.4444444444444444,\"#bd3786\"],[0.5555555555555556,\"#d8576b\"],[0.6666666666666666,\"#ed7953\"],[0.7777777777777778,\"#fb9f3a\"],[0.8888888888888888,\"#fdca26\"],[1.0,\"#f0f921\"]],\"type\":\"histogram2d\"}],\"histogram2dcontour\":[{\"colorbar\":{\"outlinewidth\":0,\"ticks\":\"\"},\"colorscale\":[[0.0,\"#0d0887\"],[0.1111111111111111,\"#46039f\"],[0.2222222222222222,\"#7201a8\"],[0.3333333333333333,\"#9c179e\"],[0.4444444444444444,\"#bd3786\"],[0.5555555555555556,\"#d8576b\"],[0.6666666666666666,\"#ed7953\"],[0.7777777777777778,\"#fb9f3a\"],[0.8888888888888888,\"#fdca26\"],[1.0,\"#f0f921\"]],\"type\":\"histogram2dcontour\"}],\"mesh3d\":[{\"colorbar\":{\"outlinewidth\":0,\"ticks\":\"\"},\"type\":\"mesh3d\"}],\"parcoords\":[{\"line\":{\"colorbar\":{\"outlinewidth\":0,\"ticks\":\"\"}},\"type\":\"parcoords\"}],\"pie\":[{\"automargin\":true,\"type\":\"pie\"}],\"scatter\":[{\"marker\":{\"colorbar\":{\"outlinewidth\":0,\"ticks\":\"\"}},\"type\":\"scatter\"}],\"scatter3d\":[{\"line\":{\"colorbar\":{\"outlinewidth\":0,\"ticks\":\"\"}},\"marker\":{\"colorbar\":{\"outlinewidth\":0,\"ticks\":\"\"}},\"type\":\"scatter3d\"}],\"scattercarpet\":[{\"marker\":{\"colorbar\":{\"outlinewidth\":0,\"ticks\":\"\"}},\"type\":\"scattercarpet\"}],\"scattergeo\":[{\"marker\":{\"colorbar\":{\"outlinewidth\":0,\"ticks\":\"\"}},\"type\":\"scattergeo\"}],\"scattergl\":[{\"marker\":{\"colorbar\":{\"outlinewidth\":0,\"ticks\":\"\"}},\"type\":\"scattergl\"}],\"scattermapbox\":[{\"marker\":{\"colorbar\":{\"outlinewidth\":0,\"ticks\":\"\"}},\"type\":\"scattermapbox\"}],\"scatterpolar\":[{\"marker\":{\"colorbar\":{\"outlinewidth\":0,\"ticks\":\"\"}},\"type\":\"scatterpolar\"}],\"scatterpolargl\":[{\"marker\":{\"colorbar\":{\"outlinewidth\":0,\"ticks\":\"\"}},\"type\":\"scatterpolargl\"}],\"scatterternary\":[{\"marker\":{\"colorbar\":{\"outlinewidth\":0,\"ticks\":\"\"}},\"type\":\"scatterternary\"}],\"surface\":[{\"colorbar\":{\"outlinewidth\":0,\"ticks\":\"\"},\"colorscale\":[[0.0,\"#0d0887\"],[0.1111111111111111,\"#46039f\"],[0.2222222222222222,\"#7201a8\"],[0.3333333333333333,\"#9c179e\"],[0.4444444444444444,\"#bd3786\"],[0.5555555555555556,\"#d8576b\"],[0.6666666666666666,\"#ed7953\"],[0.7777777777777778,\"#fb9f3a\"],[0.8888888888888888,\"#fdca26\"],[1.0,\"#f0f921\"]],\"type\":\"surface\"}],\"table\":[{\"cells\":{\"fill\":{\"color\":\"#EBF0F8\"},\"line\":{\"color\":\"white\"}},\"header\":{\"fill\":{\"color\":\"#C8D4E3\"},\"line\":{\"color\":\"white\"}},\"type\":\"table\"}]},\"layout\":{\"annotationdefaults\":{\"arrowcolor\":\"#2a3f5f\",\"arrowhead\":0,\"arrowwidth\":1},\"autotypenumbers\":\"strict\",\"coloraxis\":{\"colorbar\":{\"outlinewidth\":0,\"ticks\":\"\"}},\"colorscale\":{\"diverging\":[[0,\"#8e0152\"],[0.1,\"#c51b7d\"],[0.2,\"#de77ae\"],[0.3,\"#f1b6da\"],[0.4,\"#fde0ef\"],[0.5,\"#f7f7f7\"],[0.6,\"#e6f5d0\"],[0.7,\"#b8e186\"],[0.8,\"#7fbc41\"],[0.9,\"#4d9221\"],[1,\"#276419\"]],\"sequential\":[[0.0,\"#0d0887\"],[0.1111111111111111,\"#46039f\"],[0.2222222222222222,\"#7201a8\"],[0.3333333333333333,\"#9c179e\"],[0.4444444444444444,\"#bd3786\"],[0.5555555555555556,\"#d8576b\"],[0.6666666666666666,\"#ed7953\"],[0.7777777777777778,\"#fb9f3a\"],[0.8888888888888888,\"#fdca26\"],[1.0,\"#f0f921\"]],\"sequentialminus\":[[0.0,\"#0d0887\"],[0.1111111111111111,\"#46039f\"],[0.2222222222222222,\"#7201a8\"],[0.3333333333333333,\"#9c179e\"],[0.4444444444444444,\"#bd3786\"],[0.5555555555555556,\"#d8576b\"],[0.6666666666666666,\"#ed7953\"],[0.7777777777777778,\"#fb9f3a\"],[0.8888888888888888,\"#fdca26\"],[1.0,\"#f0f921\"]]},\"colorway\":[\"#636efa\",\"#EF553B\",\"#00cc96\",\"#ab63fa\",\"#FFA15A\",\"#19d3f3\",\"#FF6692\",\"#B6E880\",\"#FF97FF\",\"#FECB52\"],\"font\":{\"color\":\"#2a3f5f\"},\"geo\":{\"bgcolor\":\"white\",\"lakecolor\":\"white\",\"landcolor\":\"#E5ECF6\",\"showlakes\":true,\"showland\":true,\"subunitcolor\":\"white\"},\"hoverlabel\":{\"align\":\"left\"},\"hovermode\":\"closest\",\"mapbox\":{\"style\":\"light\"},\"paper_bgcolor\":\"white\",\"plot_bgcolor\":\"#E5ECF6\",\"polar\":{\"angularaxis\":{\"gridcolor\":\"white\",\"linecolor\":\"white\",\"ticks\":\"\"},\"bgcolor\":\"#E5ECF6\",\"radialaxis\":{\"gridcolor\":\"white\",\"linecolor\":\"white\",\"ticks\":\"\"}},\"scene\":{\"xaxis\":{\"backgroundcolor\":\"#E5ECF6\",\"gridcolor\":\"white\",\"gridwidth\":2,\"linecolor\":\"white\",\"showbackground\":true,\"ticks\":\"\",\"zerolinecolor\":\"white\"},\"yaxis\":{\"backgroundcolor\":\"#E5ECF6\",\"gridcolor\":\"white\",\"gridwidth\":2,\"linecolor\":\"white\",\"showbackground\":true,\"ticks\":\"\",\"zerolinecolor\":\"white\"},\"zaxis\":{\"backgroundcolor\":\"#E5ECF6\",\"gridcolor\":\"white\",\"gridwidth\":2,\"linecolor\":\"white\",\"showbackground\":true,\"ticks\":\"\",\"zerolinecolor\":\"white\"}},\"shapedefaults\":{\"line\":{\"color\":\"#2a3f5f\"}},\"ternary\":{\"aaxis\":{\"gridcolor\":\"white\",\"linecolor\":\"white\",\"ticks\":\"\"},\"baxis\":{\"gridcolor\":\"white\",\"linecolor\":\"white\",\"ticks\":\"\"},\"bgcolor\":\"#E5ECF6\",\"caxis\":{\"gridcolor\":\"white\",\"linecolor\":\"white\",\"ticks\":\"\"}},\"title\":{\"x\":0.05},\"xaxis\":{\"automargin\":true,\"gridcolor\":\"white\",\"linecolor\":\"white\",\"ticks\":\"\",\"title\":{\"standoff\":15},\"zerolinecolor\":\"white\",\"zerolinewidth\":2},\"yaxis\":{\"automargin\":true,\"gridcolor\":\"white\",\"linecolor\":\"white\",\"ticks\":\"\",\"title\":{\"standoff\":15},\"zerolinecolor\":\"white\",\"zerolinewidth\":2}}},\"xaxis\":{\"anchor\":\"y\",\"domain\":[0.0,1.0],\"title\":{\"text\":\"timestamp\"},\"rangeslider\":{\"visible\":true},\"rangeselector\":{\"buttons\":[{\"count\":1,\"label\":\"1m\",\"step\":\"month\",\"stepmode\":\"backward\"},{\"count\":6,\"label\":\"6m\",\"step\":\"month\",\"stepmode\":\"backward\"},{\"count\":1,\"label\":\"YTD\",\"step\":\"year\",\"stepmode\":\"todate\"},{\"count\":1,\"label\":\"1y\",\"step\":\"year\",\"stepmode\":\"backward\"},{\"step\":\"all\"}]}},\"yaxis\":{\"anchor\":\"x\",\"domain\":[0.0,1.0],\"title\":{\"text\":\"usage\"}},\"legend\":{\"title\":{\"text\":\"partition\"},\"tracegroupgap\":0},\"title\":{\"text\":\"Number of usage\"},\"height\":500,\"width\":900},                        {\"responsive\": true}                    ).then(function(){\n",
              "                            \n",
              "var gd = document.getElementById('ee26ab72-9fce-4cde-9dfd-b48b031673cf');\n",
              "var x = new MutationObserver(function (mutations, observer) {{\n",
              "        var display = window.getComputedStyle(gd).display;\n",
              "        if (!display || display === 'none') {{\n",
              "            console.log([gd, 'removed!']);\n",
              "            Plotly.purge(gd);\n",
              "            observer.disconnect();\n",
              "        }}\n",
              "}});\n",
              "\n",
              "// Listen for the removal of the full notebook cells\n",
              "var notebookContainer = gd.closest('#notebook-container');\n",
              "if (notebookContainer) {{\n",
              "    x.observe(notebookContainer, {childList: true});\n",
              "}}\n",
              "\n",
              "// Listen for the clearing of the current output cell\n",
              "var outputEl = gd.closest('.output');\n",
              "if (outputEl) {{\n",
              "    x.observe(outputEl, {childList: true});\n",
              "}}\n",
              "\n",
              "                        })                };                            </script>        </div>\n",
              "</body>\n",
              "</html>"
            ]
          },
          "metadata": {}
        }
      ]
    },
    {
      "cell_type": "markdown",
      "source": [
        "#Model"
      ],
      "metadata": {
        "id": "Ee5sslgFYSOb"
      }
    },
    {
      "cell_type": "code",
      "source": [
        "# Create forecaster\n",
        "# ==============================================================================\n",
        "forecaster = ForecasterAutoreg(\n",
        "                regressor = XGBRegressor(random_state=123),\n",
        "                lags = 24 # This will change after hyperparameter tuning\n",
        "                )\n",
        "\n",
        "forecaster\n"
      ],
      "metadata": {
        "colab": {
          "base_uri": "https://localhost:8080/"
        },
        "id": "RA6He4MJVUVP",
        "outputId": "45fb4fc7-e87b-4c71-d4c0-489b8ed98a5b"
      },
      "execution_count": null,
      "outputs": [
        {
          "output_type": "execute_result",
          "data": {
            "text/plain": [
              "================= \n",
              "ForecasterAutoreg \n",
              "================= \n",
              "Regressor: XGBRegressor(random_state=123) \n",
              "Lags: [ 1  2  3  4  5  6  7  8  9 10 11 12 13 14 15 16 17 18 19 20 21 22 23 24] \n",
              "Window size: 24 \n",
              "Included exogenous: False \n",
              "Type of exogenous variable: None \n",
              "Exogenous variables names: None \n",
              "Training range: None \n",
              "Training index type: None \n",
              "Training index frequency: None \n",
              "Regressor parameters: {'base_score': 0.5, 'booster': 'gbtree', 'colsample_bylevel': 1, 'colsample_bynode': 1, 'colsample_bytree': 1, 'gamma': 0, 'importance_type': 'gain', 'learning_rate': 0.1, 'max_delta_step': 0, 'max_depth': 3, 'min_child_weight': 1, 'missing': None, 'n_estimators': 100, 'n_jobs': 1, 'nthread': None, 'objective': 'reg:linear', 'random_state': 123, 'reg_alpha': 0, 'reg_lambda': 1, 'scale_pos_weight': 1, 'seed': None, 'silent': None, 'subsample': 1, 'verbosity': 1} \n",
              "Creation date: 2022-07-29 15:04:20 \n",
              "Last fit date: None \n",
              "Skforecast version: 0.4.3 "
            ]
          },
          "metadata": {},
          "execution_count": 10
        }
      ]
    },
    {
      "cell_type": "markdown",
      "source": [
        "##HyperParameter Tuning"
      ],
      "metadata": {
        "id": "CzHvfWiVfMEA"
      }
    },
    {
      "cell_type": "code",
      "source": [
        "# Grid search of hyperparameters and lags\n",
        "# ==============================================================================\n",
        "# Regressor hyperparameters\n",
        "param_grid = {\n",
        "    'n_estimators': [100, 500],\n",
        "    'max_depth': [3, 5, 10],\n",
        "    'learning_rate': [0.01, 0.1]\n",
        "    }\n",
        "\n",
        "# Lags used as predictors\n",
        "lags_grid = [24, 48, 72,3]\n",
        "\n",
        "\n",
        "results_grid = grid_search_forecaster(\n",
        "        forecaster         = forecaster,\n",
        "        y                  = df.loc[:end_validation, 'usage'], # Train and validation data\n",
        "        param_grid         = param_grid,\n",
        "        lags_grid          = lags_grid,\n",
        "        steps              = 126, # 14 days in test * 9 hours shift\n",
        "        refit              = True,\n",
        "        metric             = 'mean_squared_error',\n",
        "        initial_train_size = int(len(data_train)), # Model is trained with trainign data\n",
        "        fixed_train_size   = False,\n",
        "        return_best        = True, #This is used for feeding the best parameters to forecaster\n",
        "        verbose            = False\n",
        "        )\n"
      ],
      "metadata": {
        "colab": {
          "base_uri": "https://localhost:8080/"
        },
        "id": "ufcMcUrCVYKt",
        "outputId": "1b218f71-7c46-4137-dd75-5ac9604c36eb"
      },
      "execution_count": null,
      "outputs": [
        {
          "metadata": {
            "tags": null
          },
          "name": "stdout",
          "output_type": "stream",
          "text": [
            "Number of models compared: 48\n"
          ]
        },
        {
          "metadata": {
            "tags": null
          },
          "name": "stderr",
          "output_type": "stream",
          "text": [
            "loop lags_grid:   0%|                                               | 0/4 [00:00<?, ?it/s]\n",
            "loop param_grid:   0%|                                             | 0/12 [00:00<?, ?it/s]\u001b[A"
          ]
        },
        {
          "metadata": {
            "tags": null
          },
          "name": "stdout",
          "output_type": "stream",
          "text": [
            "[15:25:05] WARNING: /workspace/src/objective/regression_obj.cu:152: reg:linear is now deprecated in favor of reg:squarederror.\n",
            "[15:25:06] WARNING: /workspace/src/objective/regression_obj.cu:152: reg:linear is now deprecated in favor of reg:squarederror.\n",
            "[15:25:06] WARNING: /workspace/src/objective/regression_obj.cu:152: reg:linear is now deprecated in favor of reg:squarederror.\n",
            "[15:25:07] WARNING: /workspace/src/objective/regression_obj.cu:152: reg:linear is now deprecated in favor of reg:squarederror.\n",
            "[15:25:08] WARNING: /workspace/src/objective/regression_obj.cu:152: reg:linear is now deprecated in favor of reg:squarederror.\n",
            "[15:25:08] WARNING: /workspace/src/objective/regression_obj.cu:152: reg:linear is now deprecated in favor of reg:squarederror.\n",
            "[15:25:09] WARNING: /workspace/src/objective/regression_obj.cu:152: reg:linear is now deprecated in favor of reg:squarederror.\n",
            "[15:25:10] WARNING: /workspace/src/objective/regression_obj.cu:152: reg:linear is now deprecated in favor of reg:squarederror.\n",
            "[15:25:11] WARNING: /workspace/src/objective/regression_obj.cu:152: reg:linear is now deprecated in favor of reg:squarederror.\n",
            "[15:25:12] WARNING: /workspace/src/objective/regression_obj.cu:152: reg:linear is now deprecated in favor of reg:squarederror.\n"
          ]
        },
        {
          "metadata": {
            "tags": null
          },
          "name": "stderr",
          "output_type": "stream",
          "text": [
            "\n",
            "loop param_grid:   8%|███                                  | 1/12 [00:07<01:22,  7.50s/it]\u001b[A"
          ]
        },
        {
          "metadata": {
            "tags": null
          },
          "name": "stdout",
          "output_type": "stream",
          "text": [
            "[15:25:12] WARNING: /workspace/src/objective/regression_obj.cu:152: reg:linear is now deprecated in favor of reg:squarederror.\n",
            "[15:25:16] WARNING: /workspace/src/objective/regression_obj.cu:152: reg:linear is now deprecated in favor of reg:squarederror.\n",
            "[15:25:20] WARNING: /workspace/src/objective/regression_obj.cu:152: reg:linear is now deprecated in favor of reg:squarederror.\n",
            "[15:25:24] WARNING: /workspace/src/objective/regression_obj.cu:152: reg:linear is now deprecated in favor of reg:squarederror.\n",
            "[15:25:27] WARNING: /workspace/src/objective/regression_obj.cu:152: reg:linear is now deprecated in favor of reg:squarederror.\n",
            "[15:25:31] WARNING: /workspace/src/objective/regression_obj.cu:152: reg:linear is now deprecated in favor of reg:squarederror.\n",
            "[15:25:34] WARNING: /workspace/src/objective/regression_obj.cu:152: reg:linear is now deprecated in favor of reg:squarederror.\n",
            "[15:25:38] WARNING: /workspace/src/objective/regression_obj.cu:152: reg:linear is now deprecated in favor of reg:squarederror.\n",
            "[15:25:42] WARNING: /workspace/src/objective/regression_obj.cu:152: reg:linear is now deprecated in favor of reg:squarederror.\n",
            "[15:25:46] WARNING: /workspace/src/objective/regression_obj.cu:152: reg:linear is now deprecated in favor of reg:squarederror.\n"
          ]
        },
        {
          "metadata": {
            "tags": null
          },
          "name": "stderr",
          "output_type": "stream",
          "text": [
            "\n",
            "loop param_grid:  17%|██████▏                              | 2/12 [00:44<04:10, 25.01s/it]\u001b[A"
          ]
        },
        {
          "metadata": {
            "tags": null
          },
          "name": "stdout",
          "output_type": "stream",
          "text": [
            "[15:25:50] WARNING: /workspace/src/objective/regression_obj.cu:152: reg:linear is now deprecated in favor of reg:squarederror.\n",
            "[15:25:51] WARNING: /workspace/src/objective/regression_obj.cu:152: reg:linear is now deprecated in favor of reg:squarederror.\n",
            "[15:25:52] WARNING: /workspace/src/objective/regression_obj.cu:152: reg:linear is now deprecated in favor of reg:squarederror.\n",
            "[15:25:53] WARNING: /workspace/src/objective/regression_obj.cu:152: reg:linear is now deprecated in favor of reg:squarederror.\n",
            "[15:25:54] WARNING: /workspace/src/objective/regression_obj.cu:152: reg:linear is now deprecated in favor of reg:squarederror.\n",
            "[15:25:55] WARNING: /workspace/src/objective/regression_obj.cu:152: reg:linear is now deprecated in favor of reg:squarederror.\n",
            "[15:25:57] WARNING: /workspace/src/objective/regression_obj.cu:152: reg:linear is now deprecated in favor of reg:squarederror.\n",
            "[15:25:58] WARNING: /workspace/src/objective/regression_obj.cu:152: reg:linear is now deprecated in favor of reg:squarederror.\n",
            "[15:25:59] WARNING: /workspace/src/objective/regression_obj.cu:152: reg:linear is now deprecated in favor of reg:squarederror.\n",
            "[15:26:00] WARNING: /workspace/src/objective/regression_obj.cu:152: reg:linear is now deprecated in favor of reg:squarederror.\n"
          ]
        },
        {
          "metadata": {
            "tags": null
          },
          "name": "stderr",
          "output_type": "stream",
          "text": [
            "\n",
            "loop param_grid:  25%|█████████▎                           | 3/12 [00:56<02:52, 19.16s/it]\u001b[A"
          ]
        },
        {
          "metadata": {
            "tags": null
          },
          "name": "stdout",
          "output_type": "stream",
          "text": [
            "[15:26:02] WARNING: /workspace/src/objective/regression_obj.cu:152: reg:linear is now deprecated in favor of reg:squarederror.\n",
            "[15:26:07] WARNING: /workspace/src/objective/regression_obj.cu:152: reg:linear is now deprecated in favor of reg:squarederror.\n",
            "[15:26:13] WARNING: /workspace/src/objective/regression_obj.cu:152: reg:linear is now deprecated in favor of reg:squarederror.\n",
            "[15:26:19] WARNING: /workspace/src/objective/regression_obj.cu:152: reg:linear is now deprecated in favor of reg:squarederror.\n",
            "[15:26:24] WARNING: /workspace/src/objective/regression_obj.cu:152: reg:linear is now deprecated in favor of reg:squarederror.\n",
            "[15:26:31] WARNING: /workspace/src/objective/regression_obj.cu:152: reg:linear is now deprecated in favor of reg:squarederror.\n",
            "[15:26:37] WARNING: /workspace/src/objective/regression_obj.cu:152: reg:linear is now deprecated in favor of reg:squarederror.\n",
            "[15:26:43] WARNING: /workspace/src/objective/regression_obj.cu:152: reg:linear is now deprecated in favor of reg:squarederror.\n",
            "[15:26:50] WARNING: /workspace/src/objective/regression_obj.cu:152: reg:linear is now deprecated in favor of reg:squarederror.\n",
            "[15:26:56] WARNING: /workspace/src/objective/regression_obj.cu:152: reg:linear is now deprecated in favor of reg:squarederror.\n"
          ]
        },
        {
          "metadata": {
            "tags": null
          },
          "name": "stderr",
          "output_type": "stream",
          "text": [
            "\n",
            "loop param_grid:  33%|████████████▎                        | 4/12 [01:58<04:46, 35.86s/it]\u001b[A"
          ]
        },
        {
          "metadata": {
            "tags": null
          },
          "name": "stdout",
          "output_type": "stream",
          "text": [
            "[15:27:03] WARNING: /workspace/src/objective/regression_obj.cu:152: reg:linear is now deprecated in favor of reg:squarederror.\n",
            "[15:27:05] WARNING: /workspace/src/objective/regression_obj.cu:152: reg:linear is now deprecated in favor of reg:squarederror.\n",
            "[15:27:08] WARNING: /workspace/src/objective/regression_obj.cu:152: reg:linear is now deprecated in favor of reg:squarederror.\n",
            "[15:27:10] WARNING: /workspace/src/objective/regression_obj.cu:152: reg:linear is now deprecated in favor of reg:squarederror.\n",
            "[15:27:12] WARNING: /workspace/src/objective/regression_obj.cu:152: reg:linear is now deprecated in favor of reg:squarederror.\n",
            "[15:27:15] WARNING: /workspace/src/objective/regression_obj.cu:152: reg:linear is now deprecated in favor of reg:squarederror.\n",
            "[15:27:17] WARNING: /workspace/src/objective/regression_obj.cu:152: reg:linear is now deprecated in favor of reg:squarederror.\n",
            "[15:27:20] WARNING: /workspace/src/objective/regression_obj.cu:152: reg:linear is now deprecated in favor of reg:squarederror.\n",
            "[15:27:23] WARNING: /workspace/src/objective/regression_obj.cu:152: reg:linear is now deprecated in favor of reg:squarederror.\n",
            "[15:27:25] WARNING: /workspace/src/objective/regression_obj.cu:152: reg:linear is now deprecated in favor of reg:squarederror.\n"
          ]
        },
        {
          "metadata": {
            "tags": null
          },
          "name": "stderr",
          "output_type": "stream",
          "text": [
            "\n",
            "loop param_grid:  42%|███████████████▍                     | 5/12 [02:23<03:43, 31.92s/it]\u001b[A"
          ]
        },
        {
          "metadata": {
            "tags": null
          },
          "name": "stdout",
          "output_type": "stream",
          "text": [
            "[15:27:28] WARNING: /workspace/src/objective/regression_obj.cu:152: reg:linear is now deprecated in favor of reg:squarederror.\n",
            "[15:27:40] WARNING: /workspace/src/objective/regression_obj.cu:152: reg:linear is now deprecated in favor of reg:squarederror.\n",
            "[15:27:52] WARNING: /workspace/src/objective/regression_obj.cu:152: reg:linear is now deprecated in favor of reg:squarederror.\n",
            "[15:28:05] WARNING: /workspace/src/objective/regression_obj.cu:152: reg:linear is now deprecated in favor of reg:squarederror.\n",
            "[15:28:18] WARNING: /workspace/src/objective/regression_obj.cu:152: reg:linear is now deprecated in favor of reg:squarederror.\n",
            "[15:28:32] WARNING: /workspace/src/objective/regression_obj.cu:152: reg:linear is now deprecated in favor of reg:squarederror.\n",
            "[15:28:46] WARNING: /workspace/src/objective/regression_obj.cu:152: reg:linear is now deprecated in favor of reg:squarederror.\n",
            "[15:29:00] WARNING: /workspace/src/objective/regression_obj.cu:152: reg:linear is now deprecated in favor of reg:squarederror.\n",
            "[15:29:14] WARNING: /workspace/src/objective/regression_obj.cu:152: reg:linear is now deprecated in favor of reg:squarederror.\n",
            "[15:29:29] WARNING: /workspace/src/objective/regression_obj.cu:152: reg:linear is now deprecated in favor of reg:squarederror.\n"
          ]
        },
        {
          "metadata": {
            "tags": null
          },
          "name": "stderr",
          "output_type": "stream",
          "text": [
            "\n",
            "loop param_grid:  50%|██████████████████▌                  | 6/12 [04:39<06:44, 67.50s/it]\u001b[A"
          ]
        },
        {
          "output_type": "stream",
          "name": "stdout",
          "text": [
            "[15:29:45] WARNING: /workspace/src/objective/regression_obj.cu:152: reg:linear is now deprecated in favor of reg:squarederror.\n",
            "[15:29:45] WARNING: /workspace/src/objective/regression_obj.cu:152: reg:linear is now deprecated in favor of reg:squarederror.\n",
            "[15:29:46] WARNING: /workspace/src/objective/regression_obj.cu:152: reg:linear is now deprecated in favor of reg:squarederror.\n",
            "[15:29:47] WARNING: /workspace/src/objective/regression_obj.cu:152: reg:linear is now deprecated in favor of reg:squarederror.\n",
            "[15:29:48] WARNING: /workspace/src/objective/regression_obj.cu:152: reg:linear is now deprecated in favor of reg:squarederror.\n",
            "[15:29:48] WARNING: /workspace/src/objective/regression_obj.cu:152: reg:linear is now deprecated in favor of reg:squarederror.\n",
            "[15:29:49] WARNING: /workspace/src/objective/regression_obj.cu:152: reg:linear is now deprecated in favor of reg:squarederror.\n",
            "[15:29:50] WARNING: /workspace/src/objective/regression_obj.cu:152: reg:linear is now deprecated in favor of reg:squarederror.\n",
            "[15:29:51] WARNING: /workspace/src/objective/regression_obj.cu:152: reg:linear is now deprecated in favor of reg:squarederror.\n",
            "[15:29:51] WARNING: /workspace/src/objective/regression_obj.cu:152: reg:linear is now deprecated in favor of reg:squarederror.\n"
          ]
        },
        {
          "output_type": "stream",
          "name": "stderr",
          "text": [
            "\n",
            "loop param_grid:  58%|█████████████████████▌               | 7/12 [04:47<03:59, 47.89s/it]\u001b[A"
          ]
        },
        {
          "output_type": "stream",
          "name": "stdout",
          "text": [
            "[15:29:52] WARNING: /workspace/src/objective/regression_obj.cu:152: reg:linear is now deprecated in favor of reg:squarederror.\n",
            "[15:29:55] WARNING: /workspace/src/objective/regression_obj.cu:152: reg:linear is now deprecated in favor of reg:squarederror.\n",
            "[15:29:59] WARNING: /workspace/src/objective/regression_obj.cu:152: reg:linear is now deprecated in favor of reg:squarederror.\n",
            "[15:30:02] WARNING: /workspace/src/objective/regression_obj.cu:152: reg:linear is now deprecated in favor of reg:squarederror.\n",
            "[15:30:05] WARNING: /workspace/src/objective/regression_obj.cu:152: reg:linear is now deprecated in favor of reg:squarederror.\n",
            "[15:30:09] WARNING: /workspace/src/objective/regression_obj.cu:152: reg:linear is now deprecated in favor of reg:squarederror.\n",
            "[15:30:13] WARNING: /workspace/src/objective/regression_obj.cu:152: reg:linear is now deprecated in favor of reg:squarederror.\n",
            "[15:30:16] WARNING: /workspace/src/objective/regression_obj.cu:152: reg:linear is now deprecated in favor of reg:squarederror.\n",
            "[15:30:20] WARNING: /workspace/src/objective/regression_obj.cu:152: reg:linear is now deprecated in favor of reg:squarederror.\n",
            "[15:30:24] WARNING: /workspace/src/objective/regression_obj.cu:152: reg:linear is now deprecated in favor of reg:squarederror.\n"
          ]
        },
        {
          "output_type": "stream",
          "name": "stderr",
          "text": [
            "\n",
            "loop param_grid:  67%|████████████████████████▋            | 8/12 [05:22<02:55, 43.83s/it]\u001b[A"
          ]
        },
        {
          "output_type": "stream",
          "name": "stdout",
          "text": [
            "[15:30:27] WARNING: /workspace/src/objective/regression_obj.cu:152: reg:linear is now deprecated in favor of reg:squarederror.\n",
            "[15:30:29] WARNING: /workspace/src/objective/regression_obj.cu:152: reg:linear is now deprecated in favor of reg:squarederror.\n",
            "[15:30:30] WARNING: /workspace/src/objective/regression_obj.cu:152: reg:linear is now deprecated in favor of reg:squarederror.\n",
            "[15:30:31] WARNING: /workspace/src/objective/regression_obj.cu:152: reg:linear is now deprecated in favor of reg:squarederror.\n",
            "[15:30:32] WARNING: /workspace/src/objective/regression_obj.cu:152: reg:linear is now deprecated in favor of reg:squarederror.\n",
            "[15:30:33] WARNING: /workspace/src/objective/regression_obj.cu:152: reg:linear is now deprecated in favor of reg:squarederror.\n",
            "[15:30:35] WARNING: /workspace/src/objective/regression_obj.cu:152: reg:linear is now deprecated in favor of reg:squarederror.\n",
            "[15:30:36] WARNING: /workspace/src/objective/regression_obj.cu:152: reg:linear is now deprecated in favor of reg:squarederror.\n",
            "[15:30:37] WARNING: /workspace/src/objective/regression_obj.cu:152: reg:linear is now deprecated in favor of reg:squarederror.\n",
            "[15:30:39] WARNING: /workspace/src/objective/regression_obj.cu:152: reg:linear is now deprecated in favor of reg:squarederror.\n"
          ]
        },
        {
          "output_type": "stream",
          "name": "stderr",
          "text": [
            "\n",
            "loop param_grid:  75%|███████████████████████████▊         | 9/12 [05:35<01:42, 34.10s/it]\u001b[A"
          ]
        },
        {
          "output_type": "stream",
          "name": "stdout",
          "text": [
            "[15:30:40] WARNING: /workspace/src/objective/regression_obj.cu:152: reg:linear is now deprecated in favor of reg:squarederror.\n",
            "[15:30:45] WARNING: /workspace/src/objective/regression_obj.cu:152: reg:linear is now deprecated in favor of reg:squarederror.\n",
            "[15:30:51] WARNING: /workspace/src/objective/regression_obj.cu:152: reg:linear is now deprecated in favor of reg:squarederror.\n",
            "[15:30:56] WARNING: /workspace/src/objective/regression_obj.cu:152: reg:linear is now deprecated in favor of reg:squarederror.\n",
            "[15:31:02] WARNING: /workspace/src/objective/regression_obj.cu:152: reg:linear is now deprecated in favor of reg:squarederror.\n",
            "[15:31:08] WARNING: /workspace/src/objective/regression_obj.cu:152: reg:linear is now deprecated in favor of reg:squarederror.\n",
            "[15:31:14] WARNING: /workspace/src/objective/regression_obj.cu:152: reg:linear is now deprecated in favor of reg:squarederror.\n",
            "[15:31:20] WARNING: /workspace/src/objective/regression_obj.cu:152: reg:linear is now deprecated in favor of reg:squarederror.\n",
            "[15:31:27] WARNING: /workspace/src/objective/regression_obj.cu:152: reg:linear is now deprecated in favor of reg:squarederror.\n",
            "[15:31:33] WARNING: /workspace/src/objective/regression_obj.cu:152: reg:linear is now deprecated in favor of reg:squarederror.\n"
          ]
        },
        {
          "output_type": "stream",
          "name": "stderr",
          "text": [
            "\n",
            "loop param_grid:  83%|██████████████████████████████      | 10/12 [06:34<01:23, 41.92s/it]\u001b[A"
          ]
        },
        {
          "output_type": "stream",
          "name": "stdout",
          "text": [
            "[15:31:40] WARNING: /workspace/src/objective/regression_obj.cu:152: reg:linear is now deprecated in favor of reg:squarederror.\n",
            "[15:31:42] WARNING: /workspace/src/objective/regression_obj.cu:152: reg:linear is now deprecated in favor of reg:squarederror.\n",
            "[15:31:44] WARNING: /workspace/src/objective/regression_obj.cu:152: reg:linear is now deprecated in favor of reg:squarederror.\n",
            "[15:31:47] WARNING: /workspace/src/objective/regression_obj.cu:152: reg:linear is now deprecated in favor of reg:squarederror.\n",
            "[15:31:50] WARNING: /workspace/src/objective/regression_obj.cu:152: reg:linear is now deprecated in favor of reg:squarederror.\n",
            "[15:31:52] WARNING: /workspace/src/objective/regression_obj.cu:152: reg:linear is now deprecated in favor of reg:squarederror.\n",
            "[15:31:55] WARNING: /workspace/src/objective/regression_obj.cu:152: reg:linear is now deprecated in favor of reg:squarederror.\n",
            "[15:31:58] WARNING: /workspace/src/objective/regression_obj.cu:152: reg:linear is now deprecated in favor of reg:squarederror.\n",
            "[15:32:01] WARNING: /workspace/src/objective/regression_obj.cu:152: reg:linear is now deprecated in favor of reg:squarederror.\n",
            "[15:32:04] WARNING: /workspace/src/objective/regression_obj.cu:152: reg:linear is now deprecated in favor of reg:squarederror.\n"
          ]
        },
        {
          "output_type": "stream",
          "name": "stderr",
          "text": [
            "\n",
            "loop param_grid:  92%|█████████████████████████████████   | 11/12 [07:02<00:37, 37.52s/it]\u001b[A"
          ]
        },
        {
          "output_type": "stream",
          "name": "stdout",
          "text": [
            "[15:32:07] WARNING: /workspace/src/objective/regression_obj.cu:152: reg:linear is now deprecated in favor of reg:squarederror.\n",
            "[15:32:19] WARNING: /workspace/src/objective/regression_obj.cu:152: reg:linear is now deprecated in favor of reg:squarederror.\n",
            "[15:32:30] WARNING: /workspace/src/objective/regression_obj.cu:152: reg:linear is now deprecated in favor of reg:squarederror.\n",
            "[15:32:42] WARNING: /workspace/src/objective/regression_obj.cu:152: reg:linear is now deprecated in favor of reg:squarederror.\n",
            "[15:32:54] WARNING: /workspace/src/objective/regression_obj.cu:152: reg:linear is now deprecated in favor of reg:squarederror.\n",
            "[15:33:07] WARNING: /workspace/src/objective/regression_obj.cu:152: reg:linear is now deprecated in favor of reg:squarederror.\n",
            "[15:33:20] WARNING: /workspace/src/objective/regression_obj.cu:152: reg:linear is now deprecated in favor of reg:squarederror.\n",
            "[15:33:33] WARNING: /workspace/src/objective/regression_obj.cu:152: reg:linear is now deprecated in favor of reg:squarederror.\n",
            "[15:33:47] WARNING: /workspace/src/objective/regression_obj.cu:152: reg:linear is now deprecated in favor of reg:squarederror.\n",
            "[15:34:01] WARNING: /workspace/src/objective/regression_obj.cu:152: reg:linear is now deprecated in favor of reg:squarederror.\n"
          ]
        },
        {
          "output_type": "stream",
          "name": "stderr",
          "text": [
            "\n",
            "loop param_grid: 100%|████████████████████████████████████| 12/12 [09:10<00:00, 65.14s/it]\u001b[A\n",
            "loop lags_grid:  25%|█████████▌                            | 1/4 [09:10<27:31, 550.59s/it]\n",
            "loop param_grid:   0%|                                             | 0/12 [00:00<?, ?it/s]\u001b[A"
          ]
        },
        {
          "output_type": "stream",
          "name": "stdout",
          "text": [
            "[15:34:15] WARNING: /workspace/src/objective/regression_obj.cu:152: reg:linear is now deprecated in favor of reg:squarederror.\n",
            "[15:34:17] WARNING: /workspace/src/objective/regression_obj.cu:152: reg:linear is now deprecated in favor of reg:squarederror.\n",
            "[15:34:18] WARNING: /workspace/src/objective/regression_obj.cu:152: reg:linear is now deprecated in favor of reg:squarederror.\n",
            "[15:34:19] WARNING: /workspace/src/objective/regression_obj.cu:152: reg:linear is now deprecated in favor of reg:squarederror.\n",
            "[15:34:20] WARNING: /workspace/src/objective/regression_obj.cu:152: reg:linear is now deprecated in favor of reg:squarederror.\n",
            "[15:34:22] WARNING: /workspace/src/objective/regression_obj.cu:152: reg:linear is now deprecated in favor of reg:squarederror.\n",
            "[15:34:23] WARNING: /workspace/src/objective/regression_obj.cu:152: reg:linear is now deprecated in favor of reg:squarederror.\n",
            "[15:34:24] WARNING: /workspace/src/objective/regression_obj.cu:152: reg:linear is now deprecated in favor of reg:squarederror.\n",
            "[15:34:26] WARNING: /workspace/src/objective/regression_obj.cu:152: reg:linear is now deprecated in favor of reg:squarederror.\n",
            "[15:34:27] WARNING: /workspace/src/objective/regression_obj.cu:152: reg:linear is now deprecated in favor of reg:squarederror.\n"
          ]
        },
        {
          "output_type": "stream",
          "name": "stderr",
          "text": [
            "\n",
            "loop param_grid:   8%|███                                  | 1/12 [00:13<02:26, 13.32s/it]\u001b[A"
          ]
        },
        {
          "output_type": "stream",
          "name": "stdout",
          "text": [
            "[15:34:29] WARNING: /workspace/src/objective/regression_obj.cu:152: reg:linear is now deprecated in favor of reg:squarederror.\n",
            "[15:34:34] WARNING: /workspace/src/objective/regression_obj.cu:152: reg:linear is now deprecated in favor of reg:squarederror.\n",
            "[15:34:40] WARNING: /workspace/src/objective/regression_obj.cu:152: reg:linear is now deprecated in favor of reg:squarederror.\n",
            "[15:34:47] WARNING: /workspace/src/objective/regression_obj.cu:152: reg:linear is now deprecated in favor of reg:squarederror.\n",
            "[15:34:53] WARNING: /workspace/src/objective/regression_obj.cu:152: reg:linear is now deprecated in favor of reg:squarederror.\n",
            "[15:34:59] WARNING: /workspace/src/objective/regression_obj.cu:152: reg:linear is now deprecated in favor of reg:squarederror.\n",
            "[15:35:06] WARNING: /workspace/src/objective/regression_obj.cu:152: reg:linear is now deprecated in favor of reg:squarederror.\n",
            "[15:35:13] WARNING: /workspace/src/objective/regression_obj.cu:152: reg:linear is now deprecated in favor of reg:squarederror.\n",
            "[15:35:20] WARNING: /workspace/src/objective/regression_obj.cu:152: reg:linear is now deprecated in favor of reg:squarederror.\n",
            "[15:35:27] WARNING: /workspace/src/objective/regression_obj.cu:152: reg:linear is now deprecated in favor of reg:squarederror.\n"
          ]
        },
        {
          "output_type": "stream",
          "name": "stderr",
          "text": [
            "\n",
            "loop param_grid:  17%|██████▏                              | 2/12 [01:18<07:17, 43.72s/it]\u001b[A"
          ]
        },
        {
          "output_type": "stream",
          "name": "stdout",
          "text": [
            "[15:35:34] WARNING: /workspace/src/objective/regression_obj.cu:152: reg:linear is now deprecated in favor of reg:squarederror.\n",
            "[15:35:36] WARNING: /workspace/src/objective/regression_obj.cu:152: reg:linear is now deprecated in favor of reg:squarederror.\n",
            "[15:35:38] WARNING: /workspace/src/objective/regression_obj.cu:152: reg:linear is now deprecated in favor of reg:squarederror.\n",
            "[15:35:40] WARNING: /workspace/src/objective/regression_obj.cu:152: reg:linear is now deprecated in favor of reg:squarederror.\n",
            "[15:35:42] WARNING: /workspace/src/objective/regression_obj.cu:152: reg:linear is now deprecated in favor of reg:squarederror.\n",
            "[15:35:44] WARNING: /workspace/src/objective/regression_obj.cu:152: reg:linear is now deprecated in favor of reg:squarederror.\n",
            "[15:35:46] WARNING: /workspace/src/objective/regression_obj.cu:152: reg:linear is now deprecated in favor of reg:squarederror.\n",
            "[15:35:48] WARNING: /workspace/src/objective/regression_obj.cu:152: reg:linear is now deprecated in favor of reg:squarederror.\n",
            "[15:35:51] WARNING: /workspace/src/objective/regression_obj.cu:152: reg:linear is now deprecated in favor of reg:squarederror.\n",
            "[15:35:53] WARNING: /workspace/src/objective/regression_obj.cu:152: reg:linear is now deprecated in favor of reg:squarederror.\n"
          ]
        },
        {
          "output_type": "stream",
          "name": "stderr",
          "text": [
            "\n",
            "loop param_grid:  25%|█████████▎                           | 3/12 [01:40<05:03, 33.71s/it]\u001b[A"
          ]
        },
        {
          "output_type": "stream",
          "name": "stdout",
          "text": [
            "[15:35:56] WARNING: /workspace/src/objective/regression_obj.cu:152: reg:linear is now deprecated in favor of reg:squarederror.\n",
            "[15:36:05] WARNING: /workspace/src/objective/regression_obj.cu:152: reg:linear is now deprecated in favor of reg:squarederror.\n",
            "[15:36:15] WARNING: /workspace/src/objective/regression_obj.cu:152: reg:linear is now deprecated in favor of reg:squarederror.\n",
            "[15:36:26] WARNING: /workspace/src/objective/regression_obj.cu:152: reg:linear is now deprecated in favor of reg:squarederror.\n",
            "[15:36:37] WARNING: /workspace/src/objective/regression_obj.cu:152: reg:linear is now deprecated in favor of reg:squarederror.\n",
            "[15:36:49] WARNING: /workspace/src/objective/regression_obj.cu:152: reg:linear is now deprecated in favor of reg:squarederror.\n",
            "[15:37:00] WARNING: /workspace/src/objective/regression_obj.cu:152: reg:linear is now deprecated in favor of reg:squarederror.\n",
            "[15:37:11] WARNING: /workspace/src/objective/regression_obj.cu:152: reg:linear is now deprecated in favor of reg:squarederror.\n",
            "[15:37:23] WARNING: /workspace/src/objective/regression_obj.cu:152: reg:linear is now deprecated in favor of reg:squarederror.\n",
            "[15:37:35] WARNING: /workspace/src/objective/regression_obj.cu:152: reg:linear is now deprecated in favor of reg:squarederror.\n"
          ]
        },
        {
          "output_type": "stream",
          "name": "stderr",
          "text": [
            "\n",
            "loop param_grid:  33%|████████████▎                        | 4/12 [03:32<08:37, 64.73s/it]\u001b[A"
          ]
        },
        {
          "output_type": "stream",
          "name": "stdout",
          "text": [
            "[15:37:48] WARNING: /workspace/src/objective/regression_obj.cu:152: reg:linear is now deprecated in favor of reg:squarederror.\n",
            "[15:37:52] WARNING: /workspace/src/objective/regression_obj.cu:152: reg:linear is now deprecated in favor of reg:squarederror.\n",
            "[15:37:56] WARNING: /workspace/src/objective/regression_obj.cu:152: reg:linear is now deprecated in favor of reg:squarederror.\n",
            "[15:38:00] WARNING: /workspace/src/objective/regression_obj.cu:152: reg:linear is now deprecated in favor of reg:squarederror.\n",
            "[15:38:04] WARNING: /workspace/src/objective/regression_obj.cu:152: reg:linear is now deprecated in favor of reg:squarederror.\n",
            "[15:38:08] WARNING: /workspace/src/objective/regression_obj.cu:152: reg:linear is now deprecated in favor of reg:squarederror.\n",
            "[15:38:12] WARNING: /workspace/src/objective/regression_obj.cu:152: reg:linear is now deprecated in favor of reg:squarederror.\n",
            "[15:38:17] WARNING: /workspace/src/objective/regression_obj.cu:152: reg:linear is now deprecated in favor of reg:squarederror.\n",
            "[15:38:22] WARNING: /workspace/src/objective/regression_obj.cu:152: reg:linear is now deprecated in favor of reg:squarederror.\n",
            "[15:38:26] WARNING: /workspace/src/objective/regression_obj.cu:152: reg:linear is now deprecated in favor of reg:squarederror.\n"
          ]
        },
        {
          "output_type": "stream",
          "name": "stderr",
          "text": [
            "\n",
            "loop param_grid:  42%|███████████████▍                     | 5/12 [04:15<06:39, 57.10s/it]\u001b[A"
          ]
        },
        {
          "output_type": "stream",
          "name": "stdout",
          "text": [
            "[15:38:31] WARNING: /workspace/src/objective/regression_obj.cu:152: reg:linear is now deprecated in favor of reg:squarederror.\n",
            "[15:38:52] WARNING: /workspace/src/objective/regression_obj.cu:152: reg:linear is now deprecated in favor of reg:squarederror.\n",
            "[15:39:14] WARNING: /workspace/src/objective/regression_obj.cu:152: reg:linear is now deprecated in favor of reg:squarederror.\n",
            "[15:39:36] WARNING: /workspace/src/objective/regression_obj.cu:152: reg:linear is now deprecated in favor of reg:squarederror.\n",
            "[15:39:59] WARNING: /workspace/src/objective/regression_obj.cu:152: reg:linear is now deprecated in favor of reg:squarederror.\n",
            "[15:40:22] WARNING: /workspace/src/objective/regression_obj.cu:152: reg:linear is now deprecated in favor of reg:squarederror.\n",
            "[15:40:46] WARNING: /workspace/src/objective/regression_obj.cu:152: reg:linear is now deprecated in favor of reg:squarederror.\n",
            "[15:41:11] WARNING: /workspace/src/objective/regression_obj.cu:152: reg:linear is now deprecated in favor of reg:squarederror.\n",
            "[15:41:36] WARNING: /workspace/src/objective/regression_obj.cu:152: reg:linear is now deprecated in favor of reg:squarederror.\n",
            "[15:42:02] WARNING: /workspace/src/objective/regression_obj.cu:152: reg:linear is now deprecated in favor of reg:squarederror.\n"
          ]
        },
        {
          "output_type": "stream",
          "name": "stderr",
          "text": [
            "\n",
            "loop param_grid:  50%|██████████████████                  | 6/12 [08:13<11:51, 118.56s/it]\u001b[A"
          ]
        },
        {
          "output_type": "stream",
          "name": "stdout",
          "text": [
            "[15:42:29] WARNING: /workspace/src/objective/regression_obj.cu:152: reg:linear is now deprecated in favor of reg:squarederror.\n",
            "[15:42:31] WARNING: /workspace/src/objective/regression_obj.cu:152: reg:linear is now deprecated in favor of reg:squarederror.\n",
            "[15:42:32] WARNING: /workspace/src/objective/regression_obj.cu:152: reg:linear is now deprecated in favor of reg:squarederror.\n",
            "[15:42:33] WARNING: /workspace/src/objective/regression_obj.cu:152: reg:linear is now deprecated in favor of reg:squarederror.\n",
            "[15:42:34] WARNING: /workspace/src/objective/regression_obj.cu:152: reg:linear is now deprecated in favor of reg:squarederror.\n",
            "[15:42:36] WARNING: /workspace/src/objective/regression_obj.cu:152: reg:linear is now deprecated in favor of reg:squarederror.\n",
            "[15:42:37] WARNING: /workspace/src/objective/regression_obj.cu:152: reg:linear is now deprecated in favor of reg:squarederror.\n",
            "[15:42:38] WARNING: /workspace/src/objective/regression_obj.cu:152: reg:linear is now deprecated in favor of reg:squarederror.\n",
            "[15:42:40] WARNING: /workspace/src/objective/regression_obj.cu:152: reg:linear is now deprecated in favor of reg:squarederror.\n",
            "[15:42:41] WARNING: /workspace/src/objective/regression_obj.cu:152: reg:linear is now deprecated in favor of reg:squarederror.\n"
          ]
        },
        {
          "output_type": "stream",
          "name": "stderr",
          "text": [
            "\n",
            "loop param_grid:  58%|█████████████████████▌               | 7/12 [08:27<07:01, 84.22s/it]\u001b[A"
          ]
        },
        {
          "output_type": "stream",
          "name": "stdout",
          "text": [
            "[15:42:43] WARNING: /workspace/src/objective/regression_obj.cu:152: reg:linear is now deprecated in favor of reg:squarederror.\n",
            "[15:42:49] WARNING: /workspace/src/objective/regression_obj.cu:152: reg:linear is now deprecated in favor of reg:squarederror.\n",
            "[15:42:55] WARNING: /workspace/src/objective/regression_obj.cu:152: reg:linear is now deprecated in favor of reg:squarederror.\n",
            "[15:43:01] WARNING: /workspace/src/objective/regression_obj.cu:152: reg:linear is now deprecated in favor of reg:squarederror.\n",
            "[15:43:07] WARNING: /workspace/src/objective/regression_obj.cu:152: reg:linear is now deprecated in favor of reg:squarederror.\n",
            "[15:43:13] WARNING: /workspace/src/objective/regression_obj.cu:152: reg:linear is now deprecated in favor of reg:squarederror.\n",
            "[15:43:20] WARNING: /workspace/src/objective/regression_obj.cu:152: reg:linear is now deprecated in favor of reg:squarederror.\n",
            "[15:43:27] WARNING: /workspace/src/objective/regression_obj.cu:152: reg:linear is now deprecated in favor of reg:squarederror.\n",
            "[15:43:33] WARNING: /workspace/src/objective/regression_obj.cu:152: reg:linear is now deprecated in favor of reg:squarederror.\n",
            "[15:43:40] WARNING: /workspace/src/objective/regression_obj.cu:152: reg:linear is now deprecated in favor of reg:squarederror.\n"
          ]
        },
        {
          "output_type": "stream",
          "name": "stderr",
          "text": [
            "\n",
            "loop param_grid:  67%|████████████████████████▋            | 8/12 [09:31<05:11, 77.96s/it]\u001b[A"
          ]
        },
        {
          "output_type": "stream",
          "name": "stdout",
          "text": [
            "[15:43:47] WARNING: /workspace/src/objective/regression_obj.cu:152: reg:linear is now deprecated in favor of reg:squarederror.\n",
            "[15:43:49] WARNING: /workspace/src/objective/regression_obj.cu:152: reg:linear is now deprecated in favor of reg:squarederror.\n",
            "[15:43:51] WARNING: /workspace/src/objective/regression_obj.cu:152: reg:linear is now deprecated in favor of reg:squarederror.\n",
            "[15:43:54] WARNING: /workspace/src/objective/regression_obj.cu:152: reg:linear is now deprecated in favor of reg:squarederror.\n",
            "[15:43:56] WARNING: /workspace/src/objective/regression_obj.cu:152: reg:linear is now deprecated in favor of reg:squarederror.\n",
            "[15:43:58] WARNING: /workspace/src/objective/regression_obj.cu:152: reg:linear is now deprecated in favor of reg:squarederror.\n",
            "[15:44:00] WARNING: /workspace/src/objective/regression_obj.cu:152: reg:linear is now deprecated in favor of reg:squarederror.\n",
            "[15:44:03] WARNING: /workspace/src/objective/regression_obj.cu:152: reg:linear is now deprecated in favor of reg:squarederror.\n",
            "[15:44:05] WARNING: /workspace/src/objective/regression_obj.cu:152: reg:linear is now deprecated in favor of reg:squarederror.\n",
            "[15:44:08] WARNING: /workspace/src/objective/regression_obj.cu:152: reg:linear is now deprecated in favor of reg:squarederror.\n"
          ]
        },
        {
          "output_type": "stream",
          "name": "stderr",
          "text": [
            "\n",
            "loop param_grid:  75%|███████████████████████████▊         | 9/12 [09:54<03:02, 60.72s/it]\u001b[A"
          ]
        },
        {
          "output_type": "stream",
          "name": "stdout",
          "text": [
            "[15:44:10] WARNING: /workspace/src/objective/regression_obj.cu:152: reg:linear is now deprecated in favor of reg:squarederror.\n",
            "[15:44:20] WARNING: /workspace/src/objective/regression_obj.cu:152: reg:linear is now deprecated in favor of reg:squarederror.\n",
            "[15:44:30] WARNING: /workspace/src/objective/regression_obj.cu:152: reg:linear is now deprecated in favor of reg:squarederror.\n",
            "[15:44:40] WARNING: /workspace/src/objective/regression_obj.cu:152: reg:linear is now deprecated in favor of reg:squarederror.\n",
            "[15:44:51] WARNING: /workspace/src/objective/regression_obj.cu:152: reg:linear is now deprecated in favor of reg:squarederror.\n",
            "[15:45:01] WARNING: /workspace/src/objective/regression_obj.cu:152: reg:linear is now deprecated in favor of reg:squarederror.\n",
            "[15:45:12] WARNING: /workspace/src/objective/regression_obj.cu:152: reg:linear is now deprecated in favor of reg:squarederror.\n",
            "[15:45:24] WARNING: /workspace/src/objective/regression_obj.cu:152: reg:linear is now deprecated in favor of reg:squarederror.\n",
            "[15:45:35] WARNING: /workspace/src/objective/regression_obj.cu:152: reg:linear is now deprecated in favor of reg:squarederror.\n",
            "[15:45:47] WARNING: /workspace/src/objective/regression_obj.cu:152: reg:linear is now deprecated in favor of reg:squarederror.\n"
          ]
        },
        {
          "output_type": "stream",
          "name": "stderr",
          "text": [
            "\n",
            "loop param_grid:  83%|██████████████████████████████      | 10/12 [11:43<02:31, 75.56s/it]\u001b[A"
          ]
        },
        {
          "output_type": "stream",
          "name": "stdout",
          "text": [
            "[15:45:59] WARNING: /workspace/src/objective/regression_obj.cu:152: reg:linear is now deprecated in favor of reg:squarederror.\n",
            "[15:46:03] WARNING: /workspace/src/objective/regression_obj.cu:152: reg:linear is now deprecated in favor of reg:squarederror.\n",
            "[15:46:08] WARNING: /workspace/src/objective/regression_obj.cu:152: reg:linear is now deprecated in favor of reg:squarederror.\n",
            "[15:46:12] WARNING: /workspace/src/objective/regression_obj.cu:152: reg:linear is now deprecated in favor of reg:squarederror.\n",
            "[15:46:17] WARNING: /workspace/src/objective/regression_obj.cu:152: reg:linear is now deprecated in favor of reg:squarederror.\n",
            "[15:46:21] WARNING: /workspace/src/objective/regression_obj.cu:152: reg:linear is now deprecated in favor of reg:squarederror.\n",
            "[15:46:26] WARNING: /workspace/src/objective/regression_obj.cu:152: reg:linear is now deprecated in favor of reg:squarederror.\n",
            "[15:46:31] WARNING: /workspace/src/objective/regression_obj.cu:152: reg:linear is now deprecated in favor of reg:squarederror.\n",
            "[15:46:37] WARNING: /workspace/src/objective/regression_obj.cu:152: reg:linear is now deprecated in favor of reg:squarederror.\n",
            "[15:46:42] WARNING: /workspace/src/objective/regression_obj.cu:152: reg:linear is now deprecated in favor of reg:squarederror.\n"
          ]
        },
        {
          "output_type": "stream",
          "name": "stderr",
          "text": [
            "\n",
            "loop param_grid:  92%|█████████████████████████████████   | 11/12 [12:32<01:07, 67.28s/it]\u001b[A"
          ]
        },
        {
          "output_type": "stream",
          "name": "stdout",
          "text": [
            "[15:46:47] WARNING: /workspace/src/objective/regression_obj.cu:152: reg:linear is now deprecated in favor of reg:squarederror.\n",
            "[15:47:08] WARNING: /workspace/src/objective/regression_obj.cu:152: reg:linear is now deprecated in favor of reg:squarederror.\n",
            "[15:47:29] WARNING: /workspace/src/objective/regression_obj.cu:152: reg:linear is now deprecated in favor of reg:squarederror.\n",
            "[15:47:50] WARNING: /workspace/src/objective/regression_obj.cu:152: reg:linear is now deprecated in favor of reg:squarederror.\n",
            "[15:48:12] WARNING: /workspace/src/objective/regression_obj.cu:152: reg:linear is now deprecated in favor of reg:squarederror.\n",
            "[15:48:35] WARNING: /workspace/src/objective/regression_obj.cu:152: reg:linear is now deprecated in favor of reg:squarederror.\n",
            "[15:48:58] WARNING: /workspace/src/objective/regression_obj.cu:152: reg:linear is now deprecated in favor of reg:squarederror.\n",
            "[15:49:22] WARNING: /workspace/src/objective/regression_obj.cu:152: reg:linear is now deprecated in favor of reg:squarederror.\n",
            "[15:49:46] WARNING: /workspace/src/objective/regression_obj.cu:152: reg:linear is now deprecated in favor of reg:squarederror.\n",
            "[15:50:11] WARNING: /workspace/src/objective/regression_obj.cu:152: reg:linear is now deprecated in favor of reg:squarederror.\n"
          ]
        },
        {
          "output_type": "stream",
          "name": "stderr",
          "text": [
            "\n",
            "loop param_grid: 100%|███████████████████████████████████| 12/12 [16:21<00:00, 116.55s/it]\u001b[A\n",
            "loop lags_grid:  50%|███████████████████                   | 2/4 [25:31<26:47, 803.94s/it]\n",
            "loop param_grid:   0%|                                             | 0/12 [00:00<?, ?it/s]\u001b[A"
          ]
        },
        {
          "output_type": "stream",
          "name": "stdout",
          "text": [
            "[15:50:37] WARNING: /workspace/src/objective/regression_obj.cu:152: reg:linear is now deprecated in favor of reg:squarederror.\n",
            "[15:50:39] WARNING: /workspace/src/objective/regression_obj.cu:152: reg:linear is now deprecated in favor of reg:squarederror.\n",
            "[15:50:40] WARNING: /workspace/src/objective/regression_obj.cu:152: reg:linear is now deprecated in favor of reg:squarederror.\n",
            "[15:50:42] WARNING: /workspace/src/objective/regression_obj.cu:152: reg:linear is now deprecated in favor of reg:squarederror.\n",
            "[15:50:44] WARNING: /workspace/src/objective/regression_obj.cu:152: reg:linear is now deprecated in favor of reg:squarederror.\n",
            "[15:50:46] WARNING: /workspace/src/objective/regression_obj.cu:152: reg:linear is now deprecated in favor of reg:squarederror.\n",
            "[15:50:48] WARNING: /workspace/src/objective/regression_obj.cu:152: reg:linear is now deprecated in favor of reg:squarederror.\n",
            "[15:50:50] WARNING: /workspace/src/objective/regression_obj.cu:152: reg:linear is now deprecated in favor of reg:squarederror.\n",
            "[15:50:52] WARNING: /workspace/src/objective/regression_obj.cu:152: reg:linear is now deprecated in favor of reg:squarederror.\n",
            "[15:50:54] WARNING: /workspace/src/objective/regression_obj.cu:152: reg:linear is now deprecated in favor of reg:squarederror.\n"
          ]
        },
        {
          "output_type": "stream",
          "name": "stderr",
          "text": [
            "\n",
            "loop param_grid:   8%|███                                  | 1/12 [00:19<03:30, 19.17s/it]\u001b[A"
          ]
        },
        {
          "output_type": "stream",
          "name": "stdout",
          "text": [
            "[15:50:56] WARNING: /workspace/src/objective/regression_obj.cu:152: reg:linear is now deprecated in favor of reg:squarederror.\n",
            "[15:51:04] WARNING: /workspace/src/objective/regression_obj.cu:152: reg:linear is now deprecated in favor of reg:squarederror.\n",
            "[15:51:13] WARNING: /workspace/src/objective/regression_obj.cu:152: reg:linear is now deprecated in favor of reg:squarederror.\n",
            "[15:51:22] WARNING: /workspace/src/objective/regression_obj.cu:152: reg:linear is now deprecated in favor of reg:squarederror.\n",
            "[15:51:31] WARNING: /workspace/src/objective/regression_obj.cu:152: reg:linear is now deprecated in favor of reg:squarederror.\n",
            "[15:51:40] WARNING: /workspace/src/objective/regression_obj.cu:152: reg:linear is now deprecated in favor of reg:squarederror.\n",
            "[15:51:50] WARNING: /workspace/src/objective/regression_obj.cu:152: reg:linear is now deprecated in favor of reg:squarederror.\n",
            "[15:51:59] WARNING: /workspace/src/objective/regression_obj.cu:152: reg:linear is now deprecated in favor of reg:squarederror.\n",
            "[15:52:09] WARNING: /workspace/src/objective/regression_obj.cu:152: reg:linear is now deprecated in favor of reg:squarederror.\n",
            "[15:52:19] WARNING: /workspace/src/objective/regression_obj.cu:152: reg:linear is now deprecated in favor of reg:squarederror.\n"
          ]
        },
        {
          "output_type": "stream",
          "name": "stderr",
          "text": [
            "\n",
            "loop param_grid:  17%|██████▏                              | 2/12 [01:52<10:29, 62.92s/it]\u001b[A"
          ]
        },
        {
          "output_type": "stream",
          "name": "stdout",
          "text": [
            "[15:52:29] WARNING: /workspace/src/objective/regression_obj.cu:152: reg:linear is now deprecated in favor of reg:squarederror.\n",
            "[15:52:32] WARNING: /workspace/src/objective/regression_obj.cu:152: reg:linear is now deprecated in favor of reg:squarederror.\n",
            "[15:52:35] WARNING: /workspace/src/objective/regression_obj.cu:152: reg:linear is now deprecated in favor of reg:squarederror.\n",
            "[15:52:38] WARNING: /workspace/src/objective/regression_obj.cu:152: reg:linear is now deprecated in favor of reg:squarederror.\n",
            "[15:52:41] WARNING: /workspace/src/objective/regression_obj.cu:152: reg:linear is now deprecated in favor of reg:squarederror.\n",
            "[15:52:44] WARNING: /workspace/src/objective/regression_obj.cu:152: reg:linear is now deprecated in favor of reg:squarederror.\n",
            "[15:52:47] WARNING: /workspace/src/objective/regression_obj.cu:152: reg:linear is now deprecated in favor of reg:squarederror.\n",
            "[15:52:50] WARNING: /workspace/src/objective/regression_obj.cu:152: reg:linear is now deprecated in favor of reg:squarederror.\n",
            "[15:52:54] WARNING: /workspace/src/objective/regression_obj.cu:152: reg:linear is now deprecated in favor of reg:squarederror.\n",
            "[15:52:57] WARNING: /workspace/src/objective/regression_obj.cu:152: reg:linear is now deprecated in favor of reg:squarederror.\n"
          ]
        },
        {
          "output_type": "stream",
          "name": "stderr",
          "text": [
            "\n",
            "loop param_grid:  25%|█████████▎                           | 3/12 [02:24<07:16, 48.53s/it]\u001b[A"
          ]
        },
        {
          "output_type": "stream",
          "name": "stdout",
          "text": [
            "[15:53:01] WARNING: /workspace/src/objective/regression_obj.cu:152: reg:linear is now deprecated in favor of reg:squarederror.\n",
            "[15:53:15] WARNING: /workspace/src/objective/regression_obj.cu:152: reg:linear is now deprecated in favor of reg:squarederror.\n",
            "[15:53:29] WARNING: /workspace/src/objective/regression_obj.cu:152: reg:linear is now deprecated in favor of reg:squarederror.\n",
            "[15:53:44] WARNING: /workspace/src/objective/regression_obj.cu:152: reg:linear is now deprecated in favor of reg:squarederror.\n",
            "[15:53:59] WARNING: /workspace/src/objective/regression_obj.cu:152: reg:linear is now deprecated in favor of reg:squarederror.\n",
            "[15:54:15] WARNING: /workspace/src/objective/regression_obj.cu:152: reg:linear is now deprecated in favor of reg:squarederror.\n",
            "[15:54:31] WARNING: /workspace/src/objective/regression_obj.cu:152: reg:linear is now deprecated in favor of reg:squarederror.\n",
            "[15:54:48] WARNING: /workspace/src/objective/regression_obj.cu:152: reg:linear is now deprecated in favor of reg:squarederror.\n",
            "[15:55:05] WARNING: /workspace/src/objective/regression_obj.cu:152: reg:linear is now deprecated in favor of reg:squarederror.\n",
            "[15:55:22] WARNING: /workspace/src/objective/regression_obj.cu:152: reg:linear is now deprecated in favor of reg:squarederror.\n"
          ]
        },
        {
          "output_type": "stream",
          "name": "stderr",
          "text": [
            "\n",
            "loop param_grid:  33%|████████████▎                        | 4/12 [05:03<12:17, 92.16s/it]\u001b[A"
          ]
        },
        {
          "output_type": "stream",
          "name": "stdout",
          "text": [
            "[15:55:40] WARNING: /workspace/src/objective/regression_obj.cu:152: reg:linear is now deprecated in favor of reg:squarederror.\n",
            "[15:55:45] WARNING: /workspace/src/objective/regression_obj.cu:152: reg:linear is now deprecated in favor of reg:squarederror.\n",
            "[15:55:51] WARNING: /workspace/src/objective/regression_obj.cu:152: reg:linear is now deprecated in favor of reg:squarederror.\n",
            "[15:55:57] WARNING: /workspace/src/objective/regression_obj.cu:152: reg:linear is now deprecated in favor of reg:squarederror.\n",
            "[15:56:02] WARNING: /workspace/src/objective/regression_obj.cu:152: reg:linear is now deprecated in favor of reg:squarederror.\n",
            "[15:56:08] WARNING: /workspace/src/objective/regression_obj.cu:152: reg:linear is now deprecated in favor of reg:squarederror.\n",
            "[15:56:15] WARNING: /workspace/src/objective/regression_obj.cu:152: reg:linear is now deprecated in favor of reg:squarederror.\n",
            "[15:56:21] WARNING: /workspace/src/objective/regression_obj.cu:152: reg:linear is now deprecated in favor of reg:squarederror.\n",
            "[15:56:28] WARNING: /workspace/src/objective/regression_obj.cu:152: reg:linear is now deprecated in favor of reg:squarederror.\n",
            "[15:56:34] WARNING: /workspace/src/objective/regression_obj.cu:152: reg:linear is now deprecated in favor of reg:squarederror.\n"
          ]
        },
        {
          "output_type": "stream",
          "name": "stderr",
          "text": [
            "\n",
            "loop param_grid:  42%|███████████████▍                     | 5/12 [06:04<09:27, 81.11s/it]\u001b[A"
          ]
        },
        {
          "output_type": "stream",
          "name": "stdout",
          "text": [
            "[15:56:41] WARNING: /workspace/src/objective/regression_obj.cu:152: reg:linear is now deprecated in favor of reg:squarederror.\n",
            "[15:57:10] WARNING: /workspace/src/objective/regression_obj.cu:152: reg:linear is now deprecated in favor of reg:squarederror.\n",
            "[15:57:40] WARNING: /workspace/src/objective/regression_obj.cu:152: reg:linear is now deprecated in favor of reg:squarederror.\n",
            "[15:58:11] WARNING: /workspace/src/objective/regression_obj.cu:152: reg:linear is now deprecated in favor of reg:squarederror.\n",
            "[15:58:43] WARNING: /workspace/src/objective/regression_obj.cu:152: reg:linear is now deprecated in favor of reg:squarederror.\n",
            "[15:59:16] WARNING: /workspace/src/objective/regression_obj.cu:152: reg:linear is now deprecated in favor of reg:squarederror.\n",
            "[15:59:49] WARNING: /workspace/src/objective/regression_obj.cu:152: reg:linear is now deprecated in favor of reg:squarederror.\n",
            "[16:00:24] WARNING: /workspace/src/objective/regression_obj.cu:152: reg:linear is now deprecated in favor of reg:squarederror.\n",
            "[16:01:00] WARNING: /workspace/src/objective/regression_obj.cu:152: reg:linear is now deprecated in favor of reg:squarederror.\n",
            "[16:01:36] WARNING: /workspace/src/objective/regression_obj.cu:152: reg:linear is now deprecated in favor of reg:squarederror.\n"
          ]
        },
        {
          "output_type": "stream",
          "name": "stderr",
          "text": [
            "\n",
            "loop param_grid:  50%|██████████████████                  | 6/12 [11:37<16:39, 166.61s/it]\u001b[A"
          ]
        },
        {
          "output_type": "stream",
          "name": "stdout",
          "text": [
            "[16:02:14] WARNING: /workspace/src/objective/regression_obj.cu:152: reg:linear is now deprecated in favor of reg:squarederror.\n",
            "[16:02:16] WARNING: /workspace/src/objective/regression_obj.cu:152: reg:linear is now deprecated in favor of reg:squarederror.\n",
            "[16:02:18] WARNING: /workspace/src/objective/regression_obj.cu:152: reg:linear is now deprecated in favor of reg:squarederror.\n",
            "[16:02:19] WARNING: /workspace/src/objective/regression_obj.cu:152: reg:linear is now deprecated in favor of reg:squarederror.\n",
            "[16:02:21] WARNING: /workspace/src/objective/regression_obj.cu:152: reg:linear is now deprecated in favor of reg:squarederror.\n",
            "[16:02:23] WARNING: /workspace/src/objective/regression_obj.cu:152: reg:linear is now deprecated in favor of reg:squarederror.\n",
            "[16:02:25] WARNING: /workspace/src/objective/regression_obj.cu:152: reg:linear is now deprecated in favor of reg:squarederror.\n",
            "[16:02:27] WARNING: /workspace/src/objective/regression_obj.cu:152: reg:linear is now deprecated in favor of reg:squarederror.\n",
            "[16:02:29] WARNING: /workspace/src/objective/regression_obj.cu:152: reg:linear is now deprecated in favor of reg:squarederror.\n",
            "[16:02:31] WARNING: /workspace/src/objective/regression_obj.cu:152: reg:linear is now deprecated in favor of reg:squarederror.\n"
          ]
        },
        {
          "output_type": "stream",
          "name": "stderr",
          "text": [
            "\n",
            "loop param_grid:  58%|█████████████████████               | 7/12 [11:56<09:52, 118.42s/it]\u001b[A"
          ]
        },
        {
          "output_type": "stream",
          "name": "stdout",
          "text": [
            "[16:02:33] WARNING: /workspace/src/objective/regression_obj.cu:152: reg:linear is now deprecated in favor of reg:squarederror.\n",
            "[16:02:42] WARNING: /workspace/src/objective/regression_obj.cu:152: reg:linear is now deprecated in favor of reg:squarederror.\n",
            "[16:02:50] WARNING: /workspace/src/objective/regression_obj.cu:152: reg:linear is now deprecated in favor of reg:squarederror.\n",
            "[16:02:59] WARNING: /workspace/src/objective/regression_obj.cu:152: reg:linear is now deprecated in favor of reg:squarederror.\n",
            "[16:03:07] WARNING: /workspace/src/objective/regression_obj.cu:152: reg:linear is now deprecated in favor of reg:squarederror.\n",
            "[16:03:17] WARNING: /workspace/src/objective/regression_obj.cu:152: reg:linear is now deprecated in favor of reg:squarederror.\n",
            "[16:03:26] WARNING: /workspace/src/objective/regression_obj.cu:152: reg:linear is now deprecated in favor of reg:squarederror.\n",
            "[16:03:35] WARNING: /workspace/src/objective/regression_obj.cu:152: reg:linear is now deprecated in favor of reg:squarederror.\n",
            "[16:03:45] WARNING: /workspace/src/objective/regression_obj.cu:152: reg:linear is now deprecated in favor of reg:squarederror.\n",
            "[16:03:55] WARNING: /workspace/src/objective/regression_obj.cu:152: reg:linear is now deprecated in favor of reg:squarederror.\n"
          ]
        },
        {
          "output_type": "stream",
          "name": "stderr",
          "text": [
            "\n",
            "loop param_grid:  67%|████████████████████████            | 8/12 [13:28<07:19, 109.95s/it]\u001b[A"
          ]
        },
        {
          "output_type": "stream",
          "name": "stdout",
          "text": [
            "[16:04:05] WARNING: /workspace/src/objective/regression_obj.cu:152: reg:linear is now deprecated in favor of reg:squarederror.\n",
            "[16:04:08] WARNING: /workspace/src/objective/regression_obj.cu:152: reg:linear is now deprecated in favor of reg:squarederror.\n",
            "[16:04:11] WARNING: /workspace/src/objective/regression_obj.cu:152: reg:linear is now deprecated in favor of reg:squarederror.\n",
            "[16:04:14] WARNING: /workspace/src/objective/regression_obj.cu:152: reg:linear is now deprecated in favor of reg:squarederror.\n",
            "[16:04:17] WARNING: /workspace/src/objective/regression_obj.cu:152: reg:linear is now deprecated in favor of reg:squarederror.\n",
            "[16:04:20] WARNING: /workspace/src/objective/regression_obj.cu:152: reg:linear is now deprecated in favor of reg:squarederror.\n",
            "[16:04:24] WARNING: /workspace/src/objective/regression_obj.cu:152: reg:linear is now deprecated in favor of reg:squarederror.\n",
            "[16:04:27] WARNING: /workspace/src/objective/regression_obj.cu:152: reg:linear is now deprecated in favor of reg:squarederror.\n",
            "[16:04:30] WARNING: /workspace/src/objective/regression_obj.cu:152: reg:linear is now deprecated in favor of reg:squarederror.\n",
            "[16:04:34] WARNING: /workspace/src/objective/regression_obj.cu:152: reg:linear is now deprecated in favor of reg:squarederror.\n"
          ]
        },
        {
          "output_type": "stream",
          "name": "stderr",
          "text": [
            "\n",
            "loop param_grid:  75%|███████████████████████████▊         | 9/12 [14:00<04:17, 85.71s/it]\u001b[A"
          ]
        },
        {
          "output_type": "stream",
          "name": "stdout",
          "text": [
            "[16:04:37] WARNING: /workspace/src/objective/regression_obj.cu:152: reg:linear is now deprecated in favor of reg:squarederror.\n",
            "[16:04:51] WARNING: /workspace/src/objective/regression_obj.cu:152: reg:linear is now deprecated in favor of reg:squarederror.\n",
            "[16:05:05] WARNING: /workspace/src/objective/regression_obj.cu:152: reg:linear is now deprecated in favor of reg:squarederror.\n",
            "[16:05:20] WARNING: /workspace/src/objective/regression_obj.cu:152: reg:linear is now deprecated in favor of reg:squarederror.\n",
            "[16:05:35] WARNING: /workspace/src/objective/regression_obj.cu:152: reg:linear is now deprecated in favor of reg:squarederror.\n",
            "[16:05:50] WARNING: /workspace/src/objective/regression_obj.cu:152: reg:linear is now deprecated in favor of reg:squarederror.\n",
            "[16:06:06] WARNING: /workspace/src/objective/regression_obj.cu:152: reg:linear is now deprecated in favor of reg:squarederror.\n",
            "[16:06:22] WARNING: /workspace/src/objective/regression_obj.cu:152: reg:linear is now deprecated in favor of reg:squarederror.\n",
            "[16:06:38] WARNING: /workspace/src/objective/regression_obj.cu:152: reg:linear is now deprecated in favor of reg:squarederror.\n",
            "[16:06:54] WARNING: /workspace/src/objective/regression_obj.cu:152: reg:linear is now deprecated in favor of reg:squarederror.\n"
          ]
        },
        {
          "output_type": "stream",
          "name": "stderr",
          "text": [
            "\n",
            "loop param_grid:  83%|█████████████████████████████▏     | 10/12 [16:34<03:33, 106.76s/it]\u001b[A"
          ]
        },
        {
          "output_type": "stream",
          "name": "stdout",
          "text": [
            "[16:07:11] WARNING: /workspace/src/objective/regression_obj.cu:152: reg:linear is now deprecated in favor of reg:squarederror.\n",
            "[16:07:17] WARNING: /workspace/src/objective/regression_obj.cu:152: reg:linear is now deprecated in favor of reg:squarederror.\n",
            "[16:07:23] WARNING: /workspace/src/objective/regression_obj.cu:152: reg:linear is now deprecated in favor of reg:squarederror.\n",
            "[16:07:30] WARNING: /workspace/src/objective/regression_obj.cu:152: reg:linear is now deprecated in favor of reg:squarederror.\n",
            "[16:07:36] WARNING: /workspace/src/objective/regression_obj.cu:152: reg:linear is now deprecated in favor of reg:squarederror.\n",
            "[16:07:43] WARNING: /workspace/src/objective/regression_obj.cu:152: reg:linear is now deprecated in favor of reg:squarederror.\n",
            "[16:07:49] WARNING: /workspace/src/objective/regression_obj.cu:152: reg:linear is now deprecated in favor of reg:squarederror.\n",
            "[16:07:57] WARNING: /workspace/src/objective/regression_obj.cu:152: reg:linear is now deprecated in favor of reg:squarederror.\n",
            "[16:08:04] WARNING: /workspace/src/objective/regression_obj.cu:152: reg:linear is now deprecated in favor of reg:squarederror.\n",
            "[16:08:11] WARNING: /workspace/src/objective/regression_obj.cu:152: reg:linear is now deprecated in favor of reg:squarederror.\n"
          ]
        },
        {
          "output_type": "stream",
          "name": "stderr",
          "text": [
            "\n",
            "loop param_grid:  92%|█████████████████████████████████   | 11/12 [17:42<01:34, 94.76s/it]\u001b[A"
          ]
        },
        {
          "output_type": "stream",
          "name": "stdout",
          "text": [
            "[16:08:19] WARNING: /workspace/src/objective/regression_obj.cu:152: reg:linear is now deprecated in favor of reg:squarederror.\n",
            "[16:08:47] WARNING: /workspace/src/objective/regression_obj.cu:152: reg:linear is now deprecated in favor of reg:squarederror.\n",
            "[16:09:17] WARNING: /workspace/src/objective/regression_obj.cu:152: reg:linear is now deprecated in favor of reg:squarederror.\n",
            "[16:09:47] WARNING: /workspace/src/objective/regression_obj.cu:152: reg:linear is now deprecated in favor of reg:squarederror.\n",
            "[16:10:18] WARNING: /workspace/src/objective/regression_obj.cu:152: reg:linear is now deprecated in favor of reg:squarederror.\n",
            "[16:10:49] WARNING: /workspace/src/objective/regression_obj.cu:152: reg:linear is now deprecated in favor of reg:squarederror.\n",
            "[16:11:22] WARNING: /workspace/src/objective/regression_obj.cu:152: reg:linear is now deprecated in favor of reg:squarederror.\n",
            "[16:11:55] WARNING: /workspace/src/objective/regression_obj.cu:152: reg:linear is now deprecated in favor of reg:squarederror.\n",
            "[16:12:29] WARNING: /workspace/src/objective/regression_obj.cu:152: reg:linear is now deprecated in favor of reg:squarederror.\n",
            "[16:13:04] WARNING: /workspace/src/objective/regression_obj.cu:152: reg:linear is now deprecated in favor of reg:squarederror.\n"
          ]
        },
        {
          "output_type": "stream",
          "name": "stderr",
          "text": [
            "\n",
            "loop param_grid: 100%|███████████████████████████████████| 12/12 [23:02<00:00, 163.50s/it]\u001b[A\n",
            "loop lags_grid:  75%|███████████████████████████▊         | 3/4 [48:34<17:48, 1068.30s/it]\n",
            "loop param_grid:   0%|                                             | 0/12 [00:00<?, ?it/s]\u001b[A"
          ]
        },
        {
          "output_type": "stream",
          "name": "stdout",
          "text": [
            "[16:13:40] WARNING: /workspace/src/objective/regression_obj.cu:152: reg:linear is now deprecated in favor of reg:squarederror.\n",
            "[16:13:40] WARNING: /workspace/src/objective/regression_obj.cu:152: reg:linear is now deprecated in favor of reg:squarederror.\n",
            "[16:13:40] WARNING: /workspace/src/objective/regression_obj.cu:152: reg:linear is now deprecated in favor of reg:squarederror.\n",
            "[16:13:40] WARNING: /workspace/src/objective/regression_obj.cu:152: reg:linear is now deprecated in favor of reg:squarederror.\n",
            "[16:13:41] WARNING: /workspace/src/objective/regression_obj.cu:152: reg:linear is now deprecated in favor of reg:squarederror.\n",
            "[16:13:41] WARNING: /workspace/src/objective/regression_obj.cu:152: reg:linear is now deprecated in favor of reg:squarederror.\n",
            "[16:13:41] WARNING: /workspace/src/objective/regression_obj.cu:152: reg:linear is now deprecated in favor of reg:squarederror.\n",
            "[16:13:41] WARNING: /workspace/src/objective/regression_obj.cu:152: reg:linear is now deprecated in favor of reg:squarederror.\n",
            "[16:13:41] WARNING: /workspace/src/objective/regression_obj.cu:152: reg:linear is now deprecated in favor of reg:squarederror.\n",
            "[16:13:42] WARNING: /workspace/src/objective/regression_obj.cu:152: reg:linear is now deprecated in favor of reg:squarederror.\n"
          ]
        },
        {
          "output_type": "stream",
          "name": "stderr",
          "text": [
            "\n",
            "loop param_grid:   8%|███                                  | 1/12 [00:02<00:25,  2.35s/it]\u001b[A"
          ]
        },
        {
          "output_type": "stream",
          "name": "stdout",
          "text": [
            "[16:13:42] WARNING: /workspace/src/objective/regression_obj.cu:152: reg:linear is now deprecated in favor of reg:squarederror.\n",
            "[16:13:43] WARNING: /workspace/src/objective/regression_obj.cu:152: reg:linear is now deprecated in favor of reg:squarederror.\n",
            "[16:13:44] WARNING: /workspace/src/objective/regression_obj.cu:152: reg:linear is now deprecated in favor of reg:squarederror.\n",
            "[16:13:45] WARNING: /workspace/src/objective/regression_obj.cu:152: reg:linear is now deprecated in favor of reg:squarederror.\n",
            "[16:13:46] WARNING: /workspace/src/objective/regression_obj.cu:152: reg:linear is now deprecated in favor of reg:squarederror.\n",
            "[16:13:47] WARNING: /workspace/src/objective/regression_obj.cu:152: reg:linear is now deprecated in favor of reg:squarederror.\n",
            "[16:13:48] WARNING: /workspace/src/objective/regression_obj.cu:152: reg:linear is now deprecated in favor of reg:squarederror.\n",
            "[16:13:49] WARNING: /workspace/src/objective/regression_obj.cu:152: reg:linear is now deprecated in favor of reg:squarederror.\n",
            "[16:13:50] WARNING: /workspace/src/objective/regression_obj.cu:152: reg:linear is now deprecated in favor of reg:squarederror.\n",
            "[16:13:51] WARNING: /workspace/src/objective/regression_obj.cu:152: reg:linear is now deprecated in favor of reg:squarederror.\n"
          ]
        },
        {
          "output_type": "stream",
          "name": "stderr",
          "text": [
            "\n",
            "loop param_grid:  17%|██████▏                              | 2/12 [00:12<01:06,  6.70s/it]\u001b[A"
          ]
        },
        {
          "output_type": "stream",
          "name": "stdout",
          "text": [
            "[16:13:52] WARNING: /workspace/src/objective/regression_obj.cu:152: reg:linear is now deprecated in favor of reg:squarederror.\n",
            "[16:13:52] WARNING: /workspace/src/objective/regression_obj.cu:152: reg:linear is now deprecated in favor of reg:squarederror.\n",
            "[16:13:52] WARNING: /workspace/src/objective/regression_obj.cu:152: reg:linear is now deprecated in favor of reg:squarederror.\n",
            "[16:13:53] WARNING: /workspace/src/objective/regression_obj.cu:152: reg:linear is now deprecated in favor of reg:squarederror.\n",
            "[16:13:53] WARNING: /workspace/src/objective/regression_obj.cu:152: reg:linear is now deprecated in favor of reg:squarederror.\n",
            "[16:13:53] WARNING: /workspace/src/objective/regression_obj.cu:152: reg:linear is now deprecated in favor of reg:squarederror.\n",
            "[16:13:54] WARNING: /workspace/src/objective/regression_obj.cu:152: reg:linear is now deprecated in favor of reg:squarederror.\n",
            "[16:13:54] WARNING: /workspace/src/objective/regression_obj.cu:152: reg:linear is now deprecated in favor of reg:squarederror.\n",
            "[16:13:54] WARNING: /workspace/src/objective/regression_obj.cu:152: reg:linear is now deprecated in favor of reg:squarederror.\n",
            "[16:13:55] WARNING: /workspace/src/objective/regression_obj.cu:152: reg:linear is now deprecated in favor of reg:squarederror.\n"
          ]
        },
        {
          "output_type": "stream",
          "name": "stderr",
          "text": [
            "\n",
            "loop param_grid:  25%|█████████▎                           | 3/12 [00:15<00:47,  5.24s/it]\u001b[A"
          ]
        },
        {
          "output_type": "stream",
          "name": "stdout",
          "text": [
            "[16:13:55] WARNING: /workspace/src/objective/regression_obj.cu:152: reg:linear is now deprecated in favor of reg:squarederror.\n",
            "[16:13:57] WARNING: /workspace/src/objective/regression_obj.cu:152: reg:linear is now deprecated in favor of reg:squarederror.\n",
            "[16:13:58] WARNING: /workspace/src/objective/regression_obj.cu:152: reg:linear is now deprecated in favor of reg:squarederror.\n",
            "[16:13:59] WARNING: /workspace/src/objective/regression_obj.cu:152: reg:linear is now deprecated in favor of reg:squarederror.\n",
            "[16:14:01] WARNING: /workspace/src/objective/regression_obj.cu:152: reg:linear is now deprecated in favor of reg:squarederror.\n",
            "[16:14:02] WARNING: /workspace/src/objective/regression_obj.cu:152: reg:linear is now deprecated in favor of reg:squarederror.\n",
            "[16:14:04] WARNING: /workspace/src/objective/regression_obj.cu:152: reg:linear is now deprecated in favor of reg:squarederror.\n",
            "[16:14:06] WARNING: /workspace/src/objective/regression_obj.cu:152: reg:linear is now deprecated in favor of reg:squarederror.\n",
            "[16:14:07] WARNING: /workspace/src/objective/regression_obj.cu:152: reg:linear is now deprecated in favor of reg:squarederror.\n",
            "[16:14:09] WARNING: /workspace/src/objective/regression_obj.cu:152: reg:linear is now deprecated in favor of reg:squarederror.\n"
          ]
        },
        {
          "output_type": "stream",
          "name": "stderr",
          "text": [
            "\n",
            "loop param_grid:  33%|████████████▎                        | 4/12 [00:31<01:14,  9.26s/it]\u001b[A"
          ]
        },
        {
          "output_type": "stream",
          "name": "stdout",
          "text": [
            "[16:14:11] WARNING: /workspace/src/objective/regression_obj.cu:152: reg:linear is now deprecated in favor of reg:squarederror.\n",
            "[16:14:11] WARNING: /workspace/src/objective/regression_obj.cu:152: reg:linear is now deprecated in favor of reg:squarederror.\n",
            "[16:14:12] WARNING: /workspace/src/objective/regression_obj.cu:152: reg:linear is now deprecated in favor of reg:squarederror.\n",
            "[16:14:12] WARNING: /workspace/src/objective/regression_obj.cu:152: reg:linear is now deprecated in favor of reg:squarederror.\n",
            "[16:14:13] WARNING: /workspace/src/objective/regression_obj.cu:152: reg:linear is now deprecated in favor of reg:squarederror.\n",
            "[16:14:14] WARNING: /workspace/src/objective/regression_obj.cu:152: reg:linear is now deprecated in favor of reg:squarederror.\n",
            "[16:14:14] WARNING: /workspace/src/objective/regression_obj.cu:152: reg:linear is now deprecated in favor of reg:squarederror.\n",
            "[16:14:15] WARNING: /workspace/src/objective/regression_obj.cu:152: reg:linear is now deprecated in favor of reg:squarederror.\n",
            "[16:14:16] WARNING: /workspace/src/objective/regression_obj.cu:152: reg:linear is now deprecated in favor of reg:squarederror.\n",
            "[16:14:16] WARNING: /workspace/src/objective/regression_obj.cu:152: reg:linear is now deprecated in favor of reg:squarederror.\n"
          ]
        },
        {
          "output_type": "stream",
          "name": "stderr",
          "text": [
            "\n",
            "loop param_grid:  42%|███████████████▍                     | 5/12 [00:37<00:57,  8.18s/it]\u001b[A"
          ]
        },
        {
          "output_type": "stream",
          "name": "stdout",
          "text": [
            "[16:14:17] WARNING: /workspace/src/objective/regression_obj.cu:152: reg:linear is now deprecated in favor of reg:squarederror.\n",
            "[16:14:20] WARNING: /workspace/src/objective/regression_obj.cu:152: reg:linear is now deprecated in favor of reg:squarederror.\n",
            "[16:14:23] WARNING: /workspace/src/objective/regression_obj.cu:152: reg:linear is now deprecated in favor of reg:squarederror.\n",
            "[16:14:26] WARNING: /workspace/src/objective/regression_obj.cu:152: reg:linear is now deprecated in favor of reg:squarederror.\n",
            "[16:14:29] WARNING: /workspace/src/objective/regression_obj.cu:152: reg:linear is now deprecated in favor of reg:squarederror.\n",
            "[16:14:32] WARNING: /workspace/src/objective/regression_obj.cu:152: reg:linear is now deprecated in favor of reg:squarederror.\n",
            "[16:14:36] WARNING: /workspace/src/objective/regression_obj.cu:152: reg:linear is now deprecated in favor of reg:squarederror.\n",
            "[16:14:39] WARNING: /workspace/src/objective/regression_obj.cu:152: reg:linear is now deprecated in favor of reg:squarederror.\n",
            "[16:14:43] WARNING: /workspace/src/objective/regression_obj.cu:152: reg:linear is now deprecated in favor of reg:squarederror.\n",
            "[16:14:46] WARNING: /workspace/src/objective/regression_obj.cu:152: reg:linear is now deprecated in favor of reg:squarederror.\n"
          ]
        },
        {
          "output_type": "stream",
          "name": "stderr",
          "text": [
            "\n",
            "loop param_grid:  50%|██████████████████▌                  | 6/12 [01:10<01:39, 16.65s/it]\u001b[A"
          ]
        },
        {
          "output_type": "stream",
          "name": "stdout",
          "text": [
            "[16:14:50] WARNING: /workspace/src/objective/regression_obj.cu:152: reg:linear is now deprecated in favor of reg:squarederror.\n",
            "[16:14:50] WARNING: /workspace/src/objective/regression_obj.cu:152: reg:linear is now deprecated in favor of reg:squarederror.\n",
            "[16:14:50] WARNING: /workspace/src/objective/regression_obj.cu:152: reg:linear is now deprecated in favor of reg:squarederror.\n",
            "[16:14:51] WARNING: /workspace/src/objective/regression_obj.cu:152: reg:linear is now deprecated in favor of reg:squarederror.\n",
            "[16:14:51] WARNING: /workspace/src/objective/regression_obj.cu:152: reg:linear is now deprecated in favor of reg:squarederror.\n",
            "[16:14:51] WARNING: /workspace/src/objective/regression_obj.cu:152: reg:linear is now deprecated in favor of reg:squarederror.\n",
            "[16:14:51] WARNING: /workspace/src/objective/regression_obj.cu:152: reg:linear is now deprecated in favor of reg:squarederror.\n",
            "[16:14:52] WARNING: /workspace/src/objective/regression_obj.cu:152: reg:linear is now deprecated in favor of reg:squarederror.\n",
            "[16:14:52] WARNING: /workspace/src/objective/regression_obj.cu:152: reg:linear is now deprecated in favor of reg:squarederror.\n",
            "[16:14:52] WARNING: /workspace/src/objective/regression_obj.cu:152: reg:linear is now deprecated in favor of reg:squarederror.\n"
          ]
        },
        {
          "output_type": "stream",
          "name": "stderr",
          "text": [
            "\n",
            "loop param_grid:  58%|█████████████████████▌               | 7/12 [01:12<00:59, 11.99s/it]\u001b[A"
          ]
        },
        {
          "output_type": "stream",
          "name": "stdout",
          "text": [
            "[16:14:52] WARNING: /workspace/src/objective/regression_obj.cu:152: reg:linear is now deprecated in favor of reg:squarederror.\n",
            "[16:14:53] WARNING: /workspace/src/objective/regression_obj.cu:152: reg:linear is now deprecated in favor of reg:squarederror.\n",
            "[16:14:54] WARNING: /workspace/src/objective/regression_obj.cu:152: reg:linear is now deprecated in favor of reg:squarederror.\n",
            "[16:14:55] WARNING: /workspace/src/objective/regression_obj.cu:152: reg:linear is now deprecated in favor of reg:squarederror.\n",
            "[16:14:56] WARNING: /workspace/src/objective/regression_obj.cu:152: reg:linear is now deprecated in favor of reg:squarederror.\n",
            "[16:14:57] WARNING: /workspace/src/objective/regression_obj.cu:152: reg:linear is now deprecated in favor of reg:squarederror.\n",
            "[16:14:58] WARNING: /workspace/src/objective/regression_obj.cu:152: reg:linear is now deprecated in favor of reg:squarederror.\n",
            "[16:14:59] WARNING: /workspace/src/objective/regression_obj.cu:152: reg:linear is now deprecated in favor of reg:squarederror.\n",
            "[16:15:00] WARNING: /workspace/src/objective/regression_obj.cu:152: reg:linear is now deprecated in favor of reg:squarederror.\n",
            "[16:15:01] WARNING: /workspace/src/objective/regression_obj.cu:152: reg:linear is now deprecated in favor of reg:squarederror.\n"
          ]
        },
        {
          "output_type": "stream",
          "name": "stderr",
          "text": [
            "\n",
            "loop param_grid:  67%|████████████████████████▋            | 8/12 [01:22<00:45, 11.32s/it]\u001b[A"
          ]
        },
        {
          "output_type": "stream",
          "name": "stdout",
          "text": [
            "[16:15:02] WARNING: /workspace/src/objective/regression_obj.cu:152: reg:linear is now deprecated in favor of reg:squarederror.\n",
            "[16:15:03] WARNING: /workspace/src/objective/regression_obj.cu:152: reg:linear is now deprecated in favor of reg:squarederror.\n",
            "[16:15:03] WARNING: /workspace/src/objective/regression_obj.cu:152: reg:linear is now deprecated in favor of reg:squarederror.\n",
            "[16:15:03] WARNING: /workspace/src/objective/regression_obj.cu:152: reg:linear is now deprecated in favor of reg:squarederror.\n",
            "[16:15:04] WARNING: /workspace/src/objective/regression_obj.cu:152: reg:linear is now deprecated in favor of reg:squarederror.\n",
            "[16:15:04] WARNING: /workspace/src/objective/regression_obj.cu:152: reg:linear is now deprecated in favor of reg:squarederror.\n",
            "[16:15:04] WARNING: /workspace/src/objective/regression_obj.cu:152: reg:linear is now deprecated in favor of reg:squarederror.\n",
            "[16:15:05] WARNING: /workspace/src/objective/regression_obj.cu:152: reg:linear is now deprecated in favor of reg:squarederror.\n",
            "[16:15:05] WARNING: /workspace/src/objective/regression_obj.cu:152: reg:linear is now deprecated in favor of reg:squarederror.\n",
            "[16:15:05] WARNING: /workspace/src/objective/regression_obj.cu:152: reg:linear is now deprecated in favor of reg:squarederror.\n"
          ]
        },
        {
          "output_type": "stream",
          "name": "stderr",
          "text": [
            "\n",
            "loop param_grid:  75%|███████████████████████████▊         | 9/12 [01:26<00:26,  8.88s/it]\u001b[A"
          ]
        },
        {
          "output_type": "stream",
          "name": "stdout",
          "text": [
            "[16:15:06] WARNING: /workspace/src/objective/regression_obj.cu:152: reg:linear is now deprecated in favor of reg:squarederror.\n",
            "[16:15:07] WARNING: /workspace/src/objective/regression_obj.cu:152: reg:linear is now deprecated in favor of reg:squarederror.\n",
            "[16:15:09] WARNING: /workspace/src/objective/regression_obj.cu:152: reg:linear is now deprecated in favor of reg:squarederror.\n",
            "[16:15:10] WARNING: /workspace/src/objective/regression_obj.cu:152: reg:linear is now deprecated in favor of reg:squarederror.\n",
            "[16:15:11] WARNING: /workspace/src/objective/regression_obj.cu:152: reg:linear is now deprecated in favor of reg:squarederror.\n",
            "[16:15:13] WARNING: /workspace/src/objective/regression_obj.cu:152: reg:linear is now deprecated in favor of reg:squarederror.\n",
            "[16:15:14] WARNING: /workspace/src/objective/regression_obj.cu:152: reg:linear is now deprecated in favor of reg:squarederror.\n",
            "[16:15:16] WARNING: /workspace/src/objective/regression_obj.cu:152: reg:linear is now deprecated in favor of reg:squarederror.\n",
            "[16:15:17] WARNING: /workspace/src/objective/regression_obj.cu:152: reg:linear is now deprecated in favor of reg:squarederror.\n",
            "[16:15:19] WARNING: /workspace/src/objective/regression_obj.cu:152: reg:linear is now deprecated in favor of reg:squarederror.\n"
          ]
        },
        {
          "output_type": "stream",
          "name": "stderr",
          "text": [
            "\n",
            "loop param_grid:  83%|██████████████████████████████      | 10/12 [01:41<00:21, 10.73s/it]\u001b[A"
          ]
        },
        {
          "output_type": "stream",
          "name": "stdout",
          "text": [
            "[16:15:21] WARNING: /workspace/src/objective/regression_obj.cu:152: reg:linear is now deprecated in favor of reg:squarederror.\n",
            "[16:15:21] WARNING: /workspace/src/objective/regression_obj.cu:152: reg:linear is now deprecated in favor of reg:squarederror.\n",
            "[16:15:22] WARNING: /workspace/src/objective/regression_obj.cu:152: reg:linear is now deprecated in favor of reg:squarederror.\n",
            "[16:15:22] WARNING: /workspace/src/objective/regression_obj.cu:152: reg:linear is now deprecated in favor of reg:squarederror.\n",
            "[16:15:23] WARNING: /workspace/src/objective/regression_obj.cu:152: reg:linear is now deprecated in favor of reg:squarederror.\n",
            "[16:15:24] WARNING: /workspace/src/objective/regression_obj.cu:152: reg:linear is now deprecated in favor of reg:squarederror.\n",
            "[16:15:24] WARNING: /workspace/src/objective/regression_obj.cu:152: reg:linear is now deprecated in favor of reg:squarederror.\n",
            "[16:15:25] WARNING: /workspace/src/objective/regression_obj.cu:152: reg:linear is now deprecated in favor of reg:squarederror.\n",
            "[16:15:26] WARNING: /workspace/src/objective/regression_obj.cu:152: reg:linear is now deprecated in favor of reg:squarederror.\n",
            "[16:15:26] WARNING: /workspace/src/objective/regression_obj.cu:152: reg:linear is now deprecated in favor of reg:squarederror.\n"
          ]
        },
        {
          "output_type": "stream",
          "name": "stderr",
          "text": [
            "\n",
            "loop param_grid:  92%|█████████████████████████████████   | 11/12 [01:47<00:09,  9.39s/it]\u001b[A"
          ]
        },
        {
          "output_type": "stream",
          "name": "stdout",
          "text": [
            "[16:15:27] WARNING: /workspace/src/objective/regression_obj.cu:152: reg:linear is now deprecated in favor of reg:squarederror.\n",
            "[16:15:30] WARNING: /workspace/src/objective/regression_obj.cu:152: reg:linear is now deprecated in favor of reg:squarederror.\n",
            "[16:15:32] WARNING: /workspace/src/objective/regression_obj.cu:152: reg:linear is now deprecated in favor of reg:squarederror.\n",
            "[16:15:35] WARNING: /workspace/src/objective/regression_obj.cu:152: reg:linear is now deprecated in favor of reg:squarederror.\n",
            "[16:15:38] WARNING: /workspace/src/objective/regression_obj.cu:152: reg:linear is now deprecated in favor of reg:squarederror.\n",
            "[16:15:41] WARNING: /workspace/src/objective/regression_obj.cu:152: reg:linear is now deprecated in favor of reg:squarederror.\n",
            "[16:15:44] WARNING: /workspace/src/objective/regression_obj.cu:152: reg:linear is now deprecated in favor of reg:squarederror.\n",
            "[16:15:47] WARNING: /workspace/src/objective/regression_obj.cu:152: reg:linear is now deprecated in favor of reg:squarederror.\n",
            "[16:15:50] WARNING: /workspace/src/objective/regression_obj.cu:152: reg:linear is now deprecated in favor of reg:squarederror.\n",
            "[16:15:53] WARNING: /workspace/src/objective/regression_obj.cu:152: reg:linear is now deprecated in favor of reg:squarederror.\n"
          ]
        },
        {
          "output_type": "stream",
          "name": "stderr",
          "text": [
            "\n",
            "loop param_grid: 100%|████████████████████████████████████| 12/12 [02:16<00:00, 15.41s/it]\u001b[A\n",
            "loop lags_grid: 100%|██████████████████████████████████████| 4/4 [50:51<00:00, 762.84s/it]\n"
          ]
        },
        {
          "output_type": "stream",
          "name": "stdout",
          "text": [
            "[16:15:56] WARNING: /workspace/src/objective/regression_obj.cu:152: reg:linear is now deprecated in favor of reg:squarederror.\n",
            "`Forecaster` refitted using the best-found lags and parameters, and the whole data set: \n",
            "  Lags: [ 1  2  3  4  5  6  7  8  9 10 11 12 13 14 15 16 17 18 19 20 21 22 23 24\n",
            " 25 26 27 28 29 30 31 32 33 34 35 36 37 38 39 40 41 42 43 44 45 46 47 48\n",
            " 49 50 51 52 53 54 55 56 57 58 59 60 61 62 63 64 65 66 67 68 69 70 71 72] \n",
            "  Parameters: {'learning_rate': 0.1, 'max_depth': 10, 'n_estimators': 100}\n",
            "  Backtesting metric: 83114.34390543553\n",
            "\n"
          ]
        }
      ]
    },
    {
      "cell_type": "code",
      "source": [
        "# Results of grid search\n",
        "# ==============================================================================\n",
        "results_grid.head(10)\n"
      ],
      "metadata": {
        "colab": {
          "base_uri": "https://localhost:8080/",
          "height": 581
        },
        "id": "Gl0VZmNCV87n",
        "outputId": "5dd78791-446b-42a3-90c0-0aa2844f6cc4"
      },
      "execution_count": null,
      "outputs": [
        {
          "output_type": "execute_result",
          "data": {
            "text/plain": [
              "                                                 lags  \\\n",
              "34  [1, 2, 3, 4, 5, 6, 7, 8, 9, 10, 11, 12, 13, 14...   \n",
              "29  [1, 2, 3, 4, 5, 6, 7, 8, 9, 10, 11, 12, 13, 14...   \n",
              "22  [1, 2, 3, 4, 5, 6, 7, 8, 9, 10, 11, 12, 13, 14...   \n",
              "35  [1, 2, 3, 4, 5, 6, 7, 8, 9, 10, 11, 12, 13, 14...   \n",
              "33  [1, 2, 3, 4, 5, 6, 7, 8, 9, 10, 11, 12, 13, 14...   \n",
              "32  [1, 2, 3, 4, 5, 6, 7, 8, 9, 10, 11, 12, 13, 14...   \n",
              "23  [1, 2, 3, 4, 5, 6, 7, 8, 9, 10, 11, 12, 13, 14...   \n",
              "17  [1, 2, 3, 4, 5, 6, 7, 8, 9, 10, 11, 12, 13, 14...   \n",
              "27  [1, 2, 3, 4, 5, 6, 7, 8, 9, 10, 11, 12, 13, 14...   \n",
              "11  [1, 2, 3, 4, 5, 6, 7, 8, 9, 10, 11, 12, 13, 14...   \n",
              "\n",
              "                                               params         metric  \\\n",
              "34  {'learning_rate': 0.1, 'max_depth': 10, 'n_est...   83114.343905   \n",
              "29  {'learning_rate': 0.01, 'max_depth': 10, 'n_es...   83424.127910   \n",
              "22  {'learning_rate': 0.1, 'max_depth': 10, 'n_est...   88485.465751   \n",
              "35  {'learning_rate': 0.1, 'max_depth': 10, 'n_est...   90679.174928   \n",
              "33  {'learning_rate': 0.1, 'max_depth': 5, 'n_esti...   92495.147580   \n",
              "32  {'learning_rate': 0.1, 'max_depth': 5, 'n_esti...   97023.485811   \n",
              "23  {'learning_rate': 0.1, 'max_depth': 10, 'n_est...   98587.667746   \n",
              "17  {'learning_rate': 0.01, 'max_depth': 10, 'n_es...  102967.980966   \n",
              "27  {'learning_rate': 0.01, 'max_depth': 5, 'n_est...  102977.145636   \n",
              "11  {'learning_rate': 0.1, 'max_depth': 10, 'n_est...  113423.946659   \n",
              "\n",
              "    learning_rate  max_depth  n_estimators  \n",
              "34           0.10       10.0         100.0  \n",
              "29           0.01       10.0         500.0  \n",
              "22           0.10       10.0         100.0  \n",
              "35           0.10       10.0         500.0  \n",
              "33           0.10        5.0         500.0  \n",
              "32           0.10        5.0         100.0  \n",
              "23           0.10       10.0         500.0  \n",
              "17           0.01       10.0         500.0  \n",
              "27           0.01        5.0         500.0  \n",
              "11           0.10       10.0         500.0  "
            ],
            "text/html": [
              "\n",
              "  <div id=\"df-47775140-65c1-4c03-9311-131f8b90e17c\">\n",
              "    <div class=\"colab-df-container\">\n",
              "      <div>\n",
              "<style scoped>\n",
              "    .dataframe tbody tr th:only-of-type {\n",
              "        vertical-align: middle;\n",
              "    }\n",
              "\n",
              "    .dataframe tbody tr th {\n",
              "        vertical-align: top;\n",
              "    }\n",
              "\n",
              "    .dataframe thead th {\n",
              "        text-align: right;\n",
              "    }\n",
              "</style>\n",
              "<table border=\"1\" class=\"dataframe\">\n",
              "  <thead>\n",
              "    <tr style=\"text-align: right;\">\n",
              "      <th></th>\n",
              "      <th>lags</th>\n",
              "      <th>params</th>\n",
              "      <th>metric</th>\n",
              "      <th>learning_rate</th>\n",
              "      <th>max_depth</th>\n",
              "      <th>n_estimators</th>\n",
              "    </tr>\n",
              "  </thead>\n",
              "  <tbody>\n",
              "    <tr>\n",
              "      <th>34</th>\n",
              "      <td>[1, 2, 3, 4, 5, 6, 7, 8, 9, 10, 11, 12, 13, 14...</td>\n",
              "      <td>{'learning_rate': 0.1, 'max_depth': 10, 'n_est...</td>\n",
              "      <td>83114.343905</td>\n",
              "      <td>0.10</td>\n",
              "      <td>10.0</td>\n",
              "      <td>100.0</td>\n",
              "    </tr>\n",
              "    <tr>\n",
              "      <th>29</th>\n",
              "      <td>[1, 2, 3, 4, 5, 6, 7, 8, 9, 10, 11, 12, 13, 14...</td>\n",
              "      <td>{'learning_rate': 0.01, 'max_depth': 10, 'n_es...</td>\n",
              "      <td>83424.127910</td>\n",
              "      <td>0.01</td>\n",
              "      <td>10.0</td>\n",
              "      <td>500.0</td>\n",
              "    </tr>\n",
              "    <tr>\n",
              "      <th>22</th>\n",
              "      <td>[1, 2, 3, 4, 5, 6, 7, 8, 9, 10, 11, 12, 13, 14...</td>\n",
              "      <td>{'learning_rate': 0.1, 'max_depth': 10, 'n_est...</td>\n",
              "      <td>88485.465751</td>\n",
              "      <td>0.10</td>\n",
              "      <td>10.0</td>\n",
              "      <td>100.0</td>\n",
              "    </tr>\n",
              "    <tr>\n",
              "      <th>35</th>\n",
              "      <td>[1, 2, 3, 4, 5, 6, 7, 8, 9, 10, 11, 12, 13, 14...</td>\n",
              "      <td>{'learning_rate': 0.1, 'max_depth': 10, 'n_est...</td>\n",
              "      <td>90679.174928</td>\n",
              "      <td>0.10</td>\n",
              "      <td>10.0</td>\n",
              "      <td>500.0</td>\n",
              "    </tr>\n",
              "    <tr>\n",
              "      <th>33</th>\n",
              "      <td>[1, 2, 3, 4, 5, 6, 7, 8, 9, 10, 11, 12, 13, 14...</td>\n",
              "      <td>{'learning_rate': 0.1, 'max_depth': 5, 'n_esti...</td>\n",
              "      <td>92495.147580</td>\n",
              "      <td>0.10</td>\n",
              "      <td>5.0</td>\n",
              "      <td>500.0</td>\n",
              "    </tr>\n",
              "    <tr>\n",
              "      <th>32</th>\n",
              "      <td>[1, 2, 3, 4, 5, 6, 7, 8, 9, 10, 11, 12, 13, 14...</td>\n",
              "      <td>{'learning_rate': 0.1, 'max_depth': 5, 'n_esti...</td>\n",
              "      <td>97023.485811</td>\n",
              "      <td>0.10</td>\n",
              "      <td>5.0</td>\n",
              "      <td>100.0</td>\n",
              "    </tr>\n",
              "    <tr>\n",
              "      <th>23</th>\n",
              "      <td>[1, 2, 3, 4, 5, 6, 7, 8, 9, 10, 11, 12, 13, 14...</td>\n",
              "      <td>{'learning_rate': 0.1, 'max_depth': 10, 'n_est...</td>\n",
              "      <td>98587.667746</td>\n",
              "      <td>0.10</td>\n",
              "      <td>10.0</td>\n",
              "      <td>500.0</td>\n",
              "    </tr>\n",
              "    <tr>\n",
              "      <th>17</th>\n",
              "      <td>[1, 2, 3, 4, 5, 6, 7, 8, 9, 10, 11, 12, 13, 14...</td>\n",
              "      <td>{'learning_rate': 0.01, 'max_depth': 10, 'n_es...</td>\n",
              "      <td>102967.980966</td>\n",
              "      <td>0.01</td>\n",
              "      <td>10.0</td>\n",
              "      <td>500.0</td>\n",
              "    </tr>\n",
              "    <tr>\n",
              "      <th>27</th>\n",
              "      <td>[1, 2, 3, 4, 5, 6, 7, 8, 9, 10, 11, 12, 13, 14...</td>\n",
              "      <td>{'learning_rate': 0.01, 'max_depth': 5, 'n_est...</td>\n",
              "      <td>102977.145636</td>\n",
              "      <td>0.01</td>\n",
              "      <td>5.0</td>\n",
              "      <td>500.0</td>\n",
              "    </tr>\n",
              "    <tr>\n",
              "      <th>11</th>\n",
              "      <td>[1, 2, 3, 4, 5, 6, 7, 8, 9, 10, 11, 12, 13, 14...</td>\n",
              "      <td>{'learning_rate': 0.1, 'max_depth': 10, 'n_est...</td>\n",
              "      <td>113423.946659</td>\n",
              "      <td>0.10</td>\n",
              "      <td>10.0</td>\n",
              "      <td>500.0</td>\n",
              "    </tr>\n",
              "  </tbody>\n",
              "</table>\n",
              "</div>\n",
              "      <button class=\"colab-df-convert\" onclick=\"convertToInteractive('df-47775140-65c1-4c03-9311-131f8b90e17c')\"\n",
              "              title=\"Convert this dataframe to an interactive table.\"\n",
              "              style=\"display:none;\">\n",
              "        \n",
              "  <svg xmlns=\"http://www.w3.org/2000/svg\" height=\"24px\"viewBox=\"0 0 24 24\"\n",
              "       width=\"24px\">\n",
              "    <path d=\"M0 0h24v24H0V0z\" fill=\"none\"/>\n",
              "    <path d=\"M18.56 5.44l.94 2.06.94-2.06 2.06-.94-2.06-.94-.94-2.06-.94 2.06-2.06.94zm-11 1L8.5 8.5l.94-2.06 2.06-.94-2.06-.94L8.5 2.5l-.94 2.06-2.06.94zm10 10l.94 2.06.94-2.06 2.06-.94-2.06-.94-.94-2.06-.94 2.06-2.06.94z\"/><path d=\"M17.41 7.96l-1.37-1.37c-.4-.4-.92-.59-1.43-.59-.52 0-1.04.2-1.43.59L10.3 9.45l-7.72 7.72c-.78.78-.78 2.05 0 2.83L4 21.41c.39.39.9.59 1.41.59.51 0 1.02-.2 1.41-.59l7.78-7.78 2.81-2.81c.8-.78.8-2.07 0-2.86zM5.41 20L4 18.59l7.72-7.72 1.47 1.35L5.41 20z\"/>\n",
              "  </svg>\n",
              "      </button>\n",
              "      \n",
              "  <style>\n",
              "    .colab-df-container {\n",
              "      display:flex;\n",
              "      flex-wrap:wrap;\n",
              "      gap: 12px;\n",
              "    }\n",
              "\n",
              "    .colab-df-convert {\n",
              "      background-color: #E8F0FE;\n",
              "      border: none;\n",
              "      border-radius: 50%;\n",
              "      cursor: pointer;\n",
              "      display: none;\n",
              "      fill: #1967D2;\n",
              "      height: 32px;\n",
              "      padding: 0 0 0 0;\n",
              "      width: 32px;\n",
              "    }\n",
              "\n",
              "    .colab-df-convert:hover {\n",
              "      background-color: #E2EBFA;\n",
              "      box-shadow: 0px 1px 2px rgba(60, 64, 67, 0.3), 0px 1px 3px 1px rgba(60, 64, 67, 0.15);\n",
              "      fill: #174EA6;\n",
              "    }\n",
              "\n",
              "    [theme=dark] .colab-df-convert {\n",
              "      background-color: #3B4455;\n",
              "      fill: #D2E3FC;\n",
              "    }\n",
              "\n",
              "    [theme=dark] .colab-df-convert:hover {\n",
              "      background-color: #434B5C;\n",
              "      box-shadow: 0px 1px 3px 1px rgba(0, 0, 0, 0.15);\n",
              "      filter: drop-shadow(0px 1px 2px rgba(0, 0, 0, 0.3));\n",
              "      fill: #FFFFFF;\n",
              "    }\n",
              "  </style>\n",
              "\n",
              "      <script>\n",
              "        const buttonEl =\n",
              "          document.querySelector('#df-47775140-65c1-4c03-9311-131f8b90e17c button.colab-df-convert');\n",
              "        buttonEl.style.display =\n",
              "          google.colab.kernel.accessAllowed ? 'block' : 'none';\n",
              "\n",
              "        async function convertToInteractive(key) {\n",
              "          const element = document.querySelector('#df-47775140-65c1-4c03-9311-131f8b90e17c');\n",
              "          const dataTable =\n",
              "            await google.colab.kernel.invokeFunction('convertToInteractive',\n",
              "                                                     [key], {});\n",
              "          if (!dataTable) return;\n",
              "\n",
              "          const docLinkHtml = 'Like what you see? Visit the ' +\n",
              "            '<a target=\"_blank\" href=https://colab.research.google.com/notebooks/data_table.ipynb>data table notebook</a>'\n",
              "            + ' to learn more about interactive tables.';\n",
              "          element.innerHTML = '';\n",
              "          dataTable['output_type'] = 'display_data';\n",
              "          await google.colab.output.renderOutput(dataTable, element);\n",
              "          const docLink = document.createElement('div');\n",
              "          docLink.innerHTML = docLinkHtml;\n",
              "          element.appendChild(docLink);\n",
              "        }\n",
              "      </script>\n",
              "    </div>\n",
              "  </div>\n",
              "  "
            ]
          },
          "metadata": {},
          "execution_count": 14
        }
      ]
    },
    {
      "cell_type": "markdown",
      "source": [
        "##Backtesting"
      ],
      "metadata": {
        "id": "65efjhX1_b1G"
      }
    },
    {
      "cell_type": "code",
      "source": [
        "# Backtesting\n",
        "# ==============================================================================\n",
        "metric, predictions = backtesting_forecaster(\n",
        "    forecaster = forecaster,\n",
        "    y          = df['usage'],\n",
        "    initial_train_size = len(df.loc[:end_validation]),\n",
        "    fixed_train_size   = False,\n",
        "    steps      = 126,\n",
        "    refit      = True,\n",
        "    metric     = 'mean_squared_error',\n",
        "    verbose    = True # Change to True to see detailed information\n",
        "    )\n",
        "\n",
        "print(f\"Backtest error: {metric}\")\n"
      ],
      "metadata": {
        "colab": {
          "base_uri": "https://localhost:8080/"
        },
        "id": "VMEP7HuSWikb",
        "outputId": "c6550b50-9196-4aac-a3fb-79e1c7947cce"
      },
      "execution_count": null,
      "outputs": [
        {
          "output_type": "stream",
          "name": "stdout",
          "text": [
            "[16:40:44] WARNING: /workspace/src/objective/regression_obj.cu:152: reg:linear is now deprecated in favor of reg:squarederror.\n",
            "Information of backtesting process\n",
            "----------------------------------\n",
            "Number of observations used for initial training: 5220\n",
            "Number of observations used for backtesting: 1260\n",
            "    Number of folds: 10\n",
            "    Number of steps per fold: 126\n",
            "\n",
            "Data partition in fold: 0\n",
            "    Training:   2017-06-04 08:00:00 -- 2017-08-05 16:00:00\n",
            "    Validation: 2017-08-06 08:00:00 -- 2017-08-07 11:00:00\n",
            "Data partition in fold: 1\n",
            "    Training:   2017-06-04 08:00:00 -- 2017-08-07 11:00:00\n",
            "    Validation: 2017-08-07 11:00:00 -- 2017-08-08 15:00:00\n",
            "Data partition in fold: 2\n",
            "    Training:   2017-06-04 08:00:00 -- 2017-08-08 15:00:00\n",
            "    Validation: 2017-08-08 15:00:00 -- 2017-08-10 09:00:00\n",
            "Data partition in fold: 3\n",
            "    Training:   2017-06-04 08:00:00 -- 2017-08-10 09:00:00\n",
            "    Validation: 2017-08-10 09:00:00 -- 2017-08-11 13:00:00\n",
            "Data partition in fold: 4\n",
            "    Training:   2017-06-04 08:00:00 -- 2017-08-11 13:00:00\n",
            "    Validation: 2017-08-11 13:00:00 -- 2017-08-12 16:00:00\n",
            "Data partition in fold: 5\n",
            "    Training:   2017-06-04 08:00:00 -- 2017-08-12 16:00:00\n",
            "    Validation: 2017-08-13 08:00:00 -- 2017-08-14 11:00:00\n",
            "Data partition in fold: 6\n",
            "    Training:   2017-06-04 08:00:00 -- 2017-08-14 11:00:00\n",
            "    Validation: 2017-08-14 11:00:00 -- 2017-08-15 15:00:00\n",
            "Data partition in fold: 7\n",
            "    Training:   2017-06-04 08:00:00 -- 2017-08-15 15:00:00\n",
            "    Validation: 2017-08-15 15:00:00 -- 2017-08-17 09:00:00\n",
            "Data partition in fold: 8\n",
            "    Training:   2017-06-04 08:00:00 -- 2017-08-17 09:00:00\n",
            "    Validation: 2017-08-17 09:00:00 -- 2017-08-18 13:00:00\n",
            "Data partition in fold: 9\n",
            "    Training:   2017-06-04 08:00:00 -- 2017-08-18 13:00:00\n",
            "    Validation: 2017-08-18 13:00:00 -- 2017-08-19 16:00:00\n",
            "\n",
            "[16:40:45] WARNING: /workspace/src/objective/regression_obj.cu:152: reg:linear is now deprecated in favor of reg:squarederror.\n",
            "[16:40:52] WARNING: /workspace/src/objective/regression_obj.cu:152: reg:linear is now deprecated in favor of reg:squarederror.\n",
            "[16:41:00] WARNING: /workspace/src/objective/regression_obj.cu:152: reg:linear is now deprecated in favor of reg:squarederror.\n",
            "[16:41:09] WARNING: /workspace/src/objective/regression_obj.cu:152: reg:linear is now deprecated in favor of reg:squarederror.\n",
            "[16:41:17] WARNING: /workspace/src/objective/regression_obj.cu:152: reg:linear is now deprecated in favor of reg:squarederror.\n",
            "[16:41:25] WARNING: /workspace/src/objective/regression_obj.cu:152: reg:linear is now deprecated in favor of reg:squarederror.\n",
            "[16:41:34] WARNING: /workspace/src/objective/regression_obj.cu:152: reg:linear is now deprecated in favor of reg:squarederror.\n",
            "[16:41:43] WARNING: /workspace/src/objective/regression_obj.cu:152: reg:linear is now deprecated in favor of reg:squarederror.\n",
            "[16:41:52] WARNING: /workspace/src/objective/regression_obj.cu:152: reg:linear is now deprecated in favor of reg:squarederror.\n",
            "[16:42:01] WARNING: /workspace/src/objective/regression_obj.cu:152: reg:linear is now deprecated in favor of reg:squarederror.\n",
            "Backtest error: 57977.09106099314\n"
          ]
        }
      ]
    },
    {
      "cell_type": "code",
      "source": [
        "# Predictions\n",
        "# ==============================================================================\n",
        "predictions['timestamp'] = data_test.index \n",
        "predictions['municipality_id'] = data_test['municipality_id']\n",
        "predictions.set_index('timestamp',inplace=True)\n",
        "predictions"
      ],
      "metadata": {
        "colab": {
          "base_uri": "https://localhost:8080/",
          "height": 455
        },
        "id": "2zxt9i-sWm0n",
        "outputId": "f8287932-38f8-46be-bf3c-7946e4c5e1e7"
      },
      "execution_count": null,
      "outputs": [
        {
          "output_type": "execute_result",
          "data": {
            "text/plain": [
              "                            pred  municipality_id\n",
              "timestamp                                        \n",
              "2017-08-06 08:00:00   286.032166                0\n",
              "2017-08-06 08:00:00   184.095779                1\n",
              "2017-08-06 08:00:00   283.105927                2\n",
              "2017-08-06 08:00:00   735.608826                3\n",
              "2017-08-06 08:00:00  1586.707642                4\n",
              "...                          ...              ...\n",
              "2017-08-19 16:00:00   293.657806                5\n",
              "2017-08-19 16:00:00  1322.421265                6\n",
              "2017-08-19 16:00:00  1304.187866                7\n",
              "2017-08-19 16:00:00   783.358276                8\n",
              "2017-08-19 16:00:00   767.731873                9\n",
              "\n",
              "[1260 rows x 2 columns]"
            ],
            "text/html": [
              "\n",
              "  <div id=\"df-12df0078-292f-4f82-a0bd-55e65c0f171e\">\n",
              "    <div class=\"colab-df-container\">\n",
              "      <div>\n",
              "<style scoped>\n",
              "    .dataframe tbody tr th:only-of-type {\n",
              "        vertical-align: middle;\n",
              "    }\n",
              "\n",
              "    .dataframe tbody tr th {\n",
              "        vertical-align: top;\n",
              "    }\n",
              "\n",
              "    .dataframe thead th {\n",
              "        text-align: right;\n",
              "    }\n",
              "</style>\n",
              "<table border=\"1\" class=\"dataframe\">\n",
              "  <thead>\n",
              "    <tr style=\"text-align: right;\">\n",
              "      <th></th>\n",
              "      <th>pred</th>\n",
              "      <th>municipality_id</th>\n",
              "    </tr>\n",
              "    <tr>\n",
              "      <th>timestamp</th>\n",
              "      <th></th>\n",
              "      <th></th>\n",
              "    </tr>\n",
              "  </thead>\n",
              "  <tbody>\n",
              "    <tr>\n",
              "      <th>2017-08-06 08:00:00</th>\n",
              "      <td>286.032166</td>\n",
              "      <td>0</td>\n",
              "    </tr>\n",
              "    <tr>\n",
              "      <th>2017-08-06 08:00:00</th>\n",
              "      <td>184.095779</td>\n",
              "      <td>1</td>\n",
              "    </tr>\n",
              "    <tr>\n",
              "      <th>2017-08-06 08:00:00</th>\n",
              "      <td>283.105927</td>\n",
              "      <td>2</td>\n",
              "    </tr>\n",
              "    <tr>\n",
              "      <th>2017-08-06 08:00:00</th>\n",
              "      <td>735.608826</td>\n",
              "      <td>3</td>\n",
              "    </tr>\n",
              "    <tr>\n",
              "      <th>2017-08-06 08:00:00</th>\n",
              "      <td>1586.707642</td>\n",
              "      <td>4</td>\n",
              "    </tr>\n",
              "    <tr>\n",
              "      <th>...</th>\n",
              "      <td>...</td>\n",
              "      <td>...</td>\n",
              "    </tr>\n",
              "    <tr>\n",
              "      <th>2017-08-19 16:00:00</th>\n",
              "      <td>293.657806</td>\n",
              "      <td>5</td>\n",
              "    </tr>\n",
              "    <tr>\n",
              "      <th>2017-08-19 16:00:00</th>\n",
              "      <td>1322.421265</td>\n",
              "      <td>6</td>\n",
              "    </tr>\n",
              "    <tr>\n",
              "      <th>2017-08-19 16:00:00</th>\n",
              "      <td>1304.187866</td>\n",
              "      <td>7</td>\n",
              "    </tr>\n",
              "    <tr>\n",
              "      <th>2017-08-19 16:00:00</th>\n",
              "      <td>783.358276</td>\n",
              "      <td>8</td>\n",
              "    </tr>\n",
              "    <tr>\n",
              "      <th>2017-08-19 16:00:00</th>\n",
              "      <td>767.731873</td>\n",
              "      <td>9</td>\n",
              "    </tr>\n",
              "  </tbody>\n",
              "</table>\n",
              "<p>1260 rows × 2 columns</p>\n",
              "</div>\n",
              "      <button class=\"colab-df-convert\" onclick=\"convertToInteractive('df-12df0078-292f-4f82-a0bd-55e65c0f171e')\"\n",
              "              title=\"Convert this dataframe to an interactive table.\"\n",
              "              style=\"display:none;\">\n",
              "        \n",
              "  <svg xmlns=\"http://www.w3.org/2000/svg\" height=\"24px\"viewBox=\"0 0 24 24\"\n",
              "       width=\"24px\">\n",
              "    <path d=\"M0 0h24v24H0V0z\" fill=\"none\"/>\n",
              "    <path d=\"M18.56 5.44l.94 2.06.94-2.06 2.06-.94-2.06-.94-.94-2.06-.94 2.06-2.06.94zm-11 1L8.5 8.5l.94-2.06 2.06-.94-2.06-.94L8.5 2.5l-.94 2.06-2.06.94zm10 10l.94 2.06.94-2.06 2.06-.94-2.06-.94-.94-2.06-.94 2.06-2.06.94z\"/><path d=\"M17.41 7.96l-1.37-1.37c-.4-.4-.92-.59-1.43-.59-.52 0-1.04.2-1.43.59L10.3 9.45l-7.72 7.72c-.78.78-.78 2.05 0 2.83L4 21.41c.39.39.9.59 1.41.59.51 0 1.02-.2 1.41-.59l7.78-7.78 2.81-2.81c.8-.78.8-2.07 0-2.86zM5.41 20L4 18.59l7.72-7.72 1.47 1.35L5.41 20z\"/>\n",
              "  </svg>\n",
              "      </button>\n",
              "      \n",
              "  <style>\n",
              "    .colab-df-container {\n",
              "      display:flex;\n",
              "      flex-wrap:wrap;\n",
              "      gap: 12px;\n",
              "    }\n",
              "\n",
              "    .colab-df-convert {\n",
              "      background-color: #E8F0FE;\n",
              "      border: none;\n",
              "      border-radius: 50%;\n",
              "      cursor: pointer;\n",
              "      display: none;\n",
              "      fill: #1967D2;\n",
              "      height: 32px;\n",
              "      padding: 0 0 0 0;\n",
              "      width: 32px;\n",
              "    }\n",
              "\n",
              "    .colab-df-convert:hover {\n",
              "      background-color: #E2EBFA;\n",
              "      box-shadow: 0px 1px 2px rgba(60, 64, 67, 0.3), 0px 1px 3px 1px rgba(60, 64, 67, 0.15);\n",
              "      fill: #174EA6;\n",
              "    }\n",
              "\n",
              "    [theme=dark] .colab-df-convert {\n",
              "      background-color: #3B4455;\n",
              "      fill: #D2E3FC;\n",
              "    }\n",
              "\n",
              "    [theme=dark] .colab-df-convert:hover {\n",
              "      background-color: #434B5C;\n",
              "      box-shadow: 0px 1px 3px 1px rgba(0, 0, 0, 0.15);\n",
              "      filter: drop-shadow(0px 1px 2px rgba(0, 0, 0, 0.3));\n",
              "      fill: #FFFFFF;\n",
              "    }\n",
              "  </style>\n",
              "\n",
              "      <script>\n",
              "        const buttonEl =\n",
              "          document.querySelector('#df-12df0078-292f-4f82-a0bd-55e65c0f171e button.colab-df-convert');\n",
              "        buttonEl.style.display =\n",
              "          google.colab.kernel.accessAllowed ? 'block' : 'none';\n",
              "\n",
              "        async function convertToInteractive(key) {\n",
              "          const element = document.querySelector('#df-12df0078-292f-4f82-a0bd-55e65c0f171e');\n",
              "          const dataTable =\n",
              "            await google.colab.kernel.invokeFunction('convertToInteractive',\n",
              "                                                     [key], {});\n",
              "          if (!dataTable) return;\n",
              "\n",
              "          const docLinkHtml = 'Like what you see? Visit the ' +\n",
              "            '<a target=\"_blank\" href=https://colab.research.google.com/notebooks/data_table.ipynb>data table notebook</a>'\n",
              "            + ' to learn more about interactive tables.';\n",
              "          element.innerHTML = '';\n",
              "          dataTable['output_type'] = 'display_data';\n",
              "          await google.colab.output.renderOutput(dataTable, element);\n",
              "          const docLink = document.createElement('div');\n",
              "          docLink.innerHTML = docLinkHtml;\n",
              "          element.appendChild(docLink);\n",
              "        }\n",
              "      </script>\n",
              "    </div>\n",
              "  </div>\n",
              "  "
            ]
          },
          "metadata": {},
          "execution_count": 20
        }
      ]
    },
    {
      "cell_type": "markdown",
      "source": [
        "##Resulting Graphs"
      ],
      "metadata": {
        "id": "_zodaiiO_goY"
      }
    },
    {
      "cell_type": "code",
      "source": [
        "# Plot of predictions\n",
        "# ==============================================================================\n",
        "fig, ax = plt.subplots(figsize=(11, 4))\n",
        "data_test['usage'].plot(ax=ax, label='test')\n",
        "predictions['pred'].plot(ax=ax, label='predictions')\n",
        "ax.legend()\n"
      ],
      "metadata": {
        "colab": {
          "base_uri": "https://localhost:8080/",
          "height": 303
        },
        "id": "ViCLqS0iW0K_",
        "outputId": "ac0b205f-8892-42fc-96da-2ae2973003fb"
      },
      "execution_count": null,
      "outputs": [
        {
          "output_type": "execute_result",
          "data": {
            "text/plain": [
              "<matplotlib.legend.Legend at 0x7fadd991b9d0>"
            ]
          },
          "metadata": {},
          "execution_count": 17
        },
        {
          "output_type": "display_data",
          "data": {
            "text/plain": [
              "<Figure size 792x288 with 1 Axes>"
            ],
            "image/png": "[encoded data removed]"
          },
          "metadata": {
            "needs_background": "light"
          }
        }
      ]
    },
    {
      "cell_type": "code",
      "source": [
        "# Interactive plot of predictions\n",
        "# ==============================================================================\n",
        "for i in range(0,10):\n",
        "  data_plot = pd.DataFrame({\n",
        "                  'test': data_test[data_test['municipality_id']==i]['usage'],\n",
        "                  'prediction': predictions[predictions['municipality_id']==i]['pred'],\n",
        "                  })\n",
        "  data_plot.index.name = 'timestamp'\n",
        "\n",
        "  fig = px.line(\n",
        "      data_frame = data_plot.reset_index(),\n",
        "      x      = 'timestamp',\n",
        "      y      = data_plot.columns,\n",
        "      title  = 'Number of usage for municipality_id:{}'.format(i),\n",
        "      width  = 900,\n",
        "      height = 500\n",
        "      )\n",
        "\n",
        "  fig.update_xaxes(rangeslider_visible=True)\n",
        "  fig.show()\n"
      ],
      "metadata": {
        "colab": {
          "base_uri": "https://localhost:8080/",
          "height": 1000
        },
        "id": "A4I59I7DcnN0",
        "outputId": "fd963b37-6f7f-47fd-86d9-4d1a8c3f5d6c"
      },
      "execution_count": null,
      "outputs": [
        {
          "output_type": "display_data",
          "data": {
            "text/html": [
              "<html>\n",
              "<head><meta charset=\"utf-8\" /></head>\n",
              "<body>\n",
              "    <div>            <script src=\"https://cdnjs.cloudflare.com/ajax/libs/mathjax/2.7.5/MathJax.js?config=TeX-AMS-MML_SVG\"></script><script type=\"text/javascript\">if (window.MathJax) {MathJax.Hub.Config({SVG: {font: \"STIX-Web\"}});}</script>                <script type=\"text/javascript\">window.PlotlyConfig = {MathJaxConfig: 'local'};</script>\n",
              "        <script src=\"https://cdn.plot.ly/plotly-2.8.3.min.js\"></script>                <div id=\"836a79ca-13b4-445d-8be5-812ca6c0f081\" class=\"plotly-graph-div\" style=\"height:500px; width:900px;\"></div>            <script type=\"text/javascript\">                                    window.PLOTLYENV=window.PLOTLYENV || {};                                    if (document.getElementById(\"836a79ca-13b4-445d-8be5-812ca6c0f081\")) {                    Plotly.newPlot(                        \"836a79ca-13b4-445d-8be5-812ca6c0f081\",                        [{\"hovertemplate\":\"variable=test<br>timestamp=%{x}<br>value=%{y}<extra></extra>\",\"legendgroup\":\"test\",\"line\":{\"color\":\"#636efa\",\"dash\":\"solid\"},\"marker\":{\"symbol\":\"circle\"},\"mode\":\"lines\",\"name\":\"test\",\"orientation\":\"v\",\"showlegend\":true,\"x\":[\"2017-08-06T08:00:00\",\"2017-08-06T09:00:00\",\"2017-08-06T10:00:00\",\"2017-08-06T11:00:00\",\"2017-08-06T12:00:00\",\"2017-08-06T13:00:00\",\"2017-08-06T14:00:00\",\"2017-08-06T15:00:00\",\"2017-08-06T16:00:00\",\"2017-08-07T08:00:00\",\"2017-08-07T09:00:00\",\"2017-08-07T10:00:00\",\"2017-08-07T11:00:00\",\"2017-08-07T12:00:00\",\"2017-08-07T13:00:00\",\"2017-08-07T14:00:00\",\"2017-08-07T15:00:00\",\"2017-08-07T16:00:00\",\"2017-08-08T08:00:00\",\"2017-08-08T09:00:00\",\"2017-08-08T10:00:00\",\"2017-08-08T11:00:00\",\"2017-08-08T12:00:00\",\"2017-08-08T13:00:00\",\"2017-08-08T14:00:00\",\"2017-08-08T15:00:00\",\"2017-08-08T16:00:00\",\"2017-08-09T08:00:00\",\"2017-08-09T09:00:00\",\"2017-08-09T10:00:00\",\"2017-08-09T11:00:00\",\"2017-08-09T12:00:00\",\"2017-08-09T13:00:00\",\"2017-08-09T14:00:00\",\"2017-08-09T15:00:00\",\"2017-08-09T16:00:00\",\"2017-08-10T08:00:00\",\"2017-08-10T09:00:00\",\"2017-08-10T10:00:00\",\"2017-08-10T11:00:00\",\"2017-08-10T12:00:00\",\"2017-08-10T13:00:00\",\"2017-08-10T14:00:00\",\"2017-08-10T15:00:00\",\"2017-08-10T16:00:00\",\"2017-08-11T08:00:00\",\"2017-08-11T09:00:00\",\"2017-08-11T10:00:00\",\"2017-08-11T11:00:00\",\"2017-08-11T12:00:00\",\"2017-08-11T13:00:00\",\"2017-08-11T14:00:00\",\"2017-08-11T15:00:00\",\"2017-08-11T16:00:00\",\"2017-08-12T08:00:00\",\"2017-08-12T09:00:00\",\"2017-08-12T10:00:00\",\"2017-08-12T11:00:00\",\"2017-08-12T12:00:00\",\"2017-08-12T13:00:00\",\"2017-08-12T14:00:00\",\"2017-08-12T15:00:00\",\"2017-08-12T16:00:00\",\"2017-08-13T08:00:00\",\"2017-08-13T09:00:00\",\"2017-08-13T10:00:00\",\"2017-08-13T11:00:00\",\"2017-08-13T12:00:00\",\"2017-08-13T13:00:00\",\"2017-08-13T14:00:00\",\"2017-08-13T15:00:00\",\"2017-08-13T16:00:00\",\"2017-08-14T08:00:00\",\"2017-08-14T09:00:00\",\"2017-08-14T10:00:00\",\"2017-08-14T11:00:00\",\"2017-08-14T12:00:00\",\"2017-08-14T13:00:00\",\"2017-08-14T14:00:00\",\"2017-08-14T15:00:00\",\"2017-08-14T16:00:00\",\"2017-08-15T08:00:00\",\"2017-08-15T09:00:00\",\"2017-08-15T10:00:00\",\"2017-08-15T11:00:00\",\"2017-08-15T12:00:00\",\"2017-08-15T13:00:00\",\"2017-08-15T14:00:00\",\"2017-08-15T15:00:00\",\"2017-08-15T16:00:00\",\"2017-08-16T08:00:00\",\"2017-08-16T09:00:00\",\"2017-08-16T10:00:00\",\"2017-08-16T11:00:00\",\"2017-08-16T12:00:00\",\"2017-08-16T13:00:00\",\"2017-08-16T14:00:00\",\"2017-08-16T15:00:00\",\"2017-08-16T16:00:00\",\"2017-08-17T08:00:00\",\"2017-08-17T09:00:00\",\"2017-08-17T10:00:00\",\"2017-08-17T11:00:00\",\"2017-08-17T12:00:00\",\"2017-08-17T13:00:00\",\"2017-08-17T14:00:00\",\"2017-08-17T15:00:00\",\"2017-08-17T16:00:00\",\"2017-08-18T08:00:00\",\"2017-08-18T09:00:00\",\"2017-08-18T10:00:00\",\"2017-08-18T11:00:00\",\"2017-08-18T12:00:00\",\"2017-08-18T13:00:00\",\"2017-08-18T14:00:00\",\"2017-08-18T15:00:00\",\"2017-08-18T16:00:00\",\"2017-08-19T08:00:00\",\"2017-08-19T09:00:00\",\"2017-08-19T10:00:00\",\"2017-08-19T11:00:00\",\"2017-08-19T12:00:00\",\"2017-08-19T13:00:00\",\"2017-08-19T14:00:00\",\"2017-08-19T15:00:00\",\"2017-08-19T16:00:00\"],\"xaxis\":\"x\",\"y\":[329.0,459.0,569.0,648.0,653.0,658.0,645.0,598.0,530.0,359.0,494.0,617.0,659.0,678.0,693.0,682.0,673.0,654.0,297.0,414.0,538.0,636.0,645.0,651.0,642.0,635.0,599.0,401.0,475.0,554.0,611.0,620.0,623.0,622.0,618.0,596.0,391.0,473.0,566.0,619.0,624.0,624.0,623.0,623.0,624.0,345.0,372.0,488.0,623.0,624.0,623.0,624.0,624.0,622.0,284.0,392.0,522.0,608.0,623.0,624.0,619.0,594.0,538.0,314.0,456.0,551.0,617.0,635.0,636.0,633.0,561.0,494.0,401.0,511.0,632.0,647.0,652.0,645.0,640.0,614.0,563.0,311.0,439.0,542.0,637.0,678.0,692.0,685.0,674.0,675.0,275.0,371.0,464.0,514.0,554.0,556.0,559.0,567.0,562.0,1019.0,1104.0,1174.0,1202.0,1267.0,1286.0,1286.0,1287.0,1286.0,1034.0,1057.0,1153.0,1270.0,1287.0,1286.0,1286.0,1286.0,1272.0,1034.0,1113.0,1198.0,1278.0,1281.0,1283.0,1285.0,1286.0,1276.0],\"yaxis\":\"y\",\"type\":\"scatter\"},{\"hovertemplate\":\"variable=prediction<br>timestamp=%{x}<br>value=%{y}<extra></extra>\",\"legendgroup\":\"prediction\",\"line\":{\"color\":\"#EF553B\",\"dash\":\"solid\"},\"marker\":{\"symbol\":\"circle\"},\"mode\":\"lines\",\"name\":\"prediction\",\"orientation\":\"v\",\"showlegend\":true,\"x\":[\"2017-08-06T08:00:00\",\"2017-08-06T09:00:00\",\"2017-08-06T10:00:00\",\"2017-08-06T11:00:00\",\"2017-08-06T12:00:00\",\"2017-08-06T13:00:00\",\"2017-08-06T14:00:00\",\"2017-08-06T15:00:00\",\"2017-08-06T16:00:00\",\"2017-08-07T08:00:00\",\"2017-08-07T09:00:00\",\"2017-08-07T10:00:00\",\"2017-08-07T11:00:00\",\"2017-08-07T12:00:00\",\"2017-08-07T13:00:00\",\"2017-08-07T14:00:00\",\"2017-08-07T15:00:00\",\"2017-08-07T16:00:00\",\"2017-08-08T08:00:00\",\"2017-08-08T09:00:00\",\"2017-08-08T10:00:00\",\"2017-08-08T11:00:00\",\"2017-08-08T12:00:00\",\"2017-08-08T13:00:00\",\"2017-08-08T14:00:00\",\"2017-08-08T15:00:00\",\"2017-08-08T16:00:00\",\"2017-08-09T08:00:00\",\"2017-08-09T09:00:00\",\"2017-08-09T10:00:00\",\"2017-08-09T11:00:00\",\"2017-08-09T12:00:00\",\"2017-08-09T13:00:00\",\"2017-08-09T14:00:00\",\"2017-08-09T15:00:00\",\"2017-08-09T16:00:00\",\"2017-08-10T08:00:00\",\"2017-08-10T09:00:00\",\"2017-08-10T10:00:00\",\"2017-08-10T11:00:00\",\"2017-08-10T12:00:00\",\"2017-08-10T13:00:00\",\"2017-08-10T14:00:00\",\"2017-08-10T15:00:00\",\"2017-08-10T16:00:00\",\"2017-08-11T08:00:00\",\"2017-08-11T09:00:00\",\"2017-08-11T10:00:00\",\"2017-08-11T11:00:00\",\"2017-08-11T12:00:00\",\"2017-08-11T13:00:00\",\"2017-08-11T14:00:00\",\"2017-08-11T15:00:00\",\"2017-08-11T16:00:00\",\"2017-08-12T08:00:00\",\"2017-08-12T09:00:00\",\"2017-08-12T10:00:00\",\"2017-08-12T11:00:00\",\"2017-08-12T12:00:00\",\"2017-08-12T13:00:00\",\"2017-08-12T14:00:00\",\"2017-08-12T15:00:00\",\"2017-08-12T16:00:00\",\"2017-08-13T08:00:00\",\"2017-08-13T09:00:00\",\"2017-08-13T10:00:00\",\"2017-08-13T11:00:00\",\"2017-08-13T12:00:00\",\"2017-08-13T13:00:00\",\"2017-08-13T14:00:00\",\"2017-08-13T15:00:00\",\"2017-08-13T16:00:00\",\"2017-08-14T08:00:00\",\"2017-08-14T09:00:00\",\"2017-08-14T10:00:00\",\"2017-08-14T11:00:00\",\"2017-08-14T12:00:00\",\"2017-08-14T13:00:00\",\"2017-08-14T14:00:00\",\"2017-08-14T15:00:00\",\"2017-08-14T16:00:00\",\"2017-08-15T08:00:00\",\"2017-08-15T09:00:00\",\"2017-08-15T10:00:00\",\"2017-08-15T11:00:00\",\"2017-08-15T12:00:00\",\"2017-08-15T13:00:00\",\"2017-08-15T14:00:00\",\"2017-08-15T15:00:00\",\"2017-08-15T16:00:00\",\"2017-08-16T08:00:00\",\"2017-08-16T09:00:00\",\"2017-08-16T10:00:00\",\"2017-08-16T11:00:00\",\"2017-08-16T12:00:00\",\"2017-08-16T13:00:00\",\"2017-08-16T14:00:00\",\"2017-08-16T15:00:00\",\"2017-08-16T16:00:00\",\"2017-08-17T08:00:00\",\"2017-08-17T09:00:00\",\"2017-08-17T10:00:00\",\"2017-08-17T11:00:00\",\"2017-08-17T12:00:00\",\"2017-08-17T13:00:00\",\"2017-08-17T14:00:00\",\"2017-08-17T15:00:00\",\"2017-08-17T16:00:00\",\"2017-08-18T08:00:00\",\"2017-08-18T09:00:00\",\"2017-08-18T10:00:00\",\"2017-08-18T11:00:00\",\"2017-08-18T12:00:00\",\"2017-08-18T13:00:00\",\"2017-08-18T14:00:00\",\"2017-08-18T15:00:00\",\"2017-08-18T16:00:00\",\"2017-08-19T08:00:00\",\"2017-08-19T09:00:00\",\"2017-08-19T10:00:00\",\"2017-08-19T11:00:00\",\"2017-08-19T12:00:00\",\"2017-08-19T13:00:00\",\"2017-08-19T14:00:00\",\"2017-08-19T15:00:00\",\"2017-08-19T16:00:00\"],\"xaxis\":\"x\",\"y\":[286.03216552734375,441.4294738769531,572.0689086914062,633.7030639648438,651.6886596679688,643.3761596679688,623.9806518554688,578.6251220703125,538.9421997070312,340.9715881347656,468.9866943359375,570.7367553710938,610.1544189453125,666.4078979492188,655.1727294921875,653.1734619140625,606.4988403320312,534.4279174804688,337.110107421875,482.4922180175781,596.29931640625,618.685791015625,640.7122192382812,651.1793823242188,651.0813598632812,622.1845092773438,519.00537109375,270.25286865234375,429.7930908203125,517.4319458007812,585.927490234375,630.7980346679688,637.4929809570312,602.8486938476562,549.5039672851562,472.45208740234375,263.0002746582031,415.5076599121094,548.2796630859375,619.4827880859375,655.336181640625,640.5263061523438,624.9976806640625,568.14990234375,415.0380554199219,314.51873779296875,411.0552673339844,490.68438720703125,575.8584594726562,625.2347412109375,618.0082397460938,638.017333984375,559.840087890625,434.5266418457031,310.8191833496094,423.7971496582031,512.1410522460938,595.0588989257812,604.61767578125,617.9646606445312,575.35791015625,427.071044921875,246.2497100830078,355.4257507324219,344.1723327636719,435.2447814941406,516.2696533203125,576.2116088867188,616.1337890625,621.0057373046875,595.1426391601562,522.626220703125,364.6845703125,370.0025634765625,422.3520202636719,502.28314208984375,645.6358032226562,648.1885986328125,629.7137451171875,578.8421020507812,512.2525024414062,311.1800537109375,438.300537109375,556.934326171875,619.5637817382812,628.1083984375,635.9749755859375,601.1295776367188,571.6592407226562,637.3936767578125,390.83660888671875,482.5572814941406,552.6365966796875,590.2457275390625,633.4512939453125,670.87939453125,658.5086059570312,639.1738891601562,603.439208984375,346.2635498046875,354.7422180175781,954.5255737304688,980.0511474609375,925.6377563476562,946.2672119140625,946.5484008789062,890.4158935546875,886.6119995117188,706.240234375,779.671142578125,863.438232421875,947.5921630859375,1016.447265625,1036.65234375,1284.87158203125,1242.783935546875,1168.7431640625,880.7235107421875,890.2367553710938,1031.294189453125,1132.3990478515625,1127.480224609375,1124.906005859375,1081.244384765625,830.7802734375,792.8947143554688],\"yaxis\":\"y\",\"type\":\"scatter\"}],                        {\"template\":{\"data\":{\"bar\":[{\"error_x\":{\"color\":\"#2a3f5f\"},\"error_y\":{\"color\":\"#2a3f5f\"},\"marker\":{\"line\":{\"color\":\"#E5ECF6\",\"width\":0.5},\"pattern\":{\"fillmode\":\"overlay\",\"size\":10,\"solidity\":0.2}},\"type\":\"bar\"}],\"barpolar\":[{\"marker\":{\"line\":{\"color\":\"#E5ECF6\",\"width\":0.5},\"pattern\":{\"fillmode\":\"overlay\",\"size\":10,\"solidity\":0.2}},\"type\":\"barpolar\"}],\"carpet\":[{\"aaxis\":{\"endlinecolor\":\"#2a3f5f\",\"gridcolor\":\"white\",\"linecolor\":\"white\",\"minorgridcolor\":\"white\",\"startlinecolor\":\"#2a3f5f\"},\"baxis\":{\"endlinecolor\":\"#2a3f5f\",\"gridcolor\":\"white\",\"linecolor\":\"white\",\"minorgridcolor\":\"white\",\"startlinecolor\":\"#2a3f5f\"},\"type\":\"carpet\"}],\"choropleth\":[{\"colorbar\":{\"outlinewidth\":0,\"ticks\":\"\"},\"type\":\"choropleth\"}],\"contour\":[{\"colorbar\":{\"outlinewidth\":0,\"ticks\":\"\"},\"colorscale\":[[0.0,\"#0d0887\"],[0.1111111111111111,\"#46039f\"],[0.2222222222222222,\"#7201a8\"],[0.3333333333333333,\"#9c179e\"],[0.4444444444444444,\"#bd3786\"],[0.5555555555555556,\"#d8576b\"],[0.6666666666666666,\"#ed7953\"],[0.7777777777777778,\"#fb9f3a\"],[0.8888888888888888,\"#fdca26\"],[1.0,\"#f0f921\"]],\"type\":\"contour\"}],\"contourcarpet\":[{\"colorbar\":{\"outlinewidth\":0,\"ticks\":\"\"},\"type\":\"contourcarpet\"}],\"heatmap\":[{\"colorbar\":{\"outlinewidth\":0,\"ticks\":\"\"},\"colorscale\":[[0.0,\"#0d0887\"],[0.1111111111111111,\"#46039f\"],[0.2222222222222222,\"#7201a8\"],[0.3333333333333333,\"#9c179e\"],[0.4444444444444444,\"#bd3786\"],[0.5555555555555556,\"#d8576b\"],[0.6666666666666666,\"#ed7953\"],[0.7777777777777778,\"#fb9f3a\"],[0.8888888888888888,\"#fdca26\"],[1.0,\"#f0f921\"]],\"type\":\"heatmap\"}],\"heatmapgl\":[{\"colorbar\":{\"outlinewidth\":0,\"ticks\":\"\"},\"colorscale\":[[0.0,\"#0d0887\"],[0.1111111111111111,\"#46039f\"],[0.2222222222222222,\"#7201a8\"],[0.3333333333333333,\"#9c179e\"],[0.4444444444444444,\"#bd3786\"],[0.5555555555555556,\"#d8576b\"],[0.6666666666666666,\"#ed7953\"],[0.7777777777777778,\"#fb9f3a\"],[0.8888888888888888,\"#fdca26\"],[1.0,\"#f0f921\"]],\"type\":\"heatmapgl\"}],\"histogram\":[{\"marker\":{\"pattern\":{\"fillmode\":\"overlay\",\"size\":10,\"solidity\":0.2}},\"type\":\"histogram\"}],\"histogram2d\":[{\"colorbar\":{\"outlinewidth\":0,\"ticks\":\"\"},\"colorscale\":[[0.0,\"#0d0887\"],[0.1111111111111111,\"#46039f\"],[0.2222222222222222,\"#7201a8\"],[0.3333333333333333,\"#9c179e\"],[0.4444444444444444,\"#bd3786\"],[0.5555555555555556,\"#d8576b\"],[0.6666666666666666,\"#ed7953\"],[0.7777777777777778,\"#fb9f3a\"],[0.8888888888888888,\"#fdca26\"],[1.0,\"#f0f921\"]],\"type\":\"histogram2d\"}],\"histogram2dcontour\":[{\"colorbar\":{\"outlinewidth\":0,\"ticks\":\"\"},\"colorscale\":[[0.0,\"#0d0887\"],[0.1111111111111111,\"#46039f\"],[0.2222222222222222,\"#7201a8\"],[0.3333333333333333,\"#9c179e\"],[0.4444444444444444,\"#bd3786\"],[0.5555555555555556,\"#d8576b\"],[0.6666666666666666,\"#ed7953\"],[0.7777777777777778,\"#fb9f3a\"],[0.8888888888888888,\"#fdca26\"],[1.0,\"#f0f921\"]],\"type\":\"histogram2dcontour\"}],\"mesh3d\":[{\"colorbar\":{\"outlinewidth\":0,\"ticks\":\"\"},\"type\":\"mesh3d\"}],\"parcoords\":[{\"line\":{\"colorbar\":{\"outlinewidth\":0,\"ticks\":\"\"}},\"type\":\"parcoords\"}],\"pie\":[{\"automargin\":true,\"type\":\"pie\"}],\"scatter\":[{\"marker\":{\"colorbar\":{\"outlinewidth\":0,\"ticks\":\"\"}},\"type\":\"scatter\"}],\"scatter3d\":[{\"line\":{\"colorbar\":{\"outlinewidth\":0,\"ticks\":\"\"}},\"marker\":{\"colorbar\":{\"outlinewidth\":0,\"ticks\":\"\"}},\"type\":\"scatter3d\"}],\"scattercarpet\":[{\"marker\":{\"colorbar\":{\"outlinewidth\":0,\"ticks\":\"\"}},\"type\":\"scattercarpet\"}],\"scattergeo\":[{\"marker\":{\"colorbar\":{\"outlinewidth\":0,\"ticks\":\"\"}},\"type\":\"scattergeo\"}],\"scattergl\":[{\"marker\":{\"colorbar\":{\"outlinewidth\":0,\"ticks\":\"\"}},\"type\":\"scattergl\"}],\"scattermapbox\":[{\"marker\":{\"colorbar\":{\"outlinewidth\":0,\"ticks\":\"\"}},\"type\":\"scattermapbox\"}],\"scatterpolar\":[{\"marker\":{\"colorbar\":{\"outlinewidth\":0,\"ticks\":\"\"}},\"type\":\"scatterpolar\"}],\"scatterpolargl\":[{\"marker\":{\"colorbar\":{\"outlinewidth\":0,\"ticks\":\"\"}},\"type\":\"scatterpolargl\"}],\"scatterternary\":[{\"marker\":{\"colorbar\":{\"outlinewidth\":0,\"ticks\":\"\"}},\"type\":\"scatterternary\"}],\"surface\":[{\"colorbar\":{\"outlinewidth\":0,\"ticks\":\"\"},\"colorscale\":[[0.0,\"#0d0887\"],[0.1111111111111111,\"#46039f\"],[0.2222222222222222,\"#7201a8\"],[0.3333333333333333,\"#9c179e\"],[0.4444444444444444,\"#bd3786\"],[0.5555555555555556,\"#d8576b\"],[0.6666666666666666,\"#ed7953\"],[0.7777777777777778,\"#fb9f3a\"],[0.8888888888888888,\"#fdca26\"],[1.0,\"#f0f921\"]],\"type\":\"surface\"}],\"table\":[{\"cells\":{\"fill\":{\"color\":\"#EBF0F8\"},\"line\":{\"color\":\"white\"}},\"header\":{\"fill\":{\"color\":\"#C8D4E3\"},\"line\":{\"color\":\"white\"}},\"type\":\"table\"}]},\"layout\":{\"annotationdefaults\":{\"arrowcolor\":\"#2a3f5f\",\"arrowhead\":0,\"arrowwidth\":1},\"autotypenumbers\":\"strict\",\"coloraxis\":{\"colorbar\":{\"outlinewidth\":0,\"ticks\":\"\"}},\"colorscale\":{\"diverging\":[[0,\"#8e0152\"],[0.1,\"#c51b7d\"],[0.2,\"#de77ae\"],[0.3,\"#f1b6da\"],[0.4,\"#fde0ef\"],[0.5,\"#f7f7f7\"],[0.6,\"#e6f5d0\"],[0.7,\"#b8e186\"],[0.8,\"#7fbc41\"],[0.9,\"#4d9221\"],[1,\"#276419\"]],\"sequential\":[[0.0,\"#0d0887\"],[0.1111111111111111,\"#46039f\"],[0.2222222222222222,\"#7201a8\"],[0.3333333333333333,\"#9c179e\"],[0.4444444444444444,\"#bd3786\"],[0.5555555555555556,\"#d8576b\"],[0.6666666666666666,\"#ed7953\"],[0.7777777777777778,\"#fb9f3a\"],[0.8888888888888888,\"#fdca26\"],[1.0,\"#f0f921\"]],\"sequentialminus\":[[0.0,\"#0d0887\"],[0.1111111111111111,\"#46039f\"],[0.2222222222222222,\"#7201a8\"],[0.3333333333333333,\"#9c179e\"],[0.4444444444444444,\"#bd3786\"],[0.5555555555555556,\"#d8576b\"],[0.6666666666666666,\"#ed7953\"],[0.7777777777777778,\"#fb9f3a\"],[0.8888888888888888,\"#fdca26\"],[1.0,\"#f0f921\"]]},\"colorway\":[\"#636efa\",\"#EF553B\",\"#00cc96\",\"#ab63fa\",\"#FFA15A\",\"#19d3f3\",\"#FF6692\",\"#B6E880\",\"#FF97FF\",\"#FECB52\"],\"font\":{\"color\":\"#2a3f5f\"},\"geo\":{\"bgcolor\":\"white\",\"lakecolor\":\"white\",\"landcolor\":\"#E5ECF6\",\"showlakes\":true,\"showland\":true,\"subunitcolor\":\"white\"},\"hoverlabel\":{\"align\":\"left\"},\"hovermode\":\"closest\",\"mapbox\":{\"style\":\"light\"},\"paper_bgcolor\":\"white\",\"plot_bgcolor\":\"#E5ECF6\",\"polar\":{\"angularaxis\":{\"gridcolor\":\"white\",\"linecolor\":\"white\",\"ticks\":\"\"},\"bgcolor\":\"#E5ECF6\",\"radialaxis\":{\"gridcolor\":\"white\",\"linecolor\":\"white\",\"ticks\":\"\"}},\"scene\":{\"xaxis\":{\"backgroundcolor\":\"#E5ECF6\",\"gridcolor\":\"white\",\"gridwidth\":2,\"linecolor\":\"white\",\"showbackground\":true,\"ticks\":\"\",\"zerolinecolor\":\"white\"},\"yaxis\":{\"backgroundcolor\":\"#E5ECF6\",\"gridcolor\":\"white\",\"gridwidth\":2,\"linecolor\":\"white\",\"showbackground\":true,\"ticks\":\"\",\"zerolinecolor\":\"white\"},\"zaxis\":{\"backgroundcolor\":\"#E5ECF6\",\"gridcolor\":\"white\",\"gridwidth\":2,\"linecolor\":\"white\",\"showbackground\":true,\"ticks\":\"\",\"zerolinecolor\":\"white\"}},\"shapedefaults\":{\"line\":{\"color\":\"#2a3f5f\"}},\"ternary\":{\"aaxis\":{\"gridcolor\":\"white\",\"linecolor\":\"white\",\"ticks\":\"\"},\"baxis\":{\"gridcolor\":\"white\",\"linecolor\":\"white\",\"ticks\":\"\"},\"bgcolor\":\"#E5ECF6\",\"caxis\":{\"gridcolor\":\"white\",\"linecolor\":\"white\",\"ticks\":\"\"}},\"title\":{\"x\":0.05},\"xaxis\":{\"automargin\":true,\"gridcolor\":\"white\",\"linecolor\":\"white\",\"ticks\":\"\",\"title\":{\"standoff\":15},\"zerolinecolor\":\"white\",\"zerolinewidth\":2},\"yaxis\":{\"automargin\":true,\"gridcolor\":\"white\",\"linecolor\":\"white\",\"ticks\":\"\",\"title\":{\"standoff\":15},\"zerolinecolor\":\"white\",\"zerolinewidth\":2}}},\"xaxis\":{\"anchor\":\"y\",\"domain\":[0.0,1.0],\"title\":{\"text\":\"timestamp\"},\"rangeslider\":{\"visible\":true}},\"yaxis\":{\"anchor\":\"x\",\"domain\":[0.0,1.0],\"title\":{\"text\":\"value\"}},\"legend\":{\"title\":{\"text\":\"variable\"},\"tracegroupgap\":0},\"title\":{\"text\":\"Number of usage for municipality_id:0\"},\"height\":500,\"width\":900},                        {\"responsive\": true}                    ).then(function(){\n",
              "                            \n",
              "var gd = document.getElementById('836a79ca-13b4-445d-8be5-812ca6c0f081');\n",
              "var x = new MutationObserver(function (mutations, observer) {{\n",
              "        var display = window.getComputedStyle(gd).display;\n",
              "        if (!display || display === 'none') {{\n",
              "            console.log([gd, 'removed!']);\n",
              "            Plotly.purge(gd);\n",
              "            observer.disconnect();\n",
              "        }}\n",
              "}});\n",
              "\n",
              "// Listen for the removal of the full notebook cells\n",
              "var notebookContainer = gd.closest('#notebook-container');\n",
              "if (notebookContainer) {{\n",
              "    x.observe(notebookContainer, {childList: true});\n",
              "}}\n",
              "\n",
              "// Listen for the clearing of the current output cell\n",
              "var outputEl = gd.closest('.output');\n",
              "if (outputEl) {{\n",
              "    x.observe(outputEl, {childList: true});\n",
              "}}\n",
              "\n",
              "                        })                };                            </script>        </div>\n",
              "</body>\n",
              "</html>"
            ]
          },
          "metadata": {}
        },
        {
          "output_type": "display_data",
          "data": {
            "text/html": [
              "<html>\n",
              "<head><meta charset=\"utf-8\" /></head>\n",
              "<body>\n",
              "    <div>            <script src=\"https://cdnjs.cloudflare.com/ajax/libs/mathjax/2.7.5/MathJax.js?config=TeX-AMS-MML_SVG\"></script><script type=\"text/javascript\">if (window.MathJax) {MathJax.Hub.Config({SVG: {font: \"STIX-Web\"}});}</script>                <script type=\"text/javascript\">window.PlotlyConfig = {MathJaxConfig: 'local'};</script>\n",
              "        <script src=\"https://cdn.plot.ly/plotly-2.8.3.min.js\"></script>                <div id=\"19c0a942-262c-454b-9c48-26d6b22a701f\" class=\"plotly-graph-div\" style=\"height:500px; width:900px;\"></div>            <script type=\"text/javascript\">                                    window.PLOTLYENV=window.PLOTLYENV || {};                                    if (document.getElementById(\"19c0a942-262c-454b-9c48-26d6b22a701f\")) {                    Plotly.newPlot(                        \"19c0a942-262c-454b-9c48-26d6b22a701f\",                        [{\"hovertemplate\":\"variable=test<br>timestamp=%{x}<br>value=%{y}<extra></extra>\",\"legendgroup\":\"test\",\"line\":{\"color\":\"#636efa\",\"dash\":\"solid\"},\"marker\":{\"symbol\":\"circle\"},\"mode\":\"lines\",\"name\":\"test\",\"orientation\":\"v\",\"showlegend\":true,\"x\":[\"2017-08-06T08:00:00\",\"2017-08-06T09:00:00\",\"2017-08-06T10:00:00\",\"2017-08-06T11:00:00\",\"2017-08-06T12:00:00\",\"2017-08-06T13:00:00\",\"2017-08-06T14:00:00\",\"2017-08-06T15:00:00\",\"2017-08-06T16:00:00\",\"2017-08-07T08:00:00\",\"2017-08-07T09:00:00\",\"2017-08-07T10:00:00\",\"2017-08-07T11:00:00\",\"2017-08-07T12:00:00\",\"2017-08-07T13:00:00\",\"2017-08-07T14:00:00\",\"2017-08-07T15:00:00\",\"2017-08-07T16:00:00\",\"2017-08-08T08:00:00\",\"2017-08-08T09:00:00\",\"2017-08-08T10:00:00\",\"2017-08-08T11:00:00\",\"2017-08-08T12:00:00\",\"2017-08-08T13:00:00\",\"2017-08-08T14:00:00\",\"2017-08-08T15:00:00\",\"2017-08-08T16:00:00\",\"2017-08-09T08:00:00\",\"2017-08-09T09:00:00\",\"2017-08-09T10:00:00\",\"2017-08-09T11:00:00\",\"2017-08-09T12:00:00\",\"2017-08-09T13:00:00\",\"2017-08-09T14:00:00\",\"2017-08-09T15:00:00\",\"2017-08-09T16:00:00\",\"2017-08-10T08:00:00\",\"2017-08-10T09:00:00\",\"2017-08-10T10:00:00\",\"2017-08-10T11:00:00\",\"2017-08-10T12:00:00\",\"2017-08-10T13:00:00\",\"2017-08-10T14:00:00\",\"2017-08-10T15:00:00\",\"2017-08-10T16:00:00\",\"2017-08-11T08:00:00\",\"2017-08-11T09:00:00\",\"2017-08-11T10:00:00\",\"2017-08-11T11:00:00\",\"2017-08-11T12:00:00\",\"2017-08-11T13:00:00\",\"2017-08-11T14:00:00\",\"2017-08-11T15:00:00\",\"2017-08-11T16:00:00\",\"2017-08-12T08:00:00\",\"2017-08-12T09:00:00\",\"2017-08-12T10:00:00\",\"2017-08-12T11:00:00\",\"2017-08-12T12:00:00\",\"2017-08-12T13:00:00\",\"2017-08-12T14:00:00\",\"2017-08-12T15:00:00\",\"2017-08-12T16:00:00\",\"2017-08-13T08:00:00\",\"2017-08-13T09:00:00\",\"2017-08-13T10:00:00\",\"2017-08-13T11:00:00\",\"2017-08-13T12:00:00\",\"2017-08-13T13:00:00\",\"2017-08-13T14:00:00\",\"2017-08-13T15:00:00\",\"2017-08-13T16:00:00\",\"2017-08-14T08:00:00\",\"2017-08-14T09:00:00\",\"2017-08-14T10:00:00\",\"2017-08-14T11:00:00\",\"2017-08-14T12:00:00\",\"2017-08-14T13:00:00\",\"2017-08-14T14:00:00\",\"2017-08-14T15:00:00\",\"2017-08-14T16:00:00\",\"2017-08-15T08:00:00\",\"2017-08-15T09:00:00\",\"2017-08-15T10:00:00\",\"2017-08-15T11:00:00\",\"2017-08-15T12:00:00\",\"2017-08-15T13:00:00\",\"2017-08-15T14:00:00\",\"2017-08-15T15:00:00\",\"2017-08-15T16:00:00\",\"2017-08-16T08:00:00\",\"2017-08-16T09:00:00\",\"2017-08-16T10:00:00\",\"2017-08-16T11:00:00\",\"2017-08-16T12:00:00\",\"2017-08-16T13:00:00\",\"2017-08-16T14:00:00\",\"2017-08-16T15:00:00\",\"2017-08-16T16:00:00\",\"2017-08-17T08:00:00\",\"2017-08-17T09:00:00\",\"2017-08-17T10:00:00\",\"2017-08-17T11:00:00\",\"2017-08-17T12:00:00\",\"2017-08-17T13:00:00\",\"2017-08-17T14:00:00\",\"2017-08-17T15:00:00\",\"2017-08-17T16:00:00\",\"2017-08-18T08:00:00\",\"2017-08-18T09:00:00\",\"2017-08-18T10:00:00\",\"2017-08-18T11:00:00\",\"2017-08-18T12:00:00\",\"2017-08-18T13:00:00\",\"2017-08-18T14:00:00\",\"2017-08-18T15:00:00\",\"2017-08-18T16:00:00\",\"2017-08-19T08:00:00\",\"2017-08-19T09:00:00\",\"2017-08-19T10:00:00\",\"2017-08-19T11:00:00\",\"2017-08-19T12:00:00\",\"2017-08-19T13:00:00\",\"2017-08-19T14:00:00\",\"2017-08-19T15:00:00\",\"2017-08-19T16:00:00\"],\"xaxis\":\"x\",\"y\":[216.0,263.0,333.0,398.0,397.0,399.0,400.0,374.0,343.0,235.0,307.0,392.0,402.0,403.0,409.0,406.0,408.0,382.0,188.0,243.0,338.0,402.0,401.0,407.0,410.0,406.0,385.0,189.0,263.0,342.0,399.0,408.0,411.0,410.0,406.0,384.0,179.0,261.0,354.0,407.0,412.0,412.0,411.0,411.0,412.0,133.0,160.0,276.0,411.0,412.0,411.0,412.0,412.0,410.0,189.0,240.0,329.0,398.0,404.0,407.0,411.0,403.0,382.0,218.0,282.0,353.0,401.0,410.0,411.0,407.0,367.0,338.0,252.0,317.0,399.0,402.0,406.0,406.0,411.0,403.0,394.0,185.0,253.0,325.0,388.0,409.0,411.0,412.0,408.0,387.0,202.0,261.0,336.0,379.0,411.0,412.0,411.0,405.0,398.0,144.0,229.0,299.0,327.0,392.0,411.0,411.0,412.0,411.0,159.0,182.0,278.0,395.0,412.0,411.0,411.0,411.0,397.0,159.0,238.0,323.0,403.0,406.0,408.0,410.0,411.0,401.0],\"yaxis\":\"y\",\"type\":\"scatter\"},{\"hovertemplate\":\"variable=prediction<br>timestamp=%{x}<br>value=%{y}<extra></extra>\",\"legendgroup\":\"prediction\",\"line\":{\"color\":\"#EF553B\",\"dash\":\"solid\"},\"marker\":{\"symbol\":\"circle\"},\"mode\":\"lines\",\"name\":\"prediction\",\"orientation\":\"v\",\"showlegend\":true,\"x\":[\"2017-08-06T08:00:00\",\"2017-08-06T09:00:00\",\"2017-08-06T10:00:00\",\"2017-08-06T11:00:00\",\"2017-08-06T12:00:00\",\"2017-08-06T13:00:00\",\"2017-08-06T14:00:00\",\"2017-08-06T15:00:00\",\"2017-08-06T16:00:00\",\"2017-08-07T08:00:00\",\"2017-08-07T09:00:00\",\"2017-08-07T10:00:00\",\"2017-08-07T11:00:00\",\"2017-08-07T12:00:00\",\"2017-08-07T13:00:00\",\"2017-08-07T14:00:00\",\"2017-08-07T15:00:00\",\"2017-08-07T16:00:00\",\"2017-08-08T08:00:00\",\"2017-08-08T09:00:00\",\"2017-08-08T10:00:00\",\"2017-08-08T11:00:00\",\"2017-08-08T12:00:00\",\"2017-08-08T13:00:00\",\"2017-08-08T14:00:00\",\"2017-08-08T15:00:00\",\"2017-08-08T16:00:00\",\"2017-08-09T08:00:00\",\"2017-08-09T09:00:00\",\"2017-08-09T10:00:00\",\"2017-08-09T11:00:00\",\"2017-08-09T12:00:00\",\"2017-08-09T13:00:00\",\"2017-08-09T14:00:00\",\"2017-08-09T15:00:00\",\"2017-08-09T16:00:00\",\"2017-08-10T08:00:00\",\"2017-08-10T09:00:00\",\"2017-08-10T10:00:00\",\"2017-08-10T11:00:00\",\"2017-08-10T12:00:00\",\"2017-08-10T13:00:00\",\"2017-08-10T14:00:00\",\"2017-08-10T15:00:00\",\"2017-08-10T16:00:00\",\"2017-08-11T08:00:00\",\"2017-08-11T09:00:00\",\"2017-08-11T10:00:00\",\"2017-08-11T11:00:00\",\"2017-08-11T12:00:00\",\"2017-08-11T13:00:00\",\"2017-08-11T14:00:00\",\"2017-08-11T15:00:00\",\"2017-08-11T16:00:00\",\"2017-08-12T08:00:00\",\"2017-08-12T09:00:00\",\"2017-08-12T10:00:00\",\"2017-08-12T11:00:00\",\"2017-08-12T12:00:00\",\"2017-08-12T13:00:00\",\"2017-08-12T14:00:00\",\"2017-08-12T15:00:00\",\"2017-08-12T16:00:00\",\"2017-08-13T08:00:00\",\"2017-08-13T09:00:00\",\"2017-08-13T10:00:00\",\"2017-08-13T11:00:00\",\"2017-08-13T12:00:00\",\"2017-08-13T13:00:00\",\"2017-08-13T14:00:00\",\"2017-08-13T15:00:00\",\"2017-08-13T16:00:00\",\"2017-08-14T08:00:00\",\"2017-08-14T09:00:00\",\"2017-08-14T10:00:00\",\"2017-08-14T11:00:00\",\"2017-08-14T12:00:00\",\"2017-08-14T13:00:00\",\"2017-08-14T14:00:00\",\"2017-08-14T15:00:00\",\"2017-08-14T16:00:00\",\"2017-08-15T08:00:00\",\"2017-08-15T09:00:00\",\"2017-08-15T10:00:00\",\"2017-08-15T11:00:00\",\"2017-08-15T12:00:00\",\"2017-08-15T13:00:00\",\"2017-08-15T14:00:00\",\"2017-08-15T15:00:00\",\"2017-08-15T16:00:00\",\"2017-08-16T08:00:00\",\"2017-08-16T09:00:00\",\"2017-08-16T10:00:00\",\"2017-08-16T11:00:00\",\"2017-08-16T12:00:00\",\"2017-08-16T13:00:00\",\"2017-08-16T14:00:00\",\"2017-08-16T15:00:00\",\"2017-08-16T16:00:00\",\"2017-08-17T08:00:00\",\"2017-08-17T09:00:00\",\"2017-08-17T10:00:00\",\"2017-08-17T11:00:00\",\"2017-08-17T12:00:00\",\"2017-08-17T13:00:00\",\"2017-08-17T14:00:00\",\"2017-08-17T15:00:00\",\"2017-08-17T16:00:00\",\"2017-08-18T08:00:00\",\"2017-08-18T09:00:00\",\"2017-08-18T10:00:00\",\"2017-08-18T11:00:00\",\"2017-08-18T12:00:00\",\"2017-08-18T13:00:00\",\"2017-08-18T14:00:00\",\"2017-08-18T15:00:00\",\"2017-08-18T16:00:00\",\"2017-08-19T08:00:00\",\"2017-08-19T09:00:00\",\"2017-08-19T10:00:00\",\"2017-08-19T11:00:00\",\"2017-08-19T12:00:00\",\"2017-08-19T13:00:00\",\"2017-08-19T14:00:00\",\"2017-08-19T15:00:00\",\"2017-08-19T16:00:00\"],\"xaxis\":\"x\",\"y\":[184.0957794189453,250.7745361328125,331.8494567871094,377.2040100097656,395.97100830078125,404.8877868652344,389.0629577636719,377.2457580566406,340.1632080078125,276.5596923828125,340.23370361328125,383.2476806640625,405.7854919433594,400.4672546386719,405.1270446777344,391.7204895019531,394.7469787597656,376.18585205078125,215.52224731445312,266.06488037109375,356.37481689453125,391.95330810546875,401.96307373046875,405.2332763671875,406.8669128417969,396.51409912109375,375.66571044921875,163.70443725585938,235.6380615234375,314.6209411621094,366.3380126953125,396.5165710449219,405.24072265625,406.693115234375,380.9635925292969,357.0950622558594,161.24301147460938,224.4367218017578,350.9174499511719,403.5813293457031,409.66851806640625,410.8638000488281,415.2519836425781,409.5802001953125,362.0613708496094,207.47476196289062,261.862060546875,342.5019836425781,383.8812255859375,415.9648132324219,425.1153869628906,410.978271484375,372.3928527832031,313.9442443847656,199.58694458007812,242.67584228515625,327.2158203125,380.9718017578125,407.6453552246094,415.19293212890625,425.0427551269531,392.5849609375,229.0388946533203,308.6732482910156,312.3707275390625,339.7704162597656,371.9516296386719,391.1090393066406,415.5047912597656,347.150634765625,340.48358154296875,330.2289733886719,279.9267883300781,313.2765197753906,345.3650207519531,374.8541564941406,405.9019470214844,408.91839599609375,393.1463623046875,384.6288146972656,359.77569580078125,210.10733032226562,275.2103576660156,366.8740234375,406.1582946777344,410.1268310546875,407.828369140625,412.6107177734375,323.2052307128906,385.03460693359375,249.96005249023438,310.05499267578125,362.75677490234375,387.34539794921875,405.5195617675781,411.95745849609375,410.2744445800781,402.3210754394531,384.08673095703125,297.3819580078125,308.4948425292969,320.1038513183594,391.3428955078125,407.94744873046875,406.9762878417969,404.83843994140625,393.3367614746094,375.00701904296875,340.3991394042969,360.789306640625,391.5411376953125,397.32061767578125,399.3935852050781,400.8226013183594,414.7577209472656,439.55047607421875,443.58941650390625,333.8631896972656,338.3834533691406,375.2611999511719,369.81768798828125,393.9863586425781,402.1165771484375,407.8216857910156,367.12664794921875,334.5196533203125],\"yaxis\":\"y\",\"type\":\"scatter\"}],                        {\"template\":{\"data\":{\"bar\":[{\"error_x\":{\"color\":\"#2a3f5f\"},\"error_y\":{\"color\":\"#2a3f5f\"},\"marker\":{\"line\":{\"color\":\"#E5ECF6\",\"width\":0.5},\"pattern\":{\"fillmode\":\"overlay\",\"size\":10,\"solidity\":0.2}},\"type\":\"bar\"}],\"barpolar\":[{\"marker\":{\"line\":{\"color\":\"#E5ECF6\",\"width\":0.5},\"pattern\":{\"fillmode\":\"overlay\",\"size\":10,\"solidity\":0.2}},\"type\":\"barpolar\"}],\"carpet\":[{\"aaxis\":{\"endlinecolor\":\"#2a3f5f\",\"gridcolor\":\"white\",\"linecolor\":\"white\",\"minorgridcolor\":\"white\",\"startlinecolor\":\"#2a3f5f\"},\"baxis\":{\"endlinecolor\":\"#2a3f5f\",\"gridcolor\":\"white\",\"linecolor\":\"white\",\"minorgridcolor\":\"white\",\"startlinecolor\":\"#2a3f5f\"},\"type\":\"carpet\"}],\"choropleth\":[{\"colorbar\":{\"outlinewidth\":0,\"ticks\":\"\"},\"type\":\"choropleth\"}],\"contour\":[{\"colorbar\":{\"outlinewidth\":0,\"ticks\":\"\"},\"colorscale\":[[0.0,\"#0d0887\"],[0.1111111111111111,\"#46039f\"],[0.2222222222222222,\"#7201a8\"],[0.3333333333333333,\"#9c179e\"],[0.4444444444444444,\"#bd3786\"],[0.5555555555555556,\"#d8576b\"],[0.6666666666666666,\"#ed7953\"],[0.7777777777777778,\"#fb9f3a\"],[0.8888888888888888,\"#fdca26\"],[1.0,\"#f0f921\"]],\"type\":\"contour\"}],\"contourcarpet\":[{\"colorbar\":{\"outlinewidth\":0,\"ticks\":\"\"},\"type\":\"contourcarpet\"}],\"heatmap\":[{\"colorbar\":{\"outlinewidth\":0,\"ticks\":\"\"},\"colorscale\":[[0.0,\"#0d0887\"],[0.1111111111111111,\"#46039f\"],[0.2222222222222222,\"#7201a8\"],[0.3333333333333333,\"#9c179e\"],[0.4444444444444444,\"#bd3786\"],[0.5555555555555556,\"#d8576b\"],[0.6666666666666666,\"#ed7953\"],[0.7777777777777778,\"#fb9f3a\"],[0.8888888888888888,\"#fdca26\"],[1.0,\"#f0f921\"]],\"type\":\"heatmap\"}],\"heatmapgl\":[{\"colorbar\":{\"outlinewidth\":0,\"ticks\":\"\"},\"colorscale\":[[0.0,\"#0d0887\"],[0.1111111111111111,\"#46039f\"],[0.2222222222222222,\"#7201a8\"],[0.3333333333333333,\"#9c179e\"],[0.4444444444444444,\"#bd3786\"],[0.5555555555555556,\"#d8576b\"],[0.6666666666666666,\"#ed7953\"],[0.7777777777777778,\"#fb9f3a\"],[0.8888888888888888,\"#fdca26\"],[1.0,\"#f0f921\"]],\"type\":\"heatmapgl\"}],\"histogram\":[{\"marker\":{\"pattern\":{\"fillmode\":\"overlay\",\"size\":10,\"solidity\":0.2}},\"type\":\"histogram\"}],\"histogram2d\":[{\"colorbar\":{\"outlinewidth\":0,\"ticks\":\"\"},\"colorscale\":[[0.0,\"#0d0887\"],[0.1111111111111111,\"#46039f\"],[0.2222222222222222,\"#7201a8\"],[0.3333333333333333,\"#9c179e\"],[0.4444444444444444,\"#bd3786\"],[0.5555555555555556,\"#d8576b\"],[0.6666666666666666,\"#ed7953\"],[0.7777777777777778,\"#fb9f3a\"],[0.8888888888888888,\"#fdca26\"],[1.0,\"#f0f921\"]],\"type\":\"histogram2d\"}],\"histogram2dcontour\":[{\"colorbar\":{\"outlinewidth\":0,\"ticks\":\"\"},\"colorscale\":[[0.0,\"#0d0887\"],[0.1111111111111111,\"#46039f\"],[0.2222222222222222,\"#7201a8\"],[0.3333333333333333,\"#9c179e\"],[0.4444444444444444,\"#bd3786\"],[0.5555555555555556,\"#d8576b\"],[0.6666666666666666,\"#ed7953\"],[0.7777777777777778,\"#fb9f3a\"],[0.8888888888888888,\"#fdca26\"],[1.0,\"#f0f921\"]],\"type\":\"histogram2dcontour\"}],\"mesh3d\":[{\"colorbar\":{\"outlinewidth\":0,\"ticks\":\"\"},\"type\":\"mesh3d\"}],\"parcoords\":[{\"line\":{\"colorbar\":{\"outlinewidth\":0,\"ticks\":\"\"}},\"type\":\"parcoords\"}],\"pie\":[{\"automargin\":true,\"type\":\"pie\"}],\"scatter\":[{\"marker\":{\"colorbar\":{\"outlinewidth\":0,\"ticks\":\"\"}},\"type\":\"scatter\"}],\"scatter3d\":[{\"line\":{\"colorbar\":{\"outlinewidth\":0,\"ticks\":\"\"}},\"marker\":{\"colorbar\":{\"outlinewidth\":0,\"ticks\":\"\"}},\"type\":\"scatter3d\"}],\"scattercarpet\":[{\"marker\":{\"colorbar\":{\"outlinewidth\":0,\"ticks\":\"\"}},\"type\":\"scattercarpet\"}],\"scattergeo\":[{\"marker\":{\"colorbar\":{\"outlinewidth\":0,\"ticks\":\"\"}},\"type\":\"scattergeo\"}],\"scattergl\":[{\"marker\":{\"colorbar\":{\"outlinewidth\":0,\"ticks\":\"\"}},\"type\":\"scattergl\"}],\"scattermapbox\":[{\"marker\":{\"colorbar\":{\"outlinewidth\":0,\"ticks\":\"\"}},\"type\":\"scattermapbox\"}],\"scatterpolar\":[{\"marker\":{\"colorbar\":{\"outlinewidth\":0,\"ticks\":\"\"}},\"type\":\"scatterpolar\"}],\"scatterpolargl\":[{\"marker\":{\"colorbar\":{\"outlinewidth\":0,\"ticks\":\"\"}},\"type\":\"scatterpolargl\"}],\"scatterternary\":[{\"marker\":{\"colorbar\":{\"outlinewidth\":0,\"ticks\":\"\"}},\"type\":\"scatterternary\"}],\"surface\":[{\"colorbar\":{\"outlinewidth\":0,\"ticks\":\"\"},\"colorscale\":[[0.0,\"#0d0887\"],[0.1111111111111111,\"#46039f\"],[0.2222222222222222,\"#7201a8\"],[0.3333333333333333,\"#9c179e\"],[0.4444444444444444,\"#bd3786\"],[0.5555555555555556,\"#d8576b\"],[0.6666666666666666,\"#ed7953\"],[0.7777777777777778,\"#fb9f3a\"],[0.8888888888888888,\"#fdca26\"],[1.0,\"#f0f921\"]],\"type\":\"surface\"}],\"table\":[{\"cells\":{\"fill\":{\"color\":\"#EBF0F8\"},\"line\":{\"color\":\"white\"}},\"header\":{\"fill\":{\"color\":\"#C8D4E3\"},\"line\":{\"color\":\"white\"}},\"type\":\"table\"}]},\"layout\":{\"annotationdefaults\":{\"arrowcolor\":\"#2a3f5f\",\"arrowhead\":0,\"arrowwidth\":1},\"autotypenumbers\":\"strict\",\"coloraxis\":{\"colorbar\":{\"outlinewidth\":0,\"ticks\":\"\"}},\"colorscale\":{\"diverging\":[[0,\"#8e0152\"],[0.1,\"#c51b7d\"],[0.2,\"#de77ae\"],[0.3,\"#f1b6da\"],[0.4,\"#fde0ef\"],[0.5,\"#f7f7f7\"],[0.6,\"#e6f5d0\"],[0.7,\"#b8e186\"],[0.8,\"#7fbc41\"],[0.9,\"#4d9221\"],[1,\"#276419\"]],\"sequential\":[[0.0,\"#0d0887\"],[0.1111111111111111,\"#46039f\"],[0.2222222222222222,\"#7201a8\"],[0.3333333333333333,\"#9c179e\"],[0.4444444444444444,\"#bd3786\"],[0.5555555555555556,\"#d8576b\"],[0.6666666666666666,\"#ed7953\"],[0.7777777777777778,\"#fb9f3a\"],[0.8888888888888888,\"#fdca26\"],[1.0,\"#f0f921\"]],\"sequentialminus\":[[0.0,\"#0d0887\"],[0.1111111111111111,\"#46039f\"],[0.2222222222222222,\"#7201a8\"],[0.3333333333333333,\"#9c179e\"],[0.4444444444444444,\"#bd3786\"],[0.5555555555555556,\"#d8576b\"],[0.6666666666666666,\"#ed7953\"],[0.7777777777777778,\"#fb9f3a\"],[0.8888888888888888,\"#fdca26\"],[1.0,\"#f0f921\"]]},\"colorway\":[\"#636efa\",\"#EF553B\",\"#00cc96\",\"#ab63fa\",\"#FFA15A\",\"#19d3f3\",\"#FF6692\",\"#B6E880\",\"#FF97FF\",\"#FECB52\"],\"font\":{\"color\":\"#2a3f5f\"},\"geo\":{\"bgcolor\":\"white\",\"lakecolor\":\"white\",\"landcolor\":\"#E5ECF6\",\"showlakes\":true,\"showland\":true,\"subunitcolor\":\"white\"},\"hoverlabel\":{\"align\":\"left\"},\"hovermode\":\"closest\",\"mapbox\":{\"style\":\"light\"},\"paper_bgcolor\":\"white\",\"plot_bgcolor\":\"#E5ECF6\",\"polar\":{\"angularaxis\":{\"gridcolor\":\"white\",\"linecolor\":\"white\",\"ticks\":\"\"},\"bgcolor\":\"#E5ECF6\",\"radialaxis\":{\"gridcolor\":\"white\",\"linecolor\":\"white\",\"ticks\":\"\"}},\"scene\":{\"xaxis\":{\"backgroundcolor\":\"#E5ECF6\",\"gridcolor\":\"white\",\"gridwidth\":2,\"linecolor\":\"white\",\"showbackground\":true,\"ticks\":\"\",\"zerolinecolor\":\"white\"},\"yaxis\":{\"backgroundcolor\":\"#E5ECF6\",\"gridcolor\":\"white\",\"gridwidth\":2,\"linecolor\":\"white\",\"showbackground\":true,\"ticks\":\"\",\"zerolinecolor\":\"white\"},\"zaxis\":{\"backgroundcolor\":\"#E5ECF6\",\"gridcolor\":\"white\",\"gridwidth\":2,\"linecolor\":\"white\",\"showbackground\":true,\"ticks\":\"\",\"zerolinecolor\":\"white\"}},\"shapedefaults\":{\"line\":{\"color\":\"#2a3f5f\"}},\"ternary\":{\"aaxis\":{\"gridcolor\":\"white\",\"linecolor\":\"white\",\"ticks\":\"\"},\"baxis\":{\"gridcolor\":\"white\",\"linecolor\":\"white\",\"ticks\":\"\"},\"bgcolor\":\"#E5ECF6\",\"caxis\":{\"gridcolor\":\"white\",\"linecolor\":\"white\",\"ticks\":\"\"}},\"title\":{\"x\":0.05},\"xaxis\":{\"automargin\":true,\"gridcolor\":\"white\",\"linecolor\":\"white\",\"ticks\":\"\",\"title\":{\"standoff\":15},\"zerolinecolor\":\"white\",\"zerolinewidth\":2},\"yaxis\":{\"automargin\":true,\"gridcolor\":\"white\",\"linecolor\":\"white\",\"ticks\":\"\",\"title\":{\"standoff\":15},\"zerolinecolor\":\"white\",\"zerolinewidth\":2}}},\"xaxis\":{\"anchor\":\"y\",\"domain\":[0.0,1.0],\"title\":{\"text\":\"timestamp\"},\"rangeslider\":{\"visible\":true}},\"yaxis\":{\"anchor\":\"x\",\"domain\":[0.0,1.0],\"title\":{\"text\":\"value\"}},\"legend\":{\"title\":{\"text\":\"variable\"},\"tracegroupgap\":0},\"title\":{\"text\":\"Number of usage for municipality_id:1\"},\"height\":500,\"width\":900},                        {\"responsive\": true}                    ).then(function(){\n",
              "                            \n",
              "var gd = document.getElementById('19c0a942-262c-454b-9c48-26d6b22a701f');\n",
              "var x = new MutationObserver(function (mutations, observer) {{\n",
              "        var display = window.getComputedStyle(gd).display;\n",
              "        if (!display || display === 'none') {{\n",
              "            console.log([gd, 'removed!']);\n",
              "            Plotly.purge(gd);\n",
              "            observer.disconnect();\n",
              "        }}\n",
              "}});\n",
              "\n",
              "// Listen for the removal of the full notebook cells\n",
              "var notebookContainer = gd.closest('#notebook-container');\n",
              "if (notebookContainer) {{\n",
              "    x.observe(notebookContainer, {childList: true});\n",
              "}}\n",
              "\n",
              "// Listen for the clearing of the current output cell\n",
              "var outputEl = gd.closest('.output');\n",
              "if (outputEl) {{\n",
              "    x.observe(outputEl, {childList: true});\n",
              "}}\n",
              "\n",
              "                        })                };                            </script>        </div>\n",
              "</body>\n",
              "</html>"
            ]
          },
          "metadata": {}
        },
        {
          "output_type": "display_data",
          "data": {
            "text/html": [
              "<html>\n",
              "<head><meta charset=\"utf-8\" /></head>\n",
              "<body>\n",
              "    <div>            <script src=\"https://cdnjs.cloudflare.com/ajax/libs/mathjax/2.7.5/MathJax.js?config=TeX-AMS-MML_SVG\"></script><script type=\"text/javascript\">if (window.MathJax) {MathJax.Hub.Config({SVG: {font: \"STIX-Web\"}});}</script>                <script type=\"text/javascript\">window.PlotlyConfig = {MathJaxConfig: 'local'};</script>\n",
              "        <script src=\"https://cdn.plot.ly/plotly-2.8.3.min.js\"></script>                <div id=\"10a58ec0-99fe-42ef-80d3-aef50c335a55\" class=\"plotly-graph-div\" style=\"height:500px; width:900px;\"></div>            <script type=\"text/javascript\">                                    window.PLOTLYENV=window.PLOTLYENV || {};                                    if (document.getElementById(\"10a58ec0-99fe-42ef-80d3-aef50c335a55\")) {                    Plotly.newPlot(                        \"10a58ec0-99fe-42ef-80d3-aef50c335a55\",                        [{\"hovertemplate\":\"variable=test<br>timestamp=%{x}<br>value=%{y}<extra></extra>\",\"legendgroup\":\"test\",\"line\":{\"color\":\"#636efa\",\"dash\":\"solid\"},\"marker\":{\"symbol\":\"circle\"},\"mode\":\"lines\",\"name\":\"test\",\"orientation\":\"v\",\"showlegend\":true,\"x\":[\"2017-08-06T08:00:00\",\"2017-08-06T09:00:00\",\"2017-08-06T10:00:00\",\"2017-08-06T11:00:00\",\"2017-08-06T12:00:00\",\"2017-08-06T13:00:00\",\"2017-08-06T14:00:00\",\"2017-08-06T15:00:00\",\"2017-08-06T16:00:00\",\"2017-08-07T08:00:00\",\"2017-08-07T09:00:00\",\"2017-08-07T10:00:00\",\"2017-08-07T11:00:00\",\"2017-08-07T12:00:00\",\"2017-08-07T13:00:00\",\"2017-08-07T14:00:00\",\"2017-08-07T15:00:00\",\"2017-08-07T16:00:00\",\"2017-08-08T08:00:00\",\"2017-08-08T09:00:00\",\"2017-08-08T10:00:00\",\"2017-08-08T11:00:00\",\"2017-08-08T12:00:00\",\"2017-08-08T13:00:00\",\"2017-08-08T14:00:00\",\"2017-08-08T15:00:00\",\"2017-08-08T16:00:00\",\"2017-08-09T08:00:00\",\"2017-08-09T09:00:00\",\"2017-08-09T10:00:00\",\"2017-08-09T11:00:00\",\"2017-08-09T12:00:00\",\"2017-08-09T13:00:00\",\"2017-08-09T14:00:00\",\"2017-08-09T15:00:00\",\"2017-08-09T16:00:00\",\"2017-08-10T08:00:00\",\"2017-08-10T09:00:00\",\"2017-08-10T10:00:00\",\"2017-08-10T11:00:00\",\"2017-08-10T12:00:00\",\"2017-08-10T13:00:00\",\"2017-08-10T14:00:00\",\"2017-08-10T15:00:00\",\"2017-08-10T16:00:00\",\"2017-08-11T08:00:00\",\"2017-08-11T09:00:00\",\"2017-08-11T10:00:00\",\"2017-08-11T11:00:00\",\"2017-08-11T12:00:00\",\"2017-08-11T13:00:00\",\"2017-08-11T14:00:00\",\"2017-08-11T15:00:00\",\"2017-08-11T16:00:00\",\"2017-08-12T08:00:00\",\"2017-08-12T09:00:00\",\"2017-08-12T10:00:00\",\"2017-08-12T11:00:00\",\"2017-08-12T12:00:00\",\"2017-08-12T13:00:00\",\"2017-08-12T14:00:00\",\"2017-08-12T15:00:00\",\"2017-08-12T16:00:00\",\"2017-08-13T08:00:00\",\"2017-08-13T09:00:00\",\"2017-08-13T10:00:00\",\"2017-08-13T11:00:00\",\"2017-08-13T12:00:00\",\"2017-08-13T13:00:00\",\"2017-08-13T14:00:00\",\"2017-08-13T15:00:00\",\"2017-08-13T16:00:00\",\"2017-08-14T08:00:00\",\"2017-08-14T09:00:00\",\"2017-08-14T10:00:00\",\"2017-08-14T11:00:00\",\"2017-08-14T12:00:00\",\"2017-08-14T13:00:00\",\"2017-08-14T14:00:00\",\"2017-08-14T15:00:00\",\"2017-08-14T16:00:00\",\"2017-08-15T08:00:00\",\"2017-08-15T09:00:00\",\"2017-08-15T10:00:00\",\"2017-08-15T11:00:00\",\"2017-08-15T12:00:00\",\"2017-08-15T13:00:00\",\"2017-08-15T14:00:00\",\"2017-08-15T15:00:00\",\"2017-08-15T16:00:00\",\"2017-08-16T08:00:00\",\"2017-08-16T09:00:00\",\"2017-08-16T10:00:00\",\"2017-08-16T11:00:00\",\"2017-08-16T12:00:00\",\"2017-08-16T13:00:00\",\"2017-08-16T14:00:00\",\"2017-08-16T15:00:00\",\"2017-08-16T16:00:00\",\"2017-08-17T08:00:00\",\"2017-08-17T09:00:00\",\"2017-08-17T10:00:00\",\"2017-08-17T11:00:00\",\"2017-08-17T12:00:00\",\"2017-08-17T13:00:00\",\"2017-08-17T14:00:00\",\"2017-08-17T15:00:00\",\"2017-08-17T16:00:00\",\"2017-08-18T08:00:00\",\"2017-08-18T09:00:00\",\"2017-08-18T10:00:00\",\"2017-08-18T11:00:00\",\"2017-08-18T12:00:00\",\"2017-08-18T13:00:00\",\"2017-08-18T14:00:00\",\"2017-08-18T15:00:00\",\"2017-08-18T16:00:00\",\"2017-08-19T08:00:00\",\"2017-08-19T09:00:00\",\"2017-08-19T10:00:00\",\"2017-08-19T11:00:00\",\"2017-08-19T12:00:00\",\"2017-08-19T13:00:00\",\"2017-08-19T14:00:00\",\"2017-08-19T15:00:00\",\"2017-08-19T16:00:00\"],\"xaxis\":\"x\",\"y\":[311.0,389.0,502.0,563.0,601.0,655.0,650.0,599.0,547.0,302.0,377.0,497.0,573.0,631.0,658.0,655.0,613.0,521.0,367.0,441.0,537.0,636.0,679.0,695.0,690.0,653.0,632.0,422.0,505.0,565.0,615.0,696.0,655.0,631.0,589.0,550.0,351.0,378.0,407.0,449.0,493.0,558.0,592.0,626.0,635.0,371.0,367.0,367.0,418.0,476.0,528.0,581.0,607.0,564.0,324.0,418.0,507.0,563.0,630.0,640.0,624.0,567.0,525.0,481.0,573.0,614.0,563.0,620.0,647.0,669.0,596.0,514.0,346.0,420.0,535.0,596.0,645.0,690.0,694.0,661.0,621.0,380.0,447.0,529.0,561.0,618.0,695.0,695.0,683.0,654.0,359.0,431.0,484.0,511.0,523.0,546.0,580.0,560.0,506.0,275.0,314.0,344.0,362.0,399.0,442.0,507.0,553.0,582.0,273.0,269.0,297.0,338.0,389.0,485.0,567.0,576.0,537.0,353.0,446.0,526.0,572.0,663.0,697.0,687.0,651.0,580.0],\"yaxis\":\"y\",\"type\":\"scatter\"},{\"hovertemplate\":\"variable=prediction<br>timestamp=%{x}<br>value=%{y}<extra></extra>\",\"legendgroup\":\"prediction\",\"line\":{\"color\":\"#EF553B\",\"dash\":\"solid\"},\"marker\":{\"symbol\":\"circle\"},\"mode\":\"lines\",\"name\":\"prediction\",\"orientation\":\"v\",\"showlegend\":true,\"x\":[\"2017-08-06T08:00:00\",\"2017-08-06T09:00:00\",\"2017-08-06T10:00:00\",\"2017-08-06T11:00:00\",\"2017-08-06T12:00:00\",\"2017-08-06T13:00:00\",\"2017-08-06T14:00:00\",\"2017-08-06T15:00:00\",\"2017-08-06T16:00:00\",\"2017-08-07T08:00:00\",\"2017-08-07T09:00:00\",\"2017-08-07T10:00:00\",\"2017-08-07T11:00:00\",\"2017-08-07T12:00:00\",\"2017-08-07T13:00:00\",\"2017-08-07T14:00:00\",\"2017-08-07T15:00:00\",\"2017-08-07T16:00:00\",\"2017-08-08T08:00:00\",\"2017-08-08T09:00:00\",\"2017-08-08T10:00:00\",\"2017-08-08T11:00:00\",\"2017-08-08T12:00:00\",\"2017-08-08T13:00:00\",\"2017-08-08T14:00:00\",\"2017-08-08T15:00:00\",\"2017-08-08T16:00:00\",\"2017-08-09T08:00:00\",\"2017-08-09T09:00:00\",\"2017-08-09T10:00:00\",\"2017-08-09T11:00:00\",\"2017-08-09T12:00:00\",\"2017-08-09T13:00:00\",\"2017-08-09T14:00:00\",\"2017-08-09T15:00:00\",\"2017-08-09T16:00:00\",\"2017-08-10T08:00:00\",\"2017-08-10T09:00:00\",\"2017-08-10T10:00:00\",\"2017-08-10T11:00:00\",\"2017-08-10T12:00:00\",\"2017-08-10T13:00:00\",\"2017-08-10T14:00:00\",\"2017-08-10T15:00:00\",\"2017-08-10T16:00:00\",\"2017-08-11T08:00:00\",\"2017-08-11T09:00:00\",\"2017-08-11T10:00:00\",\"2017-08-11T11:00:00\",\"2017-08-11T12:00:00\",\"2017-08-11T13:00:00\",\"2017-08-11T14:00:00\",\"2017-08-11T15:00:00\",\"2017-08-11T16:00:00\",\"2017-08-12T08:00:00\",\"2017-08-12T09:00:00\",\"2017-08-12T10:00:00\",\"2017-08-12T11:00:00\",\"2017-08-12T12:00:00\",\"2017-08-12T13:00:00\",\"2017-08-12T14:00:00\",\"2017-08-12T15:00:00\",\"2017-08-12T16:00:00\",\"2017-08-13T08:00:00\",\"2017-08-13T09:00:00\",\"2017-08-13T10:00:00\",\"2017-08-13T11:00:00\",\"2017-08-13T12:00:00\",\"2017-08-13T13:00:00\",\"2017-08-13T14:00:00\",\"2017-08-13T15:00:00\",\"2017-08-13T16:00:00\",\"2017-08-14T08:00:00\",\"2017-08-14T09:00:00\",\"2017-08-14T10:00:00\",\"2017-08-14T11:00:00\",\"2017-08-14T12:00:00\",\"2017-08-14T13:00:00\",\"2017-08-14T14:00:00\",\"2017-08-14T15:00:00\",\"2017-08-14T16:00:00\",\"2017-08-15T08:00:00\",\"2017-08-15T09:00:00\",\"2017-08-15T10:00:00\",\"2017-08-15T11:00:00\",\"2017-08-15T12:00:00\",\"2017-08-15T13:00:00\",\"2017-08-15T14:00:00\",\"2017-08-15T15:00:00\",\"2017-08-15T16:00:00\",\"2017-08-16T08:00:00\",\"2017-08-16T09:00:00\",\"2017-08-16T10:00:00\",\"2017-08-16T11:00:00\",\"2017-08-16T12:00:00\",\"2017-08-16T13:00:00\",\"2017-08-16T14:00:00\",\"2017-08-16T15:00:00\",\"2017-08-16T16:00:00\",\"2017-08-17T08:00:00\",\"2017-08-17T09:00:00\",\"2017-08-17T10:00:00\",\"2017-08-17T11:00:00\",\"2017-08-17T12:00:00\",\"2017-08-17T13:00:00\",\"2017-08-17T14:00:00\",\"2017-08-17T15:00:00\",\"2017-08-17T16:00:00\",\"2017-08-18T08:00:00\",\"2017-08-18T09:00:00\",\"2017-08-18T10:00:00\",\"2017-08-18T11:00:00\",\"2017-08-18T12:00:00\",\"2017-08-18T13:00:00\",\"2017-08-18T14:00:00\",\"2017-08-18T15:00:00\",\"2017-08-18T16:00:00\",\"2017-08-19T08:00:00\",\"2017-08-19T09:00:00\",\"2017-08-19T10:00:00\",\"2017-08-19T11:00:00\",\"2017-08-19T12:00:00\",\"2017-08-19T13:00:00\",\"2017-08-19T14:00:00\",\"2017-08-19T15:00:00\",\"2017-08-19T16:00:00\"],\"xaxis\":\"x\",\"y\":[283.1059265136719,401.94549560546875,510.7147521972656,576.52783203125,618.1630859375,639.3381958007812,625.9714965820312,568.9528198242188,512.2037353515625,353.6871032714844,426.02880859375,499.77783203125,573.3524169921875,608.481689453125,651.429931640625,658.509765625,613.1362915039062,556.049560546875,367.396484375,442.2095031738281,540.7744140625,588.0422973632812,619.5230102539062,659.3267822265625,658.3650512695312,658.8065185546875,583.8077392578125,426.0774230957031,510.77862548828125,620.7597045898438,678.4398803710938,663.343994140625,661.7861938476562,641.2479248046875,601.6092529296875,553.8092651367188,407.7373962402344,493.2408447265625,465.3326721191406,552.85595703125,607.379638671875,644.1778564453125,656.33203125,619.788330078125,572.9247436523438,382.73358154296875,480.09075927734375,577.9415283203125,624.3174438476562,649.354248046875,660.8065795898438,578.0753173828125,602.4872436523438,575.04248046875,338.6053771972656,395.5010681152344,465.53369140625,528.6787109375,560.114013671875,601.5958251953125,626.3413696289062,602.4931640625,446.9328918457031,421.7341613769531,434.7245788574219,506.5466613769531,553.6998291015625,599.5699462890625,625.3590087890625,628.7843017578125,590.9097900390625,546.8160400390625,431.2741394042969,436.72003173828125,494.14788818359375,555.3108520507812,638.1852416992188,656.3687133789062,636.6250610351562,580.9780883789062,506.6177978515625,318.5680847167969,371.8245849609375,479.7964172363281,564.5836791992188,612.6524658203125,640.6880493164062,633.1006469726562,666.3839721679688,612.49560546875,458.5599365234375,501.8879699707031,557.0195922851562,612.7449951171875,653.7745971679688,679.7654418945312,672.97216796875,648.5361328125,603.7190551757812,492.5544128417969,454.12664794921875,376.18853759765625,396.0744323730469,451.0639953613281,497.38299560546875,541.4205932617188,528.7977294921875,515.4453125,491.740478515625,484.9145202636719,492.2329406738281,510.03668212890625,522.5867309570312,528.3994750976562,573.3363647460938,585.715087890625,561.0701293945312,481.7154235839844,451.9438171386719,450.2894592285156,457.81036376953125,517.8947143554688,566.0682983398438,587.3945922851562,577.76904296875,531.4682006835938],\"yaxis\":\"y\",\"type\":\"scatter\"}],                        {\"template\":{\"data\":{\"bar\":[{\"error_x\":{\"color\":\"#2a3f5f\"},\"error_y\":{\"color\":\"#2a3f5f\"},\"marker\":{\"line\":{\"color\":\"#E5ECF6\",\"width\":0.5},\"pattern\":{\"fillmode\":\"overlay\",\"size\":10,\"solidity\":0.2}},\"type\":\"bar\"}],\"barpolar\":[{\"marker\":{\"line\":{\"color\":\"#E5ECF6\",\"width\":0.5},\"pattern\":{\"fillmode\":\"overlay\",\"size\":10,\"solidity\":0.2}},\"type\":\"barpolar\"}],\"carpet\":[{\"aaxis\":{\"endlinecolor\":\"#2a3f5f\",\"gridcolor\":\"white\",\"linecolor\":\"white\",\"minorgridcolor\":\"white\",\"startlinecolor\":\"#2a3f5f\"},\"baxis\":{\"endlinecolor\":\"#2a3f5f\",\"gridcolor\":\"white\",\"linecolor\":\"white\",\"minorgridcolor\":\"white\",\"startlinecolor\":\"#2a3f5f\"},\"type\":\"carpet\"}],\"choropleth\":[{\"colorbar\":{\"outlinewidth\":0,\"ticks\":\"\"},\"type\":\"choropleth\"}],\"contour\":[{\"colorbar\":{\"outlinewidth\":0,\"ticks\":\"\"},\"colorscale\":[[0.0,\"#0d0887\"],[0.1111111111111111,\"#46039f\"],[0.2222222222222222,\"#7201a8\"],[0.3333333333333333,\"#9c179e\"],[0.4444444444444444,\"#bd3786\"],[0.5555555555555556,\"#d8576b\"],[0.6666666666666666,\"#ed7953\"],[0.7777777777777778,\"#fb9f3a\"],[0.8888888888888888,\"#fdca26\"],[1.0,\"#f0f921\"]],\"type\":\"contour\"}],\"contourcarpet\":[{\"colorbar\":{\"outlinewidth\":0,\"ticks\":\"\"},\"type\":\"contourcarpet\"}],\"heatmap\":[{\"colorbar\":{\"outlinewidth\":0,\"ticks\":\"\"},\"colorscale\":[[0.0,\"#0d0887\"],[0.1111111111111111,\"#46039f\"],[0.2222222222222222,\"#7201a8\"],[0.3333333333333333,\"#9c179e\"],[0.4444444444444444,\"#bd3786\"],[0.5555555555555556,\"#d8576b\"],[0.6666666666666666,\"#ed7953\"],[0.7777777777777778,\"#fb9f3a\"],[0.8888888888888888,\"#fdca26\"],[1.0,\"#f0f921\"]],\"type\":\"heatmap\"}],\"heatmapgl\":[{\"colorbar\":{\"outlinewidth\":0,\"ticks\":\"\"},\"colorscale\":[[0.0,\"#0d0887\"],[0.1111111111111111,\"#46039f\"],[0.2222222222222222,\"#7201a8\"],[0.3333333333333333,\"#9c179e\"],[0.4444444444444444,\"#bd3786\"],[0.5555555555555556,\"#d8576b\"],[0.6666666666666666,\"#ed7953\"],[0.7777777777777778,\"#fb9f3a\"],[0.8888888888888888,\"#fdca26\"],[1.0,\"#f0f921\"]],\"type\":\"heatmapgl\"}],\"histogram\":[{\"marker\":{\"pattern\":{\"fillmode\":\"overlay\",\"size\":10,\"solidity\":0.2}},\"type\":\"histogram\"}],\"histogram2d\":[{\"colorbar\":{\"outlinewidth\":0,\"ticks\":\"\"},\"colorscale\":[[0.0,\"#0d0887\"],[0.1111111111111111,\"#46039f\"],[0.2222222222222222,\"#7201a8\"],[0.3333333333333333,\"#9c179e\"],[0.4444444444444444,\"#bd3786\"],[0.5555555555555556,\"#d8576b\"],[0.6666666666666666,\"#ed7953\"],[0.7777777777777778,\"#fb9f3a\"],[0.8888888888888888,\"#fdca26\"],[1.0,\"#f0f921\"]],\"type\":\"histogram2d\"}],\"histogram2dcontour\":[{\"colorbar\":{\"outlinewidth\":0,\"ticks\":\"\"},\"colorscale\":[[0.0,\"#0d0887\"],[0.1111111111111111,\"#46039f\"],[0.2222222222222222,\"#7201a8\"],[0.3333333333333333,\"#9c179e\"],[0.4444444444444444,\"#bd3786\"],[0.5555555555555556,\"#d8576b\"],[0.6666666666666666,\"#ed7953\"],[0.7777777777777778,\"#fb9f3a\"],[0.8888888888888888,\"#fdca26\"],[1.0,\"#f0f921\"]],\"type\":\"histogram2dcontour\"}],\"mesh3d\":[{\"colorbar\":{\"outlinewidth\":0,\"ticks\":\"\"},\"type\":\"mesh3d\"}],\"parcoords\":[{\"line\":{\"colorbar\":{\"outlinewidth\":0,\"ticks\":\"\"}},\"type\":\"parcoords\"}],\"pie\":[{\"automargin\":true,\"type\":\"pie\"}],\"scatter\":[{\"marker\":{\"colorbar\":{\"outlinewidth\":0,\"ticks\":\"\"}},\"type\":\"scatter\"}],\"scatter3d\":[{\"line\":{\"colorbar\":{\"outlinewidth\":0,\"ticks\":\"\"}},\"marker\":{\"colorbar\":{\"outlinewidth\":0,\"ticks\":\"\"}},\"type\":\"scatter3d\"}],\"scattercarpet\":[{\"marker\":{\"colorbar\":{\"outlinewidth\":0,\"ticks\":\"\"}},\"type\":\"scattercarpet\"}],\"scattergeo\":[{\"marker\":{\"colorbar\":{\"outlinewidth\":0,\"ticks\":\"\"}},\"type\":\"scattergeo\"}],\"scattergl\":[{\"marker\":{\"colorbar\":{\"outlinewidth\":0,\"ticks\":\"\"}},\"type\":\"scattergl\"}],\"scattermapbox\":[{\"marker\":{\"colorbar\":{\"outlinewidth\":0,\"ticks\":\"\"}},\"type\":\"scattermapbox\"}],\"scatterpolar\":[{\"marker\":{\"colorbar\":{\"outlinewidth\":0,\"ticks\":\"\"}},\"type\":\"scatterpolar\"}],\"scatterpolargl\":[{\"marker\":{\"colorbar\":{\"outlinewidth\":0,\"ticks\":\"\"}},\"type\":\"scatterpolargl\"}],\"scatterternary\":[{\"marker\":{\"colorbar\":{\"outlinewidth\":0,\"ticks\":\"\"}},\"type\":\"scatterternary\"}],\"surface\":[{\"colorbar\":{\"outlinewidth\":0,\"ticks\":\"\"},\"colorscale\":[[0.0,\"#0d0887\"],[0.1111111111111111,\"#46039f\"],[0.2222222222222222,\"#7201a8\"],[0.3333333333333333,\"#9c179e\"],[0.4444444444444444,\"#bd3786\"],[0.5555555555555556,\"#d8576b\"],[0.6666666666666666,\"#ed7953\"],[0.7777777777777778,\"#fb9f3a\"],[0.8888888888888888,\"#fdca26\"],[1.0,\"#f0f921\"]],\"type\":\"surface\"}],\"table\":[{\"cells\":{\"fill\":{\"color\":\"#EBF0F8\"},\"line\":{\"color\":\"white\"}},\"header\":{\"fill\":{\"color\":\"#C8D4E3\"},\"line\":{\"color\":\"white\"}},\"type\":\"table\"}]},\"layout\":{\"annotationdefaults\":{\"arrowcolor\":\"#2a3f5f\",\"arrowhead\":0,\"arrowwidth\":1},\"autotypenumbers\":\"strict\",\"coloraxis\":{\"colorbar\":{\"outlinewidth\":0,\"ticks\":\"\"}},\"colorscale\":{\"diverging\":[[0,\"#8e0152\"],[0.1,\"#c51b7d\"],[0.2,\"#de77ae\"],[0.3,\"#f1b6da\"],[0.4,\"#fde0ef\"],[0.5,\"#f7f7f7\"],[0.6,\"#e6f5d0\"],[0.7,\"#b8e186\"],[0.8,\"#7fbc41\"],[0.9,\"#4d9221\"],[1,\"#276419\"]],\"sequential\":[[0.0,\"#0d0887\"],[0.1111111111111111,\"#46039f\"],[0.2222222222222222,\"#7201a8\"],[0.3333333333333333,\"#9c179e\"],[0.4444444444444444,\"#bd3786\"],[0.5555555555555556,\"#d8576b\"],[0.6666666666666666,\"#ed7953\"],[0.7777777777777778,\"#fb9f3a\"],[0.8888888888888888,\"#fdca26\"],[1.0,\"#f0f921\"]],\"sequentialminus\":[[0.0,\"#0d0887\"],[0.1111111111111111,\"#46039f\"],[0.2222222222222222,\"#7201a8\"],[0.3333333333333333,\"#9c179e\"],[0.4444444444444444,\"#bd3786\"],[0.5555555555555556,\"#d8576b\"],[0.6666666666666666,\"#ed7953\"],[0.7777777777777778,\"#fb9f3a\"],[0.8888888888888888,\"#fdca26\"],[1.0,\"#f0f921\"]]},\"colorway\":[\"#636efa\",\"#EF553B\",\"#00cc96\",\"#ab63fa\",\"#FFA15A\",\"#19d3f3\",\"#FF6692\",\"#B6E880\",\"#FF97FF\",\"#FECB52\"],\"font\":{\"color\":\"#2a3f5f\"},\"geo\":{\"bgcolor\":\"white\",\"lakecolor\":\"white\",\"landcolor\":\"#E5ECF6\",\"showlakes\":true,\"showland\":true,\"subunitcolor\":\"white\"},\"hoverlabel\":{\"align\":\"left\"},\"hovermode\":\"closest\",\"mapbox\":{\"style\":\"light\"},\"paper_bgcolor\":\"white\",\"plot_bgcolor\":\"#E5ECF6\",\"polar\":{\"angularaxis\":{\"gridcolor\":\"white\",\"linecolor\":\"white\",\"ticks\":\"\"},\"bgcolor\":\"#E5ECF6\",\"radialaxis\":{\"gridcolor\":\"white\",\"linecolor\":\"white\",\"ticks\":\"\"}},\"scene\":{\"xaxis\":{\"backgroundcolor\":\"#E5ECF6\",\"gridcolor\":\"white\",\"gridwidth\":2,\"linecolor\":\"white\",\"showbackground\":true,\"ticks\":\"\",\"zerolinecolor\":\"white\"},\"yaxis\":{\"backgroundcolor\":\"#E5ECF6\",\"gridcolor\":\"white\",\"gridwidth\":2,\"linecolor\":\"white\",\"showbackground\":true,\"ticks\":\"\",\"zerolinecolor\":\"white\"},\"zaxis\":{\"backgroundcolor\":\"#E5ECF6\",\"gridcolor\":\"white\",\"gridwidth\":2,\"linecolor\":\"white\",\"showbackground\":true,\"ticks\":\"\",\"zerolinecolor\":\"white\"}},\"shapedefaults\":{\"line\":{\"color\":\"#2a3f5f\"}},\"ternary\":{\"aaxis\":{\"gridcolor\":\"white\",\"linecolor\":\"white\",\"ticks\":\"\"},\"baxis\":{\"gridcolor\":\"white\",\"linecolor\":\"white\",\"ticks\":\"\"},\"bgcolor\":\"#E5ECF6\",\"caxis\":{\"gridcolor\":\"white\",\"linecolor\":\"white\",\"ticks\":\"\"}},\"title\":{\"x\":0.05},\"xaxis\":{\"automargin\":true,\"gridcolor\":\"white\",\"linecolor\":\"white\",\"ticks\":\"\",\"title\":{\"standoff\":15},\"zerolinecolor\":\"white\",\"zerolinewidth\":2},\"yaxis\":{\"automargin\":true,\"gridcolor\":\"white\",\"linecolor\":\"white\",\"ticks\":\"\",\"title\":{\"standoff\":15},\"zerolinecolor\":\"white\",\"zerolinewidth\":2}}},\"xaxis\":{\"anchor\":\"y\",\"domain\":[0.0,1.0],\"title\":{\"text\":\"timestamp\"},\"rangeslider\":{\"visible\":true}},\"yaxis\":{\"anchor\":\"x\",\"domain\":[0.0,1.0],\"title\":{\"text\":\"value\"}},\"legend\":{\"title\":{\"text\":\"variable\"},\"tracegroupgap\":0},\"title\":{\"text\":\"Number of usage for municipality_id:2\"},\"height\":500,\"width\":900},                        {\"responsive\": true}                    ).then(function(){\n",
              "                            \n",
              "var gd = document.getElementById('10a58ec0-99fe-42ef-80d3-aef50c335a55');\n",
              "var x = new MutationObserver(function (mutations, observer) {{\n",
              "        var display = window.getComputedStyle(gd).display;\n",
              "        if (!display || display === 'none') {{\n",
              "            console.log([gd, 'removed!']);\n",
              "            Plotly.purge(gd);\n",
              "            observer.disconnect();\n",
              "        }}\n",
              "}});\n",
              "\n",
              "// Listen for the removal of the full notebook cells\n",
              "var notebookContainer = gd.closest('#notebook-container');\n",
              "if (notebookContainer) {{\n",
              "    x.observe(notebookContainer, {childList: true});\n",
              "}}\n",
              "\n",
              "// Listen for the clearing of the current output cell\n",
              "var outputEl = gd.closest('.output');\n",
              "if (outputEl) {{\n",
              "    x.observe(outputEl, {childList: true});\n",
              "}}\n",
              "\n",
              "                        })                };                            </script>        </div>\n",
              "</body>\n",
              "</html>"
            ]
          },
          "metadata": {}
        },
        {
          "output_type": "display_data",
          "data": {
            "text/html": [
              "<html>\n",
              "<head><meta charset=\"utf-8\" /></head>\n",
              "<body>\n",
              "    <div>            <script src=\"https://cdnjs.cloudflare.com/ajax/libs/mathjax/2.7.5/MathJax.js?config=TeX-AMS-MML_SVG\"></script><script type=\"text/javascript\">if (window.MathJax) {MathJax.Hub.Config({SVG: {font: \"STIX-Web\"}});}</script>                <script type=\"text/javascript\">window.PlotlyConfig = {MathJaxConfig: 'local'};</script>\n",
              "        <script src=\"https://cdn.plot.ly/plotly-2.8.3.min.js\"></script>                <div id=\"d00086de-9fc4-41fb-80df-c0a25a0469c7\" class=\"plotly-graph-div\" style=\"height:500px; width:900px;\"></div>            <script type=\"text/javascript\">                                    window.PLOTLYENV=window.PLOTLYENV || {};                                    if (document.getElementById(\"d00086de-9fc4-41fb-80df-c0a25a0469c7\")) {                    Plotly.newPlot(                        \"d00086de-9fc4-41fb-80df-c0a25a0469c7\",                        [{\"hovertemplate\":\"variable=test<br>timestamp=%{x}<br>value=%{y}<extra></extra>\",\"legendgroup\":\"test\",\"line\":{\"color\":\"#636efa\",\"dash\":\"solid\"},\"marker\":{\"symbol\":\"circle\"},\"mode\":\"lines\",\"name\":\"test\",\"orientation\":\"v\",\"showlegend\":true,\"x\":[\"2017-08-06T08:00:00\",\"2017-08-06T09:00:00\",\"2017-08-06T10:00:00\",\"2017-08-06T11:00:00\",\"2017-08-06T12:00:00\",\"2017-08-06T13:00:00\",\"2017-08-06T14:00:00\",\"2017-08-06T15:00:00\",\"2017-08-06T16:00:00\",\"2017-08-07T08:00:00\",\"2017-08-07T09:00:00\",\"2017-08-07T10:00:00\",\"2017-08-07T11:00:00\",\"2017-08-07T12:00:00\",\"2017-08-07T13:00:00\",\"2017-08-07T14:00:00\",\"2017-08-07T15:00:00\",\"2017-08-07T16:00:00\",\"2017-08-08T08:00:00\",\"2017-08-08T09:00:00\",\"2017-08-08T10:00:00\",\"2017-08-08T11:00:00\",\"2017-08-08T12:00:00\",\"2017-08-08T13:00:00\",\"2017-08-08T14:00:00\",\"2017-08-08T15:00:00\",\"2017-08-08T16:00:00\",\"2017-08-09T08:00:00\",\"2017-08-09T09:00:00\",\"2017-08-09T10:00:00\",\"2017-08-09T11:00:00\",\"2017-08-09T12:00:00\",\"2017-08-09T13:00:00\",\"2017-08-09T14:00:00\",\"2017-08-09T15:00:00\",\"2017-08-09T16:00:00\",\"2017-08-10T08:00:00\",\"2017-08-10T09:00:00\",\"2017-08-10T10:00:00\",\"2017-08-10T11:00:00\",\"2017-08-10T12:00:00\",\"2017-08-10T13:00:00\",\"2017-08-10T14:00:00\",\"2017-08-10T15:00:00\",\"2017-08-10T16:00:00\",\"2017-08-11T08:00:00\",\"2017-08-11T09:00:00\",\"2017-08-11T10:00:00\",\"2017-08-11T11:00:00\",\"2017-08-11T12:00:00\",\"2017-08-11T13:00:00\",\"2017-08-11T14:00:00\",\"2017-08-11T15:00:00\",\"2017-08-11T16:00:00\",\"2017-08-12T08:00:00\",\"2017-08-12T09:00:00\",\"2017-08-12T10:00:00\",\"2017-08-12T11:00:00\",\"2017-08-12T12:00:00\",\"2017-08-12T13:00:00\",\"2017-08-12T14:00:00\",\"2017-08-12T15:00:00\",\"2017-08-12T16:00:00\",\"2017-08-13T08:00:00\",\"2017-08-13T09:00:00\",\"2017-08-13T10:00:00\",\"2017-08-13T11:00:00\",\"2017-08-13T12:00:00\",\"2017-08-13T13:00:00\",\"2017-08-13T14:00:00\",\"2017-08-13T15:00:00\",\"2017-08-13T16:00:00\",\"2017-08-14T08:00:00\",\"2017-08-14T09:00:00\",\"2017-08-14T10:00:00\",\"2017-08-14T11:00:00\",\"2017-08-14T12:00:00\",\"2017-08-14T13:00:00\",\"2017-08-14T14:00:00\",\"2017-08-14T15:00:00\",\"2017-08-14T16:00:00\",\"2017-08-15T08:00:00\",\"2017-08-15T09:00:00\",\"2017-08-15T10:00:00\",\"2017-08-15T11:00:00\",\"2017-08-15T12:00:00\",\"2017-08-15T13:00:00\",\"2017-08-15T14:00:00\",\"2017-08-15T15:00:00\",\"2017-08-15T16:00:00\",\"2017-08-16T08:00:00\",\"2017-08-16T09:00:00\",\"2017-08-16T10:00:00\",\"2017-08-16T11:00:00\",\"2017-08-16T12:00:00\",\"2017-08-16T13:00:00\",\"2017-08-16T14:00:00\",\"2017-08-16T15:00:00\",\"2017-08-16T16:00:00\",\"2017-08-17T08:00:00\",\"2017-08-17T09:00:00\",\"2017-08-17T10:00:00\",\"2017-08-17T11:00:00\",\"2017-08-17T12:00:00\",\"2017-08-17T13:00:00\",\"2017-08-17T14:00:00\",\"2017-08-17T15:00:00\",\"2017-08-17T16:00:00\",\"2017-08-18T08:00:00\",\"2017-08-18T09:00:00\",\"2017-08-18T10:00:00\",\"2017-08-18T11:00:00\",\"2017-08-18T12:00:00\",\"2017-08-18T13:00:00\",\"2017-08-18T14:00:00\",\"2017-08-18T15:00:00\",\"2017-08-18T16:00:00\",\"2017-08-19T08:00:00\",\"2017-08-19T09:00:00\",\"2017-08-19T10:00:00\",\"2017-08-19T11:00:00\",\"2017-08-19T12:00:00\",\"2017-08-19T13:00:00\",\"2017-08-19T14:00:00\",\"2017-08-19T15:00:00\",\"2017-08-19T16:00:00\"],\"xaxis\":\"x\",\"y\":[784.0,1149.0,1337.0,1529.0,1554.0,1558.0,1558.0,1459.0,1285.0,801.0,1111.0,1372.0,1486.0,1566.0,1562.0,1533.0,1437.0,1294.0,786.0,1109.0,1410.0,1538.0,1567.0,1559.0,1544.0,1459.0,1277.0,776.0,1117.0,1306.0,1380.0,1430.0,1427.0,1396.0,1306.0,1159.0,360.0,482.0,652.0,818.0,979.0,1101.0,1158.0,1162.0,1133.0,314.0,356.0,442.0,627.0,895.0,1043.0,1148.0,1129.0,952.0,745.0,1108.0,1339.0,1454.0,1534.0,1557.0,1533.0,1431.0,1236.0,771.0,1124.0,1389.0,1505.0,1554.0,1564.0,1544.0,1460.0,1267.0,877.0,1149.0,1427.0,1504.0,1524.0,1512.0,1500.0,1449.0,1326.0,792.0,1093.0,1375.0,1455.0,1504.0,1518.0,1516.0,1434.0,1283.0,777.0,1061.0,1253.0,1334.0,1374.0,1346.0,1326.0,1228.0,1100.0,389.0,511.0,680.0,796.0,935.0,1035.0,1122.0,1162.0,1121.0,348.0,399.0,481.0,604.0,809.0,930.0,984.0,987.0,826.0,834.0,1109.0,1266.0,1380.0,1484.0,1519.0,1530.0,1496.0,1330.0],\"yaxis\":\"y\",\"type\":\"scatter\"},{\"hovertemplate\":\"variable=prediction<br>timestamp=%{x}<br>value=%{y}<extra></extra>\",\"legendgroup\":\"prediction\",\"line\":{\"color\":\"#EF553B\",\"dash\":\"solid\"},\"marker\":{\"symbol\":\"circle\"},\"mode\":\"lines\",\"name\":\"prediction\",\"orientation\":\"v\",\"showlegend\":true,\"x\":[\"2017-08-06T08:00:00\",\"2017-08-06T09:00:00\",\"2017-08-06T10:00:00\",\"2017-08-06T11:00:00\",\"2017-08-06T12:00:00\",\"2017-08-06T13:00:00\",\"2017-08-06T14:00:00\",\"2017-08-06T15:00:00\",\"2017-08-06T16:00:00\",\"2017-08-07T08:00:00\",\"2017-08-07T09:00:00\",\"2017-08-07T10:00:00\",\"2017-08-07T11:00:00\",\"2017-08-07T12:00:00\",\"2017-08-07T13:00:00\",\"2017-08-07T14:00:00\",\"2017-08-07T15:00:00\",\"2017-08-07T16:00:00\",\"2017-08-08T08:00:00\",\"2017-08-08T09:00:00\",\"2017-08-08T10:00:00\",\"2017-08-08T11:00:00\",\"2017-08-08T12:00:00\",\"2017-08-08T13:00:00\",\"2017-08-08T14:00:00\",\"2017-08-08T15:00:00\",\"2017-08-08T16:00:00\",\"2017-08-09T08:00:00\",\"2017-08-09T09:00:00\",\"2017-08-09T10:00:00\",\"2017-08-09T11:00:00\",\"2017-08-09T12:00:00\",\"2017-08-09T13:00:00\",\"2017-08-09T14:00:00\",\"2017-08-09T15:00:00\",\"2017-08-09T16:00:00\",\"2017-08-10T08:00:00\",\"2017-08-10T09:00:00\",\"2017-08-10T10:00:00\",\"2017-08-10T11:00:00\",\"2017-08-10T12:00:00\",\"2017-08-10T13:00:00\",\"2017-08-10T14:00:00\",\"2017-08-10T15:00:00\",\"2017-08-10T16:00:00\",\"2017-08-11T08:00:00\",\"2017-08-11T09:00:00\",\"2017-08-11T10:00:00\",\"2017-08-11T11:00:00\",\"2017-08-11T12:00:00\",\"2017-08-11T13:00:00\",\"2017-08-11T14:00:00\",\"2017-08-11T15:00:00\",\"2017-08-11T16:00:00\",\"2017-08-12T08:00:00\",\"2017-08-12T09:00:00\",\"2017-08-12T10:00:00\",\"2017-08-12T11:00:00\",\"2017-08-12T12:00:00\",\"2017-08-12T13:00:00\",\"2017-08-12T14:00:00\",\"2017-08-12T15:00:00\",\"2017-08-12T16:00:00\",\"2017-08-13T08:00:00\",\"2017-08-13T09:00:00\",\"2017-08-13T10:00:00\",\"2017-08-13T11:00:00\",\"2017-08-13T12:00:00\",\"2017-08-13T13:00:00\",\"2017-08-13T14:00:00\",\"2017-08-13T15:00:00\",\"2017-08-13T16:00:00\",\"2017-08-14T08:00:00\",\"2017-08-14T09:00:00\",\"2017-08-14T10:00:00\",\"2017-08-14T11:00:00\",\"2017-08-14T12:00:00\",\"2017-08-14T13:00:00\",\"2017-08-14T14:00:00\",\"2017-08-14T15:00:00\",\"2017-08-14T16:00:00\",\"2017-08-15T08:00:00\",\"2017-08-15T09:00:00\",\"2017-08-15T10:00:00\",\"2017-08-15T11:00:00\",\"2017-08-15T12:00:00\",\"2017-08-15T13:00:00\",\"2017-08-15T14:00:00\",\"2017-08-15T15:00:00\",\"2017-08-15T16:00:00\",\"2017-08-16T08:00:00\",\"2017-08-16T09:00:00\",\"2017-08-16T10:00:00\",\"2017-08-16T11:00:00\",\"2017-08-16T12:00:00\",\"2017-08-16T13:00:00\",\"2017-08-16T14:00:00\",\"2017-08-16T15:00:00\",\"2017-08-16T16:00:00\",\"2017-08-17T08:00:00\",\"2017-08-17T09:00:00\",\"2017-08-17T10:00:00\",\"2017-08-17T11:00:00\",\"2017-08-17T12:00:00\",\"2017-08-17T13:00:00\",\"2017-08-17T14:00:00\",\"2017-08-17T15:00:00\",\"2017-08-17T16:00:00\",\"2017-08-18T08:00:00\",\"2017-08-18T09:00:00\",\"2017-08-18T10:00:00\",\"2017-08-18T11:00:00\",\"2017-08-18T12:00:00\",\"2017-08-18T13:00:00\",\"2017-08-18T14:00:00\",\"2017-08-18T15:00:00\",\"2017-08-18T16:00:00\",\"2017-08-19T08:00:00\",\"2017-08-19T09:00:00\",\"2017-08-19T10:00:00\",\"2017-08-19T11:00:00\",\"2017-08-19T12:00:00\",\"2017-08-19T13:00:00\",\"2017-08-19T14:00:00\",\"2017-08-19T15:00:00\",\"2017-08-19T16:00:00\"],\"xaxis\":\"x\",\"y\":[735.6088256835938,1187.8919677734375,1451.93408203125,1528.765380859375,1540.5672607421875,1545.08642578125,1508.7801513671875,1430.9034423828125,1312.5474853515625,773.918701171875,1155.2943115234375,1394.2652587890625,1458.60009765625,1533.7860107421875,1546.86669921875,1523.9239501953125,1443.6461181640625,1295.1036376953125,821.0712890625,1154.6522216796875,1411.22705078125,1474.427490234375,1525.8070068359375,1551.371337890625,1530.2420654296875,1419.7198486328125,1180.5301513671875,761.04638671875,1115.9046630859375,1358.15966796875,1420.20654296875,1464.3077392578125,1456.85107421875,1429.7174072265625,1375.93212890625,1218.6309814453125,782.9974975585938,1107.7081298828125,624.3322143554688,754.1393432617188,959.760986328125,1106.2176513671875,1161.887939453125,1093.7025146484375,957.4260864257812,817.6054077148438,1060.2840576171875,996.3590698242188,964.87646484375,913.3826293945312,923.6682739257812,1097.4029541015625,1072.9306640625,776.1922607421875,726.9798583984375,1004.4219360351562,1134.9091796875,1091.4920654296875,953.4249877929688,882.7730102539062,874.8629760742188,832.3754272460938,689.2620849609375,814.269287109375,1076.103271484375,1262.3026123046875,1381.2557373046875,1436.917236328125,1462.93701171875,1442.78857421875,1366.6966552734375,1203.06689453125,827.622802734375,1062.96337890625,1233.09130859375,1320.1953125,1550.544921875,1555.6678466796875,1531.666015625,1461.524658203125,1314.808349609375,812.443115234375,1139.9490966796875,1399.7847900390625,1495.7982177734375,1542.595703125,1550.1678466796875,1537.4158935546875,1428.318115234375,1311.190185546875,883.7733154296875,1078.7059326171875,1229.758544921875,1315.078125,1367.7088623046875,1364.445556640625,1338.3450927734375,1251.921142578125,1015.3767700195312,806.6693725585938,1048.375732421875,672.1491088867188,847.8359375,1016.7625732421875,1140.8779296875,1166.5823974609375,1112.18701171875,1023.305419921875,924.531494140625,845.3060302734375,925.9347534179688,1015.8248901367188,1056.8936767578125,989.8135986328125,1037.1910400390625,1014.152099609375,931.2389526367188,828.0784301757812,830.1458740234375,871.9779052734375,899.34716796875,953.7359008789062,965.9296875,948.8045654296875,939.1621704101562,908.4859619140625],\"yaxis\":\"y\",\"type\":\"scatter\"}],                        {\"template\":{\"data\":{\"bar\":[{\"error_x\":{\"color\":\"#2a3f5f\"},\"error_y\":{\"color\":\"#2a3f5f\"},\"marker\":{\"line\":{\"color\":\"#E5ECF6\",\"width\":0.5},\"pattern\":{\"fillmode\":\"overlay\",\"size\":10,\"solidity\":0.2}},\"type\":\"bar\"}],\"barpolar\":[{\"marker\":{\"line\":{\"color\":\"#E5ECF6\",\"width\":0.5},\"pattern\":{\"fillmode\":\"overlay\",\"size\":10,\"solidity\":0.2}},\"type\":\"barpolar\"}],\"carpet\":[{\"aaxis\":{\"endlinecolor\":\"#2a3f5f\",\"gridcolor\":\"white\",\"linecolor\":\"white\",\"minorgridcolor\":\"white\",\"startlinecolor\":\"#2a3f5f\"},\"baxis\":{\"endlinecolor\":\"#2a3f5f\",\"gridcolor\":\"white\",\"linecolor\":\"white\",\"minorgridcolor\":\"white\",\"startlinecolor\":\"#2a3f5f\"},\"type\":\"carpet\"}],\"choropleth\":[{\"colorbar\":{\"outlinewidth\":0,\"ticks\":\"\"},\"type\":\"choropleth\"}],\"contour\":[{\"colorbar\":{\"outlinewidth\":0,\"ticks\":\"\"},\"colorscale\":[[0.0,\"#0d0887\"],[0.1111111111111111,\"#46039f\"],[0.2222222222222222,\"#7201a8\"],[0.3333333333333333,\"#9c179e\"],[0.4444444444444444,\"#bd3786\"],[0.5555555555555556,\"#d8576b\"],[0.6666666666666666,\"#ed7953\"],[0.7777777777777778,\"#fb9f3a\"],[0.8888888888888888,\"#fdca26\"],[1.0,\"#f0f921\"]],\"type\":\"contour\"}],\"contourcarpet\":[{\"colorbar\":{\"outlinewidth\":0,\"ticks\":\"\"},\"type\":\"contourcarpet\"}],\"heatmap\":[{\"colorbar\":{\"outlinewidth\":0,\"ticks\":\"\"},\"colorscale\":[[0.0,\"#0d0887\"],[0.1111111111111111,\"#46039f\"],[0.2222222222222222,\"#7201a8\"],[0.3333333333333333,\"#9c179e\"],[0.4444444444444444,\"#bd3786\"],[0.5555555555555556,\"#d8576b\"],[0.6666666666666666,\"#ed7953\"],[0.7777777777777778,\"#fb9f3a\"],[0.8888888888888888,\"#fdca26\"],[1.0,\"#f0f921\"]],\"type\":\"heatmap\"}],\"heatmapgl\":[{\"colorbar\":{\"outlinewidth\":0,\"ticks\":\"\"},\"colorscale\":[[0.0,\"#0d0887\"],[0.1111111111111111,\"#46039f\"],[0.2222222222222222,\"#7201a8\"],[0.3333333333333333,\"#9c179e\"],[0.4444444444444444,\"#bd3786\"],[0.5555555555555556,\"#d8576b\"],[0.6666666666666666,\"#ed7953\"],[0.7777777777777778,\"#fb9f3a\"],[0.8888888888888888,\"#fdca26\"],[1.0,\"#f0f921\"]],\"type\":\"heatmapgl\"}],\"histogram\":[{\"marker\":{\"pattern\":{\"fillmode\":\"overlay\",\"size\":10,\"solidity\":0.2}},\"type\":\"histogram\"}],\"histogram2d\":[{\"colorbar\":{\"outlinewidth\":0,\"ticks\":\"\"},\"colorscale\":[[0.0,\"#0d0887\"],[0.1111111111111111,\"#46039f\"],[0.2222222222222222,\"#7201a8\"],[0.3333333333333333,\"#9c179e\"],[0.4444444444444444,\"#bd3786\"],[0.5555555555555556,\"#d8576b\"],[0.6666666666666666,\"#ed7953\"],[0.7777777777777778,\"#fb9f3a\"],[0.8888888888888888,\"#fdca26\"],[1.0,\"#f0f921\"]],\"type\":\"histogram2d\"}],\"histogram2dcontour\":[{\"colorbar\":{\"outlinewidth\":0,\"ticks\":\"\"},\"colorscale\":[[0.0,\"#0d0887\"],[0.1111111111111111,\"#46039f\"],[0.2222222222222222,\"#7201a8\"],[0.3333333333333333,\"#9c179e\"],[0.4444444444444444,\"#bd3786\"],[0.5555555555555556,\"#d8576b\"],[0.6666666666666666,\"#ed7953\"],[0.7777777777777778,\"#fb9f3a\"],[0.8888888888888888,\"#fdca26\"],[1.0,\"#f0f921\"]],\"type\":\"histogram2dcontour\"}],\"mesh3d\":[{\"colorbar\":{\"outlinewidth\":0,\"ticks\":\"\"},\"type\":\"mesh3d\"}],\"parcoords\":[{\"line\":{\"colorbar\":{\"outlinewidth\":0,\"ticks\":\"\"}},\"type\":\"parcoords\"}],\"pie\":[{\"automargin\":true,\"type\":\"pie\"}],\"scatter\":[{\"marker\":{\"colorbar\":{\"outlinewidth\":0,\"ticks\":\"\"}},\"type\":\"scatter\"}],\"scatter3d\":[{\"line\":{\"colorbar\":{\"outlinewidth\":0,\"ticks\":\"\"}},\"marker\":{\"colorbar\":{\"outlinewidth\":0,\"ticks\":\"\"}},\"type\":\"scatter3d\"}],\"scattercarpet\":[{\"marker\":{\"colorbar\":{\"outlinewidth\":0,\"ticks\":\"\"}},\"type\":\"scattercarpet\"}],\"scattergeo\":[{\"marker\":{\"colorbar\":{\"outlinewidth\":0,\"ticks\":\"\"}},\"type\":\"scattergeo\"}],\"scattergl\":[{\"marker\":{\"colorbar\":{\"outlinewidth\":0,\"ticks\":\"\"}},\"type\":\"scattergl\"}],\"scattermapbox\":[{\"marker\":{\"colorbar\":{\"outlinewidth\":0,\"ticks\":\"\"}},\"type\":\"scattermapbox\"}],\"scatterpolar\":[{\"marker\":{\"colorbar\":{\"outlinewidth\":0,\"ticks\":\"\"}},\"type\":\"scatterpolar\"}],\"scatterpolargl\":[{\"marker\":{\"colorbar\":{\"outlinewidth\":0,\"ticks\":\"\"}},\"type\":\"scatterpolargl\"}],\"scatterternary\":[{\"marker\":{\"colorbar\":{\"outlinewidth\":0,\"ticks\":\"\"}},\"type\":\"scatterternary\"}],\"surface\":[{\"colorbar\":{\"outlinewidth\":0,\"ticks\":\"\"},\"colorscale\":[[0.0,\"#0d0887\"],[0.1111111111111111,\"#46039f\"],[0.2222222222222222,\"#7201a8\"],[0.3333333333333333,\"#9c179e\"],[0.4444444444444444,\"#bd3786\"],[0.5555555555555556,\"#d8576b\"],[0.6666666666666666,\"#ed7953\"],[0.7777777777777778,\"#fb9f3a\"],[0.8888888888888888,\"#fdca26\"],[1.0,\"#f0f921\"]],\"type\":\"surface\"}],\"table\":[{\"cells\":{\"fill\":{\"color\":\"#EBF0F8\"},\"line\":{\"color\":\"white\"}},\"header\":{\"fill\":{\"color\":\"#C8D4E3\"},\"line\":{\"color\":\"white\"}},\"type\":\"table\"}]},\"layout\":{\"annotationdefaults\":{\"arrowcolor\":\"#2a3f5f\",\"arrowhead\":0,\"arrowwidth\":1},\"autotypenumbers\":\"strict\",\"coloraxis\":{\"colorbar\":{\"outlinewidth\":0,\"ticks\":\"\"}},\"colorscale\":{\"diverging\":[[0,\"#8e0152\"],[0.1,\"#c51b7d\"],[0.2,\"#de77ae\"],[0.3,\"#f1b6da\"],[0.4,\"#fde0ef\"],[0.5,\"#f7f7f7\"],[0.6,\"#e6f5d0\"],[0.7,\"#b8e186\"],[0.8,\"#7fbc41\"],[0.9,\"#4d9221\"],[1,\"#276419\"]],\"sequential\":[[0.0,\"#0d0887\"],[0.1111111111111111,\"#46039f\"],[0.2222222222222222,\"#7201a8\"],[0.3333333333333333,\"#9c179e\"],[0.4444444444444444,\"#bd3786\"],[0.5555555555555556,\"#d8576b\"],[0.6666666666666666,\"#ed7953\"],[0.7777777777777778,\"#fb9f3a\"],[0.8888888888888888,\"#fdca26\"],[1.0,\"#f0f921\"]],\"sequentialminus\":[[0.0,\"#0d0887\"],[0.1111111111111111,\"#46039f\"],[0.2222222222222222,\"#7201a8\"],[0.3333333333333333,\"#9c179e\"],[0.4444444444444444,\"#bd3786\"],[0.5555555555555556,\"#d8576b\"],[0.6666666666666666,\"#ed7953\"],[0.7777777777777778,\"#fb9f3a\"],[0.8888888888888888,\"#fdca26\"],[1.0,\"#f0f921\"]]},\"colorway\":[\"#636efa\",\"#EF553B\",\"#00cc96\",\"#ab63fa\",\"#FFA15A\",\"#19d3f3\",\"#FF6692\",\"#B6E880\",\"#FF97FF\",\"#FECB52\"],\"font\":{\"color\":\"#2a3f5f\"},\"geo\":{\"bgcolor\":\"white\",\"lakecolor\":\"white\",\"landcolor\":\"#E5ECF6\",\"showlakes\":true,\"showland\":true,\"subunitcolor\":\"white\"},\"hoverlabel\":{\"align\":\"left\"},\"hovermode\":\"closest\",\"mapbox\":{\"style\":\"light\"},\"paper_bgcolor\":\"white\",\"plot_bgcolor\":\"#E5ECF6\",\"polar\":{\"angularaxis\":{\"gridcolor\":\"white\",\"linecolor\":\"white\",\"ticks\":\"\"},\"bgcolor\":\"#E5ECF6\",\"radialaxis\":{\"gridcolor\":\"white\",\"linecolor\":\"white\",\"ticks\":\"\"}},\"scene\":{\"xaxis\":{\"backgroundcolor\":\"#E5ECF6\",\"gridcolor\":\"white\",\"gridwidth\":2,\"linecolor\":\"white\",\"showbackground\":true,\"ticks\":\"\",\"zerolinecolor\":\"white\"},\"yaxis\":{\"backgroundcolor\":\"#E5ECF6\",\"gridcolor\":\"white\",\"gridwidth\":2,\"linecolor\":\"white\",\"showbackground\":true,\"ticks\":\"\",\"zerolinecolor\":\"white\"},\"zaxis\":{\"backgroundcolor\":\"#E5ECF6\",\"gridcolor\":\"white\",\"gridwidth\":2,\"linecolor\":\"white\",\"showbackground\":true,\"ticks\":\"\",\"zerolinecolor\":\"white\"}},\"shapedefaults\":{\"line\":{\"color\":\"#2a3f5f\"}},\"ternary\":{\"aaxis\":{\"gridcolor\":\"white\",\"linecolor\":\"white\",\"ticks\":\"\"},\"baxis\":{\"gridcolor\":\"white\",\"linecolor\":\"white\",\"ticks\":\"\"},\"bgcolor\":\"#E5ECF6\",\"caxis\":{\"gridcolor\":\"white\",\"linecolor\":\"white\",\"ticks\":\"\"}},\"title\":{\"x\":0.05},\"xaxis\":{\"automargin\":true,\"gridcolor\":\"white\",\"linecolor\":\"white\",\"ticks\":\"\",\"title\":{\"standoff\":15},\"zerolinecolor\":\"white\",\"zerolinewidth\":2},\"yaxis\":{\"automargin\":true,\"gridcolor\":\"white\",\"linecolor\":\"white\",\"ticks\":\"\",\"title\":{\"standoff\":15},\"zerolinecolor\":\"white\",\"zerolinewidth\":2}}},\"xaxis\":{\"anchor\":\"y\",\"domain\":[0.0,1.0],\"title\":{\"text\":\"timestamp\"},\"rangeslider\":{\"visible\":true}},\"yaxis\":{\"anchor\":\"x\",\"domain\":[0.0,1.0],\"title\":{\"text\":\"value\"}},\"legend\":{\"title\":{\"text\":\"variable\"},\"tracegroupgap\":0},\"title\":{\"text\":\"Number of usage for municipality_id:3\"},\"height\":500,\"width\":900},                        {\"responsive\": true}                    ).then(function(){\n",
              "                            \n",
              "var gd = document.getElementById('d00086de-9fc4-41fb-80df-c0a25a0469c7');\n",
              "var x = new MutationObserver(function (mutations, observer) {{\n",
              "        var display = window.getComputedStyle(gd).display;\n",
              "        if (!display || display === 'none') {{\n",
              "            console.log([gd, 'removed!']);\n",
              "            Plotly.purge(gd);\n",
              "            observer.disconnect();\n",
              "        }}\n",
              "}});\n",
              "\n",
              "// Listen for the removal of the full notebook cells\n",
              "var notebookContainer = gd.closest('#notebook-container');\n",
              "if (notebookContainer) {{\n",
              "    x.observe(notebookContainer, {childList: true});\n",
              "}}\n",
              "\n",
              "// Listen for the clearing of the current output cell\n",
              "var outputEl = gd.closest('.output');\n",
              "if (outputEl) {{\n",
              "    x.observe(outputEl, {childList: true});\n",
              "}}\n",
              "\n",
              "                        })                };                            </script>        </div>\n",
              "</body>\n",
              "</html>"
            ]
          },
          "metadata": {}
        },
        {
          "output_type": "display_data",
          "data": {
            "text/html": [
              "<html>\n",
              "<head><meta charset=\"utf-8\" /></head>\n",
              "<body>\n",
              "    <div>            <script src=\"https://cdnjs.cloudflare.com/ajax/libs/mathjax/2.7.5/MathJax.js?config=TeX-AMS-MML_SVG\"></script><script type=\"text/javascript\">if (window.MathJax) {MathJax.Hub.Config({SVG: {font: \"STIX-Web\"}});}</script>                <script type=\"text/javascript\">window.PlotlyConfig = {MathJaxConfig: 'local'};</script>\n",
              "        <script src=\"https://cdn.plot.ly/plotly-2.8.3.min.js\"></script>                <div id=\"f43dc24c-6c99-47ce-b825-9ced51db8625\" class=\"plotly-graph-div\" style=\"height:500px; width:900px;\"></div>            <script type=\"text/javascript\">                                    window.PLOTLYENV=window.PLOTLYENV || {};                                    if (document.getElementById(\"f43dc24c-6c99-47ce-b825-9ced51db8625\")) {                    Plotly.newPlot(                        \"f43dc24c-6c99-47ce-b825-9ced51db8625\",                        [{\"hovertemplate\":\"variable=test<br>timestamp=%{x}<br>value=%{y}<extra></extra>\",\"legendgroup\":\"test\",\"line\":{\"color\":\"#636efa\",\"dash\":\"solid\"},\"marker\":{\"symbol\":\"circle\"},\"mode\":\"lines\",\"name\":\"test\",\"orientation\":\"v\",\"showlegend\":true,\"x\":[\"2017-08-06T08:00:00\",\"2017-08-06T09:00:00\",\"2017-08-06T10:00:00\",\"2017-08-06T11:00:00\",\"2017-08-06T12:00:00\",\"2017-08-06T13:00:00\",\"2017-08-06T14:00:00\",\"2017-08-06T15:00:00\",\"2017-08-06T16:00:00\",\"2017-08-07T08:00:00\",\"2017-08-07T09:00:00\",\"2017-08-07T10:00:00\",\"2017-08-07T11:00:00\",\"2017-08-07T12:00:00\",\"2017-08-07T13:00:00\",\"2017-08-07T14:00:00\",\"2017-08-07T15:00:00\",\"2017-08-07T16:00:00\",\"2017-08-08T08:00:00\",\"2017-08-08T09:00:00\",\"2017-08-08T10:00:00\",\"2017-08-08T11:00:00\",\"2017-08-08T12:00:00\",\"2017-08-08T13:00:00\",\"2017-08-08T14:00:00\",\"2017-08-08T15:00:00\",\"2017-08-08T16:00:00\",\"2017-08-09T08:00:00\",\"2017-08-09T09:00:00\",\"2017-08-09T10:00:00\",\"2017-08-09T11:00:00\",\"2017-08-09T12:00:00\",\"2017-08-09T13:00:00\",\"2017-08-09T14:00:00\",\"2017-08-09T15:00:00\",\"2017-08-09T16:00:00\",\"2017-08-10T08:00:00\",\"2017-08-10T09:00:00\",\"2017-08-10T10:00:00\",\"2017-08-10T11:00:00\",\"2017-08-10T12:00:00\",\"2017-08-10T13:00:00\",\"2017-08-10T14:00:00\",\"2017-08-10T15:00:00\",\"2017-08-10T16:00:00\",\"2017-08-11T08:00:00\",\"2017-08-11T09:00:00\",\"2017-08-11T10:00:00\",\"2017-08-11T11:00:00\",\"2017-08-11T12:00:00\",\"2017-08-11T13:00:00\",\"2017-08-11T14:00:00\",\"2017-08-11T15:00:00\",\"2017-08-11T16:00:00\",\"2017-08-12T08:00:00\",\"2017-08-12T09:00:00\",\"2017-08-12T10:00:00\",\"2017-08-12T11:00:00\",\"2017-08-12T12:00:00\",\"2017-08-12T13:00:00\",\"2017-08-12T14:00:00\",\"2017-08-12T15:00:00\",\"2017-08-12T16:00:00\",\"2017-08-13T08:00:00\",\"2017-08-13T09:00:00\",\"2017-08-13T10:00:00\",\"2017-08-13T11:00:00\",\"2017-08-13T12:00:00\",\"2017-08-13T13:00:00\",\"2017-08-13T14:00:00\",\"2017-08-13T15:00:00\",\"2017-08-13T16:00:00\",\"2017-08-14T08:00:00\",\"2017-08-14T09:00:00\",\"2017-08-14T10:00:00\",\"2017-08-14T11:00:00\",\"2017-08-14T12:00:00\",\"2017-08-14T13:00:00\",\"2017-08-14T14:00:00\",\"2017-08-14T15:00:00\",\"2017-08-14T16:00:00\",\"2017-08-15T08:00:00\",\"2017-08-15T09:00:00\",\"2017-08-15T10:00:00\",\"2017-08-15T11:00:00\",\"2017-08-15T12:00:00\",\"2017-08-15T13:00:00\",\"2017-08-15T14:00:00\",\"2017-08-15T15:00:00\",\"2017-08-15T16:00:00\",\"2017-08-16T08:00:00\",\"2017-08-16T09:00:00\",\"2017-08-16T10:00:00\",\"2017-08-16T11:00:00\",\"2017-08-16T12:00:00\",\"2017-08-16T13:00:00\",\"2017-08-16T14:00:00\",\"2017-08-16T15:00:00\",\"2017-08-16T16:00:00\",\"2017-08-17T08:00:00\",\"2017-08-17T09:00:00\",\"2017-08-17T10:00:00\",\"2017-08-17T11:00:00\",\"2017-08-17T12:00:00\",\"2017-08-17T13:00:00\",\"2017-08-17T14:00:00\",\"2017-08-17T15:00:00\",\"2017-08-17T16:00:00\",\"2017-08-18T08:00:00\",\"2017-08-18T09:00:00\",\"2017-08-18T10:00:00\",\"2017-08-18T11:00:00\",\"2017-08-18T12:00:00\",\"2017-08-18T13:00:00\",\"2017-08-18T14:00:00\",\"2017-08-18T15:00:00\",\"2017-08-18T16:00:00\",\"2017-08-19T08:00:00\",\"2017-08-19T09:00:00\",\"2017-08-19T10:00:00\",\"2017-08-19T11:00:00\",\"2017-08-19T12:00:00\",\"2017-08-19T13:00:00\",\"2017-08-19T14:00:00\",\"2017-08-19T15:00:00\",\"2017-08-19T16:00:00\"],\"xaxis\":\"x\",\"y\":[2140.0,2818.0,3154.0,3408.0,3442.0,3439.0,3413.0,3220.0,2839.0,1701.0,2505.0,3092.0,3339.0,3437.0,3420.0,3381.0,3193.0,2892.0,1673.0,2539.0,3218.0,3420.0,3465.0,3457.0,3428.0,3258.0,2891.0,1759.0,2529.0,2907.0,3017.0,3087.0,3079.0,2982.0,2821.0,2451.0,841.0,1035.0,1334.0,1586.0,1812.0,2017.0,2077.0,2083.0,1987.0,782.0,824.0,1001.0,1366.0,1771.0,2004.0,2119.0,2070.0,1813.0,1682.0,2562.0,3063.0,3265.0,3340.0,3367.0,3326.0,3156.0,2769.0,1708.0,2603.0,3203.0,3452.0,3508.0,3499.0,3452.0,3294.0,2902.0,2000.0,2645.0,3242.0,3368.0,3390.0,3387.0,3341.0,3184.0,2890.0,1854.0,2643.0,3177.0,3329.0,3375.0,3401.0,3377.0,3222.0,2893.0,1797.0,2482.0,2854.0,2964.0,3008.0,2978.0,2918.0,2740.0,2411.0,952.0,1166.0,1461.0,1647.0,1809.0,1956.0,2119.0,2181.0,2010.0,850.0,924.0,1076.0,1348.0,1639.0,1819.0,1893.0,1874.0,1518.0,1724.0,2424.0,2785.0,2986.0,3157.0,3194.0,3183.0,3111.0,2779.0],\"yaxis\":\"y\",\"type\":\"scatter\"},{\"hovertemplate\":\"variable=prediction<br>timestamp=%{x}<br>value=%{y}<extra></extra>\",\"legendgroup\":\"prediction\",\"line\":{\"color\":\"#EF553B\",\"dash\":\"solid\"},\"marker\":{\"symbol\":\"circle\"},\"mode\":\"lines\",\"name\":\"prediction\",\"orientation\":\"v\",\"showlegend\":true,\"x\":[\"2017-08-06T08:00:00\",\"2017-08-06T09:00:00\",\"2017-08-06T10:00:00\",\"2017-08-06T11:00:00\",\"2017-08-06T12:00:00\",\"2017-08-06T13:00:00\",\"2017-08-06T14:00:00\",\"2017-08-06T15:00:00\",\"2017-08-06T16:00:00\",\"2017-08-07T08:00:00\",\"2017-08-07T09:00:00\",\"2017-08-07T10:00:00\",\"2017-08-07T11:00:00\",\"2017-08-07T12:00:00\",\"2017-08-07T13:00:00\",\"2017-08-07T14:00:00\",\"2017-08-07T15:00:00\",\"2017-08-07T16:00:00\",\"2017-08-08T08:00:00\",\"2017-08-08T09:00:00\",\"2017-08-08T10:00:00\",\"2017-08-08T11:00:00\",\"2017-08-08T12:00:00\",\"2017-08-08T13:00:00\",\"2017-08-08T14:00:00\",\"2017-08-08T15:00:00\",\"2017-08-08T16:00:00\",\"2017-08-09T08:00:00\",\"2017-08-09T09:00:00\",\"2017-08-09T10:00:00\",\"2017-08-09T11:00:00\",\"2017-08-09T12:00:00\",\"2017-08-09T13:00:00\",\"2017-08-09T14:00:00\",\"2017-08-09T15:00:00\",\"2017-08-09T16:00:00\",\"2017-08-10T08:00:00\",\"2017-08-10T09:00:00\",\"2017-08-10T10:00:00\",\"2017-08-10T11:00:00\",\"2017-08-10T12:00:00\",\"2017-08-10T13:00:00\",\"2017-08-10T14:00:00\",\"2017-08-10T15:00:00\",\"2017-08-10T16:00:00\",\"2017-08-11T08:00:00\",\"2017-08-11T09:00:00\",\"2017-08-11T10:00:00\",\"2017-08-11T11:00:00\",\"2017-08-11T12:00:00\",\"2017-08-11T13:00:00\",\"2017-08-11T14:00:00\",\"2017-08-11T15:00:00\",\"2017-08-11T16:00:00\",\"2017-08-12T08:00:00\",\"2017-08-12T09:00:00\",\"2017-08-12T10:00:00\",\"2017-08-12T11:00:00\",\"2017-08-12T12:00:00\",\"2017-08-12T13:00:00\",\"2017-08-12T14:00:00\",\"2017-08-12T15:00:00\",\"2017-08-12T16:00:00\",\"2017-08-13T08:00:00\",\"2017-08-13T09:00:00\",\"2017-08-13T10:00:00\",\"2017-08-13T11:00:00\",\"2017-08-13T12:00:00\",\"2017-08-13T13:00:00\",\"2017-08-13T14:00:00\",\"2017-08-13T15:00:00\",\"2017-08-13T16:00:00\",\"2017-08-14T08:00:00\",\"2017-08-14T09:00:00\",\"2017-08-14T10:00:00\",\"2017-08-14T11:00:00\",\"2017-08-14T12:00:00\",\"2017-08-14T13:00:00\",\"2017-08-14T14:00:00\",\"2017-08-14T15:00:00\",\"2017-08-14T16:00:00\",\"2017-08-15T08:00:00\",\"2017-08-15T09:00:00\",\"2017-08-15T10:00:00\",\"2017-08-15T11:00:00\",\"2017-08-15T12:00:00\",\"2017-08-15T13:00:00\",\"2017-08-15T14:00:00\",\"2017-08-15T15:00:00\",\"2017-08-15T16:00:00\",\"2017-08-16T08:00:00\",\"2017-08-16T09:00:00\",\"2017-08-16T10:00:00\",\"2017-08-16T11:00:00\",\"2017-08-16T12:00:00\",\"2017-08-16T13:00:00\",\"2017-08-16T14:00:00\",\"2017-08-16T15:00:00\",\"2017-08-16T16:00:00\",\"2017-08-17T08:00:00\",\"2017-08-17T09:00:00\",\"2017-08-17T10:00:00\",\"2017-08-17T11:00:00\",\"2017-08-17T12:00:00\",\"2017-08-17T13:00:00\",\"2017-08-17T14:00:00\",\"2017-08-17T15:00:00\",\"2017-08-17T16:00:00\",\"2017-08-18T08:00:00\",\"2017-08-18T09:00:00\",\"2017-08-18T10:00:00\",\"2017-08-18T11:00:00\",\"2017-08-18T12:00:00\",\"2017-08-18T13:00:00\",\"2017-08-18T14:00:00\",\"2017-08-18T15:00:00\",\"2017-08-18T16:00:00\",\"2017-08-19T08:00:00\",\"2017-08-19T09:00:00\",\"2017-08-19T10:00:00\",\"2017-08-19T11:00:00\",\"2017-08-19T12:00:00\",\"2017-08-19T13:00:00\",\"2017-08-19T14:00:00\",\"2017-08-19T15:00:00\",\"2017-08-19T16:00:00\"],\"xaxis\":\"x\",\"y\":[1586.7076416015625,2459.57666015625,3161.903564453125,3384.139404296875,3411.032958984375,3409.828125,3369.156494140625,3161.828857421875,2901.001220703125,1710.006591796875,2521.93505859375,3029.79833984375,3231.75732421875,3414.672607421875,3412.77734375,3409.284912109375,3186.050537109375,2881.4072265625,1752.831787109375,2616.882080078125,3183.3759765625,3332.49853515625,3408.26220703125,3416.834716796875,3402.763916015625,3145.674072265625,2588.993408203125,1691.9068603515625,2537.217529296875,3115.983642578125,3197.923828125,3293.2412109375,3284.339111328125,3198.650146484375,3049.8203125,2645.409423828125,1760.1005859375,2545.949951171875,1314.2264404296875,1431.28759765625,1562.5279541015625,1718.4105224609375,2094.000732421875,2104.45263671875,1698.9205322265625,1734.77001953125,2289.28564453125,2123.580322265625,1871.8729248046875,1652.5693359375,1896.542236328125,1979.7576904296875,2029.94482421875,1059.1826171875,976.9462890625,1223.703125,1706.7357177734375,2539.695556640625,1775.082763671875,1596.9134521484375,1598.357421875,1579.2333984375,1220.231201171875,1729.5758056640625,2065.2705078125,2680.815673828125,3007.301025390625,3192.84326171875,3243.305419921875,3207.56494140625,3050.438232421875,2646.24560546875,1700.729736328125,2089.89306640625,2647.1630859375,2910.36767578125,3407.427978515625,3431.11474609375,3387.141845703125,3246.07666015625,2905.21337890625,1696.4210205078125,2592.690673828125,3169.64599609375,3330.098876953125,3392.248291015625,3396.919189453125,3345.71240234375,3178.99560546875,2828.286376953125,1772.5491943359375,2435.9423828125,2797.46728515625,2860.932373046875,3024.8505859375,3008.227783203125,2929.324951171875,2695.227783203125,1848.0047607421875,1785.43994140625,2167.36474609375,1434.2117919921875,1656.1474609375,1965.552490234375,2305.9365234375,2294.100830078125,2210.10546875,1915.0452880859375,1726.785400390625,1706.5592041015625,1689.9549560546875,1931.6708984375,2076.5263671875,1675.743896484375,1901.7088623046875,1876.4306640625,1395.22900390625,1471.0377197265625,1583.28466796875,1640.750732421875,1737.4990234375,1898.2470703125,1793.362060546875,1811.1348876953125,1812.009521484375,1684.5220947265625],\"yaxis\":\"y\",\"type\":\"scatter\"}],                        {\"template\":{\"data\":{\"bar\":[{\"error_x\":{\"color\":\"#2a3f5f\"},\"error_y\":{\"color\":\"#2a3f5f\"},\"marker\":{\"line\":{\"color\":\"#E5ECF6\",\"width\":0.5},\"pattern\":{\"fillmode\":\"overlay\",\"size\":10,\"solidity\":0.2}},\"type\":\"bar\"}],\"barpolar\":[{\"marker\":{\"line\":{\"color\":\"#E5ECF6\",\"width\":0.5},\"pattern\":{\"fillmode\":\"overlay\",\"size\":10,\"solidity\":0.2}},\"type\":\"barpolar\"}],\"carpet\":[{\"aaxis\":{\"endlinecolor\":\"#2a3f5f\",\"gridcolor\":\"white\",\"linecolor\":\"white\",\"minorgridcolor\":\"white\",\"startlinecolor\":\"#2a3f5f\"},\"baxis\":{\"endlinecolor\":\"#2a3f5f\",\"gridcolor\":\"white\",\"linecolor\":\"white\",\"minorgridcolor\":\"white\",\"startlinecolor\":\"#2a3f5f\"},\"type\":\"carpet\"}],\"choropleth\":[{\"colorbar\":{\"outlinewidth\":0,\"ticks\":\"\"},\"type\":\"choropleth\"}],\"contour\":[{\"colorbar\":{\"outlinewidth\":0,\"ticks\":\"\"},\"colorscale\":[[0.0,\"#0d0887\"],[0.1111111111111111,\"#46039f\"],[0.2222222222222222,\"#7201a8\"],[0.3333333333333333,\"#9c179e\"],[0.4444444444444444,\"#bd3786\"],[0.5555555555555556,\"#d8576b\"],[0.6666666666666666,\"#ed7953\"],[0.7777777777777778,\"#fb9f3a\"],[0.8888888888888888,\"#fdca26\"],[1.0,\"#f0f921\"]],\"type\":\"contour\"}],\"contourcarpet\":[{\"colorbar\":{\"outlinewidth\":0,\"ticks\":\"\"},\"type\":\"contourcarpet\"}],\"heatmap\":[{\"colorbar\":{\"outlinewidth\":0,\"ticks\":\"\"},\"colorscale\":[[0.0,\"#0d0887\"],[0.1111111111111111,\"#46039f\"],[0.2222222222222222,\"#7201a8\"],[0.3333333333333333,\"#9c179e\"],[0.4444444444444444,\"#bd3786\"],[0.5555555555555556,\"#d8576b\"],[0.6666666666666666,\"#ed7953\"],[0.7777777777777778,\"#fb9f3a\"],[0.8888888888888888,\"#fdca26\"],[1.0,\"#f0f921\"]],\"type\":\"heatmap\"}],\"heatmapgl\":[{\"colorbar\":{\"outlinewidth\":0,\"ticks\":\"\"},\"colorscale\":[[0.0,\"#0d0887\"],[0.1111111111111111,\"#46039f\"],[0.2222222222222222,\"#7201a8\"],[0.3333333333333333,\"#9c179e\"],[0.4444444444444444,\"#bd3786\"],[0.5555555555555556,\"#d8576b\"],[0.6666666666666666,\"#ed7953\"],[0.7777777777777778,\"#fb9f3a\"],[0.8888888888888888,\"#fdca26\"],[1.0,\"#f0f921\"]],\"type\":\"heatmapgl\"}],\"histogram\":[{\"marker\":{\"pattern\":{\"fillmode\":\"overlay\",\"size\":10,\"solidity\":0.2}},\"type\":\"histogram\"}],\"histogram2d\":[{\"colorbar\":{\"outlinewidth\":0,\"ticks\":\"\"},\"colorscale\":[[0.0,\"#0d0887\"],[0.1111111111111111,\"#46039f\"],[0.2222222222222222,\"#7201a8\"],[0.3333333333333333,\"#9c179e\"],[0.4444444444444444,\"#bd3786\"],[0.5555555555555556,\"#d8576b\"],[0.6666666666666666,\"#ed7953\"],[0.7777777777777778,\"#fb9f3a\"],[0.8888888888888888,\"#fdca26\"],[1.0,\"#f0f921\"]],\"type\":\"histogram2d\"}],\"histogram2dcontour\":[{\"colorbar\":{\"outlinewidth\":0,\"ticks\":\"\"},\"colorscale\":[[0.0,\"#0d0887\"],[0.1111111111111111,\"#46039f\"],[0.2222222222222222,\"#7201a8\"],[0.3333333333333333,\"#9c179e\"],[0.4444444444444444,\"#bd3786\"],[0.5555555555555556,\"#d8576b\"],[0.6666666666666666,\"#ed7953\"],[0.7777777777777778,\"#fb9f3a\"],[0.8888888888888888,\"#fdca26\"],[1.0,\"#f0f921\"]],\"type\":\"histogram2dcontour\"}],\"mesh3d\":[{\"colorbar\":{\"outlinewidth\":0,\"ticks\":\"\"},\"type\":\"mesh3d\"}],\"parcoords\":[{\"line\":{\"colorbar\":{\"outlinewidth\":0,\"ticks\":\"\"}},\"type\":\"parcoords\"}],\"pie\":[{\"automargin\":true,\"type\":\"pie\"}],\"scatter\":[{\"marker\":{\"colorbar\":{\"outlinewidth\":0,\"ticks\":\"\"}},\"type\":\"scatter\"}],\"scatter3d\":[{\"line\":{\"colorbar\":{\"outlinewidth\":0,\"ticks\":\"\"}},\"marker\":{\"colorbar\":{\"outlinewidth\":0,\"ticks\":\"\"}},\"type\":\"scatter3d\"}],\"scattercarpet\":[{\"marker\":{\"colorbar\":{\"outlinewidth\":0,\"ticks\":\"\"}},\"type\":\"scattercarpet\"}],\"scattergeo\":[{\"marker\":{\"colorbar\":{\"outlinewidth\":0,\"ticks\":\"\"}},\"type\":\"scattergeo\"}],\"scattergl\":[{\"marker\":{\"colorbar\":{\"outlinewidth\":0,\"ticks\":\"\"}},\"type\":\"scattergl\"}],\"scattermapbox\":[{\"marker\":{\"colorbar\":{\"outlinewidth\":0,\"ticks\":\"\"}},\"type\":\"scattermapbox\"}],\"scatterpolar\":[{\"marker\":{\"colorbar\":{\"outlinewidth\":0,\"ticks\":\"\"}},\"type\":\"scatterpolar\"}],\"scatterpolargl\":[{\"marker\":{\"colorbar\":{\"outlinewidth\":0,\"ticks\":\"\"}},\"type\":\"scatterpolargl\"}],\"scatterternary\":[{\"marker\":{\"colorbar\":{\"outlinewidth\":0,\"ticks\":\"\"}},\"type\":\"scatterternary\"}],\"surface\":[{\"colorbar\":{\"outlinewidth\":0,\"ticks\":\"\"},\"colorscale\":[[0.0,\"#0d0887\"],[0.1111111111111111,\"#46039f\"],[0.2222222222222222,\"#7201a8\"],[0.3333333333333333,\"#9c179e\"],[0.4444444444444444,\"#bd3786\"],[0.5555555555555556,\"#d8576b\"],[0.6666666666666666,\"#ed7953\"],[0.7777777777777778,\"#fb9f3a\"],[0.8888888888888888,\"#fdca26\"],[1.0,\"#f0f921\"]],\"type\":\"surface\"}],\"table\":[{\"cells\":{\"fill\":{\"color\":\"#EBF0F8\"},\"line\":{\"color\":\"white\"}},\"header\":{\"fill\":{\"color\":\"#C8D4E3\"},\"line\":{\"color\":\"white\"}},\"type\":\"table\"}]},\"layout\":{\"annotationdefaults\":{\"arrowcolor\":\"#2a3f5f\",\"arrowhead\":0,\"arrowwidth\":1},\"autotypenumbers\":\"strict\",\"coloraxis\":{\"colorbar\":{\"outlinewidth\":0,\"ticks\":\"\"}},\"colorscale\":{\"diverging\":[[0,\"#8e0152\"],[0.1,\"#c51b7d\"],[0.2,\"#de77ae\"],[0.3,\"#f1b6da\"],[0.4,\"#fde0ef\"],[0.5,\"#f7f7f7\"],[0.6,\"#e6f5d0\"],[0.7,\"#b8e186\"],[0.8,\"#7fbc41\"],[0.9,\"#4d9221\"],[1,\"#276419\"]],\"sequential\":[[0.0,\"#0d0887\"],[0.1111111111111111,\"#46039f\"],[0.2222222222222222,\"#7201a8\"],[0.3333333333333333,\"#9c179e\"],[0.4444444444444444,\"#bd3786\"],[0.5555555555555556,\"#d8576b\"],[0.6666666666666666,\"#ed7953\"],[0.7777777777777778,\"#fb9f3a\"],[0.8888888888888888,\"#fdca26\"],[1.0,\"#f0f921\"]],\"sequentialminus\":[[0.0,\"#0d0887\"],[0.1111111111111111,\"#46039f\"],[0.2222222222222222,\"#7201a8\"],[0.3333333333333333,\"#9c179e\"],[0.4444444444444444,\"#bd3786\"],[0.5555555555555556,\"#d8576b\"],[0.6666666666666666,\"#ed7953\"],[0.7777777777777778,\"#fb9f3a\"],[0.8888888888888888,\"#fdca26\"],[1.0,\"#f0f921\"]]},\"colorway\":[\"#636efa\",\"#EF553B\",\"#00cc96\",\"#ab63fa\",\"#FFA15A\",\"#19d3f3\",\"#FF6692\",\"#B6E880\",\"#FF97FF\",\"#FECB52\"],\"font\":{\"color\":\"#2a3f5f\"},\"geo\":{\"bgcolor\":\"white\",\"lakecolor\":\"white\",\"landcolor\":\"#E5ECF6\",\"showlakes\":true,\"showland\":true,\"subunitcolor\":\"white\"},\"hoverlabel\":{\"align\":\"left\"},\"hovermode\":\"closest\",\"mapbox\":{\"style\":\"light\"},\"paper_bgcolor\":\"white\",\"plot_bgcolor\":\"#E5ECF6\",\"polar\":{\"angularaxis\":{\"gridcolor\":\"white\",\"linecolor\":\"white\",\"ticks\":\"\"},\"bgcolor\":\"#E5ECF6\",\"radialaxis\":{\"gridcolor\":\"white\",\"linecolor\":\"white\",\"ticks\":\"\"}},\"scene\":{\"xaxis\":{\"backgroundcolor\":\"#E5ECF6\",\"gridcolor\":\"white\",\"gridwidth\":2,\"linecolor\":\"white\",\"showbackground\":true,\"ticks\":\"\",\"zerolinecolor\":\"white\"},\"yaxis\":{\"backgroundcolor\":\"#E5ECF6\",\"gridcolor\":\"white\",\"gridwidth\":2,\"linecolor\":\"white\",\"showbackground\":true,\"ticks\":\"\",\"zerolinecolor\":\"white\"},\"zaxis\":{\"backgroundcolor\":\"#E5ECF6\",\"gridcolor\":\"white\",\"gridwidth\":2,\"linecolor\":\"white\",\"showbackground\":true,\"ticks\":\"\",\"zerolinecolor\":\"white\"}},\"shapedefaults\":{\"line\":{\"color\":\"#2a3f5f\"}},\"ternary\":{\"aaxis\":{\"gridcolor\":\"white\",\"linecolor\":\"white\",\"ticks\":\"\"},\"baxis\":{\"gridcolor\":\"white\",\"linecolor\":\"white\",\"ticks\":\"\"},\"bgcolor\":\"#E5ECF6\",\"caxis\":{\"gridcolor\":\"white\",\"linecolor\":\"white\",\"ticks\":\"\"}},\"title\":{\"x\":0.05},\"xaxis\":{\"automargin\":true,\"gridcolor\":\"white\",\"linecolor\":\"white\",\"ticks\":\"\",\"title\":{\"standoff\":15},\"zerolinecolor\":\"white\",\"zerolinewidth\":2},\"yaxis\":{\"automargin\":true,\"gridcolor\":\"white\",\"linecolor\":\"white\",\"ticks\":\"\",\"title\":{\"standoff\":15},\"zerolinecolor\":\"white\",\"zerolinewidth\":2}}},\"xaxis\":{\"anchor\":\"y\",\"domain\":[0.0,1.0],\"title\":{\"text\":\"timestamp\"},\"rangeslider\":{\"visible\":true}},\"yaxis\":{\"anchor\":\"x\",\"domain\":[0.0,1.0],\"title\":{\"text\":\"value\"}},\"legend\":{\"title\":{\"text\":\"variable\"},\"tracegroupgap\":0},\"title\":{\"text\":\"Number of usage for municipality_id:4\"},\"height\":500,\"width\":900},                        {\"responsive\": true}                    ).then(function(){\n",
              "                            \n",
              "var gd = document.getElementById('f43dc24c-6c99-47ce-b825-9ced51db8625');\n",
              "var x = new MutationObserver(function (mutations, observer) {{\n",
              "        var display = window.getComputedStyle(gd).display;\n",
              "        if (!display || display === 'none') {{\n",
              "            console.log([gd, 'removed!']);\n",
              "            Plotly.purge(gd);\n",
              "            observer.disconnect();\n",
              "        }}\n",
              "}});\n",
              "\n",
              "// Listen for the removal of the full notebook cells\n",
              "var notebookContainer = gd.closest('#notebook-container');\n",
              "if (notebookContainer) {{\n",
              "    x.observe(notebookContainer, {childList: true});\n",
              "}}\n",
              "\n",
              "// Listen for the clearing of the current output cell\n",
              "var outputEl = gd.closest('.output');\n",
              "if (outputEl) {{\n",
              "    x.observe(outputEl, {childList: true});\n",
              "}}\n",
              "\n",
              "                        })                };                            </script>        </div>\n",
              "</body>\n",
              "</html>"
            ]
          },
          "metadata": {}
        },
        {
          "output_type": "display_data",
          "data": {
            "text/html": [
              "<html>\n",
              "<head><meta charset=\"utf-8\" /></head>\n",
              "<body>\n",
              "    <div>            <script src=\"https://cdnjs.cloudflare.com/ajax/libs/mathjax/2.7.5/MathJax.js?config=TeX-AMS-MML_SVG\"></script><script type=\"text/javascript\">if (window.MathJax) {MathJax.Hub.Config({SVG: {font: \"STIX-Web\"}});}</script>                <script type=\"text/javascript\">window.PlotlyConfig = {MathJaxConfig: 'local'};</script>\n",
              "        <script src=\"https://cdn.plot.ly/plotly-2.8.3.min.js\"></script>                <div id=\"312be2d7-120a-4df2-b95e-92630e1798e8\" class=\"plotly-graph-div\" style=\"height:500px; width:900px;\"></div>            <script type=\"text/javascript\">                                    window.PLOTLYENV=window.PLOTLYENV || {};                                    if (document.getElementById(\"312be2d7-120a-4df2-b95e-92630e1798e8\")) {                    Plotly.newPlot(                        \"312be2d7-120a-4df2-b95e-92630e1798e8\",                        [{\"hovertemplate\":\"variable=test<br>timestamp=%{x}<br>value=%{y}<extra></extra>\",\"legendgroup\":\"test\",\"line\":{\"color\":\"#636efa\",\"dash\":\"solid\"},\"marker\":{\"symbol\":\"circle\"},\"mode\":\"lines\",\"name\":\"test\",\"orientation\":\"v\",\"showlegend\":true,\"x\":[\"2017-08-06T08:00:00\",\"2017-08-06T09:00:00\",\"2017-08-06T10:00:00\",\"2017-08-06T11:00:00\",\"2017-08-06T12:00:00\",\"2017-08-06T13:00:00\",\"2017-08-06T14:00:00\",\"2017-08-06T15:00:00\",\"2017-08-06T16:00:00\",\"2017-08-07T08:00:00\",\"2017-08-07T09:00:00\",\"2017-08-07T10:00:00\",\"2017-08-07T11:00:00\",\"2017-08-07T12:00:00\",\"2017-08-07T13:00:00\",\"2017-08-07T14:00:00\",\"2017-08-07T15:00:00\",\"2017-08-07T16:00:00\",\"2017-08-08T08:00:00\",\"2017-08-08T09:00:00\",\"2017-08-08T10:00:00\",\"2017-08-08T11:00:00\",\"2017-08-08T12:00:00\",\"2017-08-08T13:00:00\",\"2017-08-08T14:00:00\",\"2017-08-08T15:00:00\",\"2017-08-08T16:00:00\",\"2017-08-09T08:00:00\",\"2017-08-09T09:00:00\",\"2017-08-09T10:00:00\",\"2017-08-09T11:00:00\",\"2017-08-09T12:00:00\",\"2017-08-09T13:00:00\",\"2017-08-09T14:00:00\",\"2017-08-09T15:00:00\",\"2017-08-09T16:00:00\",\"2017-08-10T08:00:00\",\"2017-08-10T09:00:00\",\"2017-08-10T10:00:00\",\"2017-08-10T11:00:00\",\"2017-08-10T12:00:00\",\"2017-08-10T13:00:00\",\"2017-08-10T14:00:00\",\"2017-08-10T15:00:00\",\"2017-08-10T16:00:00\",\"2017-08-11T08:00:00\",\"2017-08-11T09:00:00\",\"2017-08-11T10:00:00\",\"2017-08-11T11:00:00\",\"2017-08-11T12:00:00\",\"2017-08-11T13:00:00\",\"2017-08-11T14:00:00\",\"2017-08-11T15:00:00\",\"2017-08-11T16:00:00\",\"2017-08-12T08:00:00\",\"2017-08-12T09:00:00\",\"2017-08-12T10:00:00\",\"2017-08-12T11:00:00\",\"2017-08-12T12:00:00\",\"2017-08-12T13:00:00\",\"2017-08-12T14:00:00\",\"2017-08-12T15:00:00\",\"2017-08-12T16:00:00\",\"2017-08-13T08:00:00\",\"2017-08-13T09:00:00\",\"2017-08-13T10:00:00\",\"2017-08-13T11:00:00\",\"2017-08-13T12:00:00\",\"2017-08-13T13:00:00\",\"2017-08-13T14:00:00\",\"2017-08-13T15:00:00\",\"2017-08-13T16:00:00\",\"2017-08-14T08:00:00\",\"2017-08-14T09:00:00\",\"2017-08-14T10:00:00\",\"2017-08-14T11:00:00\",\"2017-08-14T12:00:00\",\"2017-08-14T13:00:00\",\"2017-08-14T14:00:00\",\"2017-08-14T15:00:00\",\"2017-08-14T16:00:00\",\"2017-08-15T08:00:00\",\"2017-08-15T09:00:00\",\"2017-08-15T10:00:00\",\"2017-08-15T11:00:00\",\"2017-08-15T12:00:00\",\"2017-08-15T13:00:00\",\"2017-08-15T14:00:00\",\"2017-08-15T15:00:00\",\"2017-08-15T16:00:00\",\"2017-08-16T08:00:00\",\"2017-08-16T09:00:00\",\"2017-08-16T10:00:00\",\"2017-08-16T11:00:00\",\"2017-08-16T12:00:00\",\"2017-08-16T13:00:00\",\"2017-08-16T14:00:00\",\"2017-08-16T15:00:00\",\"2017-08-16T16:00:00\",\"2017-08-17T08:00:00\",\"2017-08-17T09:00:00\",\"2017-08-17T10:00:00\",\"2017-08-17T11:00:00\",\"2017-08-17T12:00:00\",\"2017-08-17T13:00:00\",\"2017-08-17T14:00:00\",\"2017-08-17T15:00:00\",\"2017-08-17T16:00:00\",\"2017-08-18T08:00:00\",\"2017-08-18T09:00:00\",\"2017-08-18T10:00:00\",\"2017-08-18T11:00:00\",\"2017-08-18T12:00:00\",\"2017-08-18T13:00:00\",\"2017-08-18T14:00:00\",\"2017-08-18T15:00:00\",\"2017-08-18T16:00:00\",\"2017-08-19T08:00:00\",\"2017-08-19T09:00:00\",\"2017-08-19T10:00:00\",\"2017-08-19T11:00:00\",\"2017-08-19T12:00:00\",\"2017-08-19T13:00:00\",\"2017-08-19T14:00:00\",\"2017-08-19T15:00:00\",\"2017-08-19T16:00:00\"],\"xaxis\":\"x\",\"y\":[20.0,48.0,129.0,229.0,249.0,247.0,217.0,187.0,137.0,24.0,43.0,106.0,159.0,186.0,192.0,183.0,146.0,124.0,26.0,53.0,133.0,195.0,228.0,232.0,224.0,178.0,147.0,28.0,67.0,142.0,199.0,214.0,219.0,226.0,209.0,166.0,23.0,93.0,174.0,253.0,353.0,417.0,476.0,485.0,462.0,12.0,14.0,44.0,126.0,213.0,297.0,333.0,334.0,294.0,20.0,49.0,108.0,166.0,176.0,198.0,193.0,168.0,124.0,29.0,68.0,141.0,194.0,225.0,236.0,219.0,168.0,112.0,27.0,51.0,112.0,158.0,186.0,215.0,207.0,170.0,154.0,28.0,72.0,146.0,194.0,237.0,228.0,212.0,173.0,149.0,28.0,77.0,139.0,175.0,188.0,194.0,199.0,202.0,177.0,35.0,91.0,180.0,272.0,346.0,387.0,449.0,452.0,388.0,13.0,17.0,53.0,144.0,202.0,267.0,319.0,312.0,256.0,26.0,49.0,106.0,184.0,258.0,300.0,318.0,309.0,239.0],\"yaxis\":\"y\",\"type\":\"scatter\"},{\"hovertemplate\":\"variable=prediction<br>timestamp=%{x}<br>value=%{y}<extra></extra>\",\"legendgroup\":\"prediction\",\"line\":{\"color\":\"#EF553B\",\"dash\":\"solid\"},\"marker\":{\"symbol\":\"circle\"},\"mode\":\"lines\",\"name\":\"prediction\",\"orientation\":\"v\",\"showlegend\":true,\"x\":[\"2017-08-06T08:00:00\",\"2017-08-06T09:00:00\",\"2017-08-06T10:00:00\",\"2017-08-06T11:00:00\",\"2017-08-06T12:00:00\",\"2017-08-06T13:00:00\",\"2017-08-06T14:00:00\",\"2017-08-06T15:00:00\",\"2017-08-06T16:00:00\",\"2017-08-07T08:00:00\",\"2017-08-07T09:00:00\",\"2017-08-07T10:00:00\",\"2017-08-07T11:00:00\",\"2017-08-07T12:00:00\",\"2017-08-07T13:00:00\",\"2017-08-07T14:00:00\",\"2017-08-07T15:00:00\",\"2017-08-07T16:00:00\",\"2017-08-08T08:00:00\",\"2017-08-08T09:00:00\",\"2017-08-08T10:00:00\",\"2017-08-08T11:00:00\",\"2017-08-08T12:00:00\",\"2017-08-08T13:00:00\",\"2017-08-08T14:00:00\",\"2017-08-08T15:00:00\",\"2017-08-08T16:00:00\",\"2017-08-09T08:00:00\",\"2017-08-09T09:00:00\",\"2017-08-09T10:00:00\",\"2017-08-09T11:00:00\",\"2017-08-09T12:00:00\",\"2017-08-09T13:00:00\",\"2017-08-09T14:00:00\",\"2017-08-09T15:00:00\",\"2017-08-09T16:00:00\",\"2017-08-10T08:00:00\",\"2017-08-10T09:00:00\",\"2017-08-10T10:00:00\",\"2017-08-10T11:00:00\",\"2017-08-10T12:00:00\",\"2017-08-10T13:00:00\",\"2017-08-10T14:00:00\",\"2017-08-10T15:00:00\",\"2017-08-10T16:00:00\",\"2017-08-11T08:00:00\",\"2017-08-11T09:00:00\",\"2017-08-11T10:00:00\",\"2017-08-11T11:00:00\",\"2017-08-11T12:00:00\",\"2017-08-11T13:00:00\",\"2017-08-11T14:00:00\",\"2017-08-11T15:00:00\",\"2017-08-11T16:00:00\",\"2017-08-12T08:00:00\",\"2017-08-12T09:00:00\",\"2017-08-12T10:00:00\",\"2017-08-12T11:00:00\",\"2017-08-12T12:00:00\",\"2017-08-12T13:00:00\",\"2017-08-12T14:00:00\",\"2017-08-12T15:00:00\",\"2017-08-12T16:00:00\",\"2017-08-13T08:00:00\",\"2017-08-13T09:00:00\",\"2017-08-13T10:00:00\",\"2017-08-13T11:00:00\",\"2017-08-13T12:00:00\",\"2017-08-13T13:00:00\",\"2017-08-13T14:00:00\",\"2017-08-13T15:00:00\",\"2017-08-13T16:00:00\",\"2017-08-14T08:00:00\",\"2017-08-14T09:00:00\",\"2017-08-14T10:00:00\",\"2017-08-14T11:00:00\",\"2017-08-14T12:00:00\",\"2017-08-14T13:00:00\",\"2017-08-14T14:00:00\",\"2017-08-14T15:00:00\",\"2017-08-14T16:00:00\",\"2017-08-15T08:00:00\",\"2017-08-15T09:00:00\",\"2017-08-15T10:00:00\",\"2017-08-15T11:00:00\",\"2017-08-15T12:00:00\",\"2017-08-15T13:00:00\",\"2017-08-15T14:00:00\",\"2017-08-15T15:00:00\",\"2017-08-15T16:00:00\",\"2017-08-16T08:00:00\",\"2017-08-16T09:00:00\",\"2017-08-16T10:00:00\",\"2017-08-16T11:00:00\",\"2017-08-16T12:00:00\",\"2017-08-16T13:00:00\",\"2017-08-16T14:00:00\",\"2017-08-16T15:00:00\",\"2017-08-16T16:00:00\",\"2017-08-17T08:00:00\",\"2017-08-17T09:00:00\",\"2017-08-17T10:00:00\",\"2017-08-17T11:00:00\",\"2017-08-17T12:00:00\",\"2017-08-17T13:00:00\",\"2017-08-17T14:00:00\",\"2017-08-17T15:00:00\",\"2017-08-17T16:00:00\",\"2017-08-18T08:00:00\",\"2017-08-18T09:00:00\",\"2017-08-18T10:00:00\",\"2017-08-18T11:00:00\",\"2017-08-18T12:00:00\",\"2017-08-18T13:00:00\",\"2017-08-18T14:00:00\",\"2017-08-18T15:00:00\",\"2017-08-18T16:00:00\",\"2017-08-19T08:00:00\",\"2017-08-19T09:00:00\",\"2017-08-19T10:00:00\",\"2017-08-19T11:00:00\",\"2017-08-19T12:00:00\",\"2017-08-19T13:00:00\",\"2017-08-19T14:00:00\",\"2017-08-19T15:00:00\",\"2017-08-19T16:00:00\"],\"xaxis\":\"x\",\"y\":[46.2061653137207,82.5308837890625,153.42506408691406,198.8750457763672,216.89088439941406,217.88697814941406,198.54739379882812,168.72093200683594,142.81707763671875,115.74066925048828,154.1111297607422,212.6769561767578,214.76905822753906,191.20379638671875,195.52572631835938,198.00146484375,169.9486083984375,137.9202423095703,37.72114562988281,65.56803131103516,120.79300689697266,167.72593688964844,196.6399688720703,211.95643615722656,206.12965393066406,188.06663513183594,143.3642120361328,36.06916046142578,69.3517074584961,122.57051849365234,176.27243041992188,193.13951110839844,198.66294860839844,195.79396057128906,167.97726440429688,147.02609252929688,47.92454147338867,81.63285827636719,144.759521484375,208.83631896972656,245.27386474609375,286.91497802734375,310.77410888671875,281.8033752441406,260.7601013183594,72.78616333007812,83.37010955810547,129.66757202148438,183.06320190429688,217.8653564453125,258.4255676269531,334.9340515136719,320.09527587890625,301.6624755859375,68.7022476196289,90.14398956298828,141.3976287841797,196.28204345703125,232.15200805664062,257.5603942871094,289.2480163574219,275.14312744140625,130.9853057861328,103.3451156616211,115.9992446899414,160.71096801757812,203.30633544921875,219.84129333496094,226.46853637695312,217.28091430664062,183.4739990234375,156.3704071044922,144.48680114746094,152.75338745117188,194.4581756591797,219.9859619140625,187.94418334960938,200.06646728515625,188.7041015625,155.17047119140625,123.9182357788086,32.59621810913086,61.8936653137207,126.96790313720703,189.943603515625,213.31961059570312,222.73175048828125,217.3525390625,169.81564331054688,135.18931579589844,44.04075622558594,77.51168823242188,129.0785369873047,175.7923583984375,202.6874542236328,219.86892700195312,222.57723999023438,194.49176025390625,167.95999145507812,132.25518798828125,141.1612091064453,145.09425354003906,190.00083923339844,237.8044891357422,270.3208312988281,285.85113525390625,267.9206237792969,250.45213317871094,230.8295440673828,220.5205841064453,222.73902893066406,242.02276611328125,274.8742370605469,266.23193359375,330.47674560546875,325.2742919921875,292.26336669921875,249.20530700683594,235.56680297851562,223.46939086914062,253.67784118652344,295.8388671875,321.4439392089844,331.48419189453125,325.1750183105469,293.6578063964844],\"yaxis\":\"y\",\"type\":\"scatter\"}],                        {\"template\":{\"data\":{\"bar\":[{\"error_x\":{\"color\":\"#2a3f5f\"},\"error_y\":{\"color\":\"#2a3f5f\"},\"marker\":{\"line\":{\"color\":\"#E5ECF6\",\"width\":0.5},\"pattern\":{\"fillmode\":\"overlay\",\"size\":10,\"solidity\":0.2}},\"type\":\"bar\"}],\"barpolar\":[{\"marker\":{\"line\":{\"color\":\"#E5ECF6\",\"width\":0.5},\"pattern\":{\"fillmode\":\"overlay\",\"size\":10,\"solidity\":0.2}},\"type\":\"barpolar\"}],\"carpet\":[{\"aaxis\":{\"endlinecolor\":\"#2a3f5f\",\"gridcolor\":\"white\",\"linecolor\":\"white\",\"minorgridcolor\":\"white\",\"startlinecolor\":\"#2a3f5f\"},\"baxis\":{\"endlinecolor\":\"#2a3f5f\",\"gridcolor\":\"white\",\"linecolor\":\"white\",\"minorgridcolor\":\"white\",\"startlinecolor\":\"#2a3f5f\"},\"type\":\"carpet\"}],\"choropleth\":[{\"colorbar\":{\"outlinewidth\":0,\"ticks\":\"\"},\"type\":\"choropleth\"}],\"contour\":[{\"colorbar\":{\"outlinewidth\":0,\"ticks\":\"\"},\"colorscale\":[[0.0,\"#0d0887\"],[0.1111111111111111,\"#46039f\"],[0.2222222222222222,\"#7201a8\"],[0.3333333333333333,\"#9c179e\"],[0.4444444444444444,\"#bd3786\"],[0.5555555555555556,\"#d8576b\"],[0.6666666666666666,\"#ed7953\"],[0.7777777777777778,\"#fb9f3a\"],[0.8888888888888888,\"#fdca26\"],[1.0,\"#f0f921\"]],\"type\":\"contour\"}],\"contourcarpet\":[{\"colorbar\":{\"outlinewidth\":0,\"ticks\":\"\"},\"type\":\"contourcarpet\"}],\"heatmap\":[{\"colorbar\":{\"outlinewidth\":0,\"ticks\":\"\"},\"colorscale\":[[0.0,\"#0d0887\"],[0.1111111111111111,\"#46039f\"],[0.2222222222222222,\"#7201a8\"],[0.3333333333333333,\"#9c179e\"],[0.4444444444444444,\"#bd3786\"],[0.5555555555555556,\"#d8576b\"],[0.6666666666666666,\"#ed7953\"],[0.7777777777777778,\"#fb9f3a\"],[0.8888888888888888,\"#fdca26\"],[1.0,\"#f0f921\"]],\"type\":\"heatmap\"}],\"heatmapgl\":[{\"colorbar\":{\"outlinewidth\":0,\"ticks\":\"\"},\"colorscale\":[[0.0,\"#0d0887\"],[0.1111111111111111,\"#46039f\"],[0.2222222222222222,\"#7201a8\"],[0.3333333333333333,\"#9c179e\"],[0.4444444444444444,\"#bd3786\"],[0.5555555555555556,\"#d8576b\"],[0.6666666666666666,\"#ed7953\"],[0.7777777777777778,\"#fb9f3a\"],[0.8888888888888888,\"#fdca26\"],[1.0,\"#f0f921\"]],\"type\":\"heatmapgl\"}],\"histogram\":[{\"marker\":{\"pattern\":{\"fillmode\":\"overlay\",\"size\":10,\"solidity\":0.2}},\"type\":\"histogram\"}],\"histogram2d\":[{\"colorbar\":{\"outlinewidth\":0,\"ticks\":\"\"},\"colorscale\":[[0.0,\"#0d0887\"],[0.1111111111111111,\"#46039f\"],[0.2222222222222222,\"#7201a8\"],[0.3333333333333333,\"#9c179e\"],[0.4444444444444444,\"#bd3786\"],[0.5555555555555556,\"#d8576b\"],[0.6666666666666666,\"#ed7953\"],[0.7777777777777778,\"#fb9f3a\"],[0.8888888888888888,\"#fdca26\"],[1.0,\"#f0f921\"]],\"type\":\"histogram2d\"}],\"histogram2dcontour\":[{\"colorbar\":{\"outlinewidth\":0,\"ticks\":\"\"},\"colorscale\":[[0.0,\"#0d0887\"],[0.1111111111111111,\"#46039f\"],[0.2222222222222222,\"#7201a8\"],[0.3333333333333333,\"#9c179e\"],[0.4444444444444444,\"#bd3786\"],[0.5555555555555556,\"#d8576b\"],[0.6666666666666666,\"#ed7953\"],[0.7777777777777778,\"#fb9f3a\"],[0.8888888888888888,\"#fdca26\"],[1.0,\"#f0f921\"]],\"type\":\"histogram2dcontour\"}],\"mesh3d\":[{\"colorbar\":{\"outlinewidth\":0,\"ticks\":\"\"},\"type\":\"mesh3d\"}],\"parcoords\":[{\"line\":{\"colorbar\":{\"outlinewidth\":0,\"ticks\":\"\"}},\"type\":\"parcoords\"}],\"pie\":[{\"automargin\":true,\"type\":\"pie\"}],\"scatter\":[{\"marker\":{\"colorbar\":{\"outlinewidth\":0,\"ticks\":\"\"}},\"type\":\"scatter\"}],\"scatter3d\":[{\"line\":{\"colorbar\":{\"outlinewidth\":0,\"ticks\":\"\"}},\"marker\":{\"colorbar\":{\"outlinewidth\":0,\"ticks\":\"\"}},\"type\":\"scatter3d\"}],\"scattercarpet\":[{\"marker\":{\"colorbar\":{\"outlinewidth\":0,\"ticks\":\"\"}},\"type\":\"scattercarpet\"}],\"scattergeo\":[{\"marker\":{\"colorbar\":{\"outlinewidth\":0,\"ticks\":\"\"}},\"type\":\"scattergeo\"}],\"scattergl\":[{\"marker\":{\"colorbar\":{\"outlinewidth\":0,\"ticks\":\"\"}},\"type\":\"scattergl\"}],\"scattermapbox\":[{\"marker\":{\"colorbar\":{\"outlinewidth\":0,\"ticks\":\"\"}},\"type\":\"scattermapbox\"}],\"scatterpolar\":[{\"marker\":{\"colorbar\":{\"outlinewidth\":0,\"ticks\":\"\"}},\"type\":\"scatterpolar\"}],\"scatterpolargl\":[{\"marker\":{\"colorbar\":{\"outlinewidth\":0,\"ticks\":\"\"}},\"type\":\"scatterpolargl\"}],\"scatterternary\":[{\"marker\":{\"colorbar\":{\"outlinewidth\":0,\"ticks\":\"\"}},\"type\":\"scatterternary\"}],\"surface\":[{\"colorbar\":{\"outlinewidth\":0,\"ticks\":\"\"},\"colorscale\":[[0.0,\"#0d0887\"],[0.1111111111111111,\"#46039f\"],[0.2222222222222222,\"#7201a8\"],[0.3333333333333333,\"#9c179e\"],[0.4444444444444444,\"#bd3786\"],[0.5555555555555556,\"#d8576b\"],[0.6666666666666666,\"#ed7953\"],[0.7777777777777778,\"#fb9f3a\"],[0.8888888888888888,\"#fdca26\"],[1.0,\"#f0f921\"]],\"type\":\"surface\"}],\"table\":[{\"cells\":{\"fill\":{\"color\":\"#EBF0F8\"},\"line\":{\"color\":\"white\"}},\"header\":{\"fill\":{\"color\":\"#C8D4E3\"},\"line\":{\"color\":\"white\"}},\"type\":\"table\"}]},\"layout\":{\"annotationdefaults\":{\"arrowcolor\":\"#2a3f5f\",\"arrowhead\":0,\"arrowwidth\":1},\"autotypenumbers\":\"strict\",\"coloraxis\":{\"colorbar\":{\"outlinewidth\":0,\"ticks\":\"\"}},\"colorscale\":{\"diverging\":[[0,\"#8e0152\"],[0.1,\"#c51b7d\"],[0.2,\"#de77ae\"],[0.3,\"#f1b6da\"],[0.4,\"#fde0ef\"],[0.5,\"#f7f7f7\"],[0.6,\"#e6f5d0\"],[0.7,\"#b8e186\"],[0.8,\"#7fbc41\"],[0.9,\"#4d9221\"],[1,\"#276419\"]],\"sequential\":[[0.0,\"#0d0887\"],[0.1111111111111111,\"#46039f\"],[0.2222222222222222,\"#7201a8\"],[0.3333333333333333,\"#9c179e\"],[0.4444444444444444,\"#bd3786\"],[0.5555555555555556,\"#d8576b\"],[0.6666666666666666,\"#ed7953\"],[0.7777777777777778,\"#fb9f3a\"],[0.8888888888888888,\"#fdca26\"],[1.0,\"#f0f921\"]],\"sequentialminus\":[[0.0,\"#0d0887\"],[0.1111111111111111,\"#46039f\"],[0.2222222222222222,\"#7201a8\"],[0.3333333333333333,\"#9c179e\"],[0.4444444444444444,\"#bd3786\"],[0.5555555555555556,\"#d8576b\"],[0.6666666666666666,\"#ed7953\"],[0.7777777777777778,\"#fb9f3a\"],[0.8888888888888888,\"#fdca26\"],[1.0,\"#f0f921\"]]},\"colorway\":[\"#636efa\",\"#EF553B\",\"#00cc96\",\"#ab63fa\",\"#FFA15A\",\"#19d3f3\",\"#FF6692\",\"#B6E880\",\"#FF97FF\",\"#FECB52\"],\"font\":{\"color\":\"#2a3f5f\"},\"geo\":{\"bgcolor\":\"white\",\"lakecolor\":\"white\",\"landcolor\":\"#E5ECF6\",\"showlakes\":true,\"showland\":true,\"subunitcolor\":\"white\"},\"hoverlabel\":{\"align\":\"left\"},\"hovermode\":\"closest\",\"mapbox\":{\"style\":\"light\"},\"paper_bgcolor\":\"white\",\"plot_bgcolor\":\"#E5ECF6\",\"polar\":{\"angularaxis\":{\"gridcolor\":\"white\",\"linecolor\":\"white\",\"ticks\":\"\"},\"bgcolor\":\"#E5ECF6\",\"radialaxis\":{\"gridcolor\":\"white\",\"linecolor\":\"white\",\"ticks\":\"\"}},\"scene\":{\"xaxis\":{\"backgroundcolor\":\"#E5ECF6\",\"gridcolor\":\"white\",\"gridwidth\":2,\"linecolor\":\"white\",\"showbackground\":true,\"ticks\":\"\",\"zerolinecolor\":\"white\"},\"yaxis\":{\"backgroundcolor\":\"#E5ECF6\",\"gridcolor\":\"white\",\"gridwidth\":2,\"linecolor\":\"white\",\"showbackground\":true,\"ticks\":\"\",\"zerolinecolor\":\"white\"},\"zaxis\":{\"backgroundcolor\":\"#E5ECF6\",\"gridcolor\":\"white\",\"gridwidth\":2,\"linecolor\":\"white\",\"showbackground\":true,\"ticks\":\"\",\"zerolinecolor\":\"white\"}},\"shapedefaults\":{\"line\":{\"color\":\"#2a3f5f\"}},\"ternary\":{\"aaxis\":{\"gridcolor\":\"white\",\"linecolor\":\"white\",\"ticks\":\"\"},\"baxis\":{\"gridcolor\":\"white\",\"linecolor\":\"white\",\"ticks\":\"\"},\"bgcolor\":\"#E5ECF6\",\"caxis\":{\"gridcolor\":\"white\",\"linecolor\":\"white\",\"ticks\":\"\"}},\"title\":{\"x\":0.05},\"xaxis\":{\"automargin\":true,\"gridcolor\":\"white\",\"linecolor\":\"white\",\"ticks\":\"\",\"title\":{\"standoff\":15},\"zerolinecolor\":\"white\",\"zerolinewidth\":2},\"yaxis\":{\"automargin\":true,\"gridcolor\":\"white\",\"linecolor\":\"white\",\"ticks\":\"\",\"title\":{\"standoff\":15},\"zerolinecolor\":\"white\",\"zerolinewidth\":2}}},\"xaxis\":{\"anchor\":\"y\",\"domain\":[0.0,1.0],\"title\":{\"text\":\"timestamp\"},\"rangeslider\":{\"visible\":true}},\"yaxis\":{\"anchor\":\"x\",\"domain\":[0.0,1.0],\"title\":{\"text\":\"value\"}},\"legend\":{\"title\":{\"text\":\"variable\"},\"tracegroupgap\":0},\"title\":{\"text\":\"Number of usage for municipality_id:5\"},\"height\":500,\"width\":900},                        {\"responsive\": true}                    ).then(function(){\n",
              "                            \n",
              "var gd = document.getElementById('312be2d7-120a-4df2-b95e-92630e1798e8');\n",
              "var x = new MutationObserver(function (mutations, observer) {{\n",
              "        var display = window.getComputedStyle(gd).display;\n",
              "        if (!display || display === 'none') {{\n",
              "            console.log([gd, 'removed!']);\n",
              "            Plotly.purge(gd);\n",
              "            observer.disconnect();\n",
              "        }}\n",
              "}});\n",
              "\n",
              "// Listen for the removal of the full notebook cells\n",
              "var notebookContainer = gd.closest('#notebook-container');\n",
              "if (notebookContainer) {{\n",
              "    x.observe(notebookContainer, {childList: true});\n",
              "}}\n",
              "\n",
              "// Listen for the clearing of the current output cell\n",
              "var outputEl = gd.closest('.output');\n",
              "if (outputEl) {{\n",
              "    x.observe(outputEl, {childList: true});\n",
              "}}\n",
              "\n",
              "                        })                };                            </script>        </div>\n",
              "</body>\n",
              "</html>"
            ]
          },
          "metadata": {}
        },
        {
          "output_type": "display_data",
          "data": {
            "text/html": [
              "<html>\n",
              "<head><meta charset=\"utf-8\" /></head>\n",
              "<body>\n",
              "    <div>            <script src=\"https://cdnjs.cloudflare.com/ajax/libs/mathjax/2.7.5/MathJax.js?config=TeX-AMS-MML_SVG\"></script><script type=\"text/javascript\">if (window.MathJax) {MathJax.Hub.Config({SVG: {font: \"STIX-Web\"}});}</script>                <script type=\"text/javascript\">window.PlotlyConfig = {MathJaxConfig: 'local'};</script>\n",
              "        <script src=\"https://cdn.plot.ly/plotly-2.8.3.min.js\"></script>                <div id=\"eb37864d-65bc-4915-b8c3-8dc11340264d\" class=\"plotly-graph-div\" style=\"height:500px; width:900px;\"></div>            <script type=\"text/javascript\">                                    window.PLOTLYENV=window.PLOTLYENV || {};                                    if (document.getElementById(\"eb37864d-65bc-4915-b8c3-8dc11340264d\")) {                    Plotly.newPlot(                        \"eb37864d-65bc-4915-b8c3-8dc11340264d\",                        [{\"hovertemplate\":\"variable=test<br>timestamp=%{x}<br>value=%{y}<extra></extra>\",\"legendgroup\":\"test\",\"line\":{\"color\":\"#636efa\",\"dash\":\"solid\"},\"marker\":{\"symbol\":\"circle\"},\"mode\":\"lines\",\"name\":\"test\",\"orientation\":\"v\",\"showlegend\":true,\"x\":[\"2017-08-06T08:00:00\",\"2017-08-06T09:00:00\",\"2017-08-06T10:00:00\",\"2017-08-06T11:00:00\",\"2017-08-06T12:00:00\",\"2017-08-06T13:00:00\",\"2017-08-06T14:00:00\",\"2017-08-06T15:00:00\",\"2017-08-06T16:00:00\",\"2017-08-07T08:00:00\",\"2017-08-07T09:00:00\",\"2017-08-07T10:00:00\",\"2017-08-07T11:00:00\",\"2017-08-07T12:00:00\",\"2017-08-07T13:00:00\",\"2017-08-07T14:00:00\",\"2017-08-07T15:00:00\",\"2017-08-07T16:00:00\",\"2017-08-08T08:00:00\",\"2017-08-08T09:00:00\",\"2017-08-08T10:00:00\",\"2017-08-08T11:00:00\",\"2017-08-08T12:00:00\",\"2017-08-08T13:00:00\",\"2017-08-08T14:00:00\",\"2017-08-08T15:00:00\",\"2017-08-08T16:00:00\",\"2017-08-09T08:00:00\",\"2017-08-09T09:00:00\",\"2017-08-09T10:00:00\",\"2017-08-09T11:00:00\",\"2017-08-09T12:00:00\",\"2017-08-09T13:00:00\",\"2017-08-09T14:00:00\",\"2017-08-09T15:00:00\",\"2017-08-09T16:00:00\",\"2017-08-10T08:00:00\",\"2017-08-10T09:00:00\",\"2017-08-10T10:00:00\",\"2017-08-10T11:00:00\",\"2017-08-10T12:00:00\",\"2017-08-10T13:00:00\",\"2017-08-10T14:00:00\",\"2017-08-10T15:00:00\",\"2017-08-10T16:00:00\",\"2017-08-11T08:00:00\",\"2017-08-11T09:00:00\",\"2017-08-11T10:00:00\",\"2017-08-11T11:00:00\",\"2017-08-11T12:00:00\",\"2017-08-11T13:00:00\",\"2017-08-11T14:00:00\",\"2017-08-11T15:00:00\",\"2017-08-11T16:00:00\",\"2017-08-12T08:00:00\",\"2017-08-12T09:00:00\",\"2017-08-12T10:00:00\",\"2017-08-12T11:00:00\",\"2017-08-12T12:00:00\",\"2017-08-12T13:00:00\",\"2017-08-12T14:00:00\",\"2017-08-12T15:00:00\",\"2017-08-12T16:00:00\",\"2017-08-13T08:00:00\",\"2017-08-13T09:00:00\",\"2017-08-13T10:00:00\",\"2017-08-13T11:00:00\",\"2017-08-13T12:00:00\",\"2017-08-13T13:00:00\",\"2017-08-13T14:00:00\",\"2017-08-13T15:00:00\",\"2017-08-13T16:00:00\",\"2017-08-14T08:00:00\",\"2017-08-14T09:00:00\",\"2017-08-14T10:00:00\",\"2017-08-14T11:00:00\",\"2017-08-14T12:00:00\",\"2017-08-14T13:00:00\",\"2017-08-14T14:00:00\",\"2017-08-14T15:00:00\",\"2017-08-14T16:00:00\",\"2017-08-15T08:00:00\",\"2017-08-15T09:00:00\",\"2017-08-15T10:00:00\",\"2017-08-15T11:00:00\",\"2017-08-15T12:00:00\",\"2017-08-15T13:00:00\",\"2017-08-15T14:00:00\",\"2017-08-15T15:00:00\",\"2017-08-15T16:00:00\",\"2017-08-16T08:00:00\",\"2017-08-16T09:00:00\",\"2017-08-16T10:00:00\",\"2017-08-16T11:00:00\",\"2017-08-16T12:00:00\",\"2017-08-16T13:00:00\",\"2017-08-16T14:00:00\",\"2017-08-16T15:00:00\",\"2017-08-16T16:00:00\",\"2017-08-17T08:00:00\",\"2017-08-17T09:00:00\",\"2017-08-17T10:00:00\",\"2017-08-17T11:00:00\",\"2017-08-17T12:00:00\",\"2017-08-17T13:00:00\",\"2017-08-17T14:00:00\",\"2017-08-17T15:00:00\",\"2017-08-17T16:00:00\",\"2017-08-18T08:00:00\",\"2017-08-18T09:00:00\",\"2017-08-18T10:00:00\",\"2017-08-18T11:00:00\",\"2017-08-18T12:00:00\",\"2017-08-18T13:00:00\",\"2017-08-18T14:00:00\",\"2017-08-18T15:00:00\",\"2017-08-18T16:00:00\",\"2017-08-19T08:00:00\",\"2017-08-19T09:00:00\",\"2017-08-19T10:00:00\",\"2017-08-19T11:00:00\",\"2017-08-19T12:00:00\",\"2017-08-19T13:00:00\",\"2017-08-19T14:00:00\",\"2017-08-19T15:00:00\",\"2017-08-19T16:00:00\"],\"xaxis\":\"x\",\"y\":[592.0,791.0,991.0,1088.0,1148.0,1207.0,1196.0,1102.0,969.0,598.0,769.0,963.0,1117.0,1216.0,1275.0,1274.0,1207.0,1089.0,664.0,841.0,1049.0,1215.0,1267.0,1296.0,1267.0,1205.0,1138.0,889.0,984.0,1052.0,1102.0,1184.0,1154.0,1121.0,1062.0,1007.0,774.0,803.0,834.0,884.0,974.0,1099.0,1154.0,1205.0,1211.0,808.0,809.0,806.0,875.0,975.0,1047.0,1129.0,1150.0,1075.0,590.0,774.0,947.0,1044.0,1132.0,1142.0,1122.0,1040.0,963.0,778.0,982.0,1057.0,1067.0,1152.0,1176.0,1204.0,1073.0,934.0,700.0,831.0,1016.0,1098.0,1147.0,1200.0,1225.0,1175.0,1069.0,726.0,876.0,1023.0,1101.0,1192.0,1299.0,1302.0,1275.0,1262.0,709.0,833.0,893.0,922.0,927.0,945.0,993.0,996.0,935.0,1382.0,1428.0,1454.0,1477.0,1545.0,1641.0,1761.0,1811.0,1844.0,1323.0,1319.0,1352.0,1387.0,1465.0,1595.0,1693.0,1699.0,1647.0,1383.0,1507.0,1613.0,1678.0,1787.0,1845.0,1853.0,1829.0,1727.0],\"yaxis\":\"y\",\"type\":\"scatter\"},{\"hovertemplate\":\"variable=prediction<br>timestamp=%{x}<br>value=%{y}<extra></extra>\",\"legendgroup\":\"prediction\",\"line\":{\"color\":\"#EF553B\",\"dash\":\"solid\"},\"marker\":{\"symbol\":\"circle\"},\"mode\":\"lines\",\"name\":\"prediction\",\"orientation\":\"v\",\"showlegend\":true,\"x\":[\"2017-08-06T08:00:00\",\"2017-08-06T09:00:00\",\"2017-08-06T10:00:00\",\"2017-08-06T11:00:00\",\"2017-08-06T12:00:00\",\"2017-08-06T13:00:00\",\"2017-08-06T14:00:00\",\"2017-08-06T15:00:00\",\"2017-08-06T16:00:00\",\"2017-08-07T08:00:00\",\"2017-08-07T09:00:00\",\"2017-08-07T10:00:00\",\"2017-08-07T11:00:00\",\"2017-08-07T12:00:00\",\"2017-08-07T13:00:00\",\"2017-08-07T14:00:00\",\"2017-08-07T15:00:00\",\"2017-08-07T16:00:00\",\"2017-08-08T08:00:00\",\"2017-08-08T09:00:00\",\"2017-08-08T10:00:00\",\"2017-08-08T11:00:00\",\"2017-08-08T12:00:00\",\"2017-08-08T13:00:00\",\"2017-08-08T14:00:00\",\"2017-08-08T15:00:00\",\"2017-08-08T16:00:00\",\"2017-08-09T08:00:00\",\"2017-08-09T09:00:00\",\"2017-08-09T10:00:00\",\"2017-08-09T11:00:00\",\"2017-08-09T12:00:00\",\"2017-08-09T13:00:00\",\"2017-08-09T14:00:00\",\"2017-08-09T15:00:00\",\"2017-08-09T16:00:00\",\"2017-08-10T08:00:00\",\"2017-08-10T09:00:00\",\"2017-08-10T10:00:00\",\"2017-08-10T11:00:00\",\"2017-08-10T12:00:00\",\"2017-08-10T13:00:00\",\"2017-08-10T14:00:00\",\"2017-08-10T15:00:00\",\"2017-08-10T16:00:00\",\"2017-08-11T08:00:00\",\"2017-08-11T09:00:00\",\"2017-08-11T10:00:00\",\"2017-08-11T11:00:00\",\"2017-08-11T12:00:00\",\"2017-08-11T13:00:00\",\"2017-08-11T14:00:00\",\"2017-08-11T15:00:00\",\"2017-08-11T16:00:00\",\"2017-08-12T08:00:00\",\"2017-08-12T09:00:00\",\"2017-08-12T10:00:00\",\"2017-08-12T11:00:00\",\"2017-08-12T12:00:00\",\"2017-08-12T13:00:00\",\"2017-08-12T14:00:00\",\"2017-08-12T15:00:00\",\"2017-08-12T16:00:00\",\"2017-08-13T08:00:00\",\"2017-08-13T09:00:00\",\"2017-08-13T10:00:00\",\"2017-08-13T11:00:00\",\"2017-08-13T12:00:00\",\"2017-08-13T13:00:00\",\"2017-08-13T14:00:00\",\"2017-08-13T15:00:00\",\"2017-08-13T16:00:00\",\"2017-08-14T08:00:00\",\"2017-08-14T09:00:00\",\"2017-08-14T10:00:00\",\"2017-08-14T11:00:00\",\"2017-08-14T12:00:00\",\"2017-08-14T13:00:00\",\"2017-08-14T14:00:00\",\"2017-08-14T15:00:00\",\"2017-08-14T16:00:00\",\"2017-08-15T08:00:00\",\"2017-08-15T09:00:00\",\"2017-08-15T10:00:00\",\"2017-08-15T11:00:00\",\"2017-08-15T12:00:00\",\"2017-08-15T13:00:00\",\"2017-08-15T14:00:00\",\"2017-08-15T15:00:00\",\"2017-08-15T16:00:00\",\"2017-08-16T08:00:00\",\"2017-08-16T09:00:00\",\"2017-08-16T10:00:00\",\"2017-08-16T11:00:00\",\"2017-08-16T12:00:00\",\"2017-08-16T13:00:00\",\"2017-08-16T14:00:00\",\"2017-08-16T15:00:00\",\"2017-08-16T16:00:00\",\"2017-08-17T08:00:00\",\"2017-08-17T09:00:00\",\"2017-08-17T10:00:00\",\"2017-08-17T11:00:00\",\"2017-08-17T12:00:00\",\"2017-08-17T13:00:00\",\"2017-08-17T14:00:00\",\"2017-08-17T15:00:00\",\"2017-08-17T16:00:00\",\"2017-08-18T08:00:00\",\"2017-08-18T09:00:00\",\"2017-08-18T10:00:00\",\"2017-08-18T11:00:00\",\"2017-08-18T12:00:00\",\"2017-08-18T13:00:00\",\"2017-08-18T14:00:00\",\"2017-08-18T15:00:00\",\"2017-08-18T16:00:00\",\"2017-08-19T08:00:00\",\"2017-08-19T09:00:00\",\"2017-08-19T10:00:00\",\"2017-08-19T11:00:00\",\"2017-08-19T12:00:00\",\"2017-08-19T13:00:00\",\"2017-08-19T14:00:00\",\"2017-08-19T15:00:00\",\"2017-08-19T16:00:00\"],\"xaxis\":\"x\",\"y\":[607.9717407226562,868.468017578125,1007.3847045898438,1075.428955078125,1081.1234130859375,1037.8724365234375,990.2300415039062,950.7620849609375,902.2526245117188,701.7116088867188,817.8314208984375,938.2996826171875,1067.922607421875,1137.606201171875,1147.307861328125,1132.3450927734375,1059.197021484375,924.1840209960938,626.8649291992188,836.1421508789062,990.68994140625,1104.628662109375,1148.292236328125,1171.324462890625,1184.1998291015625,1211.935302734375,1076.95703125,819.2786254882812,1013.2167358398438,1176.374267578125,1212.5760498046875,1231.0157470703125,1126.251953125,1057.53662109375,981.3684692382812,903.7568969726562,895.0811767578125,1036.4576416015625,982.10009765625,1072.6146240234375,1149.5582275390625,1188.1689453125,1201.866943359375,1158.5439453125,1032.109619140625,872.81005859375,956.9343872070312,1039.936279296875,1116.62646484375,1163.653564453125,1055.07177734375,1147.52392578125,1143.1925048828125,1030.5164794921875,713.0062866210938,851.0330200195312,931.1173095703125,1007.8111572265625,1061.9033203125,1075.6041259765625,1025.5823974609375,987.0879516601562,816.06494140625,865.9656372070312,897.8184814453125,1034.48974609375,1085.37890625,1122.8216552734375,1059.338623046875,1024.321533203125,984.9995727539062,927.5726928710938,926.0753784179688,954.9691772460938,1025.9068603515625,1147.447265625,1211.9259033203125,1254.8538818359375,1251.1864013671875,1164.99365234375,1025.9822998046875,627.9280395507812,851.3886108398438,1019.8139038085938,1121.920654296875,1208.58935546875,1251.3455810546875,1267.5155029296875,1255.6588134765625,1173.9254150390625,965.3119506835938,944.1166381835938,1042.440673828125,1124.950927734375,1197.96142578125,1255.557861328125,1276.21142578125,1225.0101318359375,1141.8719482421875,947.4696044921875,953.1357421875,1480.5433349609375,1472.0465087890625,1544.9365234375,1396.7509765625,1347.0435791015625,1184.3538818359375,993.6615600585938,1076.5970458984375,1178.878662109375,1294.9193115234375,1380.2723388671875,1377.0255126953125,1537.93505859375,1669.244873046875,1791.4306640625,1807.79248046875,1584.5504150390625,1466.2877197265625,1414.9598388671875,1423.21728515625,1407.052001953125,1396.1207275390625,1402.85888671875,1382.0399169921875,1322.4212646484375],\"yaxis\":\"y\",\"type\":\"scatter\"}],                        {\"template\":{\"data\":{\"bar\":[{\"error_x\":{\"color\":\"#2a3f5f\"},\"error_y\":{\"color\":\"#2a3f5f\"},\"marker\":{\"line\":{\"color\":\"#E5ECF6\",\"width\":0.5},\"pattern\":{\"fillmode\":\"overlay\",\"size\":10,\"solidity\":0.2}},\"type\":\"bar\"}],\"barpolar\":[{\"marker\":{\"line\":{\"color\":\"#E5ECF6\",\"width\":0.5},\"pattern\":{\"fillmode\":\"overlay\",\"size\":10,\"solidity\":0.2}},\"type\":\"barpolar\"}],\"carpet\":[{\"aaxis\":{\"endlinecolor\":\"#2a3f5f\",\"gridcolor\":\"white\",\"linecolor\":\"white\",\"minorgridcolor\":\"white\",\"startlinecolor\":\"#2a3f5f\"},\"baxis\":{\"endlinecolor\":\"#2a3f5f\",\"gridcolor\":\"white\",\"linecolor\":\"white\",\"minorgridcolor\":\"white\",\"startlinecolor\":\"#2a3f5f\"},\"type\":\"carpet\"}],\"choropleth\":[{\"colorbar\":{\"outlinewidth\":0,\"ticks\":\"\"},\"type\":\"choropleth\"}],\"contour\":[{\"colorbar\":{\"outlinewidth\":0,\"ticks\":\"\"},\"colorscale\":[[0.0,\"#0d0887\"],[0.1111111111111111,\"#46039f\"],[0.2222222222222222,\"#7201a8\"],[0.3333333333333333,\"#9c179e\"],[0.4444444444444444,\"#bd3786\"],[0.5555555555555556,\"#d8576b\"],[0.6666666666666666,\"#ed7953\"],[0.7777777777777778,\"#fb9f3a\"],[0.8888888888888888,\"#fdca26\"],[1.0,\"#f0f921\"]],\"type\":\"contour\"}],\"contourcarpet\":[{\"colorbar\":{\"outlinewidth\":0,\"ticks\":\"\"},\"type\":\"contourcarpet\"}],\"heatmap\":[{\"colorbar\":{\"outlinewidth\":0,\"ticks\":\"\"},\"colorscale\":[[0.0,\"#0d0887\"],[0.1111111111111111,\"#46039f\"],[0.2222222222222222,\"#7201a8\"],[0.3333333333333333,\"#9c179e\"],[0.4444444444444444,\"#bd3786\"],[0.5555555555555556,\"#d8576b\"],[0.6666666666666666,\"#ed7953\"],[0.7777777777777778,\"#fb9f3a\"],[0.8888888888888888,\"#fdca26\"],[1.0,\"#f0f921\"]],\"type\":\"heatmap\"}],\"heatmapgl\":[{\"colorbar\":{\"outlinewidth\":0,\"ticks\":\"\"},\"colorscale\":[[0.0,\"#0d0887\"],[0.1111111111111111,\"#46039f\"],[0.2222222222222222,\"#7201a8\"],[0.3333333333333333,\"#9c179e\"],[0.4444444444444444,\"#bd3786\"],[0.5555555555555556,\"#d8576b\"],[0.6666666666666666,\"#ed7953\"],[0.7777777777777778,\"#fb9f3a\"],[0.8888888888888888,\"#fdca26\"],[1.0,\"#f0f921\"]],\"type\":\"heatmapgl\"}],\"histogram\":[{\"marker\":{\"pattern\":{\"fillmode\":\"overlay\",\"size\":10,\"solidity\":0.2}},\"type\":\"histogram\"}],\"histogram2d\":[{\"colorbar\":{\"outlinewidth\":0,\"ticks\":\"\"},\"colorscale\":[[0.0,\"#0d0887\"],[0.1111111111111111,\"#46039f\"],[0.2222222222222222,\"#7201a8\"],[0.3333333333333333,\"#9c179e\"],[0.4444444444444444,\"#bd3786\"],[0.5555555555555556,\"#d8576b\"],[0.6666666666666666,\"#ed7953\"],[0.7777777777777778,\"#fb9f3a\"],[0.8888888888888888,\"#fdca26\"],[1.0,\"#f0f921\"]],\"type\":\"histogram2d\"}],\"histogram2dcontour\":[{\"colorbar\":{\"outlinewidth\":0,\"ticks\":\"\"},\"colorscale\":[[0.0,\"#0d0887\"],[0.1111111111111111,\"#46039f\"],[0.2222222222222222,\"#7201a8\"],[0.3333333333333333,\"#9c179e\"],[0.4444444444444444,\"#bd3786\"],[0.5555555555555556,\"#d8576b\"],[0.6666666666666666,\"#ed7953\"],[0.7777777777777778,\"#fb9f3a\"],[0.8888888888888888,\"#fdca26\"],[1.0,\"#f0f921\"]],\"type\":\"histogram2dcontour\"}],\"mesh3d\":[{\"colorbar\":{\"outlinewidth\":0,\"ticks\":\"\"},\"type\":\"mesh3d\"}],\"parcoords\":[{\"line\":{\"colorbar\":{\"outlinewidth\":0,\"ticks\":\"\"}},\"type\":\"parcoords\"}],\"pie\":[{\"automargin\":true,\"type\":\"pie\"}],\"scatter\":[{\"marker\":{\"colorbar\":{\"outlinewidth\":0,\"ticks\":\"\"}},\"type\":\"scatter\"}],\"scatter3d\":[{\"line\":{\"colorbar\":{\"outlinewidth\":0,\"ticks\":\"\"}},\"marker\":{\"colorbar\":{\"outlinewidth\":0,\"ticks\":\"\"}},\"type\":\"scatter3d\"}],\"scattercarpet\":[{\"marker\":{\"colorbar\":{\"outlinewidth\":0,\"ticks\":\"\"}},\"type\":\"scattercarpet\"}],\"scattergeo\":[{\"marker\":{\"colorbar\":{\"outlinewidth\":0,\"ticks\":\"\"}},\"type\":\"scattergeo\"}],\"scattergl\":[{\"marker\":{\"colorbar\":{\"outlinewidth\":0,\"ticks\":\"\"}},\"type\":\"scattergl\"}],\"scattermapbox\":[{\"marker\":{\"colorbar\":{\"outlinewidth\":0,\"ticks\":\"\"}},\"type\":\"scattermapbox\"}],\"scatterpolar\":[{\"marker\":{\"colorbar\":{\"outlinewidth\":0,\"ticks\":\"\"}},\"type\":\"scatterpolar\"}],\"scatterpolargl\":[{\"marker\":{\"colorbar\":{\"outlinewidth\":0,\"ticks\":\"\"}},\"type\":\"scatterpolargl\"}],\"scatterternary\":[{\"marker\":{\"colorbar\":{\"outlinewidth\":0,\"ticks\":\"\"}},\"type\":\"scatterternary\"}],\"surface\":[{\"colorbar\":{\"outlinewidth\":0,\"ticks\":\"\"},\"colorscale\":[[0.0,\"#0d0887\"],[0.1111111111111111,\"#46039f\"],[0.2222222222222222,\"#7201a8\"],[0.3333333333333333,\"#9c179e\"],[0.4444444444444444,\"#bd3786\"],[0.5555555555555556,\"#d8576b\"],[0.6666666666666666,\"#ed7953\"],[0.7777777777777778,\"#fb9f3a\"],[0.8888888888888888,\"#fdca26\"],[1.0,\"#f0f921\"]],\"type\":\"surface\"}],\"table\":[{\"cells\":{\"fill\":{\"color\":\"#EBF0F8\"},\"line\":{\"color\":\"white\"}},\"header\":{\"fill\":{\"color\":\"#C8D4E3\"},\"line\":{\"color\":\"white\"}},\"type\":\"table\"}]},\"layout\":{\"annotationdefaults\":{\"arrowcolor\":\"#2a3f5f\",\"arrowhead\":0,\"arrowwidth\":1},\"autotypenumbers\":\"strict\",\"coloraxis\":{\"colorbar\":{\"outlinewidth\":0,\"ticks\":\"\"}},\"colorscale\":{\"diverging\":[[0,\"#8e0152\"],[0.1,\"#c51b7d\"],[0.2,\"#de77ae\"],[0.3,\"#f1b6da\"],[0.4,\"#fde0ef\"],[0.5,\"#f7f7f7\"],[0.6,\"#e6f5d0\"],[0.7,\"#b8e186\"],[0.8,\"#7fbc41\"],[0.9,\"#4d9221\"],[1,\"#276419\"]],\"sequential\":[[0.0,\"#0d0887\"],[0.1111111111111111,\"#46039f\"],[0.2222222222222222,\"#7201a8\"],[0.3333333333333333,\"#9c179e\"],[0.4444444444444444,\"#bd3786\"],[0.5555555555555556,\"#d8576b\"],[0.6666666666666666,\"#ed7953\"],[0.7777777777777778,\"#fb9f3a\"],[0.8888888888888888,\"#fdca26\"],[1.0,\"#f0f921\"]],\"sequentialminus\":[[0.0,\"#0d0887\"],[0.1111111111111111,\"#46039f\"],[0.2222222222222222,\"#7201a8\"],[0.3333333333333333,\"#9c179e\"],[0.4444444444444444,\"#bd3786\"],[0.5555555555555556,\"#d8576b\"],[0.6666666666666666,\"#ed7953\"],[0.7777777777777778,\"#fb9f3a\"],[0.8888888888888888,\"#fdca26\"],[1.0,\"#f0f921\"]]},\"colorway\":[\"#636efa\",\"#EF553B\",\"#00cc96\",\"#ab63fa\",\"#FFA15A\",\"#19d3f3\",\"#FF6692\",\"#B6E880\",\"#FF97FF\",\"#FECB52\"],\"font\":{\"color\":\"#2a3f5f\"},\"geo\":{\"bgcolor\":\"white\",\"lakecolor\":\"white\",\"landcolor\":\"#E5ECF6\",\"showlakes\":true,\"showland\":true,\"subunitcolor\":\"white\"},\"hoverlabel\":{\"align\":\"left\"},\"hovermode\":\"closest\",\"mapbox\":{\"style\":\"light\"},\"paper_bgcolor\":\"white\",\"plot_bgcolor\":\"#E5ECF6\",\"polar\":{\"angularaxis\":{\"gridcolor\":\"white\",\"linecolor\":\"white\",\"ticks\":\"\"},\"bgcolor\":\"#E5ECF6\",\"radialaxis\":{\"gridcolor\":\"white\",\"linecolor\":\"white\",\"ticks\":\"\"}},\"scene\":{\"xaxis\":{\"backgroundcolor\":\"#E5ECF6\",\"gridcolor\":\"white\",\"gridwidth\":2,\"linecolor\":\"white\",\"showbackground\":true,\"ticks\":\"\",\"zerolinecolor\":\"white\"},\"yaxis\":{\"backgroundcolor\":\"#E5ECF6\",\"gridcolor\":\"white\",\"gridwidth\":2,\"linecolor\":\"white\",\"showbackground\":true,\"ticks\":\"\",\"zerolinecolor\":\"white\"},\"zaxis\":{\"backgroundcolor\":\"#E5ECF6\",\"gridcolor\":\"white\",\"gridwidth\":2,\"linecolor\":\"white\",\"showbackground\":true,\"ticks\":\"\",\"zerolinecolor\":\"white\"}},\"shapedefaults\":{\"line\":{\"color\":\"#2a3f5f\"}},\"ternary\":{\"aaxis\":{\"gridcolor\":\"white\",\"linecolor\":\"white\",\"ticks\":\"\"},\"baxis\":{\"gridcolor\":\"white\",\"linecolor\":\"white\",\"ticks\":\"\"},\"bgcolor\":\"#E5ECF6\",\"caxis\":{\"gridcolor\":\"white\",\"linecolor\":\"white\",\"ticks\":\"\"}},\"title\":{\"x\":0.05},\"xaxis\":{\"automargin\":true,\"gridcolor\":\"white\",\"linecolor\":\"white\",\"ticks\":\"\",\"title\":{\"standoff\":15},\"zerolinecolor\":\"white\",\"zerolinewidth\":2},\"yaxis\":{\"automargin\":true,\"gridcolor\":\"white\",\"linecolor\":\"white\",\"ticks\":\"\",\"title\":{\"standoff\":15},\"zerolinecolor\":\"white\",\"zerolinewidth\":2}}},\"xaxis\":{\"anchor\":\"y\",\"domain\":[0.0,1.0],\"title\":{\"text\":\"timestamp\"},\"rangeslider\":{\"visible\":true}},\"yaxis\":{\"anchor\":\"x\",\"domain\":[0.0,1.0],\"title\":{\"text\":\"value\"}},\"legend\":{\"title\":{\"text\":\"variable\"},\"tracegroupgap\":0},\"title\":{\"text\":\"Number of usage for municipality_id:6\"},\"height\":500,\"width\":900},                        {\"responsive\": true}                    ).then(function(){\n",
              "                            \n",
              "var gd = document.getElementById('eb37864d-65bc-4915-b8c3-8dc11340264d');\n",
              "var x = new MutationObserver(function (mutations, observer) {{\n",
              "        var display = window.getComputedStyle(gd).display;\n",
              "        if (!display || display === 'none') {{\n",
              "            console.log([gd, 'removed!']);\n",
              "            Plotly.purge(gd);\n",
              "            observer.disconnect();\n",
              "        }}\n",
              "}});\n",
              "\n",
              "// Listen for the removal of the full notebook cells\n",
              "var notebookContainer = gd.closest('#notebook-container');\n",
              "if (notebookContainer) {{\n",
              "    x.observe(notebookContainer, {childList: true});\n",
              "}}\n",
              "\n",
              "// Listen for the clearing of the current output cell\n",
              "var outputEl = gd.closest('.output');\n",
              "if (outputEl) {{\n",
              "    x.observe(outputEl, {childList: true});\n",
              "}}\n",
              "\n",
              "                        })                };                            </script>        </div>\n",
              "</body>\n",
              "</html>"
            ]
          },
          "metadata": {}
        },
        {
          "output_type": "display_data",
          "data": {
            "text/html": [
              "<html>\n",
              "<head><meta charset=\"utf-8\" /></head>\n",
              "<body>\n",
              "    <div>            <script src=\"https://cdnjs.cloudflare.com/ajax/libs/mathjax/2.7.5/MathJax.js?config=TeX-AMS-MML_SVG\"></script><script type=\"text/javascript\">if (window.MathJax) {MathJax.Hub.Config({SVG: {font: \"STIX-Web\"}});}</script>                <script type=\"text/javascript\">window.PlotlyConfig = {MathJaxConfig: 'local'};</script>\n",
              "        <script src=\"https://cdn.plot.ly/plotly-2.8.3.min.js\"></script>                <div id=\"4a64dff7-8851-4f7d-99d1-827ccf36d758\" class=\"plotly-graph-div\" style=\"height:500px; width:900px;\"></div>            <script type=\"text/javascript\">                                    window.PLOTLYENV=window.PLOTLYENV || {};                                    if (document.getElementById(\"4a64dff7-8851-4f7d-99d1-827ccf36d758\")) {                    Plotly.newPlot(                        \"4a64dff7-8851-4f7d-99d1-827ccf36d758\",                        [{\"hovertemplate\":\"variable=test<br>timestamp=%{x}<br>value=%{y}<extra></extra>\",\"legendgroup\":\"test\",\"line\":{\"color\":\"#636efa\",\"dash\":\"solid\"},\"marker\":{\"symbol\":\"circle\"},\"mode\":\"lines\",\"name\":\"test\",\"orientation\":\"v\",\"showlegend\":true,\"x\":[\"2017-08-06T08:00:00\",\"2017-08-06T09:00:00\",\"2017-08-06T10:00:00\",\"2017-08-06T11:00:00\",\"2017-08-06T12:00:00\",\"2017-08-06T13:00:00\",\"2017-08-06T14:00:00\",\"2017-08-06T15:00:00\",\"2017-08-06T16:00:00\",\"2017-08-07T08:00:00\",\"2017-08-07T09:00:00\",\"2017-08-07T10:00:00\",\"2017-08-07T11:00:00\",\"2017-08-07T12:00:00\",\"2017-08-07T13:00:00\",\"2017-08-07T14:00:00\",\"2017-08-07T15:00:00\",\"2017-08-07T16:00:00\",\"2017-08-08T08:00:00\",\"2017-08-08T09:00:00\",\"2017-08-08T10:00:00\",\"2017-08-08T11:00:00\",\"2017-08-08T12:00:00\",\"2017-08-08T13:00:00\",\"2017-08-08T14:00:00\",\"2017-08-08T15:00:00\",\"2017-08-08T16:00:00\",\"2017-08-09T08:00:00\",\"2017-08-09T09:00:00\",\"2017-08-09T10:00:00\",\"2017-08-09T11:00:00\",\"2017-08-09T12:00:00\",\"2017-08-09T13:00:00\",\"2017-08-09T14:00:00\",\"2017-08-09T15:00:00\",\"2017-08-09T16:00:00\",\"2017-08-10T08:00:00\",\"2017-08-10T09:00:00\",\"2017-08-10T10:00:00\",\"2017-08-10T11:00:00\",\"2017-08-10T12:00:00\",\"2017-08-10T13:00:00\",\"2017-08-10T14:00:00\",\"2017-08-10T15:00:00\",\"2017-08-10T16:00:00\",\"2017-08-11T08:00:00\",\"2017-08-11T09:00:00\",\"2017-08-11T10:00:00\",\"2017-08-11T11:00:00\",\"2017-08-11T12:00:00\",\"2017-08-11T13:00:00\",\"2017-08-11T14:00:00\",\"2017-08-11T15:00:00\",\"2017-08-11T16:00:00\",\"2017-08-12T08:00:00\",\"2017-08-12T09:00:00\",\"2017-08-12T10:00:00\",\"2017-08-12T11:00:00\",\"2017-08-12T12:00:00\",\"2017-08-12T13:00:00\",\"2017-08-12T14:00:00\",\"2017-08-12T15:00:00\",\"2017-08-12T16:00:00\",\"2017-08-13T08:00:00\",\"2017-08-13T09:00:00\",\"2017-08-13T10:00:00\",\"2017-08-13T11:00:00\",\"2017-08-13T12:00:00\",\"2017-08-13T13:00:00\",\"2017-08-13T14:00:00\",\"2017-08-13T15:00:00\",\"2017-08-13T16:00:00\",\"2017-08-14T08:00:00\",\"2017-08-14T09:00:00\",\"2017-08-14T10:00:00\",\"2017-08-14T11:00:00\",\"2017-08-14T12:00:00\",\"2017-08-14T13:00:00\",\"2017-08-14T14:00:00\",\"2017-08-14T15:00:00\",\"2017-08-14T16:00:00\",\"2017-08-15T08:00:00\",\"2017-08-15T09:00:00\",\"2017-08-15T10:00:00\",\"2017-08-15T11:00:00\",\"2017-08-15T12:00:00\",\"2017-08-15T13:00:00\",\"2017-08-15T14:00:00\",\"2017-08-15T15:00:00\",\"2017-08-15T16:00:00\",\"2017-08-16T08:00:00\",\"2017-08-16T09:00:00\",\"2017-08-16T10:00:00\",\"2017-08-16T11:00:00\",\"2017-08-16T12:00:00\",\"2017-08-16T13:00:00\",\"2017-08-16T14:00:00\",\"2017-08-16T15:00:00\",\"2017-08-16T16:00:00\",\"2017-08-17T08:00:00\",\"2017-08-17T09:00:00\",\"2017-08-17T10:00:00\",\"2017-08-17T11:00:00\",\"2017-08-17T12:00:00\",\"2017-08-17T13:00:00\",\"2017-08-17T14:00:00\",\"2017-08-17T15:00:00\",\"2017-08-17T16:00:00\",\"2017-08-18T08:00:00\",\"2017-08-18T09:00:00\",\"2017-08-18T10:00:00\",\"2017-08-18T11:00:00\",\"2017-08-18T12:00:00\",\"2017-08-18T13:00:00\",\"2017-08-18T14:00:00\",\"2017-08-18T15:00:00\",\"2017-08-18T16:00:00\",\"2017-08-19T08:00:00\",\"2017-08-19T09:00:00\",\"2017-08-19T10:00:00\",\"2017-08-19T11:00:00\",\"2017-08-19T12:00:00\",\"2017-08-19T13:00:00\",\"2017-08-19T14:00:00\",\"2017-08-19T15:00:00\",\"2017-08-19T16:00:00\"],\"xaxis\":\"x\",\"y\":[713.0,886.0,1141.0,1322.0,1375.0,1468.0,1469.0,1355.0,1208.0,742.0,927.0,1182.0,1348.0,1451.0,1544.0,1537.0,1454.0,1286.0,770.0,956.0,1267.0,1489.0,1541.0,1581.0,1587.0,1517.0,1418.0,888.0,1069.0,1240.0,1387.0,1518.0,1514.0,1469.0,1381.0,1254.0,761.0,898.0,1054.0,1194.0,1328.0,1471.0,1533.0,1595.0,1596.0,741.0,771.0,902.0,1199.0,1391.0,1509.0,1626.0,1626.0,1492.0,705.0,894.0,1173.0,1357.0,1475.0,1500.0,1464.0,1376.0,1281.0,922.0,1130.0,1251.0,1350.0,1471.0,1506.0,1527.0,1366.0,1206.0,839.0,1001.0,1262.0,1359.0,1435.0,1502.0,1539.0,1477.0,1383.0,818.0,988.0,1216.0,1357.0,1480.0,1603.0,1605.0,1557.0,1467.0,868.0,1034.0,1183.0,1264.0,1315.0,1356.0,1384.0,1365.0,1264.0,669.0,834.0,978.0,1038.0,1196.0,1344.0,1503.0,1551.0,1582.0,614.0,639.0,787.0,999.0,1154.0,1334.0,1463.0,1470.0,1362.0,684.0,907.0,1151.0,1318.0,1503.0,1627.0,1657.0,1618.0,1450.0],\"yaxis\":\"y\",\"type\":\"scatter\"},{\"hovertemplate\":\"variable=prediction<br>timestamp=%{x}<br>value=%{y}<extra></extra>\",\"legendgroup\":\"prediction\",\"line\":{\"color\":\"#EF553B\",\"dash\":\"solid\"},\"marker\":{\"symbol\":\"circle\"},\"mode\":\"lines\",\"name\":\"prediction\",\"orientation\":\"v\",\"showlegend\":true,\"x\":[\"2017-08-06T08:00:00\",\"2017-08-06T09:00:00\",\"2017-08-06T10:00:00\",\"2017-08-06T11:00:00\",\"2017-08-06T12:00:00\",\"2017-08-06T13:00:00\",\"2017-08-06T14:00:00\",\"2017-08-06T15:00:00\",\"2017-08-06T16:00:00\",\"2017-08-07T08:00:00\",\"2017-08-07T09:00:00\",\"2017-08-07T10:00:00\",\"2017-08-07T11:00:00\",\"2017-08-07T12:00:00\",\"2017-08-07T13:00:00\",\"2017-08-07T14:00:00\",\"2017-08-07T15:00:00\",\"2017-08-07T16:00:00\",\"2017-08-08T08:00:00\",\"2017-08-08T09:00:00\",\"2017-08-08T10:00:00\",\"2017-08-08T11:00:00\",\"2017-08-08T12:00:00\",\"2017-08-08T13:00:00\",\"2017-08-08T14:00:00\",\"2017-08-08T15:00:00\",\"2017-08-08T16:00:00\",\"2017-08-09T08:00:00\",\"2017-08-09T09:00:00\",\"2017-08-09T10:00:00\",\"2017-08-09T11:00:00\",\"2017-08-09T12:00:00\",\"2017-08-09T13:00:00\",\"2017-08-09T14:00:00\",\"2017-08-09T15:00:00\",\"2017-08-09T16:00:00\",\"2017-08-10T08:00:00\",\"2017-08-10T09:00:00\",\"2017-08-10T10:00:00\",\"2017-08-10T11:00:00\",\"2017-08-10T12:00:00\",\"2017-08-10T13:00:00\",\"2017-08-10T14:00:00\",\"2017-08-10T15:00:00\",\"2017-08-10T16:00:00\",\"2017-08-11T08:00:00\",\"2017-08-11T09:00:00\",\"2017-08-11T10:00:00\",\"2017-08-11T11:00:00\",\"2017-08-11T12:00:00\",\"2017-08-11T13:00:00\",\"2017-08-11T14:00:00\",\"2017-08-11T15:00:00\",\"2017-08-11T16:00:00\",\"2017-08-12T08:00:00\",\"2017-08-12T09:00:00\",\"2017-08-12T10:00:00\",\"2017-08-12T11:00:00\",\"2017-08-12T12:00:00\",\"2017-08-12T13:00:00\",\"2017-08-12T14:00:00\",\"2017-08-12T15:00:00\",\"2017-08-12T16:00:00\",\"2017-08-13T08:00:00\",\"2017-08-13T09:00:00\",\"2017-08-13T10:00:00\",\"2017-08-13T11:00:00\",\"2017-08-13T12:00:00\",\"2017-08-13T13:00:00\",\"2017-08-13T14:00:00\",\"2017-08-13T15:00:00\",\"2017-08-13T16:00:00\",\"2017-08-14T08:00:00\",\"2017-08-14T09:00:00\",\"2017-08-14T10:00:00\",\"2017-08-14T11:00:00\",\"2017-08-14T12:00:00\",\"2017-08-14T13:00:00\",\"2017-08-14T14:00:00\",\"2017-08-14T15:00:00\",\"2017-08-14T16:00:00\",\"2017-08-15T08:00:00\",\"2017-08-15T09:00:00\",\"2017-08-15T10:00:00\",\"2017-08-15T11:00:00\",\"2017-08-15T12:00:00\",\"2017-08-15T13:00:00\",\"2017-08-15T14:00:00\",\"2017-08-15T15:00:00\",\"2017-08-15T16:00:00\",\"2017-08-16T08:00:00\",\"2017-08-16T09:00:00\",\"2017-08-16T10:00:00\",\"2017-08-16T11:00:00\",\"2017-08-16T12:00:00\",\"2017-08-16T13:00:00\",\"2017-08-16T14:00:00\",\"2017-08-16T15:00:00\",\"2017-08-16T16:00:00\",\"2017-08-17T08:00:00\",\"2017-08-17T09:00:00\",\"2017-08-17T10:00:00\",\"2017-08-17T11:00:00\",\"2017-08-17T12:00:00\",\"2017-08-17T13:00:00\",\"2017-08-17T14:00:00\",\"2017-08-17T15:00:00\",\"2017-08-17T16:00:00\",\"2017-08-18T08:00:00\",\"2017-08-18T09:00:00\",\"2017-08-18T10:00:00\",\"2017-08-18T11:00:00\",\"2017-08-18T12:00:00\",\"2017-08-18T13:00:00\",\"2017-08-18T14:00:00\",\"2017-08-18T15:00:00\",\"2017-08-18T16:00:00\",\"2017-08-19T08:00:00\",\"2017-08-19T09:00:00\",\"2017-08-19T10:00:00\",\"2017-08-19T11:00:00\",\"2017-08-19T12:00:00\",\"2017-08-19T13:00:00\",\"2017-08-19T14:00:00\",\"2017-08-19T15:00:00\",\"2017-08-19T16:00:00\"],\"xaxis\":\"x\",\"y\":[725.1881103515625,972.4462890625,1209.4066162109375,1327.9605712890625,1412.8472900390625,1417.249267578125,1385.81494140625,1305.3857421875,1162.0228271484375,810.3223266601562,1046.8480224609375,1267.3941650390625,1329.6514892578125,1426.2574462890625,1477.2911376953125,1502.9676513671875,1431.9305419921875,1294.98779296875,752.6050415039062,977.3084716796875,1233.3704833984375,1376.123291015625,1454.0341796875,1475.3712158203125,1492.8167724609375,1498.6900634765625,1325.418701171875,776.022216796875,1002.7903442382812,1236.3515625,1375.077880859375,1456.6077880859375,1478.9384765625,1445.527587890625,1361.5533447265625,1186.7548828125,899.3161010742188,1056.7862548828125,1109.56298828125,1306.841064453125,1460.8280029296875,1518.81103515625,1527.73388671875,1474.733154296875,1363.4295654296875,881.1358032226562,1059.6796875,1215.117431640625,1346.45751953125,1453.6978759765625,1502.48046875,1593.9884033203125,1620.338134765625,1280.022705078125,785.8807373046875,961.3190307617188,1168.2371826171875,1333.4180908203125,1456.4515380859375,1502.283447265625,1519.48046875,1474.9141845703125,801.7102661132812,1118.985107421875,1019.494140625,1198.23876953125,1320.3056640625,1383.265869140625,1417.181396484375,1386.78955078125,1331.5050048828125,1217.32470703125,1026.0299072265625,1040.988525390625,1201.9801025390625,1425.1646728515625,1500.3924560546875,1535.02734375,1540.2210693359375,1425.9473876953125,1281.3328857421875,724.4151000976562,928.3597412109375,1211.1722412109375,1388.380615234375,1475.6883544921875,1546.56591796875,1550.94873046875,1642.99267578125,1580.8458251953125,857.3690185546875,1045.59765625,1224.771240234375,1372.3441162109375,1474.3046875,1556.6021728515625,1554.82958984375,1471.69384765625,1350.6715087890625,1215.4566650390625,1000.6378173828125,991.334228515625,1137.3751220703125,1256.3197021484375,1326.639404296875,1408.3258056640625,1366.6348876953125,1285.7003173828125,1191.5804443359375,1100.4219970703125,1076.718505859375,1145.0240478515625,1249.457763671875,1314.5009765625,1429.958251953125,1474.81103515625,1422.892333984375,1324.568115234375,1219.05615234375,1058.56103515625,1043.68212890625,1202.26025390625,1312.921630859375,1361.2396240234375,1369.740234375,1304.1878662109375],\"yaxis\":\"y\",\"type\":\"scatter\"}],                        {\"template\":{\"data\":{\"bar\":[{\"error_x\":{\"color\":\"#2a3f5f\"},\"error_y\":{\"color\":\"#2a3f5f\"},\"marker\":{\"line\":{\"color\":\"#E5ECF6\",\"width\":0.5},\"pattern\":{\"fillmode\":\"overlay\",\"size\":10,\"solidity\":0.2}},\"type\":\"bar\"}],\"barpolar\":[{\"marker\":{\"line\":{\"color\":\"#E5ECF6\",\"width\":0.5},\"pattern\":{\"fillmode\":\"overlay\",\"size\":10,\"solidity\":0.2}},\"type\":\"barpolar\"}],\"carpet\":[{\"aaxis\":{\"endlinecolor\":\"#2a3f5f\",\"gridcolor\":\"white\",\"linecolor\":\"white\",\"minorgridcolor\":\"white\",\"startlinecolor\":\"#2a3f5f\"},\"baxis\":{\"endlinecolor\":\"#2a3f5f\",\"gridcolor\":\"white\",\"linecolor\":\"white\",\"minorgridcolor\":\"white\",\"startlinecolor\":\"#2a3f5f\"},\"type\":\"carpet\"}],\"choropleth\":[{\"colorbar\":{\"outlinewidth\":0,\"ticks\":\"\"},\"type\":\"choropleth\"}],\"contour\":[{\"colorbar\":{\"outlinewidth\":0,\"ticks\":\"\"},\"colorscale\":[[0.0,\"#0d0887\"],[0.1111111111111111,\"#46039f\"],[0.2222222222222222,\"#7201a8\"],[0.3333333333333333,\"#9c179e\"],[0.4444444444444444,\"#bd3786\"],[0.5555555555555556,\"#d8576b\"],[0.6666666666666666,\"#ed7953\"],[0.7777777777777778,\"#fb9f3a\"],[0.8888888888888888,\"#fdca26\"],[1.0,\"#f0f921\"]],\"type\":\"contour\"}],\"contourcarpet\":[{\"colorbar\":{\"outlinewidth\":0,\"ticks\":\"\"},\"type\":\"contourcarpet\"}],\"heatmap\":[{\"colorbar\":{\"outlinewidth\":0,\"ticks\":\"\"},\"colorscale\":[[0.0,\"#0d0887\"],[0.1111111111111111,\"#46039f\"],[0.2222222222222222,\"#7201a8\"],[0.3333333333333333,\"#9c179e\"],[0.4444444444444444,\"#bd3786\"],[0.5555555555555556,\"#d8576b\"],[0.6666666666666666,\"#ed7953\"],[0.7777777777777778,\"#fb9f3a\"],[0.8888888888888888,\"#fdca26\"],[1.0,\"#f0f921\"]],\"type\":\"heatmap\"}],\"heatmapgl\":[{\"colorbar\":{\"outlinewidth\":0,\"ticks\":\"\"},\"colorscale\":[[0.0,\"#0d0887\"],[0.1111111111111111,\"#46039f\"],[0.2222222222222222,\"#7201a8\"],[0.3333333333333333,\"#9c179e\"],[0.4444444444444444,\"#bd3786\"],[0.5555555555555556,\"#d8576b\"],[0.6666666666666666,\"#ed7953\"],[0.7777777777777778,\"#fb9f3a\"],[0.8888888888888888,\"#fdca26\"],[1.0,\"#f0f921\"]],\"type\":\"heatmapgl\"}],\"histogram\":[{\"marker\":{\"pattern\":{\"fillmode\":\"overlay\",\"size\":10,\"solidity\":0.2}},\"type\":\"histogram\"}],\"histogram2d\":[{\"colorbar\":{\"outlinewidth\":0,\"ticks\":\"\"},\"colorscale\":[[0.0,\"#0d0887\"],[0.1111111111111111,\"#46039f\"],[0.2222222222222222,\"#7201a8\"],[0.3333333333333333,\"#9c179e\"],[0.4444444444444444,\"#bd3786\"],[0.5555555555555556,\"#d8576b\"],[0.6666666666666666,\"#ed7953\"],[0.7777777777777778,\"#fb9f3a\"],[0.8888888888888888,\"#fdca26\"],[1.0,\"#f0f921\"]],\"type\":\"histogram2d\"}],\"histogram2dcontour\":[{\"colorbar\":{\"outlinewidth\":0,\"ticks\":\"\"},\"colorscale\":[[0.0,\"#0d0887\"],[0.1111111111111111,\"#46039f\"],[0.2222222222222222,\"#7201a8\"],[0.3333333333333333,\"#9c179e\"],[0.4444444444444444,\"#bd3786\"],[0.5555555555555556,\"#d8576b\"],[0.6666666666666666,\"#ed7953\"],[0.7777777777777778,\"#fb9f3a\"],[0.8888888888888888,\"#fdca26\"],[1.0,\"#f0f921\"]],\"type\":\"histogram2dcontour\"}],\"mesh3d\":[{\"colorbar\":{\"outlinewidth\":0,\"ticks\":\"\"},\"type\":\"mesh3d\"}],\"parcoords\":[{\"line\":{\"colorbar\":{\"outlinewidth\":0,\"ticks\":\"\"}},\"type\":\"parcoords\"}],\"pie\":[{\"automargin\":true,\"type\":\"pie\"}],\"scatter\":[{\"marker\":{\"colorbar\":{\"outlinewidth\":0,\"ticks\":\"\"}},\"type\":\"scatter\"}],\"scatter3d\":[{\"line\":{\"colorbar\":{\"outlinewidth\":0,\"ticks\":\"\"}},\"marker\":{\"colorbar\":{\"outlinewidth\":0,\"ticks\":\"\"}},\"type\":\"scatter3d\"}],\"scattercarpet\":[{\"marker\":{\"colorbar\":{\"outlinewidth\":0,\"ticks\":\"\"}},\"type\":\"scattercarpet\"}],\"scattergeo\":[{\"marker\":{\"colorbar\":{\"outlinewidth\":0,\"ticks\":\"\"}},\"type\":\"scattergeo\"}],\"scattergl\":[{\"marker\":{\"colorbar\":{\"outlinewidth\":0,\"ticks\":\"\"}},\"type\":\"scattergl\"}],\"scattermapbox\":[{\"marker\":{\"colorbar\":{\"outlinewidth\":0,\"ticks\":\"\"}},\"type\":\"scattermapbox\"}],\"scatterpolar\":[{\"marker\":{\"colorbar\":{\"outlinewidth\":0,\"ticks\":\"\"}},\"type\":\"scatterpolar\"}],\"scatterpolargl\":[{\"marker\":{\"colorbar\":{\"outlinewidth\":0,\"ticks\":\"\"}},\"type\":\"scatterpolargl\"}],\"scatterternary\":[{\"marker\":{\"colorbar\":{\"outlinewidth\":0,\"ticks\":\"\"}},\"type\":\"scatterternary\"}],\"surface\":[{\"colorbar\":{\"outlinewidth\":0,\"ticks\":\"\"},\"colorscale\":[[0.0,\"#0d0887\"],[0.1111111111111111,\"#46039f\"],[0.2222222222222222,\"#7201a8\"],[0.3333333333333333,\"#9c179e\"],[0.4444444444444444,\"#bd3786\"],[0.5555555555555556,\"#d8576b\"],[0.6666666666666666,\"#ed7953\"],[0.7777777777777778,\"#fb9f3a\"],[0.8888888888888888,\"#fdca26\"],[1.0,\"#f0f921\"]],\"type\":\"surface\"}],\"table\":[{\"cells\":{\"fill\":{\"color\":\"#EBF0F8\"},\"line\":{\"color\":\"white\"}},\"header\":{\"fill\":{\"color\":\"#C8D4E3\"},\"line\":{\"color\":\"white\"}},\"type\":\"table\"}]},\"layout\":{\"annotationdefaults\":{\"arrowcolor\":\"#2a3f5f\",\"arrowhead\":0,\"arrowwidth\":1},\"autotypenumbers\":\"strict\",\"coloraxis\":{\"colorbar\":{\"outlinewidth\":0,\"ticks\":\"\"}},\"colorscale\":{\"diverging\":[[0,\"#8e0152\"],[0.1,\"#c51b7d\"],[0.2,\"#de77ae\"],[0.3,\"#f1b6da\"],[0.4,\"#fde0ef\"],[0.5,\"#f7f7f7\"],[0.6,\"#e6f5d0\"],[0.7,\"#b8e186\"],[0.8,\"#7fbc41\"],[0.9,\"#4d9221\"],[1,\"#276419\"]],\"sequential\":[[0.0,\"#0d0887\"],[0.1111111111111111,\"#46039f\"],[0.2222222222222222,\"#7201a8\"],[0.3333333333333333,\"#9c179e\"],[0.4444444444444444,\"#bd3786\"],[0.5555555555555556,\"#d8576b\"],[0.6666666666666666,\"#ed7953\"],[0.7777777777777778,\"#fb9f3a\"],[0.8888888888888888,\"#fdca26\"],[1.0,\"#f0f921\"]],\"sequentialminus\":[[0.0,\"#0d0887\"],[0.1111111111111111,\"#46039f\"],[0.2222222222222222,\"#7201a8\"],[0.3333333333333333,\"#9c179e\"],[0.4444444444444444,\"#bd3786\"],[0.5555555555555556,\"#d8576b\"],[0.6666666666666666,\"#ed7953\"],[0.7777777777777778,\"#fb9f3a\"],[0.8888888888888888,\"#fdca26\"],[1.0,\"#f0f921\"]]},\"colorway\":[\"#636efa\",\"#EF553B\",\"#00cc96\",\"#ab63fa\",\"#FFA15A\",\"#19d3f3\",\"#FF6692\",\"#B6E880\",\"#FF97FF\",\"#FECB52\"],\"font\":{\"color\":\"#2a3f5f\"},\"geo\":{\"bgcolor\":\"white\",\"lakecolor\":\"white\",\"landcolor\":\"#E5ECF6\",\"showlakes\":true,\"showland\":true,\"subunitcolor\":\"white\"},\"hoverlabel\":{\"align\":\"left\"},\"hovermode\":\"closest\",\"mapbox\":{\"style\":\"light\"},\"paper_bgcolor\":\"white\",\"plot_bgcolor\":\"#E5ECF6\",\"polar\":{\"angularaxis\":{\"gridcolor\":\"white\",\"linecolor\":\"white\",\"ticks\":\"\"},\"bgcolor\":\"#E5ECF6\",\"radialaxis\":{\"gridcolor\":\"white\",\"linecolor\":\"white\",\"ticks\":\"\"}},\"scene\":{\"xaxis\":{\"backgroundcolor\":\"#E5ECF6\",\"gridcolor\":\"white\",\"gridwidth\":2,\"linecolor\":\"white\",\"showbackground\":true,\"ticks\":\"\",\"zerolinecolor\":\"white\"},\"yaxis\":{\"backgroundcolor\":\"#E5ECF6\",\"gridcolor\":\"white\",\"gridwidth\":2,\"linecolor\":\"white\",\"showbackground\":true,\"ticks\":\"\",\"zerolinecolor\":\"white\"},\"zaxis\":{\"backgroundcolor\":\"#E5ECF6\",\"gridcolor\":\"white\",\"gridwidth\":2,\"linecolor\":\"white\",\"showbackground\":true,\"ticks\":\"\",\"zerolinecolor\":\"white\"}},\"shapedefaults\":{\"line\":{\"color\":\"#2a3f5f\"}},\"ternary\":{\"aaxis\":{\"gridcolor\":\"white\",\"linecolor\":\"white\",\"ticks\":\"\"},\"baxis\":{\"gridcolor\":\"white\",\"linecolor\":\"white\",\"ticks\":\"\"},\"bgcolor\":\"#E5ECF6\",\"caxis\":{\"gridcolor\":\"white\",\"linecolor\":\"white\",\"ticks\":\"\"}},\"title\":{\"x\":0.05},\"xaxis\":{\"automargin\":true,\"gridcolor\":\"white\",\"linecolor\":\"white\",\"ticks\":\"\",\"title\":{\"standoff\":15},\"zerolinecolor\":\"white\",\"zerolinewidth\":2},\"yaxis\":{\"automargin\":true,\"gridcolor\":\"white\",\"linecolor\":\"white\",\"ticks\":\"\",\"title\":{\"standoff\":15},\"zerolinecolor\":\"white\",\"zerolinewidth\":2}}},\"xaxis\":{\"anchor\":\"y\",\"domain\":[0.0,1.0],\"title\":{\"text\":\"timestamp\"},\"rangeslider\":{\"visible\":true}},\"yaxis\":{\"anchor\":\"x\",\"domain\":[0.0,1.0],\"title\":{\"text\":\"value\"}},\"legend\":{\"title\":{\"text\":\"variable\"},\"tracegroupgap\":0},\"title\":{\"text\":\"Number of usage for municipality_id:7\"},\"height\":500,\"width\":900},                        {\"responsive\": true}                    ).then(function(){\n",
              "                            \n",
              "var gd = document.getElementById('4a64dff7-8851-4f7d-99d1-827ccf36d758');\n",
              "var x = new MutationObserver(function (mutations, observer) {{\n",
              "        var display = window.getComputedStyle(gd).display;\n",
              "        if (!display || display === 'none') {{\n",
              "            console.log([gd, 'removed!']);\n",
              "            Plotly.purge(gd);\n",
              "            observer.disconnect();\n",
              "        }}\n",
              "}});\n",
              "\n",
              "// Listen for the removal of the full notebook cells\n",
              "var notebookContainer = gd.closest('#notebook-container');\n",
              "if (notebookContainer) {{\n",
              "    x.observe(notebookContainer, {childList: true});\n",
              "}}\n",
              "\n",
              "// Listen for the clearing of the current output cell\n",
              "var outputEl = gd.closest('.output');\n",
              "if (outputEl) {{\n",
              "    x.observe(outputEl, {childList: true});\n",
              "}}\n",
              "\n",
              "                        })                };                            </script>        </div>\n",
              "</body>\n",
              "</html>"
            ]
          },
          "metadata": {}
        },
        {
          "output_type": "display_data",
          "data": {
            "text/html": [
              "<html>\n",
              "<head><meta charset=\"utf-8\" /></head>\n",
              "<body>\n",
              "    <div>            <script src=\"https://cdnjs.cloudflare.com/ajax/libs/mathjax/2.7.5/MathJax.js?config=TeX-AMS-MML_SVG\"></script><script type=\"text/javascript\">if (window.MathJax) {MathJax.Hub.Config({SVG: {font: \"STIX-Web\"}});}</script>                <script type=\"text/javascript\">window.PlotlyConfig = {MathJaxConfig: 'local'};</script>\n",
              "        <script src=\"https://cdn.plot.ly/plotly-2.8.3.min.js\"></script>                <div id=\"6365b8ff-03f2-48b5-815a-b1a0baebb1bd\" class=\"plotly-graph-div\" style=\"height:500px; width:900px;\"></div>            <script type=\"text/javascript\">                                    window.PLOTLYENV=window.PLOTLYENV || {};                                    if (document.getElementById(\"6365b8ff-03f2-48b5-815a-b1a0baebb1bd\")) {                    Plotly.newPlot(                        \"6365b8ff-03f2-48b5-815a-b1a0baebb1bd\",                        [{\"hovertemplate\":\"variable=test<br>timestamp=%{x}<br>value=%{y}<extra></extra>\",\"legendgroup\":\"test\",\"line\":{\"color\":\"#636efa\",\"dash\":\"solid\"},\"marker\":{\"symbol\":\"circle\"},\"mode\":\"lines\",\"name\":\"test\",\"orientation\":\"v\",\"showlegend\":true,\"x\":[\"2017-08-06T08:00:00\",\"2017-08-06T09:00:00\",\"2017-08-06T10:00:00\",\"2017-08-06T11:00:00\",\"2017-08-06T12:00:00\",\"2017-08-06T13:00:00\",\"2017-08-06T14:00:00\",\"2017-08-06T15:00:00\",\"2017-08-06T16:00:00\",\"2017-08-07T08:00:00\",\"2017-08-07T09:00:00\",\"2017-08-07T10:00:00\",\"2017-08-07T11:00:00\",\"2017-08-07T12:00:00\",\"2017-08-07T13:00:00\",\"2017-08-07T14:00:00\",\"2017-08-07T15:00:00\",\"2017-08-07T16:00:00\",\"2017-08-08T08:00:00\",\"2017-08-08T09:00:00\",\"2017-08-08T10:00:00\",\"2017-08-08T11:00:00\",\"2017-08-08T12:00:00\",\"2017-08-08T13:00:00\",\"2017-08-08T14:00:00\",\"2017-08-08T15:00:00\",\"2017-08-08T16:00:00\",\"2017-08-09T08:00:00\",\"2017-08-09T09:00:00\",\"2017-08-09T10:00:00\",\"2017-08-09T11:00:00\",\"2017-08-09T12:00:00\",\"2017-08-09T13:00:00\",\"2017-08-09T14:00:00\",\"2017-08-09T15:00:00\",\"2017-08-09T16:00:00\",\"2017-08-10T08:00:00\",\"2017-08-10T09:00:00\",\"2017-08-10T10:00:00\",\"2017-08-10T11:00:00\",\"2017-08-10T12:00:00\",\"2017-08-10T13:00:00\",\"2017-08-10T14:00:00\",\"2017-08-10T15:00:00\",\"2017-08-10T16:00:00\",\"2017-08-11T08:00:00\",\"2017-08-11T09:00:00\",\"2017-08-11T10:00:00\",\"2017-08-11T11:00:00\",\"2017-08-11T12:00:00\",\"2017-08-11T13:00:00\",\"2017-08-11T14:00:00\",\"2017-08-11T15:00:00\",\"2017-08-11T16:00:00\",\"2017-08-12T08:00:00\",\"2017-08-12T09:00:00\",\"2017-08-12T10:00:00\",\"2017-08-12T11:00:00\",\"2017-08-12T12:00:00\",\"2017-08-12T13:00:00\",\"2017-08-12T14:00:00\",\"2017-08-12T15:00:00\",\"2017-08-12T16:00:00\",\"2017-08-13T08:00:00\",\"2017-08-13T09:00:00\",\"2017-08-13T10:00:00\",\"2017-08-13T11:00:00\",\"2017-08-13T12:00:00\",\"2017-08-13T13:00:00\",\"2017-08-13T14:00:00\",\"2017-08-13T15:00:00\",\"2017-08-13T16:00:00\",\"2017-08-14T08:00:00\",\"2017-08-14T09:00:00\",\"2017-08-14T10:00:00\",\"2017-08-14T11:00:00\",\"2017-08-14T12:00:00\",\"2017-08-14T13:00:00\",\"2017-08-14T14:00:00\",\"2017-08-14T15:00:00\",\"2017-08-14T16:00:00\",\"2017-08-15T08:00:00\",\"2017-08-15T09:00:00\",\"2017-08-15T10:00:00\",\"2017-08-15T11:00:00\",\"2017-08-15T12:00:00\",\"2017-08-15T13:00:00\",\"2017-08-15T14:00:00\",\"2017-08-15T15:00:00\",\"2017-08-15T16:00:00\",\"2017-08-16T08:00:00\",\"2017-08-16T09:00:00\",\"2017-08-16T10:00:00\",\"2017-08-16T11:00:00\",\"2017-08-16T12:00:00\",\"2017-08-16T13:00:00\",\"2017-08-16T14:00:00\",\"2017-08-16T15:00:00\",\"2017-08-16T16:00:00\",\"2017-08-17T08:00:00\",\"2017-08-17T09:00:00\",\"2017-08-17T10:00:00\",\"2017-08-17T11:00:00\",\"2017-08-17T12:00:00\",\"2017-08-17T13:00:00\",\"2017-08-17T14:00:00\",\"2017-08-17T15:00:00\",\"2017-08-17T16:00:00\",\"2017-08-18T08:00:00\",\"2017-08-18T09:00:00\",\"2017-08-18T10:00:00\",\"2017-08-18T11:00:00\",\"2017-08-18T12:00:00\",\"2017-08-18T13:00:00\",\"2017-08-18T14:00:00\",\"2017-08-18T15:00:00\",\"2017-08-18T16:00:00\",\"2017-08-19T08:00:00\",\"2017-08-19T09:00:00\",\"2017-08-19T10:00:00\",\"2017-08-19T11:00:00\",\"2017-08-19T12:00:00\",\"2017-08-19T13:00:00\",\"2017-08-19T14:00:00\",\"2017-08-19T15:00:00\",\"2017-08-19T16:00:00\"],\"xaxis\":\"x\",\"y\":[693.0,978.0,1207.0,1332.0,1351.0,1348.0,1348.0,1254.0,1108.0,720.0,1040.0,1265.0,1353.0,1380.0,1411.0,1424.0,1373.0,1256.0,648.0,938.0,1217.0,1352.0,1375.0,1392.0,1378.0,1329.0,1222.0,742.0,967.0,1112.0,1203.0,1226.0,1237.0,1217.0,1174.0,1076.0,477.0,565.0,667.0,745.0,811.0,891.0,948.0,983.0,984.0,450.0,480.0,599.0,772.0,831.0,862.0,933.0,943.0,896.0,630.0,905.0,1129.0,1245.0,1288.0,1296.0,1292.0,1270.0,1197.0,710.0,1023.0,1233.0,1334.0,1378.0,1376.0,1369.0,1274.0,1175.0,844.0,1101.0,1291.0,1302.0,1290.0,1302.0,1347.0,1306.0,1238.0,684.0,965.0,1156.0,1279.0,1332.0,1364.0,1368.0,1321.0,1253.0,759.0,974.0,1089.0,1157.0,1181.0,1178.0,1190.0,1194.0,1128.0,480.0,585.0,688.0,757.0,874.0,973.0,1087.0,1101.0,1135.0,461.0,458.0,583.0,735.0,778.0,847.0,922.0,944.0,953.0,611.0,867.0,1041.0,1195.0,1251.0,1315.0,1341.0,1336.0,1253.0],\"yaxis\":\"y\",\"type\":\"scatter\"},{\"hovertemplate\":\"variable=prediction<br>timestamp=%{x}<br>value=%{y}<extra></extra>\",\"legendgroup\":\"prediction\",\"line\":{\"color\":\"#EF553B\",\"dash\":\"solid\"},\"marker\":{\"symbol\":\"circle\"},\"mode\":\"lines\",\"name\":\"prediction\",\"orientation\":\"v\",\"showlegend\":true,\"x\":[\"2017-08-06T08:00:00\",\"2017-08-06T09:00:00\",\"2017-08-06T10:00:00\",\"2017-08-06T11:00:00\",\"2017-08-06T12:00:00\",\"2017-08-06T13:00:00\",\"2017-08-06T14:00:00\",\"2017-08-06T15:00:00\",\"2017-08-06T16:00:00\",\"2017-08-07T08:00:00\",\"2017-08-07T09:00:00\",\"2017-08-07T10:00:00\",\"2017-08-07T11:00:00\",\"2017-08-07T12:00:00\",\"2017-08-07T13:00:00\",\"2017-08-07T14:00:00\",\"2017-08-07T15:00:00\",\"2017-08-07T16:00:00\",\"2017-08-08T08:00:00\",\"2017-08-08T09:00:00\",\"2017-08-08T10:00:00\",\"2017-08-08T11:00:00\",\"2017-08-08T12:00:00\",\"2017-08-08T13:00:00\",\"2017-08-08T14:00:00\",\"2017-08-08T15:00:00\",\"2017-08-08T16:00:00\",\"2017-08-09T08:00:00\",\"2017-08-09T09:00:00\",\"2017-08-09T10:00:00\",\"2017-08-09T11:00:00\",\"2017-08-09T12:00:00\",\"2017-08-09T13:00:00\",\"2017-08-09T14:00:00\",\"2017-08-09T15:00:00\",\"2017-08-09T16:00:00\",\"2017-08-10T08:00:00\",\"2017-08-10T09:00:00\",\"2017-08-10T10:00:00\",\"2017-08-10T11:00:00\",\"2017-08-10T12:00:00\",\"2017-08-10T13:00:00\",\"2017-08-10T14:00:00\",\"2017-08-10T15:00:00\",\"2017-08-10T16:00:00\",\"2017-08-11T08:00:00\",\"2017-08-11T09:00:00\",\"2017-08-11T10:00:00\",\"2017-08-11T11:00:00\",\"2017-08-11T12:00:00\",\"2017-08-11T13:00:00\",\"2017-08-11T14:00:00\",\"2017-08-11T15:00:00\",\"2017-08-11T16:00:00\",\"2017-08-12T08:00:00\",\"2017-08-12T09:00:00\",\"2017-08-12T10:00:00\",\"2017-08-12T11:00:00\",\"2017-08-12T12:00:00\",\"2017-08-12T13:00:00\",\"2017-08-12T14:00:00\",\"2017-08-12T15:00:00\",\"2017-08-12T16:00:00\",\"2017-08-13T08:00:00\",\"2017-08-13T09:00:00\",\"2017-08-13T10:00:00\",\"2017-08-13T11:00:00\",\"2017-08-13T12:00:00\",\"2017-08-13T13:00:00\",\"2017-08-13T14:00:00\",\"2017-08-13T15:00:00\",\"2017-08-13T16:00:00\",\"2017-08-14T08:00:00\",\"2017-08-14T09:00:00\",\"2017-08-14T10:00:00\",\"2017-08-14T11:00:00\",\"2017-08-14T12:00:00\",\"2017-08-14T13:00:00\",\"2017-08-14T14:00:00\",\"2017-08-14T15:00:00\",\"2017-08-14T16:00:00\",\"2017-08-15T08:00:00\",\"2017-08-15T09:00:00\",\"2017-08-15T10:00:00\",\"2017-08-15T11:00:00\",\"2017-08-15T12:00:00\",\"2017-08-15T13:00:00\",\"2017-08-15T14:00:00\",\"2017-08-15T15:00:00\",\"2017-08-15T16:00:00\",\"2017-08-16T08:00:00\",\"2017-08-16T09:00:00\",\"2017-08-16T10:00:00\",\"2017-08-16T11:00:00\",\"2017-08-16T12:00:00\",\"2017-08-16T13:00:00\",\"2017-08-16T14:00:00\",\"2017-08-16T15:00:00\",\"2017-08-16T16:00:00\",\"2017-08-17T08:00:00\",\"2017-08-17T09:00:00\",\"2017-08-17T10:00:00\",\"2017-08-17T11:00:00\",\"2017-08-17T12:00:00\",\"2017-08-17T13:00:00\",\"2017-08-17T14:00:00\",\"2017-08-17T15:00:00\",\"2017-08-17T16:00:00\",\"2017-08-18T08:00:00\",\"2017-08-18T09:00:00\",\"2017-08-18T10:00:00\",\"2017-08-18T11:00:00\",\"2017-08-18T12:00:00\",\"2017-08-18T13:00:00\",\"2017-08-18T14:00:00\",\"2017-08-18T15:00:00\",\"2017-08-18T16:00:00\",\"2017-08-19T08:00:00\",\"2017-08-19T09:00:00\",\"2017-08-19T10:00:00\",\"2017-08-19T11:00:00\",\"2017-08-19T12:00:00\",\"2017-08-19T13:00:00\",\"2017-08-19T14:00:00\",\"2017-08-19T15:00:00\",\"2017-08-19T16:00:00\"],\"xaxis\":\"x\",\"y\":[744.313232421875,1078.525634765625,1244.2783203125,1316.6129150390625,1333.823486328125,1346.1805419921875,1308.3631591796875,1251.6739501953125,1190.4276123046875,996.48876953125,1048.085205078125,1175.541015625,1351.02978515625,1378.6409912109375,1390.9910888671875,1384.8060302734375,1319.43310546875,1172.1578369140625,761.4156494140625,1091.470703125,1331.1201171875,1396.4095458984375,1415.7786865234375,1415.60205078125,1402.3731689453125,1317.936279296875,1178.595458984375,690.9260864257812,988.2283935546875,1182.39501953125,1291.8896484375,1343.355712890625,1363.9454345703125,1346.41455078125,1287.0157470703125,1200.1112060546875,693.3338623046875,620.3138427734375,777.6404418945312,898.81982421875,1027.2191162109375,1072.0361328125,1034.278564453125,996.6079711914062,993.2045288085938,766.689697265625,953.1925048828125,1033.060302734375,1028.143798828125,1006.0896606445312,862.6293334960938,907.5162963867188,932.2569580078125,933.3011474609375,689.5164184570312,829.8681640625,894.7034912109375,976.189697265625,996.411376953125,1015.8447265625,1012.7543334960938,990.8427124023438,902.7484130859375,1049.4920654296875,1009.42578125,1141.2738037109375,1217.586669921875,1253.9066162109375,1250.6787109375,1244.1156005859375,1209.8175048828125,1133.2255859375,971.8019409179688,1061.15673828125,1140.5406494140625,1358.0439453125,1379.8104248046875,1387.951171875,1388.2637939453125,1333.759765625,1230.56103515625,745.1557006835938,1073.7803955078125,1286.3431396484375,1367.454345703125,1376.3438720703125,1384.9581298828125,1397.6796875,1312.482177734375,1254.4127197265625,740.4265747070312,1050.9449462890625,1225.6927490234375,1288.7149658203125,1311.3101806640625,1310.063720703125,1308.423828125,1262.8553466796875,1215.11181640625,1064.8209228515625,566.7005004882812,718.87255859375,873.5366821289062,995.6293334960938,1079.710205078125,1081.906005859375,1076.854248046875,1040.883056640625,1034.400390625,1045.517578125,1045.4986572265625,1049.7877197265625,1033.8125,752.4812622070312,862.1866455078125,833.3291015625,791.73095703125,768.7261352539062,798.2276611328125,792.1366577148438,783.7031860351562,780.5028686523438,788.6370849609375,803.7266845703125,803.4632568359375,783.3582763671875],\"yaxis\":\"y\",\"type\":\"scatter\"}],                        {\"template\":{\"data\":{\"bar\":[{\"error_x\":{\"color\":\"#2a3f5f\"},\"error_y\":{\"color\":\"#2a3f5f\"},\"marker\":{\"line\":{\"color\":\"#E5ECF6\",\"width\":0.5},\"pattern\":{\"fillmode\":\"overlay\",\"size\":10,\"solidity\":0.2}},\"type\":\"bar\"}],\"barpolar\":[{\"marker\":{\"line\":{\"color\":\"#E5ECF6\",\"width\":0.5},\"pattern\":{\"fillmode\":\"overlay\",\"size\":10,\"solidity\":0.2}},\"type\":\"barpolar\"}],\"carpet\":[{\"aaxis\":{\"endlinecolor\":\"#2a3f5f\",\"gridcolor\":\"white\",\"linecolor\":\"white\",\"minorgridcolor\":\"white\",\"startlinecolor\":\"#2a3f5f\"},\"baxis\":{\"endlinecolor\":\"#2a3f5f\",\"gridcolor\":\"white\",\"linecolor\":\"white\",\"minorgridcolor\":\"white\",\"startlinecolor\":\"#2a3f5f\"},\"type\":\"carpet\"}],\"choropleth\":[{\"colorbar\":{\"outlinewidth\":0,\"ticks\":\"\"},\"type\":\"choropleth\"}],\"contour\":[{\"colorbar\":{\"outlinewidth\":0,\"ticks\":\"\"},\"colorscale\":[[0.0,\"#0d0887\"],[0.1111111111111111,\"#46039f\"],[0.2222222222222222,\"#7201a8\"],[0.3333333333333333,\"#9c179e\"],[0.4444444444444444,\"#bd3786\"],[0.5555555555555556,\"#d8576b\"],[0.6666666666666666,\"#ed7953\"],[0.7777777777777778,\"#fb9f3a\"],[0.8888888888888888,\"#fdca26\"],[1.0,\"#f0f921\"]],\"type\":\"contour\"}],\"contourcarpet\":[{\"colorbar\":{\"outlinewidth\":0,\"ticks\":\"\"},\"type\":\"contourcarpet\"}],\"heatmap\":[{\"colorbar\":{\"outlinewidth\":0,\"ticks\":\"\"},\"colorscale\":[[0.0,\"#0d0887\"],[0.1111111111111111,\"#46039f\"],[0.2222222222222222,\"#7201a8\"],[0.3333333333333333,\"#9c179e\"],[0.4444444444444444,\"#bd3786\"],[0.5555555555555556,\"#d8576b\"],[0.6666666666666666,\"#ed7953\"],[0.7777777777777778,\"#fb9f3a\"],[0.8888888888888888,\"#fdca26\"],[1.0,\"#f0f921\"]],\"type\":\"heatmap\"}],\"heatmapgl\":[{\"colorbar\":{\"outlinewidth\":0,\"ticks\":\"\"},\"colorscale\":[[0.0,\"#0d0887\"],[0.1111111111111111,\"#46039f\"],[0.2222222222222222,\"#7201a8\"],[0.3333333333333333,\"#9c179e\"],[0.4444444444444444,\"#bd3786\"],[0.5555555555555556,\"#d8576b\"],[0.6666666666666666,\"#ed7953\"],[0.7777777777777778,\"#fb9f3a\"],[0.8888888888888888,\"#fdca26\"],[1.0,\"#f0f921\"]],\"type\":\"heatmapgl\"}],\"histogram\":[{\"marker\":{\"pattern\":{\"fillmode\":\"overlay\",\"size\":10,\"solidity\":0.2}},\"type\":\"histogram\"}],\"histogram2d\":[{\"colorbar\":{\"outlinewidth\":0,\"ticks\":\"\"},\"colorscale\":[[0.0,\"#0d0887\"],[0.1111111111111111,\"#46039f\"],[0.2222222222222222,\"#7201a8\"],[0.3333333333333333,\"#9c179e\"],[0.4444444444444444,\"#bd3786\"],[0.5555555555555556,\"#d8576b\"],[0.6666666666666666,\"#ed7953\"],[0.7777777777777778,\"#fb9f3a\"],[0.8888888888888888,\"#fdca26\"],[1.0,\"#f0f921\"]],\"type\":\"histogram2d\"}],\"histogram2dcontour\":[{\"colorbar\":{\"outlinewidth\":0,\"ticks\":\"\"},\"colorscale\":[[0.0,\"#0d0887\"],[0.1111111111111111,\"#46039f\"],[0.2222222222222222,\"#7201a8\"],[0.3333333333333333,\"#9c179e\"],[0.4444444444444444,\"#bd3786\"],[0.5555555555555556,\"#d8576b\"],[0.6666666666666666,\"#ed7953\"],[0.7777777777777778,\"#fb9f3a\"],[0.8888888888888888,\"#fdca26\"],[1.0,\"#f0f921\"]],\"type\":\"histogram2dcontour\"}],\"mesh3d\":[{\"colorbar\":{\"outlinewidth\":0,\"ticks\":\"\"},\"type\":\"mesh3d\"}],\"parcoords\":[{\"line\":{\"colorbar\":{\"outlinewidth\":0,\"ticks\":\"\"}},\"type\":\"parcoords\"}],\"pie\":[{\"automargin\":true,\"type\":\"pie\"}],\"scatter\":[{\"marker\":{\"colorbar\":{\"outlinewidth\":0,\"ticks\":\"\"}},\"type\":\"scatter\"}],\"scatter3d\":[{\"line\":{\"colorbar\":{\"outlinewidth\":0,\"ticks\":\"\"}},\"marker\":{\"colorbar\":{\"outlinewidth\":0,\"ticks\":\"\"}},\"type\":\"scatter3d\"}],\"scattercarpet\":[{\"marker\":{\"colorbar\":{\"outlinewidth\":0,\"ticks\":\"\"}},\"type\":\"scattercarpet\"}],\"scattergeo\":[{\"marker\":{\"colorbar\":{\"outlinewidth\":0,\"ticks\":\"\"}},\"type\":\"scattergeo\"}],\"scattergl\":[{\"marker\":{\"colorbar\":{\"outlinewidth\":0,\"ticks\":\"\"}},\"type\":\"scattergl\"}],\"scattermapbox\":[{\"marker\":{\"colorbar\":{\"outlinewidth\":0,\"ticks\":\"\"}},\"type\":\"scattermapbox\"}],\"scatterpolar\":[{\"marker\":{\"colorbar\":{\"outlinewidth\":0,\"ticks\":\"\"}},\"type\":\"scatterpolar\"}],\"scatterpolargl\":[{\"marker\":{\"colorbar\":{\"outlinewidth\":0,\"ticks\":\"\"}},\"type\":\"scatterpolargl\"}],\"scatterternary\":[{\"marker\":{\"colorbar\":{\"outlinewidth\":0,\"ticks\":\"\"}},\"type\":\"scatterternary\"}],\"surface\":[{\"colorbar\":{\"outlinewidth\":0,\"ticks\":\"\"},\"colorscale\":[[0.0,\"#0d0887\"],[0.1111111111111111,\"#46039f\"],[0.2222222222222222,\"#7201a8\"],[0.3333333333333333,\"#9c179e\"],[0.4444444444444444,\"#bd3786\"],[0.5555555555555556,\"#d8576b\"],[0.6666666666666666,\"#ed7953\"],[0.7777777777777778,\"#fb9f3a\"],[0.8888888888888888,\"#fdca26\"],[1.0,\"#f0f921\"]],\"type\":\"surface\"}],\"table\":[{\"cells\":{\"fill\":{\"color\":\"#EBF0F8\"},\"line\":{\"color\":\"white\"}},\"header\":{\"fill\":{\"color\":\"#C8D4E3\"},\"line\":{\"color\":\"white\"}},\"type\":\"table\"}]},\"layout\":{\"annotationdefaults\":{\"arrowcolor\":\"#2a3f5f\",\"arrowhead\":0,\"arrowwidth\":1},\"autotypenumbers\":\"strict\",\"coloraxis\":{\"colorbar\":{\"outlinewidth\":0,\"ticks\":\"\"}},\"colorscale\":{\"diverging\":[[0,\"#8e0152\"],[0.1,\"#c51b7d\"],[0.2,\"#de77ae\"],[0.3,\"#f1b6da\"],[0.4,\"#fde0ef\"],[0.5,\"#f7f7f7\"],[0.6,\"#e6f5d0\"],[0.7,\"#b8e186\"],[0.8,\"#7fbc41\"],[0.9,\"#4d9221\"],[1,\"#276419\"]],\"sequential\":[[0.0,\"#0d0887\"],[0.1111111111111111,\"#46039f\"],[0.2222222222222222,\"#7201a8\"],[0.3333333333333333,\"#9c179e\"],[0.4444444444444444,\"#bd3786\"],[0.5555555555555556,\"#d8576b\"],[0.6666666666666666,\"#ed7953\"],[0.7777777777777778,\"#fb9f3a\"],[0.8888888888888888,\"#fdca26\"],[1.0,\"#f0f921\"]],\"sequentialminus\":[[0.0,\"#0d0887\"],[0.1111111111111111,\"#46039f\"],[0.2222222222222222,\"#7201a8\"],[0.3333333333333333,\"#9c179e\"],[0.4444444444444444,\"#bd3786\"],[0.5555555555555556,\"#d8576b\"],[0.6666666666666666,\"#ed7953\"],[0.7777777777777778,\"#fb9f3a\"],[0.8888888888888888,\"#fdca26\"],[1.0,\"#f0f921\"]]},\"colorway\":[\"#636efa\",\"#EF553B\",\"#00cc96\",\"#ab63fa\",\"#FFA15A\",\"#19d3f3\",\"#FF6692\",\"#B6E880\",\"#FF97FF\",\"#FECB52\"],\"font\":{\"color\":\"#2a3f5f\"},\"geo\":{\"bgcolor\":\"white\",\"lakecolor\":\"white\",\"landcolor\":\"#E5ECF6\",\"showlakes\":true,\"showland\":true,\"subunitcolor\":\"white\"},\"hoverlabel\":{\"align\":\"left\"},\"hovermode\":\"closest\",\"mapbox\":{\"style\":\"light\"},\"paper_bgcolor\":\"white\",\"plot_bgcolor\":\"#E5ECF6\",\"polar\":{\"angularaxis\":{\"gridcolor\":\"white\",\"linecolor\":\"white\",\"ticks\":\"\"},\"bgcolor\":\"#E5ECF6\",\"radialaxis\":{\"gridcolor\":\"white\",\"linecolor\":\"white\",\"ticks\":\"\"}},\"scene\":{\"xaxis\":{\"backgroundcolor\":\"#E5ECF6\",\"gridcolor\":\"white\",\"gridwidth\":2,\"linecolor\":\"white\",\"showbackground\":true,\"ticks\":\"\",\"zerolinecolor\":\"white\"},\"yaxis\":{\"backgroundcolor\":\"#E5ECF6\",\"gridcolor\":\"white\",\"gridwidth\":2,\"linecolor\":\"white\",\"showbackground\":true,\"ticks\":\"\",\"zerolinecolor\":\"white\"},\"zaxis\":{\"backgroundcolor\":\"#E5ECF6\",\"gridcolor\":\"white\",\"gridwidth\":2,\"linecolor\":\"white\",\"showbackground\":true,\"ticks\":\"\",\"zerolinecolor\":\"white\"}},\"shapedefaults\":{\"line\":{\"color\":\"#2a3f5f\"}},\"ternary\":{\"aaxis\":{\"gridcolor\":\"white\",\"linecolor\":\"white\",\"ticks\":\"\"},\"baxis\":{\"gridcolor\":\"white\",\"linecolor\":\"white\",\"ticks\":\"\"},\"bgcolor\":\"#E5ECF6\",\"caxis\":{\"gridcolor\":\"white\",\"linecolor\":\"white\",\"ticks\":\"\"}},\"title\":{\"x\":0.05},\"xaxis\":{\"automargin\":true,\"gridcolor\":\"white\",\"linecolor\":\"white\",\"ticks\":\"\",\"title\":{\"standoff\":15},\"zerolinecolor\":\"white\",\"zerolinewidth\":2},\"yaxis\":{\"automargin\":true,\"gridcolor\":\"white\",\"linecolor\":\"white\",\"ticks\":\"\",\"title\":{\"standoff\":15},\"zerolinecolor\":\"white\",\"zerolinewidth\":2}}},\"xaxis\":{\"anchor\":\"y\",\"domain\":[0.0,1.0],\"title\":{\"text\":\"timestamp\"},\"rangeslider\":{\"visible\":true}},\"yaxis\":{\"anchor\":\"x\",\"domain\":[0.0,1.0],\"title\":{\"text\":\"value\"}},\"legend\":{\"title\":{\"text\":\"variable\"},\"tracegroupgap\":0},\"title\":{\"text\":\"Number of usage for municipality_id:8\"},\"height\":500,\"width\":900},                        {\"responsive\": true}                    ).then(function(){\n",
              "                            \n",
              "var gd = document.getElementById('6365b8ff-03f2-48b5-815a-b1a0baebb1bd');\n",
              "var x = new MutationObserver(function (mutations, observer) {{\n",
              "        var display = window.getComputedStyle(gd).display;\n",
              "        if (!display || display === 'none') {{\n",
              "            console.log([gd, 'removed!']);\n",
              "            Plotly.purge(gd);\n",
              "            observer.disconnect();\n",
              "        }}\n",
              "}});\n",
              "\n",
              "// Listen for the removal of the full notebook cells\n",
              "var notebookContainer = gd.closest('#notebook-container');\n",
              "if (notebookContainer) {{\n",
              "    x.observe(notebookContainer, {childList: true});\n",
              "}}\n",
              "\n",
              "// Listen for the clearing of the current output cell\n",
              "var outputEl = gd.closest('.output');\n",
              "if (outputEl) {{\n",
              "    x.observe(outputEl, {childList: true});\n",
              "}}\n",
              "\n",
              "                        })                };                            </script>        </div>\n",
              "</body>\n",
              "</html>"
            ]
          },
          "metadata": {}
        },
        {
          "output_type": "display_data",
          "data": {
            "text/html": [
              "<html>\n",
              "<head><meta charset=\"utf-8\" /></head>\n",
              "<body>\n",
              "    <div>            <script src=\"https://cdnjs.cloudflare.com/ajax/libs/mathjax/2.7.5/MathJax.js?config=TeX-AMS-MML_SVG\"></script><script type=\"text/javascript\">if (window.MathJax) {MathJax.Hub.Config({SVG: {font: \"STIX-Web\"}});}</script>                <script type=\"text/javascript\">window.PlotlyConfig = {MathJaxConfig: 'local'};</script>\n",
              "        <script src=\"https://cdn.plot.ly/plotly-2.8.3.min.js\"></script>                <div id=\"82452613-783d-4326-8f27-391dcf1434ae\" class=\"plotly-graph-div\" style=\"height:500px; width:900px;\"></div>            <script type=\"text/javascript\">                                    window.PLOTLYENV=window.PLOTLYENV || {};                                    if (document.getElementById(\"82452613-783d-4326-8f27-391dcf1434ae\")) {                    Plotly.newPlot(                        \"82452613-783d-4326-8f27-391dcf1434ae\",                        [{\"hovertemplate\":\"variable=test<br>timestamp=%{x}<br>value=%{y}<extra></extra>\",\"legendgroup\":\"test\",\"line\":{\"color\":\"#636efa\",\"dash\":\"solid\"},\"marker\":{\"symbol\":\"circle\"},\"mode\":\"lines\",\"name\":\"test\",\"orientation\":\"v\",\"showlegend\":true,\"x\":[\"2017-08-06T08:00:00\",\"2017-08-06T09:00:00\",\"2017-08-06T10:00:00\",\"2017-08-06T11:00:00\",\"2017-08-06T12:00:00\",\"2017-08-06T13:00:00\",\"2017-08-06T14:00:00\",\"2017-08-06T15:00:00\",\"2017-08-06T16:00:00\",\"2017-08-07T08:00:00\",\"2017-08-07T09:00:00\",\"2017-08-07T10:00:00\",\"2017-08-07T11:00:00\",\"2017-08-07T12:00:00\",\"2017-08-07T13:00:00\",\"2017-08-07T14:00:00\",\"2017-08-07T15:00:00\",\"2017-08-07T16:00:00\",\"2017-08-08T08:00:00\",\"2017-08-08T09:00:00\",\"2017-08-08T10:00:00\",\"2017-08-08T11:00:00\",\"2017-08-08T12:00:00\",\"2017-08-08T13:00:00\",\"2017-08-08T14:00:00\",\"2017-08-08T15:00:00\",\"2017-08-08T16:00:00\",\"2017-08-09T08:00:00\",\"2017-08-09T09:00:00\",\"2017-08-09T10:00:00\",\"2017-08-09T11:00:00\",\"2017-08-09T12:00:00\",\"2017-08-09T13:00:00\",\"2017-08-09T14:00:00\",\"2017-08-09T15:00:00\",\"2017-08-09T16:00:00\",\"2017-08-10T08:00:00\",\"2017-08-10T09:00:00\",\"2017-08-10T10:00:00\",\"2017-08-10T11:00:00\",\"2017-08-10T12:00:00\",\"2017-08-10T13:00:00\",\"2017-08-10T14:00:00\",\"2017-08-10T15:00:00\",\"2017-08-10T16:00:00\",\"2017-08-11T08:00:00\",\"2017-08-11T09:00:00\",\"2017-08-11T10:00:00\",\"2017-08-11T11:00:00\",\"2017-08-11T12:00:00\",\"2017-08-11T13:00:00\",\"2017-08-11T14:00:00\",\"2017-08-11T15:00:00\",\"2017-08-11T16:00:00\",\"2017-08-12T08:00:00\",\"2017-08-12T09:00:00\",\"2017-08-12T10:00:00\",\"2017-08-12T11:00:00\",\"2017-08-12T12:00:00\",\"2017-08-12T13:00:00\",\"2017-08-12T14:00:00\",\"2017-08-12T15:00:00\",\"2017-08-12T16:00:00\",\"2017-08-13T08:00:00\",\"2017-08-13T09:00:00\",\"2017-08-13T10:00:00\",\"2017-08-13T11:00:00\",\"2017-08-13T12:00:00\",\"2017-08-13T13:00:00\",\"2017-08-13T14:00:00\",\"2017-08-13T15:00:00\",\"2017-08-13T16:00:00\",\"2017-08-14T08:00:00\",\"2017-08-14T09:00:00\",\"2017-08-14T10:00:00\",\"2017-08-14T11:00:00\",\"2017-08-14T12:00:00\",\"2017-08-14T13:00:00\",\"2017-08-14T14:00:00\",\"2017-08-14T15:00:00\",\"2017-08-14T16:00:00\",\"2017-08-15T08:00:00\",\"2017-08-15T09:00:00\",\"2017-08-15T10:00:00\",\"2017-08-15T11:00:00\",\"2017-08-15T12:00:00\",\"2017-08-15T13:00:00\",\"2017-08-15T14:00:00\",\"2017-08-15T15:00:00\",\"2017-08-15T16:00:00\",\"2017-08-16T08:00:00\",\"2017-08-16T09:00:00\",\"2017-08-16T10:00:00\",\"2017-08-16T11:00:00\",\"2017-08-16T12:00:00\",\"2017-08-16T13:00:00\",\"2017-08-16T14:00:00\",\"2017-08-16T15:00:00\",\"2017-08-16T16:00:00\",\"2017-08-17T08:00:00\",\"2017-08-17T09:00:00\",\"2017-08-17T10:00:00\",\"2017-08-17T11:00:00\",\"2017-08-17T12:00:00\",\"2017-08-17T13:00:00\",\"2017-08-17T14:00:00\",\"2017-08-17T15:00:00\",\"2017-08-17T16:00:00\",\"2017-08-18T08:00:00\",\"2017-08-18T09:00:00\",\"2017-08-18T10:00:00\",\"2017-08-18T11:00:00\",\"2017-08-18T12:00:00\",\"2017-08-18T13:00:00\",\"2017-08-18T14:00:00\",\"2017-08-18T15:00:00\",\"2017-08-18T16:00:00\",\"2017-08-19T08:00:00\",\"2017-08-19T09:00:00\",\"2017-08-19T10:00:00\",\"2017-08-19T11:00:00\",\"2017-08-19T12:00:00\",\"2017-08-19T13:00:00\",\"2017-08-19T14:00:00\",\"2017-08-19T15:00:00\",\"2017-08-19T16:00:00\"],\"xaxis\":\"x\",\"y\":[411.0,506.0,648.0,768.0,791.0,822.0,828.0,765.0,670.0,449.0,559.0,694.0,784.0,829.0,895.0,891.0,850.0,774.0,412.0,524.0,739.0,862.0,871.0,897.0,906.0,873.0,795.0,475.0,573.0,684.0,781.0,831.0,868.0,847.0,801.0,713.0,419.0,529.0,656.0,754.0,844.0,922.0,976.0,979.0,970.0,379.0,413.0,549.0,790.0,924.0,990.0,1054.0,1034.0,937.0,390.0,485.0,675.0,803.0,854.0,869.0,849.0,818.0,765.0,450.0,566.0,715.0,796.0,860.0,868.0,867.0,779.0,701.0,502.0,590.0,736.0,772.0,799.0,821.0,854.0,825.0,771.0,447.0,550.0,696.0,805.0,871.0,917.0,919.0,883.0,822.0,518.0,612.0,708.0,764.0,801.0,819.0,826.0,814.0,767.0,403.0,529.0,643.0,685.0,806.0,911.0,1005.0,1008.0,1017.0,350.0,380.0,499.0,670.0,774.0,858.0,905.0,903.0,834.0,340.0,470.0,634.0,755.0,849.0,941.0,983.0,976.0,879.0],\"yaxis\":\"y\",\"type\":\"scatter\"},{\"hovertemplate\":\"variable=prediction<br>timestamp=%{x}<br>value=%{y}<extra></extra>\",\"legendgroup\":\"prediction\",\"line\":{\"color\":\"#EF553B\",\"dash\":\"solid\"},\"marker\":{\"symbol\":\"circle\"},\"mode\":\"lines\",\"name\":\"prediction\",\"orientation\":\"v\",\"showlegend\":true,\"x\":[\"2017-08-06T08:00:00\",\"2017-08-06T09:00:00\",\"2017-08-06T10:00:00\",\"2017-08-06T11:00:00\",\"2017-08-06T12:00:00\",\"2017-08-06T13:00:00\",\"2017-08-06T14:00:00\",\"2017-08-06T15:00:00\",\"2017-08-06T16:00:00\",\"2017-08-07T08:00:00\",\"2017-08-07T09:00:00\",\"2017-08-07T10:00:00\",\"2017-08-07T11:00:00\",\"2017-08-07T12:00:00\",\"2017-08-07T13:00:00\",\"2017-08-07T14:00:00\",\"2017-08-07T15:00:00\",\"2017-08-07T16:00:00\",\"2017-08-08T08:00:00\",\"2017-08-08T09:00:00\",\"2017-08-08T10:00:00\",\"2017-08-08T11:00:00\",\"2017-08-08T12:00:00\",\"2017-08-08T13:00:00\",\"2017-08-08T14:00:00\",\"2017-08-08T15:00:00\",\"2017-08-08T16:00:00\",\"2017-08-09T08:00:00\",\"2017-08-09T09:00:00\",\"2017-08-09T10:00:00\",\"2017-08-09T11:00:00\",\"2017-08-09T12:00:00\",\"2017-08-09T13:00:00\",\"2017-08-09T14:00:00\",\"2017-08-09T15:00:00\",\"2017-08-09T16:00:00\",\"2017-08-10T08:00:00\",\"2017-08-10T09:00:00\",\"2017-08-10T10:00:00\",\"2017-08-10T11:00:00\",\"2017-08-10T12:00:00\",\"2017-08-10T13:00:00\",\"2017-08-10T14:00:00\",\"2017-08-10T15:00:00\",\"2017-08-10T16:00:00\",\"2017-08-11T08:00:00\",\"2017-08-11T09:00:00\",\"2017-08-11T10:00:00\",\"2017-08-11T11:00:00\",\"2017-08-11T12:00:00\",\"2017-08-11T13:00:00\",\"2017-08-11T14:00:00\",\"2017-08-11T15:00:00\",\"2017-08-11T16:00:00\",\"2017-08-12T08:00:00\",\"2017-08-12T09:00:00\",\"2017-08-12T10:00:00\",\"2017-08-12T11:00:00\",\"2017-08-12T12:00:00\",\"2017-08-12T13:00:00\",\"2017-08-12T14:00:00\",\"2017-08-12T15:00:00\",\"2017-08-12T16:00:00\",\"2017-08-13T08:00:00\",\"2017-08-13T09:00:00\",\"2017-08-13T10:00:00\",\"2017-08-13T11:00:00\",\"2017-08-13T12:00:00\",\"2017-08-13T13:00:00\",\"2017-08-13T14:00:00\",\"2017-08-13T15:00:00\",\"2017-08-13T16:00:00\",\"2017-08-14T08:00:00\",\"2017-08-14T09:00:00\",\"2017-08-14T10:00:00\",\"2017-08-14T11:00:00\",\"2017-08-14T12:00:00\",\"2017-08-14T13:00:00\",\"2017-08-14T14:00:00\",\"2017-08-14T15:00:00\",\"2017-08-14T16:00:00\",\"2017-08-15T08:00:00\",\"2017-08-15T09:00:00\",\"2017-08-15T10:00:00\",\"2017-08-15T11:00:00\",\"2017-08-15T12:00:00\",\"2017-08-15T13:00:00\",\"2017-08-15T14:00:00\",\"2017-08-15T15:00:00\",\"2017-08-15T16:00:00\",\"2017-08-16T08:00:00\",\"2017-08-16T09:00:00\",\"2017-08-16T10:00:00\",\"2017-08-16T11:00:00\",\"2017-08-16T12:00:00\",\"2017-08-16T13:00:00\",\"2017-08-16T14:00:00\",\"2017-08-16T15:00:00\",\"2017-08-16T16:00:00\",\"2017-08-17T08:00:00\",\"2017-08-17T09:00:00\",\"2017-08-17T10:00:00\",\"2017-08-17T11:00:00\",\"2017-08-17T12:00:00\",\"2017-08-17T13:00:00\",\"2017-08-17T14:00:00\",\"2017-08-17T15:00:00\",\"2017-08-17T16:00:00\",\"2017-08-18T08:00:00\",\"2017-08-18T09:00:00\",\"2017-08-18T10:00:00\",\"2017-08-18T11:00:00\",\"2017-08-18T12:00:00\",\"2017-08-18T13:00:00\",\"2017-08-18T14:00:00\",\"2017-08-18T15:00:00\",\"2017-08-18T16:00:00\",\"2017-08-19T08:00:00\",\"2017-08-19T09:00:00\",\"2017-08-19T10:00:00\",\"2017-08-19T11:00:00\",\"2017-08-19T12:00:00\",\"2017-08-19T13:00:00\",\"2017-08-19T14:00:00\",\"2017-08-19T15:00:00\",\"2017-08-19T16:00:00\"],\"xaxis\":\"x\",\"y\":[457.5351867675781,586.7070922851562,710.9172973632812,765.8511962890625,798.9055786132812,807.197998046875,789.4510498046875,755.0914916992188,700.9307861328125,621.5565795898438,669.4033203125,733.283203125,788.6935424804688,820.2637329101562,839.9907836914062,846.62255859375,819.0411987304688,740.7135009765625,477.53009033203125,591.4588012695312,704.4159545898438,792.9000854492188,836.9638671875,856.6965942382812,857.7899780273438,867.3449096679688,785.4263305664062,429.92767333984375,549.0696411132812,720.0369262695312,812.3380737304688,823.7957153320312,833.0164184570312,825.6026611328125,782.5055541992188,706.8991088867188,427.12310791015625,540.3209838867188,700.1970825195312,805.1968994140625,849.4185180664062,879.83203125,885.3701171875,876.056640625,828.2979125976562,492.0436096191406,616.627685546875,752.2735595703125,812.0599975585938,827.8678588867188,906.3705444335938,911.5413208007812,850.575439453125,779.6099853515625,431.5220031738281,569.3562622070312,695.293212890625,792.1830444335938,844.7962646484375,864.9717407226562,876.811279296875,851.4078369140625,645.5734252929688,655.1246948242188,712.5043334960938,743.59814453125,791.114501953125,799.6875610351562,815.6581420898438,782.89013671875,760.948486328125,695.1950073242188,636.53759765625,726.4439697265625,764.6214599609375,829.2659912109375,851.3809814453125,874.2417602539062,850.6698608398438,799.14453125,760.4828491210938,419.4077453613281,549.1503295898438,711.5487060546875,804.758056640625,838.921142578125,868.8401489257812,876.99609375,883.6409912109375,791.4287719726562,493.08477783203125,618.4207153320312,735.0634765625,807.4931030273438,834.9713745117188,875.7102661132812,885.2633666992188,860.1397705078125,783.6420288085938,670.9509887695312,470.4496154785156,589.547119140625,718.57080078125,801.893798828125,824.1677856445312,834.3887939453125,790.9666748046875,757.6173095703125,729.9935913085938,726.135986328125,757.6196899414062,762.937744140625,768.72802734375,877.3733520507812,897.6826782226562,890.6442260742188,863.6400756835938,769.9452514648438,768.7427978515625,796.6870727539062,799.1744995117188,802.3004760742188,834.3422241210938,827.5558471679688,783.9956665039062,767.7318725585938],\"yaxis\":\"y\",\"type\":\"scatter\"}],                        {\"template\":{\"data\":{\"bar\":[{\"error_x\":{\"color\":\"#2a3f5f\"},\"error_y\":{\"color\":\"#2a3f5f\"},\"marker\":{\"line\":{\"color\":\"#E5ECF6\",\"width\":0.5},\"pattern\":{\"fillmode\":\"overlay\",\"size\":10,\"solidity\":0.2}},\"type\":\"bar\"}],\"barpolar\":[{\"marker\":{\"line\":{\"color\":\"#E5ECF6\",\"width\":0.5},\"pattern\":{\"fillmode\":\"overlay\",\"size\":10,\"solidity\":0.2}},\"type\":\"barpolar\"}],\"carpet\":[{\"aaxis\":{\"endlinecolor\":\"#2a3f5f\",\"gridcolor\":\"white\",\"linecolor\":\"white\",\"minorgridcolor\":\"white\",\"startlinecolor\":\"#2a3f5f\"},\"baxis\":{\"endlinecolor\":\"#2a3f5f\",\"gridcolor\":\"white\",\"linecolor\":\"white\",\"minorgridcolor\":\"white\",\"startlinecolor\":\"#2a3f5f\"},\"type\":\"carpet\"}],\"choropleth\":[{\"colorbar\":{\"outlinewidth\":0,\"ticks\":\"\"},\"type\":\"choropleth\"}],\"contour\":[{\"colorbar\":{\"outlinewidth\":0,\"ticks\":\"\"},\"colorscale\":[[0.0,\"#0d0887\"],[0.1111111111111111,\"#46039f\"],[0.2222222222222222,\"#7201a8\"],[0.3333333333333333,\"#9c179e\"],[0.4444444444444444,\"#bd3786\"],[0.5555555555555556,\"#d8576b\"],[0.6666666666666666,\"#ed7953\"],[0.7777777777777778,\"#fb9f3a\"],[0.8888888888888888,\"#fdca26\"],[1.0,\"#f0f921\"]],\"type\":\"contour\"}],\"contourcarpet\":[{\"colorbar\":{\"outlinewidth\":0,\"ticks\":\"\"},\"type\":\"contourcarpet\"}],\"heatmap\":[{\"colorbar\":{\"outlinewidth\":0,\"ticks\":\"\"},\"colorscale\":[[0.0,\"#0d0887\"],[0.1111111111111111,\"#46039f\"],[0.2222222222222222,\"#7201a8\"],[0.3333333333333333,\"#9c179e\"],[0.4444444444444444,\"#bd3786\"],[0.5555555555555556,\"#d8576b\"],[0.6666666666666666,\"#ed7953\"],[0.7777777777777778,\"#fb9f3a\"],[0.8888888888888888,\"#fdca26\"],[1.0,\"#f0f921\"]],\"type\":\"heatmap\"}],\"heatmapgl\":[{\"colorbar\":{\"outlinewidth\":0,\"ticks\":\"\"},\"colorscale\":[[0.0,\"#0d0887\"],[0.1111111111111111,\"#46039f\"],[0.2222222222222222,\"#7201a8\"],[0.3333333333333333,\"#9c179e\"],[0.4444444444444444,\"#bd3786\"],[0.5555555555555556,\"#d8576b\"],[0.6666666666666666,\"#ed7953\"],[0.7777777777777778,\"#fb9f3a\"],[0.8888888888888888,\"#fdca26\"],[1.0,\"#f0f921\"]],\"type\":\"heatmapgl\"}],\"histogram\":[{\"marker\":{\"pattern\":{\"fillmode\":\"overlay\",\"size\":10,\"solidity\":0.2}},\"type\":\"histogram\"}],\"histogram2d\":[{\"colorbar\":{\"outlinewidth\":0,\"ticks\":\"\"},\"colorscale\":[[0.0,\"#0d0887\"],[0.1111111111111111,\"#46039f\"],[0.2222222222222222,\"#7201a8\"],[0.3333333333333333,\"#9c179e\"],[0.4444444444444444,\"#bd3786\"],[0.5555555555555556,\"#d8576b\"],[0.6666666666666666,\"#ed7953\"],[0.7777777777777778,\"#fb9f3a\"],[0.8888888888888888,\"#fdca26\"],[1.0,\"#f0f921\"]],\"type\":\"histogram2d\"}],\"histogram2dcontour\":[{\"colorbar\":{\"outlinewidth\":0,\"ticks\":\"\"},\"colorscale\":[[0.0,\"#0d0887\"],[0.1111111111111111,\"#46039f\"],[0.2222222222222222,\"#7201a8\"],[0.3333333333333333,\"#9c179e\"],[0.4444444444444444,\"#bd3786\"],[0.5555555555555556,\"#d8576b\"],[0.6666666666666666,\"#ed7953\"],[0.7777777777777778,\"#fb9f3a\"],[0.8888888888888888,\"#fdca26\"],[1.0,\"#f0f921\"]],\"type\":\"histogram2dcontour\"}],\"mesh3d\":[{\"colorbar\":{\"outlinewidth\":0,\"ticks\":\"\"},\"type\":\"mesh3d\"}],\"parcoords\":[{\"line\":{\"colorbar\":{\"outlinewidth\":0,\"ticks\":\"\"}},\"type\":\"parcoords\"}],\"pie\":[{\"automargin\":true,\"type\":\"pie\"}],\"scatter\":[{\"marker\":{\"colorbar\":{\"outlinewidth\":0,\"ticks\":\"\"}},\"type\":\"scatter\"}],\"scatter3d\":[{\"line\":{\"colorbar\":{\"outlinewidth\":0,\"ticks\":\"\"}},\"marker\":{\"colorbar\":{\"outlinewidth\":0,\"ticks\":\"\"}},\"type\":\"scatter3d\"}],\"scattercarpet\":[{\"marker\":{\"colorbar\":{\"outlinewidth\":0,\"ticks\":\"\"}},\"type\":\"scattercarpet\"}],\"scattergeo\":[{\"marker\":{\"colorbar\":{\"outlinewidth\":0,\"ticks\":\"\"}},\"type\":\"scattergeo\"}],\"scattergl\":[{\"marker\":{\"colorbar\":{\"outlinewidth\":0,\"ticks\":\"\"}},\"type\":\"scattergl\"}],\"scattermapbox\":[{\"marker\":{\"colorbar\":{\"outlinewidth\":0,\"ticks\":\"\"}},\"type\":\"scattermapbox\"}],\"scatterpolar\":[{\"marker\":{\"colorbar\":{\"outlinewidth\":0,\"ticks\":\"\"}},\"type\":\"scatterpolar\"}],\"scatterpolargl\":[{\"marker\":{\"colorbar\":{\"outlinewidth\":0,\"ticks\":\"\"}},\"type\":\"scatterpolargl\"}],\"scatterternary\":[{\"marker\":{\"colorbar\":{\"outlinewidth\":0,\"ticks\":\"\"}},\"type\":\"scatterternary\"}],\"surface\":[{\"colorbar\":{\"outlinewidth\":0,\"ticks\":\"\"},\"colorscale\":[[0.0,\"#0d0887\"],[0.1111111111111111,\"#46039f\"],[0.2222222222222222,\"#7201a8\"],[0.3333333333333333,\"#9c179e\"],[0.4444444444444444,\"#bd3786\"],[0.5555555555555556,\"#d8576b\"],[0.6666666666666666,\"#ed7953\"],[0.7777777777777778,\"#fb9f3a\"],[0.8888888888888888,\"#fdca26\"],[1.0,\"#f0f921\"]],\"type\":\"surface\"}],\"table\":[{\"cells\":{\"fill\":{\"color\":\"#EBF0F8\"},\"line\":{\"color\":\"white\"}},\"header\":{\"fill\":{\"color\":\"#C8D4E3\"},\"line\":{\"color\":\"white\"}},\"type\":\"table\"}]},\"layout\":{\"annotationdefaults\":{\"arrowcolor\":\"#2a3f5f\",\"arrowhead\":0,\"arrowwidth\":1},\"autotypenumbers\":\"strict\",\"coloraxis\":{\"colorbar\":{\"outlinewidth\":0,\"ticks\":\"\"}},\"colorscale\":{\"diverging\":[[0,\"#8e0152\"],[0.1,\"#c51b7d\"],[0.2,\"#de77ae\"],[0.3,\"#f1b6da\"],[0.4,\"#fde0ef\"],[0.5,\"#f7f7f7\"],[0.6,\"#e6f5d0\"],[0.7,\"#b8e186\"],[0.8,\"#7fbc41\"],[0.9,\"#4d9221\"],[1,\"#276419\"]],\"sequential\":[[0.0,\"#0d0887\"],[0.1111111111111111,\"#46039f\"],[0.2222222222222222,\"#7201a8\"],[0.3333333333333333,\"#9c179e\"],[0.4444444444444444,\"#bd3786\"],[0.5555555555555556,\"#d8576b\"],[0.6666666666666666,\"#ed7953\"],[0.7777777777777778,\"#fb9f3a\"],[0.8888888888888888,\"#fdca26\"],[1.0,\"#f0f921\"]],\"sequentialminus\":[[0.0,\"#0d0887\"],[0.1111111111111111,\"#46039f\"],[0.2222222222222222,\"#7201a8\"],[0.3333333333333333,\"#9c179e\"],[0.4444444444444444,\"#bd3786\"],[0.5555555555555556,\"#d8576b\"],[0.6666666666666666,\"#ed7953\"],[0.7777777777777778,\"#fb9f3a\"],[0.8888888888888888,\"#fdca26\"],[1.0,\"#f0f921\"]]},\"colorway\":[\"#636efa\",\"#EF553B\",\"#00cc96\",\"#ab63fa\",\"#FFA15A\",\"#19d3f3\",\"#FF6692\",\"#B6E880\",\"#FF97FF\",\"#FECB52\"],\"font\":{\"color\":\"#2a3f5f\"},\"geo\":{\"bgcolor\":\"white\",\"lakecolor\":\"white\",\"landcolor\":\"#E5ECF6\",\"showlakes\":true,\"showland\":true,\"subunitcolor\":\"white\"},\"hoverlabel\":{\"align\":\"left\"},\"hovermode\":\"closest\",\"mapbox\":{\"style\":\"light\"},\"paper_bgcolor\":\"white\",\"plot_bgcolor\":\"#E5ECF6\",\"polar\":{\"angularaxis\":{\"gridcolor\":\"white\",\"linecolor\":\"white\",\"ticks\":\"\"},\"bgcolor\":\"#E5ECF6\",\"radialaxis\":{\"gridcolor\":\"white\",\"linecolor\":\"white\",\"ticks\":\"\"}},\"scene\":{\"xaxis\":{\"backgroundcolor\":\"#E5ECF6\",\"gridcolor\":\"white\",\"gridwidth\":2,\"linecolor\":\"white\",\"showbackground\":true,\"ticks\":\"\",\"zerolinecolor\":\"white\"},\"yaxis\":{\"backgroundcolor\":\"#E5ECF6\",\"gridcolor\":\"white\",\"gridwidth\":2,\"linecolor\":\"white\",\"showbackground\":true,\"ticks\":\"\",\"zerolinecolor\":\"white\"},\"zaxis\":{\"backgroundcolor\":\"#E5ECF6\",\"gridcolor\":\"white\",\"gridwidth\":2,\"linecolor\":\"white\",\"showbackground\":true,\"ticks\":\"\",\"zerolinecolor\":\"white\"}},\"shapedefaults\":{\"line\":{\"color\":\"#2a3f5f\"}},\"ternary\":{\"aaxis\":{\"gridcolor\":\"white\",\"linecolor\":\"white\",\"ticks\":\"\"},\"baxis\":{\"gridcolor\":\"white\",\"linecolor\":\"white\",\"ticks\":\"\"},\"bgcolor\":\"#E5ECF6\",\"caxis\":{\"gridcolor\":\"white\",\"linecolor\":\"white\",\"ticks\":\"\"}},\"title\":{\"x\":0.05},\"xaxis\":{\"automargin\":true,\"gridcolor\":\"white\",\"linecolor\":\"white\",\"ticks\":\"\",\"title\":{\"standoff\":15},\"zerolinecolor\":\"white\",\"zerolinewidth\":2},\"yaxis\":{\"automargin\":true,\"gridcolor\":\"white\",\"linecolor\":\"white\",\"ticks\":\"\",\"title\":{\"standoff\":15},\"zerolinecolor\":\"white\",\"zerolinewidth\":2}}},\"xaxis\":{\"anchor\":\"y\",\"domain\":[0.0,1.0],\"title\":{\"text\":\"timestamp\"},\"rangeslider\":{\"visible\":true}},\"yaxis\":{\"anchor\":\"x\",\"domain\":[0.0,1.0],\"title\":{\"text\":\"value\"}},\"legend\":{\"title\":{\"text\":\"variable\"},\"tracegroupgap\":0},\"title\":{\"text\":\"Number of usage for municipality_id:9\"},\"height\":500,\"width\":900},                        {\"responsive\": true}                    ).then(function(){\n",
              "                            \n",
              "var gd = document.getElementById('82452613-783d-4326-8f27-391dcf1434ae');\n",
              "var x = new MutationObserver(function (mutations, observer) {{\n",
              "        var display = window.getComputedStyle(gd).display;\n",
              "        if (!display || display === 'none') {{\n",
              "            console.log([gd, 'removed!']);\n",
              "            Plotly.purge(gd);\n",
              "            observer.disconnect();\n",
              "        }}\n",
              "}});\n",
              "\n",
              "// Listen for the removal of the full notebook cells\n",
              "var notebookContainer = gd.closest('#notebook-container');\n",
              "if (notebookContainer) {{\n",
              "    x.observe(notebookContainer, {childList: true});\n",
              "}}\n",
              "\n",
              "// Listen for the clearing of the current output cell\n",
              "var outputEl = gd.closest('.output');\n",
              "if (outputEl) {{\n",
              "    x.observe(outputEl, {childList: true});\n",
              "}}\n",
              "\n",
              "                        })                };                            </script>        </div>\n",
              "</body>\n",
              "</html>"
            ]
          },
          "metadata": {}
        }
      ]
    },
    {
      "cell_type": "markdown",
      "source": [
        "##Model Evaluation"
      ],
      "metadata": {
        "id": "nso9DKj4_mdP"
      }
    },
    {
      "cell_type": "code",
      "source": [
        "from sklearn.metrics import mean_squared_error\n",
        "\n",
        "# Test error\n",
        "# ==============================================================================\n",
        "for i in range(0,10):\n",
        "  error_mse = mean_squared_error(\n",
        "                  y_true = data_test[data_test['municipality_id']==i]['usage'],\n",
        "                  y_pred = predictions[predictions['municipality_id']==i]['pred']\n",
        "                  )\n",
        "\n",
        "  print(\"Test error (mse) for municipality id {}:  {}\".format(i,error_mse))\n",
        "  "
      ],
      "metadata": {
        "colab": {
          "base_uri": "https://localhost:8080/"
        },
        "id": "0pYQvVCedF7s",
        "outputId": "02989593-9b62-410c-92bf-de34043c4372"
      },
      "execution_count": null,
      "outputs": [
        {
          "output_type": "stream",
          "name": "stdout",
          "text": [
            "Test error (mse) for municipality id 0:  27784.159384133043\n",
            "Test error (mse) for municipality id 1:  2206.0123676208555\n",
            "Test error (mse) for municipality id 2:  6307.57922357082\n",
            "Test error (mse) for municipality id 3:  59629.50206005026\n",
            "Test error (mse) for municipality id 4:  366581.6663069264\n",
            "Test error (mse) for municipality id 5:  5266.0492284528145\n",
            "Test error (mse) for municipality id 6:  34801.39149220001\n",
            "Test error (mse) for municipality id 7:  25598.710760783462\n",
            "Test error (mse) for municipality id 8:  39990.905499822\n",
            "Test error (mse) for municipality id 9:  11604.934286371737\n"
          ]
        }
      ]
    },
    {
      "cell_type": "markdown",
      "source": [
        "#Results"
      ],
      "metadata": {
        "id": "oarkFxLk_EOF"
      }
    },
    {
      "cell_type": "markdown",
      "source": [
        "We can conclude that best forecast for this model is:\n",
        "* municipality id: 1\n",
        "* worst forecast is for municipality id: 4\n",
        "\n",
        "I used ForecasterAutoreg for time series forecasting. And used gridsearch for hyperparameter tuning also used backtesting.\n",
        "\n",
        "Alternative time series forecast models can also be tested for comparison. However I didn't cover them for simplicity. \n",
        "(LSTM, GAN, Prophet, ARIMA models)"
      ],
      "metadata": {
        "id": "vd3azYmm8N9I"
      }
    }
  ]
}